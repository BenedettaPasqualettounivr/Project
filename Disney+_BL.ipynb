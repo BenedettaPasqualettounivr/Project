{
  "nbformat": 4,
  "nbformat_minor": 0,
  "metadata": {
    "colab": {
      "name": "Disney+ BL",
      "provenance": [],
      "collapsed_sections": [],
      "include_colab_link": true
    },
    "kernelspec": {
      "name": "python3",
      "display_name": "Python 3"
    },
    "language_info": {
      "name": "python"
    }
  },
  "cells": [
    {
      "cell_type": "markdown",
      "metadata": {
        "id": "view-in-github",
        "colab_type": "text"
      },
      "source": [
        "<a href=\"https://colab.research.google.com/github/BenedettaPasqualettounivr/Project/blob/main/Disney%2B_BL.ipynb\" target=\"_parent\"><img src=\"https://colab.research.google.com/assets/colab-badge.svg\" alt=\"Open In Colab\"/></a>"
      ]
    },
    {
      "cell_type": "code",
      "execution_count": 1,
      "metadata": {
        "id": "ExnapJvrJkGn"
      },
      "outputs": [],
      "source": [
        "import pandas as pd\n",
        "import numpy as np\n",
        "import matplotlib.pyplot as plt\n",
        "import seaborn as sns\n",
        "import plotly.express as px\n",
        "import plotly.graph_objects as go"
      ]
    },
    {
      "cell_type": "code",
      "source": [
        "disney_plus_titles_df = pd.read_csv('disney_plus_titles.csv')"
      ],
      "metadata": {
        "id": "6uU3VXZkKTGB"
      },
      "execution_count": 2,
      "outputs": []
    },
    {
      "cell_type": "markdown",
      "source": [
        "#DATA EXPLORATION\n"
      ],
      "metadata": {
        "id": "tLhIAZ6qmcqA"
      }
    },
    {
      "cell_type": "code",
      "source": [
        "#To see the number of elements in each dimension\n",
        "disney_plus_titles_df.shape"
      ],
      "metadata": {
        "colab": {
          "base_uri": "https://localhost:8080/"
        },
        "id": "Kkl3O1GLRJIm",
        "outputId": "a63f469b-5499-4962-afc8-ac7626cb9ed3"
      },
      "execution_count": 3,
      "outputs": [
        {
          "output_type": "execute_result",
          "data": {
            "text/plain": [
              "(1450, 12)"
            ]
          },
          "metadata": {},
          "execution_count": 3
        }
      ]
    },
    {
      "cell_type": "code",
      "source": [
        "#Visualization of the dataset\n",
        "disney_plus_titles_df.info()"
      ],
      "metadata": {
        "colab": {
          "base_uri": "https://localhost:8080/"
        },
        "id": "vKvgTUr6KpPT",
        "outputId": "3ecedc99-7b89-432b-9424-d53fb40413ad"
      },
      "execution_count": 4,
      "outputs": [
        {
          "output_type": "stream",
          "name": "stdout",
          "text": [
            "<class 'pandas.core.frame.DataFrame'>\n",
            "RangeIndex: 1450 entries, 0 to 1449\n",
            "Data columns (total 12 columns):\n",
            " #   Column        Non-Null Count  Dtype \n",
            "---  ------        --------------  ----- \n",
            " 0   show_id       1450 non-null   object\n",
            " 1   type          1450 non-null   object\n",
            " 2   title         1450 non-null   object\n",
            " 3   director      977 non-null    object\n",
            " 4   cast          1260 non-null   object\n",
            " 5   country       1231 non-null   object\n",
            " 6   date_added    1447 non-null   object\n",
            " 7   release_year  1450 non-null   int64 \n",
            " 8   rating        1447 non-null   object\n",
            " 9   duration      1450 non-null   object\n",
            " 10  listed_in     1450 non-null   object\n",
            " 11  description   1450 non-null   object\n",
            "dtypes: int64(1), object(11)\n",
            "memory usage: 136.1+ KB\n"
          ]
        }
      ]
    },
    {
      "cell_type": "code",
      "source": [
        "disney_plus_titles_df.describe()"
      ],
      "metadata": {
        "colab": {
          "base_uri": "https://localhost:8080/",
          "height": 297
        },
        "id": "bDfTcEH0RIhz",
        "outputId": "841a0853-2e23-4c00-e567-5f2348b5b0b4"
      },
      "execution_count": 5,
      "outputs": [
        {
          "output_type": "execute_result",
          "data": {
            "text/html": [
              "\n",
              "  <div id=\"df-85109a90-ec87-4560-8182-67a3a0c6dc0a\">\n",
              "    <div class=\"colab-df-container\">\n",
              "      <div>\n",
              "<style scoped>\n",
              "    .dataframe tbody tr th:only-of-type {\n",
              "        vertical-align: middle;\n",
              "    }\n",
              "\n",
              "    .dataframe tbody tr th {\n",
              "        vertical-align: top;\n",
              "    }\n",
              "\n",
              "    .dataframe thead th {\n",
              "        text-align: right;\n",
              "    }\n",
              "</style>\n",
              "<table border=\"1\" class=\"dataframe\">\n",
              "  <thead>\n",
              "    <tr style=\"text-align: right;\">\n",
              "      <th></th>\n",
              "      <th>release_year</th>\n",
              "    </tr>\n",
              "  </thead>\n",
              "  <tbody>\n",
              "    <tr>\n",
              "      <th>count</th>\n",
              "      <td>1450.000000</td>\n",
              "    </tr>\n",
              "    <tr>\n",
              "      <th>mean</th>\n",
              "      <td>2003.091724</td>\n",
              "    </tr>\n",
              "    <tr>\n",
              "      <th>std</th>\n",
              "      <td>21.860162</td>\n",
              "    </tr>\n",
              "    <tr>\n",
              "      <th>min</th>\n",
              "      <td>1928.000000</td>\n",
              "    </tr>\n",
              "    <tr>\n",
              "      <th>25%</th>\n",
              "      <td>1999.000000</td>\n",
              "    </tr>\n",
              "    <tr>\n",
              "      <th>50%</th>\n",
              "      <td>2011.000000</td>\n",
              "    </tr>\n",
              "    <tr>\n",
              "      <th>75%</th>\n",
              "      <td>2018.000000</td>\n",
              "    </tr>\n",
              "    <tr>\n",
              "      <th>max</th>\n",
              "      <td>2021.000000</td>\n",
              "    </tr>\n",
              "  </tbody>\n",
              "</table>\n",
              "</div>\n",
              "      <button class=\"colab-df-convert\" onclick=\"convertToInteractive('df-85109a90-ec87-4560-8182-67a3a0c6dc0a')\"\n",
              "              title=\"Convert this dataframe to an interactive table.\"\n",
              "              style=\"display:none;\">\n",
              "        \n",
              "  <svg xmlns=\"http://www.w3.org/2000/svg\" height=\"24px\"viewBox=\"0 0 24 24\"\n",
              "       width=\"24px\">\n",
              "    <path d=\"M0 0h24v24H0V0z\" fill=\"none\"/>\n",
              "    <path d=\"M18.56 5.44l.94 2.06.94-2.06 2.06-.94-2.06-.94-.94-2.06-.94 2.06-2.06.94zm-11 1L8.5 8.5l.94-2.06 2.06-.94-2.06-.94L8.5 2.5l-.94 2.06-2.06.94zm10 10l.94 2.06.94-2.06 2.06-.94-2.06-.94-.94-2.06-.94 2.06-2.06.94z\"/><path d=\"M17.41 7.96l-1.37-1.37c-.4-.4-.92-.59-1.43-.59-.52 0-1.04.2-1.43.59L10.3 9.45l-7.72 7.72c-.78.78-.78 2.05 0 2.83L4 21.41c.39.39.9.59 1.41.59.51 0 1.02-.2 1.41-.59l7.78-7.78 2.81-2.81c.8-.78.8-2.07 0-2.86zM5.41 20L4 18.59l7.72-7.72 1.47 1.35L5.41 20z\"/>\n",
              "  </svg>\n",
              "      </button>\n",
              "      \n",
              "  <style>\n",
              "    .colab-df-container {\n",
              "      display:flex;\n",
              "      flex-wrap:wrap;\n",
              "      gap: 12px;\n",
              "    }\n",
              "\n",
              "    .colab-df-convert {\n",
              "      background-color: #E8F0FE;\n",
              "      border: none;\n",
              "      border-radius: 50%;\n",
              "      cursor: pointer;\n",
              "      display: none;\n",
              "      fill: #1967D2;\n",
              "      height: 32px;\n",
              "      padding: 0 0 0 0;\n",
              "      width: 32px;\n",
              "    }\n",
              "\n",
              "    .colab-df-convert:hover {\n",
              "      background-color: #E2EBFA;\n",
              "      box-shadow: 0px 1px 2px rgba(60, 64, 67, 0.3), 0px 1px 3px 1px rgba(60, 64, 67, 0.15);\n",
              "      fill: #174EA6;\n",
              "    }\n",
              "\n",
              "    [theme=dark] .colab-df-convert {\n",
              "      background-color: #3B4455;\n",
              "      fill: #D2E3FC;\n",
              "    }\n",
              "\n",
              "    [theme=dark] .colab-df-convert:hover {\n",
              "      background-color: #434B5C;\n",
              "      box-shadow: 0px 1px 3px 1px rgba(0, 0, 0, 0.15);\n",
              "      filter: drop-shadow(0px 1px 2px rgba(0, 0, 0, 0.3));\n",
              "      fill: #FFFFFF;\n",
              "    }\n",
              "  </style>\n",
              "\n",
              "      <script>\n",
              "        const buttonEl =\n",
              "          document.querySelector('#df-85109a90-ec87-4560-8182-67a3a0c6dc0a button.colab-df-convert');\n",
              "        buttonEl.style.display =\n",
              "          google.colab.kernel.accessAllowed ? 'block' : 'none';\n",
              "\n",
              "        async function convertToInteractive(key) {\n",
              "          const element = document.querySelector('#df-85109a90-ec87-4560-8182-67a3a0c6dc0a');\n",
              "          const dataTable =\n",
              "            await google.colab.kernel.invokeFunction('convertToInteractive',\n",
              "                                                     [key], {});\n",
              "          if (!dataTable) return;\n",
              "\n",
              "          const docLinkHtml = 'Like what you see? Visit the ' +\n",
              "            '<a target=\"_blank\" href=https://colab.research.google.com/notebooks/data_table.ipynb>data table notebook</a>'\n",
              "            + ' to learn more about interactive tables.';\n",
              "          element.innerHTML = '';\n",
              "          dataTable['output_type'] = 'display_data';\n",
              "          await google.colab.output.renderOutput(dataTable, element);\n",
              "          const docLink = document.createElement('div');\n",
              "          docLink.innerHTML = docLinkHtml;\n",
              "          element.appendChild(docLink);\n",
              "        }\n",
              "      </script>\n",
              "    </div>\n",
              "  </div>\n",
              "  "
            ],
            "text/plain": [
              "       release_year\n",
              "count   1450.000000\n",
              "mean    2003.091724\n",
              "std       21.860162\n",
              "min     1928.000000\n",
              "25%     1999.000000\n",
              "50%     2011.000000\n",
              "75%     2018.000000\n",
              "max     2021.000000"
            ]
          },
          "metadata": {},
          "execution_count": 5
        }
      ]
    },
    {
      "cell_type": "code",
      "source": [
        "#To see the type of the element in each column\n",
        "disney_plus_titles_df.dtypes"
      ],
      "metadata": {
        "colab": {
          "base_uri": "https://localhost:8080/"
        },
        "id": "EXEV23jsqP5v",
        "outputId": "19ca2c0e-8fc2-490d-d196-80649c8c7378"
      },
      "execution_count": 6,
      "outputs": [
        {
          "output_type": "execute_result",
          "data": {
            "text/plain": [
              "show_id         object\n",
              "type            object\n",
              "title           object\n",
              "director        object\n",
              "cast            object\n",
              "country         object\n",
              "date_added      object\n",
              "release_year     int64\n",
              "rating          object\n",
              "duration        object\n",
              "listed_in       object\n",
              "description     object\n",
              "dtype: object"
            ]
          },
          "metadata": {},
          "execution_count": 6
        }
      ]
    },
    {
      "cell_type": "code",
      "source": [
        "#To see the coherence from the bottom to the end of the dataset\n",
        "disney_plus_titles_df.head(5)"
      ],
      "metadata": {
        "colab": {
          "base_uri": "https://localhost:8080/",
          "height": 469
        },
        "id": "Fp6BlvhgKv3S",
        "outputId": "9a26d16b-4347-4f24-e65b-63dd28aa1b9a"
      },
      "execution_count": 7,
      "outputs": [
        {
          "output_type": "execute_result",
          "data": {
            "text/html": [
              "\n",
              "  <div id=\"df-7442594e-4755-487b-a4ec-2bb5e91e6e69\">\n",
              "    <div class=\"colab-df-container\">\n",
              "      <div>\n",
              "<style scoped>\n",
              "    .dataframe tbody tr th:only-of-type {\n",
              "        vertical-align: middle;\n",
              "    }\n",
              "\n",
              "    .dataframe tbody tr th {\n",
              "        vertical-align: top;\n",
              "    }\n",
              "\n",
              "    .dataframe thead th {\n",
              "        text-align: right;\n",
              "    }\n",
              "</style>\n",
              "<table border=\"1\" class=\"dataframe\">\n",
              "  <thead>\n",
              "    <tr style=\"text-align: right;\">\n",
              "      <th></th>\n",
              "      <th>show_id</th>\n",
              "      <th>type</th>\n",
              "      <th>title</th>\n",
              "      <th>director</th>\n",
              "      <th>cast</th>\n",
              "      <th>country</th>\n",
              "      <th>date_added</th>\n",
              "      <th>release_year</th>\n",
              "      <th>rating</th>\n",
              "      <th>duration</th>\n",
              "      <th>listed_in</th>\n",
              "      <th>description</th>\n",
              "    </tr>\n",
              "  </thead>\n",
              "  <tbody>\n",
              "    <tr>\n",
              "      <th>0</th>\n",
              "      <td>s1</td>\n",
              "      <td>Movie</td>\n",
              "      <td>Duck the Halls: A Mickey Mouse Christmas Special</td>\n",
              "      <td>Alonso Ramirez Ramos, Dave Wasson</td>\n",
              "      <td>Chris Diamantopoulos, Tony Anselmo, Tress MacN...</td>\n",
              "      <td>NaN</td>\n",
              "      <td>November 26, 2021</td>\n",
              "      <td>2016</td>\n",
              "      <td>TV-G</td>\n",
              "      <td>23 min</td>\n",
              "      <td>Animation, Family</td>\n",
              "      <td>Join Mickey and the gang as they duck the halls!</td>\n",
              "    </tr>\n",
              "    <tr>\n",
              "      <th>1</th>\n",
              "      <td>s2</td>\n",
              "      <td>Movie</td>\n",
              "      <td>Ernest Saves Christmas</td>\n",
              "      <td>John Cherry</td>\n",
              "      <td>Jim Varney, Noelle Parker, Douglas Seale</td>\n",
              "      <td>NaN</td>\n",
              "      <td>November 26, 2021</td>\n",
              "      <td>1988</td>\n",
              "      <td>PG</td>\n",
              "      <td>91 min</td>\n",
              "      <td>Comedy</td>\n",
              "      <td>Santa Claus passes his magic bag to a new St. ...</td>\n",
              "    </tr>\n",
              "    <tr>\n",
              "      <th>2</th>\n",
              "      <td>s3</td>\n",
              "      <td>Movie</td>\n",
              "      <td>Ice Age: A Mammoth Christmas</td>\n",
              "      <td>Karen Disher</td>\n",
              "      <td>Raymond Albert Romano, John Leguizamo, Denis L...</td>\n",
              "      <td>United States</td>\n",
              "      <td>November 26, 2021</td>\n",
              "      <td>2011</td>\n",
              "      <td>TV-G</td>\n",
              "      <td>23 min</td>\n",
              "      <td>Animation, Comedy, Family</td>\n",
              "      <td>Sid the Sloth is on Santa's naughty list.</td>\n",
              "    </tr>\n",
              "    <tr>\n",
              "      <th>3</th>\n",
              "      <td>s4</td>\n",
              "      <td>Movie</td>\n",
              "      <td>The Queen Family Singalong</td>\n",
              "      <td>Hamish Hamilton</td>\n",
              "      <td>Darren Criss, Adam Lambert, Derek Hough, Alexa...</td>\n",
              "      <td>NaN</td>\n",
              "      <td>November 26, 2021</td>\n",
              "      <td>2021</td>\n",
              "      <td>TV-PG</td>\n",
              "      <td>41 min</td>\n",
              "      <td>Musical</td>\n",
              "      <td>This is real life, not just fantasy!</td>\n",
              "    </tr>\n",
              "    <tr>\n",
              "      <th>4</th>\n",
              "      <td>s5</td>\n",
              "      <td>TV Show</td>\n",
              "      <td>The Beatles: Get Back</td>\n",
              "      <td>NaN</td>\n",
              "      <td>John Lennon, Paul McCartney, George Harrison, ...</td>\n",
              "      <td>NaN</td>\n",
              "      <td>November 25, 2021</td>\n",
              "      <td>2021</td>\n",
              "      <td>NaN</td>\n",
              "      <td>1 Season</td>\n",
              "      <td>Docuseries, Historical, Music</td>\n",
              "      <td>A three-part documentary from Peter Jackson ca...</td>\n",
              "    </tr>\n",
              "  </tbody>\n",
              "</table>\n",
              "</div>\n",
              "      <button class=\"colab-df-convert\" onclick=\"convertToInteractive('df-7442594e-4755-487b-a4ec-2bb5e91e6e69')\"\n",
              "              title=\"Convert this dataframe to an interactive table.\"\n",
              "              style=\"display:none;\">\n",
              "        \n",
              "  <svg xmlns=\"http://www.w3.org/2000/svg\" height=\"24px\"viewBox=\"0 0 24 24\"\n",
              "       width=\"24px\">\n",
              "    <path d=\"M0 0h24v24H0V0z\" fill=\"none\"/>\n",
              "    <path d=\"M18.56 5.44l.94 2.06.94-2.06 2.06-.94-2.06-.94-.94-2.06-.94 2.06-2.06.94zm-11 1L8.5 8.5l.94-2.06 2.06-.94-2.06-.94L8.5 2.5l-.94 2.06-2.06.94zm10 10l.94 2.06.94-2.06 2.06-.94-2.06-.94-.94-2.06-.94 2.06-2.06.94z\"/><path d=\"M17.41 7.96l-1.37-1.37c-.4-.4-.92-.59-1.43-.59-.52 0-1.04.2-1.43.59L10.3 9.45l-7.72 7.72c-.78.78-.78 2.05 0 2.83L4 21.41c.39.39.9.59 1.41.59.51 0 1.02-.2 1.41-.59l7.78-7.78 2.81-2.81c.8-.78.8-2.07 0-2.86zM5.41 20L4 18.59l7.72-7.72 1.47 1.35L5.41 20z\"/>\n",
              "  </svg>\n",
              "      </button>\n",
              "      \n",
              "  <style>\n",
              "    .colab-df-container {\n",
              "      display:flex;\n",
              "      flex-wrap:wrap;\n",
              "      gap: 12px;\n",
              "    }\n",
              "\n",
              "    .colab-df-convert {\n",
              "      background-color: #E8F0FE;\n",
              "      border: none;\n",
              "      border-radius: 50%;\n",
              "      cursor: pointer;\n",
              "      display: none;\n",
              "      fill: #1967D2;\n",
              "      height: 32px;\n",
              "      padding: 0 0 0 0;\n",
              "      width: 32px;\n",
              "    }\n",
              "\n",
              "    .colab-df-convert:hover {\n",
              "      background-color: #E2EBFA;\n",
              "      box-shadow: 0px 1px 2px rgba(60, 64, 67, 0.3), 0px 1px 3px 1px rgba(60, 64, 67, 0.15);\n",
              "      fill: #174EA6;\n",
              "    }\n",
              "\n",
              "    [theme=dark] .colab-df-convert {\n",
              "      background-color: #3B4455;\n",
              "      fill: #D2E3FC;\n",
              "    }\n",
              "\n",
              "    [theme=dark] .colab-df-convert:hover {\n",
              "      background-color: #434B5C;\n",
              "      box-shadow: 0px 1px 3px 1px rgba(0, 0, 0, 0.15);\n",
              "      filter: drop-shadow(0px 1px 2px rgba(0, 0, 0, 0.3));\n",
              "      fill: #FFFFFF;\n",
              "    }\n",
              "  </style>\n",
              "\n",
              "      <script>\n",
              "        const buttonEl =\n",
              "          document.querySelector('#df-7442594e-4755-487b-a4ec-2bb5e91e6e69 button.colab-df-convert');\n",
              "        buttonEl.style.display =\n",
              "          google.colab.kernel.accessAllowed ? 'block' : 'none';\n",
              "\n",
              "        async function convertToInteractive(key) {\n",
              "          const element = document.querySelector('#df-7442594e-4755-487b-a4ec-2bb5e91e6e69');\n",
              "          const dataTable =\n",
              "            await google.colab.kernel.invokeFunction('convertToInteractive',\n",
              "                                                     [key], {});\n",
              "          if (!dataTable) return;\n",
              "\n",
              "          const docLinkHtml = 'Like what you see? Visit the ' +\n",
              "            '<a target=\"_blank\" href=https://colab.research.google.com/notebooks/data_table.ipynb>data table notebook</a>'\n",
              "            + ' to learn more about interactive tables.';\n",
              "          element.innerHTML = '';\n",
              "          dataTable['output_type'] = 'display_data';\n",
              "          await google.colab.output.renderOutput(dataTable, element);\n",
              "          const docLink = document.createElement('div');\n",
              "          docLink.innerHTML = docLinkHtml;\n",
              "          element.appendChild(docLink);\n",
              "        }\n",
              "      </script>\n",
              "    </div>\n",
              "  </div>\n",
              "  "
            ],
            "text/plain": [
              "  show_id  ...                                        description\n",
              "0      s1  ...   Join Mickey and the gang as they duck the halls!\n",
              "1      s2  ...  Santa Claus passes his magic bag to a new St. ...\n",
              "2      s3  ...          Sid the Sloth is on Santa's naughty list.\n",
              "3      s4  ...               This is real life, not just fantasy!\n",
              "4      s5  ...  A three-part documentary from Peter Jackson ca...\n",
              "\n",
              "[5 rows x 12 columns]"
            ]
          },
          "metadata": {},
          "execution_count": 7
        }
      ]
    },
    {
      "cell_type": "code",
      "source": [
        "disney_plus_titles_df.tail(5)"
      ],
      "metadata": {
        "colab": {
          "base_uri": "https://localhost:8080/",
          "height": 554
        },
        "id": "U8nwGspwK_MV",
        "outputId": "1bd85176-01d0-4540-cf09-f4f0ef1ca8b3"
      },
      "execution_count": 8,
      "outputs": [
        {
          "output_type": "execute_result",
          "data": {
            "text/html": [
              "\n",
              "  <div id=\"df-bff52269-1ca3-46cb-8f0c-aedb95b69b03\">\n",
              "    <div class=\"colab-df-container\">\n",
              "      <div>\n",
              "<style scoped>\n",
              "    .dataframe tbody tr th:only-of-type {\n",
              "        vertical-align: middle;\n",
              "    }\n",
              "\n",
              "    .dataframe tbody tr th {\n",
              "        vertical-align: top;\n",
              "    }\n",
              "\n",
              "    .dataframe thead th {\n",
              "        text-align: right;\n",
              "    }\n",
              "</style>\n",
              "<table border=\"1\" class=\"dataframe\">\n",
              "  <thead>\n",
              "    <tr style=\"text-align: right;\">\n",
              "      <th></th>\n",
              "      <th>show_id</th>\n",
              "      <th>type</th>\n",
              "      <th>title</th>\n",
              "      <th>director</th>\n",
              "      <th>cast</th>\n",
              "      <th>country</th>\n",
              "      <th>date_added</th>\n",
              "      <th>release_year</th>\n",
              "      <th>rating</th>\n",
              "      <th>duration</th>\n",
              "      <th>listed_in</th>\n",
              "      <th>description</th>\n",
              "    </tr>\n",
              "  </thead>\n",
              "  <tbody>\n",
              "    <tr>\n",
              "      <th>1445</th>\n",
              "      <td>s1446</td>\n",
              "      <td>Movie</td>\n",
              "      <td>X-Men Origins: Wolverine</td>\n",
              "      <td>Gavin Hood</td>\n",
              "      <td>Hugh Jackman, Liev Schreiber, Danny Huston, wi...</td>\n",
              "      <td>United States, United Kingdom</td>\n",
              "      <td>June 4, 2021</td>\n",
              "      <td>2009</td>\n",
              "      <td>PG-13</td>\n",
              "      <td>108 min</td>\n",
              "      <td>Action-Adventure, Family, Science Fiction</td>\n",
              "      <td>Wolverine unites with legendary X-Men to fight...</td>\n",
              "    </tr>\n",
              "    <tr>\n",
              "      <th>1446</th>\n",
              "      <td>s1447</td>\n",
              "      <td>Movie</td>\n",
              "      <td>Night at the Museum: Battle of the Smithsonian</td>\n",
              "      <td>Shawn Levy</td>\n",
              "      <td>Ben Stiller, Amy Adams, Owen Wilson, Hank Azar...</td>\n",
              "      <td>United States, Canada</td>\n",
              "      <td>April 2, 2021</td>\n",
              "      <td>2009</td>\n",
              "      <td>PG</td>\n",
              "      <td>106 min</td>\n",
              "      <td>Action-Adventure, Comedy, Family</td>\n",
              "      <td>Larry Daley returns to rescue some old friends...</td>\n",
              "    </tr>\n",
              "    <tr>\n",
              "      <th>1447</th>\n",
              "      <td>s1448</td>\n",
              "      <td>Movie</td>\n",
              "      <td>Eddie the Eagle</td>\n",
              "      <td>Dexter Fletcher</td>\n",
              "      <td>Tom Costello, Jo Hartley, Keith Allen, Dickon ...</td>\n",
              "      <td>United Kingdom, Germany, United States</td>\n",
              "      <td>December 18, 2020</td>\n",
              "      <td>2016</td>\n",
              "      <td>PG-13</td>\n",
              "      <td>107 min</td>\n",
              "      <td>Biographical, Comedy, Drama</td>\n",
              "      <td>True story of Eddie Edwards, a British ski-jum...</td>\n",
              "    </tr>\n",
              "    <tr>\n",
              "      <th>1448</th>\n",
              "      <td>s1449</td>\n",
              "      <td>Movie</td>\n",
              "      <td>Bend It Like Beckham</td>\n",
              "      <td>Gurinder Chadha</td>\n",
              "      <td>Parminder Nagra, Keira Knightley, Jonathan Rhy...</td>\n",
              "      <td>United Kingdom, Germany, United States</td>\n",
              "      <td>September 18, 2020</td>\n",
              "      <td>2003</td>\n",
              "      <td>PG-13</td>\n",
              "      <td>112 min</td>\n",
              "      <td>Buddy, Comedy, Coming of Age</td>\n",
              "      <td>Despite the wishes of their traditional famili...</td>\n",
              "    </tr>\n",
              "    <tr>\n",
              "      <th>1449</th>\n",
              "      <td>s1450</td>\n",
              "      <td>Movie</td>\n",
              "      <td>Captain Sparky vs. The Flying Saucers</td>\n",
              "      <td>Mark Waring</td>\n",
              "      <td>Charlie Tahan</td>\n",
              "      <td>United States</td>\n",
              "      <td>April 1, 2020</td>\n",
              "      <td>2012</td>\n",
              "      <td>TV-G</td>\n",
              "      <td>2 min</td>\n",
              "      <td>Action-Adventure, Animals &amp; Nature, Animation</td>\n",
              "      <td>View one of Sparky's favorite home movies.</td>\n",
              "    </tr>\n",
              "  </tbody>\n",
              "</table>\n",
              "</div>\n",
              "      <button class=\"colab-df-convert\" onclick=\"convertToInteractive('df-bff52269-1ca3-46cb-8f0c-aedb95b69b03')\"\n",
              "              title=\"Convert this dataframe to an interactive table.\"\n",
              "              style=\"display:none;\">\n",
              "        \n",
              "  <svg xmlns=\"http://www.w3.org/2000/svg\" height=\"24px\"viewBox=\"0 0 24 24\"\n",
              "       width=\"24px\">\n",
              "    <path d=\"M0 0h24v24H0V0z\" fill=\"none\"/>\n",
              "    <path d=\"M18.56 5.44l.94 2.06.94-2.06 2.06-.94-2.06-.94-.94-2.06-.94 2.06-2.06.94zm-11 1L8.5 8.5l.94-2.06 2.06-.94-2.06-.94L8.5 2.5l-.94 2.06-2.06.94zm10 10l.94 2.06.94-2.06 2.06-.94-2.06-.94-.94-2.06-.94 2.06-2.06.94z\"/><path d=\"M17.41 7.96l-1.37-1.37c-.4-.4-.92-.59-1.43-.59-.52 0-1.04.2-1.43.59L10.3 9.45l-7.72 7.72c-.78.78-.78 2.05 0 2.83L4 21.41c.39.39.9.59 1.41.59.51 0 1.02-.2 1.41-.59l7.78-7.78 2.81-2.81c.8-.78.8-2.07 0-2.86zM5.41 20L4 18.59l7.72-7.72 1.47 1.35L5.41 20z\"/>\n",
              "  </svg>\n",
              "      </button>\n",
              "      \n",
              "  <style>\n",
              "    .colab-df-container {\n",
              "      display:flex;\n",
              "      flex-wrap:wrap;\n",
              "      gap: 12px;\n",
              "    }\n",
              "\n",
              "    .colab-df-convert {\n",
              "      background-color: #E8F0FE;\n",
              "      border: none;\n",
              "      border-radius: 50%;\n",
              "      cursor: pointer;\n",
              "      display: none;\n",
              "      fill: #1967D2;\n",
              "      height: 32px;\n",
              "      padding: 0 0 0 0;\n",
              "      width: 32px;\n",
              "    }\n",
              "\n",
              "    .colab-df-convert:hover {\n",
              "      background-color: #E2EBFA;\n",
              "      box-shadow: 0px 1px 2px rgba(60, 64, 67, 0.3), 0px 1px 3px 1px rgba(60, 64, 67, 0.15);\n",
              "      fill: #174EA6;\n",
              "    }\n",
              "\n",
              "    [theme=dark] .colab-df-convert {\n",
              "      background-color: #3B4455;\n",
              "      fill: #D2E3FC;\n",
              "    }\n",
              "\n",
              "    [theme=dark] .colab-df-convert:hover {\n",
              "      background-color: #434B5C;\n",
              "      box-shadow: 0px 1px 3px 1px rgba(0, 0, 0, 0.15);\n",
              "      filter: drop-shadow(0px 1px 2px rgba(0, 0, 0, 0.3));\n",
              "      fill: #FFFFFF;\n",
              "    }\n",
              "  </style>\n",
              "\n",
              "      <script>\n",
              "        const buttonEl =\n",
              "          document.querySelector('#df-bff52269-1ca3-46cb-8f0c-aedb95b69b03 button.colab-df-convert');\n",
              "        buttonEl.style.display =\n",
              "          google.colab.kernel.accessAllowed ? 'block' : 'none';\n",
              "\n",
              "        async function convertToInteractive(key) {\n",
              "          const element = document.querySelector('#df-bff52269-1ca3-46cb-8f0c-aedb95b69b03');\n",
              "          const dataTable =\n",
              "            await google.colab.kernel.invokeFunction('convertToInteractive',\n",
              "                                                     [key], {});\n",
              "          if (!dataTable) return;\n",
              "\n",
              "          const docLinkHtml = 'Like what you see? Visit the ' +\n",
              "            '<a target=\"_blank\" href=https://colab.research.google.com/notebooks/data_table.ipynb>data table notebook</a>'\n",
              "            + ' to learn more about interactive tables.';\n",
              "          element.innerHTML = '';\n",
              "          dataTable['output_type'] = 'display_data';\n",
              "          await google.colab.output.renderOutput(dataTable, element);\n",
              "          const docLink = document.createElement('div');\n",
              "          docLink.innerHTML = docLinkHtml;\n",
              "          element.appendChild(docLink);\n",
              "        }\n",
              "      </script>\n",
              "    </div>\n",
              "  </div>\n",
              "  "
            ],
            "text/plain": [
              "     show_id  ...                                        description\n",
              "1445   s1446  ...  Wolverine unites with legendary X-Men to fight...\n",
              "1446   s1447  ...  Larry Daley returns to rescue some old friends...\n",
              "1447   s1448  ...  True story of Eddie Edwards, a British ski-jum...\n",
              "1448   s1449  ...  Despite the wishes of their traditional famili...\n",
              "1449   s1450  ...         View one of Sparky's favorite home movies.\n",
              "\n",
              "[5 rows x 12 columns]"
            ]
          },
          "metadata": {},
          "execution_count": 8
        }
      ]
    },
    {
      "cell_type": "code",
      "source": [
        "#To see the sum of null cells\n",
        "disney_plus_titles_df.isnull().sum()"
      ],
      "metadata": {
        "colab": {
          "base_uri": "https://localhost:8080/"
        },
        "id": "urS9S1A2PgIS",
        "outputId": "ea4ebdbc-5574-4ed9-e3d5-736f7ce5accf"
      },
      "execution_count": 9,
      "outputs": [
        {
          "output_type": "execute_result",
          "data": {
            "text/plain": [
              "show_id           0\n",
              "type              0\n",
              "title             0\n",
              "director        473\n",
              "cast            190\n",
              "country         219\n",
              "date_added        3\n",
              "release_year      0\n",
              "rating            3\n",
              "duration          0\n",
              "listed_in         0\n",
              "description       0\n",
              "dtype: int64"
            ]
          },
          "metadata": {},
          "execution_count": 9
        }
      ]
    },
    {
      "cell_type": "code",
      "source": [
        "disney_plus_titles_df"
      ],
      "metadata": {
        "colab": {
          "base_uri": "https://localhost:8080/",
          "height": 990
        },
        "id": "9rAqauZDTr_n",
        "outputId": "8420f6fb-8529-4f8e-ed94-1ba0161d5849"
      },
      "execution_count": 10,
      "outputs": [
        {
          "output_type": "execute_result",
          "data": {
            "text/html": [
              "\n",
              "  <div id=\"df-d57d75af-4946-4dda-9b21-dd2f8ad7dbaa\">\n",
              "    <div class=\"colab-df-container\">\n",
              "      <div>\n",
              "<style scoped>\n",
              "    .dataframe tbody tr th:only-of-type {\n",
              "        vertical-align: middle;\n",
              "    }\n",
              "\n",
              "    .dataframe tbody tr th {\n",
              "        vertical-align: top;\n",
              "    }\n",
              "\n",
              "    .dataframe thead th {\n",
              "        text-align: right;\n",
              "    }\n",
              "</style>\n",
              "<table border=\"1\" class=\"dataframe\">\n",
              "  <thead>\n",
              "    <tr style=\"text-align: right;\">\n",
              "      <th></th>\n",
              "      <th>show_id</th>\n",
              "      <th>type</th>\n",
              "      <th>title</th>\n",
              "      <th>director</th>\n",
              "      <th>cast</th>\n",
              "      <th>country</th>\n",
              "      <th>date_added</th>\n",
              "      <th>release_year</th>\n",
              "      <th>rating</th>\n",
              "      <th>duration</th>\n",
              "      <th>listed_in</th>\n",
              "      <th>description</th>\n",
              "    </tr>\n",
              "  </thead>\n",
              "  <tbody>\n",
              "    <tr>\n",
              "      <th>0</th>\n",
              "      <td>s1</td>\n",
              "      <td>Movie</td>\n",
              "      <td>Duck the Halls: A Mickey Mouse Christmas Special</td>\n",
              "      <td>Alonso Ramirez Ramos, Dave Wasson</td>\n",
              "      <td>Chris Diamantopoulos, Tony Anselmo, Tress MacN...</td>\n",
              "      <td>NaN</td>\n",
              "      <td>November 26, 2021</td>\n",
              "      <td>2016</td>\n",
              "      <td>TV-G</td>\n",
              "      <td>23 min</td>\n",
              "      <td>Animation, Family</td>\n",
              "      <td>Join Mickey and the gang as they duck the halls!</td>\n",
              "    </tr>\n",
              "    <tr>\n",
              "      <th>1</th>\n",
              "      <td>s2</td>\n",
              "      <td>Movie</td>\n",
              "      <td>Ernest Saves Christmas</td>\n",
              "      <td>John Cherry</td>\n",
              "      <td>Jim Varney, Noelle Parker, Douglas Seale</td>\n",
              "      <td>NaN</td>\n",
              "      <td>November 26, 2021</td>\n",
              "      <td>1988</td>\n",
              "      <td>PG</td>\n",
              "      <td>91 min</td>\n",
              "      <td>Comedy</td>\n",
              "      <td>Santa Claus passes his magic bag to a new St. ...</td>\n",
              "    </tr>\n",
              "    <tr>\n",
              "      <th>2</th>\n",
              "      <td>s3</td>\n",
              "      <td>Movie</td>\n",
              "      <td>Ice Age: A Mammoth Christmas</td>\n",
              "      <td>Karen Disher</td>\n",
              "      <td>Raymond Albert Romano, John Leguizamo, Denis L...</td>\n",
              "      <td>United States</td>\n",
              "      <td>November 26, 2021</td>\n",
              "      <td>2011</td>\n",
              "      <td>TV-G</td>\n",
              "      <td>23 min</td>\n",
              "      <td>Animation, Comedy, Family</td>\n",
              "      <td>Sid the Sloth is on Santa's naughty list.</td>\n",
              "    </tr>\n",
              "    <tr>\n",
              "      <th>3</th>\n",
              "      <td>s4</td>\n",
              "      <td>Movie</td>\n",
              "      <td>The Queen Family Singalong</td>\n",
              "      <td>Hamish Hamilton</td>\n",
              "      <td>Darren Criss, Adam Lambert, Derek Hough, Alexa...</td>\n",
              "      <td>NaN</td>\n",
              "      <td>November 26, 2021</td>\n",
              "      <td>2021</td>\n",
              "      <td>TV-PG</td>\n",
              "      <td>41 min</td>\n",
              "      <td>Musical</td>\n",
              "      <td>This is real life, not just fantasy!</td>\n",
              "    </tr>\n",
              "    <tr>\n",
              "      <th>4</th>\n",
              "      <td>s5</td>\n",
              "      <td>TV Show</td>\n",
              "      <td>The Beatles: Get Back</td>\n",
              "      <td>NaN</td>\n",
              "      <td>John Lennon, Paul McCartney, George Harrison, ...</td>\n",
              "      <td>NaN</td>\n",
              "      <td>November 25, 2021</td>\n",
              "      <td>2021</td>\n",
              "      <td>NaN</td>\n",
              "      <td>1 Season</td>\n",
              "      <td>Docuseries, Historical, Music</td>\n",
              "      <td>A three-part documentary from Peter Jackson ca...</td>\n",
              "    </tr>\n",
              "    <tr>\n",
              "      <th>...</th>\n",
              "      <td>...</td>\n",
              "      <td>...</td>\n",
              "      <td>...</td>\n",
              "      <td>...</td>\n",
              "      <td>...</td>\n",
              "      <td>...</td>\n",
              "      <td>...</td>\n",
              "      <td>...</td>\n",
              "      <td>...</td>\n",
              "      <td>...</td>\n",
              "      <td>...</td>\n",
              "      <td>...</td>\n",
              "    </tr>\n",
              "    <tr>\n",
              "      <th>1445</th>\n",
              "      <td>s1446</td>\n",
              "      <td>Movie</td>\n",
              "      <td>X-Men Origins: Wolverine</td>\n",
              "      <td>Gavin Hood</td>\n",
              "      <td>Hugh Jackman, Liev Schreiber, Danny Huston, wi...</td>\n",
              "      <td>United States, United Kingdom</td>\n",
              "      <td>June 4, 2021</td>\n",
              "      <td>2009</td>\n",
              "      <td>PG-13</td>\n",
              "      <td>108 min</td>\n",
              "      <td>Action-Adventure, Family, Science Fiction</td>\n",
              "      <td>Wolverine unites with legendary X-Men to fight...</td>\n",
              "    </tr>\n",
              "    <tr>\n",
              "      <th>1446</th>\n",
              "      <td>s1447</td>\n",
              "      <td>Movie</td>\n",
              "      <td>Night at the Museum: Battle of the Smithsonian</td>\n",
              "      <td>Shawn Levy</td>\n",
              "      <td>Ben Stiller, Amy Adams, Owen Wilson, Hank Azar...</td>\n",
              "      <td>United States, Canada</td>\n",
              "      <td>April 2, 2021</td>\n",
              "      <td>2009</td>\n",
              "      <td>PG</td>\n",
              "      <td>106 min</td>\n",
              "      <td>Action-Adventure, Comedy, Family</td>\n",
              "      <td>Larry Daley returns to rescue some old friends...</td>\n",
              "    </tr>\n",
              "    <tr>\n",
              "      <th>1447</th>\n",
              "      <td>s1448</td>\n",
              "      <td>Movie</td>\n",
              "      <td>Eddie the Eagle</td>\n",
              "      <td>Dexter Fletcher</td>\n",
              "      <td>Tom Costello, Jo Hartley, Keith Allen, Dickon ...</td>\n",
              "      <td>United Kingdom, Germany, United States</td>\n",
              "      <td>December 18, 2020</td>\n",
              "      <td>2016</td>\n",
              "      <td>PG-13</td>\n",
              "      <td>107 min</td>\n",
              "      <td>Biographical, Comedy, Drama</td>\n",
              "      <td>True story of Eddie Edwards, a British ski-jum...</td>\n",
              "    </tr>\n",
              "    <tr>\n",
              "      <th>1448</th>\n",
              "      <td>s1449</td>\n",
              "      <td>Movie</td>\n",
              "      <td>Bend It Like Beckham</td>\n",
              "      <td>Gurinder Chadha</td>\n",
              "      <td>Parminder Nagra, Keira Knightley, Jonathan Rhy...</td>\n",
              "      <td>United Kingdom, Germany, United States</td>\n",
              "      <td>September 18, 2020</td>\n",
              "      <td>2003</td>\n",
              "      <td>PG-13</td>\n",
              "      <td>112 min</td>\n",
              "      <td>Buddy, Comedy, Coming of Age</td>\n",
              "      <td>Despite the wishes of their traditional famili...</td>\n",
              "    </tr>\n",
              "    <tr>\n",
              "      <th>1449</th>\n",
              "      <td>s1450</td>\n",
              "      <td>Movie</td>\n",
              "      <td>Captain Sparky vs. The Flying Saucers</td>\n",
              "      <td>Mark Waring</td>\n",
              "      <td>Charlie Tahan</td>\n",
              "      <td>United States</td>\n",
              "      <td>April 1, 2020</td>\n",
              "      <td>2012</td>\n",
              "      <td>TV-G</td>\n",
              "      <td>2 min</td>\n",
              "      <td>Action-Adventure, Animals &amp; Nature, Animation</td>\n",
              "      <td>View one of Sparky's favorite home movies.</td>\n",
              "    </tr>\n",
              "  </tbody>\n",
              "</table>\n",
              "<p>1450 rows × 12 columns</p>\n",
              "</div>\n",
              "      <button class=\"colab-df-convert\" onclick=\"convertToInteractive('df-d57d75af-4946-4dda-9b21-dd2f8ad7dbaa')\"\n",
              "              title=\"Convert this dataframe to an interactive table.\"\n",
              "              style=\"display:none;\">\n",
              "        \n",
              "  <svg xmlns=\"http://www.w3.org/2000/svg\" height=\"24px\"viewBox=\"0 0 24 24\"\n",
              "       width=\"24px\">\n",
              "    <path d=\"M0 0h24v24H0V0z\" fill=\"none\"/>\n",
              "    <path d=\"M18.56 5.44l.94 2.06.94-2.06 2.06-.94-2.06-.94-.94-2.06-.94 2.06-2.06.94zm-11 1L8.5 8.5l.94-2.06 2.06-.94-2.06-.94L8.5 2.5l-.94 2.06-2.06.94zm10 10l.94 2.06.94-2.06 2.06-.94-2.06-.94-.94-2.06-.94 2.06-2.06.94z\"/><path d=\"M17.41 7.96l-1.37-1.37c-.4-.4-.92-.59-1.43-.59-.52 0-1.04.2-1.43.59L10.3 9.45l-7.72 7.72c-.78.78-.78 2.05 0 2.83L4 21.41c.39.39.9.59 1.41.59.51 0 1.02-.2 1.41-.59l7.78-7.78 2.81-2.81c.8-.78.8-2.07 0-2.86zM5.41 20L4 18.59l7.72-7.72 1.47 1.35L5.41 20z\"/>\n",
              "  </svg>\n",
              "      </button>\n",
              "      \n",
              "  <style>\n",
              "    .colab-df-container {\n",
              "      display:flex;\n",
              "      flex-wrap:wrap;\n",
              "      gap: 12px;\n",
              "    }\n",
              "\n",
              "    .colab-df-convert {\n",
              "      background-color: #E8F0FE;\n",
              "      border: none;\n",
              "      border-radius: 50%;\n",
              "      cursor: pointer;\n",
              "      display: none;\n",
              "      fill: #1967D2;\n",
              "      height: 32px;\n",
              "      padding: 0 0 0 0;\n",
              "      width: 32px;\n",
              "    }\n",
              "\n",
              "    .colab-df-convert:hover {\n",
              "      background-color: #E2EBFA;\n",
              "      box-shadow: 0px 1px 2px rgba(60, 64, 67, 0.3), 0px 1px 3px 1px rgba(60, 64, 67, 0.15);\n",
              "      fill: #174EA6;\n",
              "    }\n",
              "\n",
              "    [theme=dark] .colab-df-convert {\n",
              "      background-color: #3B4455;\n",
              "      fill: #D2E3FC;\n",
              "    }\n",
              "\n",
              "    [theme=dark] .colab-df-convert:hover {\n",
              "      background-color: #434B5C;\n",
              "      box-shadow: 0px 1px 3px 1px rgba(0, 0, 0, 0.15);\n",
              "      filter: drop-shadow(0px 1px 2px rgba(0, 0, 0, 0.3));\n",
              "      fill: #FFFFFF;\n",
              "    }\n",
              "  </style>\n",
              "\n",
              "      <script>\n",
              "        const buttonEl =\n",
              "          document.querySelector('#df-d57d75af-4946-4dda-9b21-dd2f8ad7dbaa button.colab-df-convert');\n",
              "        buttonEl.style.display =\n",
              "          google.colab.kernel.accessAllowed ? 'block' : 'none';\n",
              "\n",
              "        async function convertToInteractive(key) {\n",
              "          const element = document.querySelector('#df-d57d75af-4946-4dda-9b21-dd2f8ad7dbaa');\n",
              "          const dataTable =\n",
              "            await google.colab.kernel.invokeFunction('convertToInteractive',\n",
              "                                                     [key], {});\n",
              "          if (!dataTable) return;\n",
              "\n",
              "          const docLinkHtml = 'Like what you see? Visit the ' +\n",
              "            '<a target=\"_blank\" href=https://colab.research.google.com/notebooks/data_table.ipynb>data table notebook</a>'\n",
              "            + ' to learn more about interactive tables.';\n",
              "          element.innerHTML = '';\n",
              "          dataTable['output_type'] = 'display_data';\n",
              "          await google.colab.output.renderOutput(dataTable, element);\n",
              "          const docLink = document.createElement('div');\n",
              "          docLink.innerHTML = docLinkHtml;\n",
              "          element.appendChild(docLink);\n",
              "        }\n",
              "      </script>\n",
              "    </div>\n",
              "  </div>\n",
              "  "
            ],
            "text/plain": [
              "     show_id  ...                                        description\n",
              "0         s1  ...   Join Mickey and the gang as they duck the halls!\n",
              "1         s2  ...  Santa Claus passes his magic bag to a new St. ...\n",
              "2         s3  ...          Sid the Sloth is on Santa's naughty list.\n",
              "3         s4  ...               This is real life, not just fantasy!\n",
              "4         s5  ...  A three-part documentary from Peter Jackson ca...\n",
              "...      ...  ...                                                ...\n",
              "1445   s1446  ...  Wolverine unites with legendary X-Men to fight...\n",
              "1446   s1447  ...  Larry Daley returns to rescue some old friends...\n",
              "1447   s1448  ...  True story of Eddie Edwards, a British ski-jum...\n",
              "1448   s1449  ...  Despite the wishes of their traditional famili...\n",
              "1449   s1450  ...         View one of Sparky's favorite home movies.\n",
              "\n",
              "[1450 rows x 12 columns]"
            ]
          },
          "metadata": {},
          "execution_count": 10
        }
      ]
    },
    {
      "cell_type": "code",
      "source": [
        "#Chronological order\n",
        "disney_plus_titles_df.sort_values('release_year')"
      ],
      "metadata": {
        "colab": {
          "base_uri": "https://localhost:8080/",
          "height": 820
        },
        "id": "UI9_fCnQSptl",
        "outputId": "147ac9b4-78b0-41eb-ee19-748928170a19"
      },
      "execution_count": 11,
      "outputs": [
        {
          "output_type": "execute_result",
          "data": {
            "text/html": [
              "\n",
              "  <div id=\"df-ebcfe225-566a-48ae-969d-d28178c4fddd\">\n",
              "    <div class=\"colab-df-container\">\n",
              "      <div>\n",
              "<style scoped>\n",
              "    .dataframe tbody tr th:only-of-type {\n",
              "        vertical-align: middle;\n",
              "    }\n",
              "\n",
              "    .dataframe tbody tr th {\n",
              "        vertical-align: top;\n",
              "    }\n",
              "\n",
              "    .dataframe thead th {\n",
              "        text-align: right;\n",
              "    }\n",
              "</style>\n",
              "<table border=\"1\" class=\"dataframe\">\n",
              "  <thead>\n",
              "    <tr style=\"text-align: right;\">\n",
              "      <th></th>\n",
              "      <th>show_id</th>\n",
              "      <th>type</th>\n",
              "      <th>title</th>\n",
              "      <th>director</th>\n",
              "      <th>cast</th>\n",
              "      <th>country</th>\n",
              "      <th>date_added</th>\n",
              "      <th>release_year</th>\n",
              "      <th>rating</th>\n",
              "      <th>duration</th>\n",
              "      <th>listed_in</th>\n",
              "      <th>description</th>\n",
              "    </tr>\n",
              "  </thead>\n",
              "  <tbody>\n",
              "    <tr>\n",
              "      <th>1220</th>\n",
              "      <td>s1221</td>\n",
              "      <td>Movie</td>\n",
              "      <td>Steamboat Willie</td>\n",
              "      <td>Walt Disney, Ub Iwerks</td>\n",
              "      <td>Walt Disney</td>\n",
              "      <td>United States</td>\n",
              "      <td>November 12, 2019</td>\n",
              "      <td>1928</td>\n",
              "      <td>TV-Y7</td>\n",
              "      <td>8 min</td>\n",
              "      <td>Animation, Family, Kids</td>\n",
              "      <td>Watch Mickey Mouse's classic cartoon debut. Se...</td>\n",
              "    </tr>\n",
              "    <tr>\n",
              "      <th>893</th>\n",
              "      <td>s894</td>\n",
              "      <td>Movie</td>\n",
              "      <td>Flowers and Trees</td>\n",
              "      <td>Burt Gillett</td>\n",
              "      <td>NaN</td>\n",
              "      <td>United States</td>\n",
              "      <td>November 12, 2019</td>\n",
              "      <td>1932</td>\n",
              "      <td>TV-Y7</td>\n",
              "      <td>8 min</td>\n",
              "      <td>Animation, Family, Kids</td>\n",
              "      <td>It's spring, and the flowers, mushrooms, and t...</td>\n",
              "    </tr>\n",
              "    <tr>\n",
              "      <th>1178</th>\n",
              "      <td>s1179</td>\n",
              "      <td>Movie</td>\n",
              "      <td>Santa's Workshop</td>\n",
              "      <td>Wilfred Jackson</td>\n",
              "      <td>NaN</td>\n",
              "      <td>United States</td>\n",
              "      <td>November 12, 2019</td>\n",
              "      <td>1932</td>\n",
              "      <td>TV-G</td>\n",
              "      <td>7 min</td>\n",
              "      <td>Animation, Family, Fantasy</td>\n",
              "      <td>Santa and his elves make toys to deliver on Ch...</td>\n",
              "    </tr>\n",
              "    <tr>\n",
              "      <th>736</th>\n",
              "      <td>s737</td>\n",
              "      <td>Movie</td>\n",
              "      <td>Babes in the Woods</td>\n",
              "      <td>Burt Gillett</td>\n",
              "      <td>NaN</td>\n",
              "      <td>United States</td>\n",
              "      <td>November 12, 2019</td>\n",
              "      <td>1932</td>\n",
              "      <td>TV-Y7</td>\n",
              "      <td>8 min</td>\n",
              "      <td>Animation, Family, Fantasy</td>\n",
              "      <td>Two children wander the forest and get lured i...</td>\n",
              "    </tr>\n",
              "    <tr>\n",
              "      <th>1317</th>\n",
              "      <td>s1318</td>\n",
              "      <td>Movie</td>\n",
              "      <td>The Pied Piper</td>\n",
              "      <td>Wilfred Jackson</td>\n",
              "      <td>NaN</td>\n",
              "      <td>United States</td>\n",
              "      <td>November 12, 2019</td>\n",
              "      <td>1933</td>\n",
              "      <td>TV-G</td>\n",
              "      <td>8 min</td>\n",
              "      <td>Animation, Family, Musical</td>\n",
              "      <td>The Pied Piper lures the children out of town....</td>\n",
              "    </tr>\n",
              "    <tr>\n",
              "      <th>...</th>\n",
              "      <td>...</td>\n",
              "      <td>...</td>\n",
              "      <td>...</td>\n",
              "      <td>...</td>\n",
              "      <td>...</td>\n",
              "      <td>...</td>\n",
              "      <td>...</td>\n",
              "      <td>...</td>\n",
              "      <td>...</td>\n",
              "      <td>...</td>\n",
              "      <td>...</td>\n",
              "      <td>...</td>\n",
              "    </tr>\n",
              "    <tr>\n",
              "      <th>148</th>\n",
              "      <td>s149</td>\n",
              "      <td>TV Show</td>\n",
              "      <td>Mickey Mouse Funhouse</td>\n",
              "      <td>NaN</td>\n",
              "      <td>Bret Iwan, Kaitlyn Robrock, Bill Farmer, Tony ...</td>\n",
              "      <td>United States</td>\n",
              "      <td>July 28, 2021</td>\n",
              "      <td>2021</td>\n",
              "      <td>TV-Y</td>\n",
              "      <td>1 Season</td>\n",
              "      <td>Animation, Kids</td>\n",
              "      <td>Mickey Mouse Funhouse is filled with silly adv...</td>\n",
              "    </tr>\n",
              "    <tr>\n",
              "      <th>145</th>\n",
              "      <td>s146</td>\n",
              "      <td>TV Show</td>\n",
              "      <td>Chip 'n' Dale: Park Life</td>\n",
              "      <td>NaN</td>\n",
              "      <td>Matthew Géczy, Kaycie Chase, Bill Farmer, Sylv...</td>\n",
              "      <td>NaN</td>\n",
              "      <td>July 28, 2021</td>\n",
              "      <td>2021</td>\n",
              "      <td>TV-Y7</td>\n",
              "      <td>1 Season</td>\n",
              "      <td>Animation, Buddy, Comedy</td>\n",
              "      <td>Two tiny chipmunks have huge adventures while ...</td>\n",
              "    </tr>\n",
              "    <tr>\n",
              "      <th>143</th>\n",
              "      <td>s144</td>\n",
              "      <td>Movie</td>\n",
              "      <td>Built for Mars: The Perseverance Rover</td>\n",
              "      <td>Mark J Davis</td>\n",
              "      <td>Steven French</td>\n",
              "      <td>NaN</td>\n",
              "      <td>July 30, 2021</td>\n",
              "      <td>2021</td>\n",
              "      <td>TV-PG</td>\n",
              "      <td>88 min</td>\n",
              "      <td>Documentary</td>\n",
              "      <td>BUILT FOR MARS: THE PERSEVERANCE ROVER follows...</td>\n",
              "    </tr>\n",
              "    <tr>\n",
              "      <th>139</th>\n",
              "      <td>s140</td>\n",
              "      <td>Movie</td>\n",
              "      <td>Killer Shark vs Killer Whale</td>\n",
              "      <td>NaN</td>\n",
              "      <td>Edward Marcoux</td>\n",
              "      <td>NaN</td>\n",
              "      <td>August 6, 2021</td>\n",
              "      <td>2021</td>\n",
              "      <td>TV-14</td>\n",
              "      <td>44 min</td>\n",
              "      <td>Animals &amp; Nature, Documentary</td>\n",
              "      <td>Orcas attack white sharks for their livers lea...</td>\n",
              "    </tr>\n",
              "    <tr>\n",
              "      <th>158</th>\n",
              "      <td>s159</td>\n",
              "      <td>TV Show</td>\n",
              "      <td>Behind the Attraction</td>\n",
              "      <td>NaN</td>\n",
              "      <td>Paget Brewster</td>\n",
              "      <td>NaN</td>\n",
              "      <td>July 21, 2021</td>\n",
              "      <td>2021</td>\n",
              "      <td>TV-PG</td>\n",
              "      <td>1 Season</td>\n",
              "      <td>Docuseries, Family</td>\n",
              "      <td>Behind the Attraction takes you on a wild ride...</td>\n",
              "    </tr>\n",
              "  </tbody>\n",
              "</table>\n",
              "<p>1450 rows × 12 columns</p>\n",
              "</div>\n",
              "      <button class=\"colab-df-convert\" onclick=\"convertToInteractive('df-ebcfe225-566a-48ae-969d-d28178c4fddd')\"\n",
              "              title=\"Convert this dataframe to an interactive table.\"\n",
              "              style=\"display:none;\">\n",
              "        \n",
              "  <svg xmlns=\"http://www.w3.org/2000/svg\" height=\"24px\"viewBox=\"0 0 24 24\"\n",
              "       width=\"24px\">\n",
              "    <path d=\"M0 0h24v24H0V0z\" fill=\"none\"/>\n",
              "    <path d=\"M18.56 5.44l.94 2.06.94-2.06 2.06-.94-2.06-.94-.94-2.06-.94 2.06-2.06.94zm-11 1L8.5 8.5l.94-2.06 2.06-.94-2.06-.94L8.5 2.5l-.94 2.06-2.06.94zm10 10l.94 2.06.94-2.06 2.06-.94-2.06-.94-.94-2.06-.94 2.06-2.06.94z\"/><path d=\"M17.41 7.96l-1.37-1.37c-.4-.4-.92-.59-1.43-.59-.52 0-1.04.2-1.43.59L10.3 9.45l-7.72 7.72c-.78.78-.78 2.05 0 2.83L4 21.41c.39.39.9.59 1.41.59.51 0 1.02-.2 1.41-.59l7.78-7.78 2.81-2.81c.8-.78.8-2.07 0-2.86zM5.41 20L4 18.59l7.72-7.72 1.47 1.35L5.41 20z\"/>\n",
              "  </svg>\n",
              "      </button>\n",
              "      \n",
              "  <style>\n",
              "    .colab-df-container {\n",
              "      display:flex;\n",
              "      flex-wrap:wrap;\n",
              "      gap: 12px;\n",
              "    }\n",
              "\n",
              "    .colab-df-convert {\n",
              "      background-color: #E8F0FE;\n",
              "      border: none;\n",
              "      border-radius: 50%;\n",
              "      cursor: pointer;\n",
              "      display: none;\n",
              "      fill: #1967D2;\n",
              "      height: 32px;\n",
              "      padding: 0 0 0 0;\n",
              "      width: 32px;\n",
              "    }\n",
              "\n",
              "    .colab-df-convert:hover {\n",
              "      background-color: #E2EBFA;\n",
              "      box-shadow: 0px 1px 2px rgba(60, 64, 67, 0.3), 0px 1px 3px 1px rgba(60, 64, 67, 0.15);\n",
              "      fill: #174EA6;\n",
              "    }\n",
              "\n",
              "    [theme=dark] .colab-df-convert {\n",
              "      background-color: #3B4455;\n",
              "      fill: #D2E3FC;\n",
              "    }\n",
              "\n",
              "    [theme=dark] .colab-df-convert:hover {\n",
              "      background-color: #434B5C;\n",
              "      box-shadow: 0px 1px 3px 1px rgba(0, 0, 0, 0.15);\n",
              "      filter: drop-shadow(0px 1px 2px rgba(0, 0, 0, 0.3));\n",
              "      fill: #FFFFFF;\n",
              "    }\n",
              "  </style>\n",
              "\n",
              "      <script>\n",
              "        const buttonEl =\n",
              "          document.querySelector('#df-ebcfe225-566a-48ae-969d-d28178c4fddd button.colab-df-convert');\n",
              "        buttonEl.style.display =\n",
              "          google.colab.kernel.accessAllowed ? 'block' : 'none';\n",
              "\n",
              "        async function convertToInteractive(key) {\n",
              "          const element = document.querySelector('#df-ebcfe225-566a-48ae-969d-d28178c4fddd');\n",
              "          const dataTable =\n",
              "            await google.colab.kernel.invokeFunction('convertToInteractive',\n",
              "                                                     [key], {});\n",
              "          if (!dataTable) return;\n",
              "\n",
              "          const docLinkHtml = 'Like what you see? Visit the ' +\n",
              "            '<a target=\"_blank\" href=https://colab.research.google.com/notebooks/data_table.ipynb>data table notebook</a>'\n",
              "            + ' to learn more about interactive tables.';\n",
              "          element.innerHTML = '';\n",
              "          dataTable['output_type'] = 'display_data';\n",
              "          await google.colab.output.renderOutput(dataTable, element);\n",
              "          const docLink = document.createElement('div');\n",
              "          docLink.innerHTML = docLinkHtml;\n",
              "          element.appendChild(docLink);\n",
              "        }\n",
              "      </script>\n",
              "    </div>\n",
              "  </div>\n",
              "  "
            ],
            "text/plain": [
              "     show_id  ...                                        description\n",
              "1220   s1221  ...  Watch Mickey Mouse's classic cartoon debut. Se...\n",
              "893     s894  ...  It's spring, and the flowers, mushrooms, and t...\n",
              "1178   s1179  ...  Santa and his elves make toys to deliver on Ch...\n",
              "736     s737  ...  Two children wander the forest and get lured i...\n",
              "1317   s1318  ...  The Pied Piper lures the children out of town....\n",
              "...      ...  ...                                                ...\n",
              "148     s149  ...  Mickey Mouse Funhouse is filled with silly adv...\n",
              "145     s146  ...  Two tiny chipmunks have huge adventures while ...\n",
              "143     s144  ...  BUILT FOR MARS: THE PERSEVERANCE ROVER follows...\n",
              "139     s140  ...  Orcas attack white sharks for their livers lea...\n",
              "158     s159  ...  Behind the Attraction takes you on a wild ride...\n",
              "\n",
              "[1450 rows x 12 columns]"
            ]
          },
          "metadata": {},
          "execution_count": 11
        }
      ]
    },
    {
      "cell_type": "code",
      "source": [
        "#Which is the more productive year for Disney? \n",
        "Ordered_list = disney_plus_titles_df['release_year'].value_counts()\n",
        "print('The more productive year for Disney is', Ordered_list.index[0], 'since', max(Ordered_list), 'products were released.')"
      ],
      "metadata": {
        "colab": {
          "base_uri": "https://localhost:8080/"
        },
        "id": "rOJmJbn1XLfv",
        "outputId": "a7969b08-dda9-4700-cfee-20260d4c5f0e"
      },
      "execution_count": 12,
      "outputs": [
        {
          "output_type": "stream",
          "name": "stdout",
          "text": [
            "The more productive year for Disney is 2021 since 125 products were released.\n"
          ]
        }
      ]
    },
    {
      "cell_type": "code",
      "source": [
        "disney_plus_titles_df['release_year'].plot(kind = 'hist', title = 'Release year')"
      ],
      "metadata": {
        "colab": {
          "base_uri": "https://localhost:8080/",
          "height": 298
        },
        "id": "5W4nutdAvBo6",
        "outputId": "a982374d-dc80-4bf8-afd1-20d22de9badb"
      },
      "execution_count": 13,
      "outputs": [
        {
          "output_type": "execute_result",
          "data": {
            "text/plain": [
              "<matplotlib.axes._subplots.AxesSubplot at 0x7f7f0d703950>"
            ]
          },
          "metadata": {},
          "execution_count": 13
        },
        {
          "output_type": "display_data",
          "data": {
            "image/png": "[encoded data removed]",
            "text/plain": [
              "<Figure size 432x288 with 1 Axes>"
            ]
          },
          "metadata": {
            "needs_background": "light"
          }
        }
      ]
    },
    {
      "cell_type": "code",
      "source": [
        "#Show how much Movies and TV Shows are in the dataset\n",
        "disney_products = disney_plus_titles_df['type'].value_counts()\n",
        "print(disney_products['Movie'])\n",
        "disney_products.to_frame()"
      ],
      "metadata": {
        "colab": {
          "base_uri": "https://localhost:8080/",
          "height": 128
        },
        "id": "94lYB16MA6Kb",
        "outputId": "007eb2b4-4321-415d-afca-f84f06612168"
      },
      "execution_count": 14,
      "outputs": [
        {
          "output_type": "stream",
          "name": "stdout",
          "text": [
            "1052\n"
          ]
        },
        {
          "output_type": "execute_result",
          "data": {
            "text/html": [
              "\n",
              "  <div id=\"df-039130bd-5b3f-40e9-8e88-79f4e4987301\">\n",
              "    <div class=\"colab-df-container\">\n",
              "      <div>\n",
              "<style scoped>\n",
              "    .dataframe tbody tr th:only-of-type {\n",
              "        vertical-align: middle;\n",
              "    }\n",
              "\n",
              "    .dataframe tbody tr th {\n",
              "        vertical-align: top;\n",
              "    }\n",
              "\n",
              "    .dataframe thead th {\n",
              "        text-align: right;\n",
              "    }\n",
              "</style>\n",
              "<table border=\"1\" class=\"dataframe\">\n",
              "  <thead>\n",
              "    <tr style=\"text-align: right;\">\n",
              "      <th></th>\n",
              "      <th>type</th>\n",
              "    </tr>\n",
              "  </thead>\n",
              "  <tbody>\n",
              "    <tr>\n",
              "      <th>Movie</th>\n",
              "      <td>1052</td>\n",
              "    </tr>\n",
              "    <tr>\n",
              "      <th>TV Show</th>\n",
              "      <td>398</td>\n",
              "    </tr>\n",
              "  </tbody>\n",
              "</table>\n",
              "</div>\n",
              "      <button class=\"colab-df-convert\" onclick=\"convertToInteractive('df-039130bd-5b3f-40e9-8e88-79f4e4987301')\"\n",
              "              title=\"Convert this dataframe to an interactive table.\"\n",
              "              style=\"display:none;\">\n",
              "        \n",
              "  <svg xmlns=\"http://www.w3.org/2000/svg\" height=\"24px\"viewBox=\"0 0 24 24\"\n",
              "       width=\"24px\">\n",
              "    <path d=\"M0 0h24v24H0V0z\" fill=\"none\"/>\n",
              "    <path d=\"M18.56 5.44l.94 2.06.94-2.06 2.06-.94-2.06-.94-.94-2.06-.94 2.06-2.06.94zm-11 1L8.5 8.5l.94-2.06 2.06-.94-2.06-.94L8.5 2.5l-.94 2.06-2.06.94zm10 10l.94 2.06.94-2.06 2.06-.94-2.06-.94-.94-2.06-.94 2.06-2.06.94z\"/><path d=\"M17.41 7.96l-1.37-1.37c-.4-.4-.92-.59-1.43-.59-.52 0-1.04.2-1.43.59L10.3 9.45l-7.72 7.72c-.78.78-.78 2.05 0 2.83L4 21.41c.39.39.9.59 1.41.59.51 0 1.02-.2 1.41-.59l7.78-7.78 2.81-2.81c.8-.78.8-2.07 0-2.86zM5.41 20L4 18.59l7.72-7.72 1.47 1.35L5.41 20z\"/>\n",
              "  </svg>\n",
              "      </button>\n",
              "      \n",
              "  <style>\n",
              "    .colab-df-container {\n",
              "      display:flex;\n",
              "      flex-wrap:wrap;\n",
              "      gap: 12px;\n",
              "    }\n",
              "\n",
              "    .colab-df-convert {\n",
              "      background-color: #E8F0FE;\n",
              "      border: none;\n",
              "      border-radius: 50%;\n",
              "      cursor: pointer;\n",
              "      display: none;\n",
              "      fill: #1967D2;\n",
              "      height: 32px;\n",
              "      padding: 0 0 0 0;\n",
              "      width: 32px;\n",
              "    }\n",
              "\n",
              "    .colab-df-convert:hover {\n",
              "      background-color: #E2EBFA;\n",
              "      box-shadow: 0px 1px 2px rgba(60, 64, 67, 0.3), 0px 1px 3px 1px rgba(60, 64, 67, 0.15);\n",
              "      fill: #174EA6;\n",
              "    }\n",
              "\n",
              "    [theme=dark] .colab-df-convert {\n",
              "      background-color: #3B4455;\n",
              "      fill: #D2E3FC;\n",
              "    }\n",
              "\n",
              "    [theme=dark] .colab-df-convert:hover {\n",
              "      background-color: #434B5C;\n",
              "      box-shadow: 0px 1px 3px 1px rgba(0, 0, 0, 0.15);\n",
              "      filter: drop-shadow(0px 1px 2px rgba(0, 0, 0, 0.3));\n",
              "      fill: #FFFFFF;\n",
              "    }\n",
              "  </style>\n",
              "\n",
              "      <script>\n",
              "        const buttonEl =\n",
              "          document.querySelector('#df-039130bd-5b3f-40e9-8e88-79f4e4987301 button.colab-df-convert');\n",
              "        buttonEl.style.display =\n",
              "          google.colab.kernel.accessAllowed ? 'block' : 'none';\n",
              "\n",
              "        async function convertToInteractive(key) {\n",
              "          const element = document.querySelector('#df-039130bd-5b3f-40e9-8e88-79f4e4987301');\n",
              "          const dataTable =\n",
              "            await google.colab.kernel.invokeFunction('convertToInteractive',\n",
              "                                                     [key], {});\n",
              "          if (!dataTable) return;\n",
              "\n",
              "          const docLinkHtml = 'Like what you see? Visit the ' +\n",
              "            '<a target=\"_blank\" href=https://colab.research.google.com/notebooks/data_table.ipynb>data table notebook</a>'\n",
              "            + ' to learn more about interactive tables.';\n",
              "          element.innerHTML = '';\n",
              "          dataTable['output_type'] = 'display_data';\n",
              "          await google.colab.output.renderOutput(dataTable, element);\n",
              "          const docLink = document.createElement('div');\n",
              "          docLink.innerHTML = docLinkHtml;\n",
              "          element.appendChild(docLink);\n",
              "        }\n",
              "      </script>\n",
              "    </div>\n",
              "  </div>\n",
              "  "
            ],
            "text/plain": [
              "         type\n",
              "Movie    1052\n",
              "TV Show   398"
            ]
          },
          "metadata": {},
          "execution_count": 14
        }
      ]
    },
    {
      "cell_type": "code",
      "source": [
        "#Calculate the percentage of Movies and TV Shows\n",
        "nr_movies = disney_products['Movie']\n",
        "nr_tvshows = disney_products['TV Show']\n",
        "total = nr_movies + nr_tvshows\n",
        "print('The percetage of Movies is', round((nr_movies/total)*100,1), '%')\n",
        "print('The percetage of TV shows is', round((nr_tvshows/total)*100,1), '%')"
      ],
      "metadata": {
        "colab": {
          "base_uri": "https://localhost:8080/"
        },
        "id": "Js7AlXS_Lxt_",
        "outputId": "5fdeef11-3d45-4e53-c01d-fe8c27138b1e"
      },
      "execution_count": 15,
      "outputs": [
        {
          "output_type": "stream",
          "name": "stdout",
          "text": [
            "The percetage of Movies is 72.6 %\n",
            "The percetage of TV shows is 27.4 %\n"
          ]
        }
      ]
    },
    {
      "cell_type": "code",
      "source": [
        "values = disney_plus_titles_df['type'].value_counts()\n",
        "keys = disney_plus_titles_df['type'].unique()\n",
        "fig = go.Figure(go.Pie(title='Movies and TV shows', values= values, labels = keys, hole = 0.3))\n",
        "fig.show()"
      ],
      "metadata": {
        "colab": {
          "base_uri": "https://localhost:8080/",
          "height": 542
        },
        "id": "Yq8u-VC99nrv",
        "outputId": "a8671674-6e50-42f8-c84c-52e226804ff2"
      },
      "execution_count": 16,
      "outputs": [
        {
          "output_type": "display_data",
          "data": {
            "text/html": [
              "<html>\n",
              "<head><meta charset=\"utf-8\" /></head>\n",
              "<body>\n",
              "    <div>            <script src=\"https://cdnjs.cloudflare.com/ajax/libs/mathjax/2.7.5/MathJax.js?config=TeX-AMS-MML_SVG\"></script><script type=\"text/javascript\">if (window.MathJax) {MathJax.Hub.Config({SVG: {font: \"STIX-Web\"}});}</script>                <script type=\"text/javascript\">window.PlotlyConfig = {MathJaxConfig: 'local'};</script>\n",
              "        <script src=\"https://cdn.plot.ly/plotly-2.8.3.min.js\"></script>                <div id=\"fb37119e-4f8a-41c2-bbf6-d0e388da2e77\" class=\"plotly-graph-div\" style=\"height:525px; width:100%;\"></div>            <script type=\"text/javascript\">                                    window.PLOTLYENV=window.PLOTLYENV || {};                                    if (document.getElementById(\"fb37119e-4f8a-41c2-bbf6-d0e388da2e77\")) {                    Plotly.newPlot(                        \"fb37119e-4f8a-41c2-bbf6-d0e388da2e77\",                        [{\"hole\":0.3,\"labels\":[\"Movie\",\"TV Show\"],\"title\":{\"text\":\"Movies and TV shows\"},\"values\":[1052,398],\"type\":\"pie\"}],                        {\"template\":{\"data\":{\"bar\":[{\"error_x\":{\"color\":\"#2a3f5f\"},\"error_y\":{\"color\":\"#2a3f5f\"},\"marker\":{\"line\":{\"color\":\"#E5ECF6\",\"width\":0.5},\"pattern\":{\"fillmode\":\"overlay\",\"size\":10,\"solidity\":0.2}},\"type\":\"bar\"}],\"barpolar\":[{\"marker\":{\"line\":{\"color\":\"#E5ECF6\",\"width\":0.5},\"pattern\":{\"fillmode\":\"overlay\",\"size\":10,\"solidity\":0.2}},\"type\":\"barpolar\"}],\"carpet\":[{\"aaxis\":{\"endlinecolor\":\"#2a3f5f\",\"gridcolor\":\"white\",\"linecolor\":\"white\",\"minorgridcolor\":\"white\",\"startlinecolor\":\"#2a3f5f\"},\"baxis\":{\"endlinecolor\":\"#2a3f5f\",\"gridcolor\":\"white\",\"linecolor\":\"white\",\"minorgridcolor\":\"white\",\"startlinecolor\":\"#2a3f5f\"},\"type\":\"carpet\"}],\"choropleth\":[{\"colorbar\":{\"outlinewidth\":0,\"ticks\":\"\"},\"type\":\"choropleth\"}],\"contour\":[{\"colorbar\":{\"outlinewidth\":0,\"ticks\":\"\"},\"colorscale\":[[0.0,\"#0d0887\"],[0.1111111111111111,\"#46039f\"],[0.2222222222222222,\"#7201a8\"],[0.3333333333333333,\"#9c179e\"],[0.4444444444444444,\"#bd3786\"],[0.5555555555555556,\"#d8576b\"],[0.6666666666666666,\"#ed7953\"],[0.7777777777777778,\"#fb9f3a\"],[0.8888888888888888,\"#fdca26\"],[1.0,\"#f0f921\"]],\"type\":\"contour\"}],\"contourcarpet\":[{\"colorbar\":{\"outlinewidth\":0,\"ticks\":\"\"},\"type\":\"contourcarpet\"}],\"heatmap\":[{\"colorbar\":{\"outlinewidth\":0,\"ticks\":\"\"},\"colorscale\":[[0.0,\"#0d0887\"],[0.1111111111111111,\"#46039f\"],[0.2222222222222222,\"#7201a8\"],[0.3333333333333333,\"#9c179e\"],[0.4444444444444444,\"#bd3786\"],[0.5555555555555556,\"#d8576b\"],[0.6666666666666666,\"#ed7953\"],[0.7777777777777778,\"#fb9f3a\"],[0.8888888888888888,\"#fdca26\"],[1.0,\"#f0f921\"]],\"type\":\"heatmap\"}],\"heatmapgl\":[{\"colorbar\":{\"outlinewidth\":0,\"ticks\":\"\"},\"colorscale\":[[0.0,\"#0d0887\"],[0.1111111111111111,\"#46039f\"],[0.2222222222222222,\"#7201a8\"],[0.3333333333333333,\"#9c179e\"],[0.4444444444444444,\"#bd3786\"],[0.5555555555555556,\"#d8576b\"],[0.6666666666666666,\"#ed7953\"],[0.7777777777777778,\"#fb9f3a\"],[0.8888888888888888,\"#fdca26\"],[1.0,\"#f0f921\"]],\"type\":\"heatmapgl\"}],\"histogram\":[{\"marker\":{\"pattern\":{\"fillmode\":\"overlay\",\"size\":10,\"solidity\":0.2}},\"type\":\"histogram\"}],\"histogram2d\":[{\"colorbar\":{\"outlinewidth\":0,\"ticks\":\"\"},\"colorscale\":[[0.0,\"#0d0887\"],[0.1111111111111111,\"#46039f\"],[0.2222222222222222,\"#7201a8\"],[0.3333333333333333,\"#9c179e\"],[0.4444444444444444,\"#bd3786\"],[0.5555555555555556,\"#d8576b\"],[0.6666666666666666,\"#ed7953\"],[0.7777777777777778,\"#fb9f3a\"],[0.8888888888888888,\"#fdca26\"],[1.0,\"#f0f921\"]],\"type\":\"histogram2d\"}],\"histogram2dcontour\":[{\"colorbar\":{\"outlinewidth\":0,\"ticks\":\"\"},\"colorscale\":[[0.0,\"#0d0887\"],[0.1111111111111111,\"#46039f\"],[0.2222222222222222,\"#7201a8\"],[0.3333333333333333,\"#9c179e\"],[0.4444444444444444,\"#bd3786\"],[0.5555555555555556,\"#d8576b\"],[0.6666666666666666,\"#ed7953\"],[0.7777777777777778,\"#fb9f3a\"],[0.8888888888888888,\"#fdca26\"],[1.0,\"#f0f921\"]],\"type\":\"histogram2dcontour\"}],\"mesh3d\":[{\"colorbar\":{\"outlinewidth\":0,\"ticks\":\"\"},\"type\":\"mesh3d\"}],\"parcoords\":[{\"line\":{\"colorbar\":{\"outlinewidth\":0,\"ticks\":\"\"}},\"type\":\"parcoords\"}],\"pie\":[{\"automargin\":true,\"type\":\"pie\"}],\"scatter\":[{\"marker\":{\"colorbar\":{\"outlinewidth\":0,\"ticks\":\"\"}},\"type\":\"scatter\"}],\"scatter3d\":[{\"line\":{\"colorbar\":{\"outlinewidth\":0,\"ticks\":\"\"}},\"marker\":{\"colorbar\":{\"outlinewidth\":0,\"ticks\":\"\"}},\"type\":\"scatter3d\"}],\"scattercarpet\":[{\"marker\":{\"colorbar\":{\"outlinewidth\":0,\"ticks\":\"\"}},\"type\":\"scattercarpet\"}],\"scattergeo\":[{\"marker\":{\"colorbar\":{\"outlinewidth\":0,\"ticks\":\"\"}},\"type\":\"scattergeo\"}],\"scattergl\":[{\"marker\":{\"colorbar\":{\"outlinewidth\":0,\"ticks\":\"\"}},\"type\":\"scattergl\"}],\"scattermapbox\":[{\"marker\":{\"colorbar\":{\"outlinewidth\":0,\"ticks\":\"\"}},\"type\":\"scattermapbox\"}],\"scatterpolar\":[{\"marker\":{\"colorbar\":{\"outlinewidth\":0,\"ticks\":\"\"}},\"type\":\"scatterpolar\"}],\"scatterpolargl\":[{\"marker\":{\"colorbar\":{\"outlinewidth\":0,\"ticks\":\"\"}},\"type\":\"scatterpolargl\"}],\"scatterternary\":[{\"marker\":{\"colorbar\":{\"outlinewidth\":0,\"ticks\":\"\"}},\"type\":\"scatterternary\"}],\"surface\":[{\"colorbar\":{\"outlinewidth\":0,\"ticks\":\"\"},\"colorscale\":[[0.0,\"#0d0887\"],[0.1111111111111111,\"#46039f\"],[0.2222222222222222,\"#7201a8\"],[0.3333333333333333,\"#9c179e\"],[0.4444444444444444,\"#bd3786\"],[0.5555555555555556,\"#d8576b\"],[0.6666666666666666,\"#ed7953\"],[0.7777777777777778,\"#fb9f3a\"],[0.8888888888888888,\"#fdca26\"],[1.0,\"#f0f921\"]],\"type\":\"surface\"}],\"table\":[{\"cells\":{\"fill\":{\"color\":\"#EBF0F8\"},\"line\":{\"color\":\"white\"}},\"header\":{\"fill\":{\"color\":\"#C8D4E3\"},\"line\":{\"color\":\"white\"}},\"type\":\"table\"}]},\"layout\":{\"annotationdefaults\":{\"arrowcolor\":\"#2a3f5f\",\"arrowhead\":0,\"arrowwidth\":1},\"autotypenumbers\":\"strict\",\"coloraxis\":{\"colorbar\":{\"outlinewidth\":0,\"ticks\":\"\"}},\"colorscale\":{\"diverging\":[[0,\"#8e0152\"],[0.1,\"#c51b7d\"],[0.2,\"#de77ae\"],[0.3,\"#f1b6da\"],[0.4,\"#fde0ef\"],[0.5,\"#f7f7f7\"],[0.6,\"#e6f5d0\"],[0.7,\"#b8e186\"],[0.8,\"#7fbc41\"],[0.9,\"#4d9221\"],[1,\"#276419\"]],\"sequential\":[[0.0,\"#0d0887\"],[0.1111111111111111,\"#46039f\"],[0.2222222222222222,\"#7201a8\"],[0.3333333333333333,\"#9c179e\"],[0.4444444444444444,\"#bd3786\"],[0.5555555555555556,\"#d8576b\"],[0.6666666666666666,\"#ed7953\"],[0.7777777777777778,\"#fb9f3a\"],[0.8888888888888888,\"#fdca26\"],[1.0,\"#f0f921\"]],\"sequentialminus\":[[0.0,\"#0d0887\"],[0.1111111111111111,\"#46039f\"],[0.2222222222222222,\"#7201a8\"],[0.3333333333333333,\"#9c179e\"],[0.4444444444444444,\"#bd3786\"],[0.5555555555555556,\"#d8576b\"],[0.6666666666666666,\"#ed7953\"],[0.7777777777777778,\"#fb9f3a\"],[0.8888888888888888,\"#fdca26\"],[1.0,\"#f0f921\"]]},\"colorway\":[\"#636efa\",\"#EF553B\",\"#00cc96\",\"#ab63fa\",\"#FFA15A\",\"#19d3f3\",\"#FF6692\",\"#B6E880\",\"#FF97FF\",\"#FECB52\"],\"font\":{\"color\":\"#2a3f5f\"},\"geo\":{\"bgcolor\":\"white\",\"lakecolor\":\"white\",\"landcolor\":\"#E5ECF6\",\"showlakes\":true,\"showland\":true,\"subunitcolor\":\"white\"},\"hoverlabel\":{\"align\":\"left\"},\"hovermode\":\"closest\",\"mapbox\":{\"style\":\"light\"},\"paper_bgcolor\":\"white\",\"plot_bgcolor\":\"#E5ECF6\",\"polar\":{\"angularaxis\":{\"gridcolor\":\"white\",\"linecolor\":\"white\",\"ticks\":\"\"},\"bgcolor\":\"#E5ECF6\",\"radialaxis\":{\"gridcolor\":\"white\",\"linecolor\":\"white\",\"ticks\":\"\"}},\"scene\":{\"xaxis\":{\"backgroundcolor\":\"#E5ECF6\",\"gridcolor\":\"white\",\"gridwidth\":2,\"linecolor\":\"white\",\"showbackground\":true,\"ticks\":\"\",\"zerolinecolor\":\"white\"},\"yaxis\":{\"backgroundcolor\":\"#E5ECF6\",\"gridcolor\":\"white\",\"gridwidth\":2,\"linecolor\":\"white\",\"showbackground\":true,\"ticks\":\"\",\"zerolinecolor\":\"white\"},\"zaxis\":{\"backgroundcolor\":\"#E5ECF6\",\"gridcolor\":\"white\",\"gridwidth\":2,\"linecolor\":\"white\",\"showbackground\":true,\"ticks\":\"\",\"zerolinecolor\":\"white\"}},\"shapedefaults\":{\"line\":{\"color\":\"#2a3f5f\"}},\"ternary\":{\"aaxis\":{\"gridcolor\":\"white\",\"linecolor\":\"white\",\"ticks\":\"\"},\"baxis\":{\"gridcolor\":\"white\",\"linecolor\":\"white\",\"ticks\":\"\"},\"bgcolor\":\"#E5ECF6\",\"caxis\":{\"gridcolor\":\"white\",\"linecolor\":\"white\",\"ticks\":\"\"}},\"title\":{\"x\":0.05},\"xaxis\":{\"automargin\":true,\"gridcolor\":\"white\",\"linecolor\":\"white\",\"ticks\":\"\",\"title\":{\"standoff\":15},\"zerolinecolor\":\"white\",\"zerolinewidth\":2},\"yaxis\":{\"automargin\":true,\"gridcolor\":\"white\",\"linecolor\":\"white\",\"ticks\":\"\",\"title\":{\"standoff\":15},\"zerolinecolor\":\"white\",\"zerolinewidth\":2}}}},                        {\"responsive\": true}                    ).then(function(){\n",
              "                            \n",
              "var gd = document.getElementById('fb37119e-4f8a-41c2-bbf6-d0e388da2e77');\n",
              "var x = new MutationObserver(function (mutations, observer) {{\n",
              "        var display = window.getComputedStyle(gd).display;\n",
              "        if (!display || display === 'none') {{\n",
              "            console.log([gd, 'removed!']);\n",
              "            Plotly.purge(gd);\n",
              "            observer.disconnect();\n",
              "        }}\n",
              "}});\n",
              "\n",
              "// Listen for the removal of the full notebook cells\n",
              "var notebookContainer = gd.closest('#notebook-container');\n",
              "if (notebookContainer) {{\n",
              "    x.observe(notebookContainer, {childList: true});\n",
              "}}\n",
              "\n",
              "// Listen for the clearing of the current output cell\n",
              "var outputEl = gd.closest('.output');\n",
              "if (outputEl) {{\n",
              "    x.observe(outputEl, {childList: true});\n",
              "}}\n",
              "\n",
              "                        })                };                            </script>        </div>\n",
              "</body>\n",
              "</html>"
            ]
          },
          "metadata": {}
        }
      ]
    },
    {
      "cell_type": "code",
      "source": [
        "labels = {'TV Shows', 'Movies'}\n",
        "count = [1052, 398]\n",
        "plt.figure(figsize = (9,5))\n",
        "explode = (0.1,0)\n",
        "plt.pie(count, explode = explode, labels = labels, autopct = '%.2f%%', startangle = 90, shadow = True)\n",
        "plt.title('Movies and TV Shows')\n",
        "plt.show()"
      ],
      "metadata": {
        "colab": {
          "base_uri": "https://localhost:8080/",
          "height": 319
        },
        "id": "egvH_hqMqdkB",
        "outputId": "ee565e97-026d-4760-b27a-3f5938429fc7"
      },
      "execution_count": 17,
      "outputs": [
        {
          "output_type": "display_data",
          "data": {
            "image/png": "[encoded data removed]",
            "text/plain": [
              "<Figure size 648x360 with 1 Axes>"
            ]
          },
          "metadata": {}
        }
      ]
    },
    {
      "cell_type": "code",
      "source": [
        "Movie = disney_plus_titles_df.groupby(['type']).count()\n",
        "print(Movie)"
      ],
      "metadata": {
        "colab": {
          "base_uri": "https://localhost:8080/"
        },
        "id": "RQEhxDMMhhsJ",
        "outputId": "08d3b20f-fe62-450a-dec9-388efb1d54b8"
      },
      "execution_count": 18,
      "outputs": [
        {
          "output_type": "stream",
          "name": "stdout",
          "text": [
            "         show_id  title  director  ...  duration  listed_in  description\n",
            "type                               ...                                  \n",
            "Movie       1052   1052       977  ...      1052       1052         1052\n",
            "TV Show      398    398         0  ...       398        398          398\n",
            "\n",
            "[2 rows x 11 columns]\n"
          ]
        }
      ]
    },
    {
      "cell_type": "code",
      "source": [
        "#In order to have the dataset more clear, we keep only the columns we need\n",
        "disney_2021 = disney_plus_titles_df.drop(columns=['show_id', 'title', 'director', 'cast', 'country', 'date_added', 'rating', 'duration', 'listed_in', 'description'])\n",
        "disney_2021"
      ],
      "metadata": {
        "colab": {
          "base_uri": "https://localhost:8080/",
          "height": 419
        },
        "id": "u0LEcSWNiFa9",
        "outputId": "63c13c75-e3ed-47bf-edf4-83fe6deb657c"
      },
      "execution_count": 19,
      "outputs": [
        {
          "output_type": "execute_result",
          "data": {
            "text/html": [
              "\n",
              "  <div id=\"df-a8de1bf1-2119-498a-981a-7b08086de0ea\">\n",
              "    <div class=\"colab-df-container\">\n",
              "      <div>\n",
              "<style scoped>\n",
              "    .dataframe tbody tr th:only-of-type {\n",
              "        vertical-align: middle;\n",
              "    }\n",
              "\n",
              "    .dataframe tbody tr th {\n",
              "        vertical-align: top;\n",
              "    }\n",
              "\n",
              "    .dataframe thead th {\n",
              "        text-align: right;\n",
              "    }\n",
              "</style>\n",
              "<table border=\"1\" class=\"dataframe\">\n",
              "  <thead>\n",
              "    <tr style=\"text-align: right;\">\n",
              "      <th></th>\n",
              "      <th>type</th>\n",
              "      <th>release_year</th>\n",
              "    </tr>\n",
              "  </thead>\n",
              "  <tbody>\n",
              "    <tr>\n",
              "      <th>0</th>\n",
              "      <td>Movie</td>\n",
              "      <td>2016</td>\n",
              "    </tr>\n",
              "    <tr>\n",
              "      <th>1</th>\n",
              "      <td>Movie</td>\n",
              "      <td>1988</td>\n",
              "    </tr>\n",
              "    <tr>\n",
              "      <th>2</th>\n",
              "      <td>Movie</td>\n",
              "      <td>2011</td>\n",
              "    </tr>\n",
              "    <tr>\n",
              "      <th>3</th>\n",
              "      <td>Movie</td>\n",
              "      <td>2021</td>\n",
              "    </tr>\n",
              "    <tr>\n",
              "      <th>4</th>\n",
              "      <td>TV Show</td>\n",
              "      <td>2021</td>\n",
              "    </tr>\n",
              "    <tr>\n",
              "      <th>...</th>\n",
              "      <td>...</td>\n",
              "      <td>...</td>\n",
              "    </tr>\n",
              "    <tr>\n",
              "      <th>1445</th>\n",
              "      <td>Movie</td>\n",
              "      <td>2009</td>\n",
              "    </tr>\n",
              "    <tr>\n",
              "      <th>1446</th>\n",
              "      <td>Movie</td>\n",
              "      <td>2009</td>\n",
              "    </tr>\n",
              "    <tr>\n",
              "      <th>1447</th>\n",
              "      <td>Movie</td>\n",
              "      <td>2016</td>\n",
              "    </tr>\n",
              "    <tr>\n",
              "      <th>1448</th>\n",
              "      <td>Movie</td>\n",
              "      <td>2003</td>\n",
              "    </tr>\n",
              "    <tr>\n",
              "      <th>1449</th>\n",
              "      <td>Movie</td>\n",
              "      <td>2012</td>\n",
              "    </tr>\n",
              "  </tbody>\n",
              "</table>\n",
              "<p>1450 rows × 2 columns</p>\n",
              "</div>\n",
              "      <button class=\"colab-df-convert\" onclick=\"convertToInteractive('df-a8de1bf1-2119-498a-981a-7b08086de0ea')\"\n",
              "              title=\"Convert this dataframe to an interactive table.\"\n",
              "              style=\"display:none;\">\n",
              "        \n",
              "  <svg xmlns=\"http://www.w3.org/2000/svg\" height=\"24px\"viewBox=\"0 0 24 24\"\n",
              "       width=\"24px\">\n",
              "    <path d=\"M0 0h24v24H0V0z\" fill=\"none\"/>\n",
              "    <path d=\"M18.56 5.44l.94 2.06.94-2.06 2.06-.94-2.06-.94-.94-2.06-.94 2.06-2.06.94zm-11 1L8.5 8.5l.94-2.06 2.06-.94-2.06-.94L8.5 2.5l-.94 2.06-2.06.94zm10 10l.94 2.06.94-2.06 2.06-.94-2.06-.94-.94-2.06-.94 2.06-2.06.94z\"/><path d=\"M17.41 7.96l-1.37-1.37c-.4-.4-.92-.59-1.43-.59-.52 0-1.04.2-1.43.59L10.3 9.45l-7.72 7.72c-.78.78-.78 2.05 0 2.83L4 21.41c.39.39.9.59 1.41.59.51 0 1.02-.2 1.41-.59l7.78-7.78 2.81-2.81c.8-.78.8-2.07 0-2.86zM5.41 20L4 18.59l7.72-7.72 1.47 1.35L5.41 20z\"/>\n",
              "  </svg>\n",
              "      </button>\n",
              "      \n",
              "  <style>\n",
              "    .colab-df-container {\n",
              "      display:flex;\n",
              "      flex-wrap:wrap;\n",
              "      gap: 12px;\n",
              "    }\n",
              "\n",
              "    .colab-df-convert {\n",
              "      background-color: #E8F0FE;\n",
              "      border: none;\n",
              "      border-radius: 50%;\n",
              "      cursor: pointer;\n",
              "      display: none;\n",
              "      fill: #1967D2;\n",
              "      height: 32px;\n",
              "      padding: 0 0 0 0;\n",
              "      width: 32px;\n",
              "    }\n",
              "\n",
              "    .colab-df-convert:hover {\n",
              "      background-color: #E2EBFA;\n",
              "      box-shadow: 0px 1px 2px rgba(60, 64, 67, 0.3), 0px 1px 3px 1px rgba(60, 64, 67, 0.15);\n",
              "      fill: #174EA6;\n",
              "    }\n",
              "\n",
              "    [theme=dark] .colab-df-convert {\n",
              "      background-color: #3B4455;\n",
              "      fill: #D2E3FC;\n",
              "    }\n",
              "\n",
              "    [theme=dark] .colab-df-convert:hover {\n",
              "      background-color: #434B5C;\n",
              "      box-shadow: 0px 1px 3px 1px rgba(0, 0, 0, 0.15);\n",
              "      filter: drop-shadow(0px 1px 2px rgba(0, 0, 0, 0.3));\n",
              "      fill: #FFFFFF;\n",
              "    }\n",
              "  </style>\n",
              "\n",
              "      <script>\n",
              "        const buttonEl =\n",
              "          document.querySelector('#df-a8de1bf1-2119-498a-981a-7b08086de0ea button.colab-df-convert');\n",
              "        buttonEl.style.display =\n",
              "          google.colab.kernel.accessAllowed ? 'block' : 'none';\n",
              "\n",
              "        async function convertToInteractive(key) {\n",
              "          const element = document.querySelector('#df-a8de1bf1-2119-498a-981a-7b08086de0ea');\n",
              "          const dataTable =\n",
              "            await google.colab.kernel.invokeFunction('convertToInteractive',\n",
              "                                                     [key], {});\n",
              "          if (!dataTable) return;\n",
              "\n",
              "          const docLinkHtml = 'Like what you see? Visit the ' +\n",
              "            '<a target=\"_blank\" href=https://colab.research.google.com/notebooks/data_table.ipynb>data table notebook</a>'\n",
              "            + ' to learn more about interactive tables.';\n",
              "          element.innerHTML = '';\n",
              "          dataTable['output_type'] = 'display_data';\n",
              "          await google.colab.output.renderOutput(dataTable, element);\n",
              "          const docLink = document.createElement('div');\n",
              "          docLink.innerHTML = docLinkHtml;\n",
              "          element.appendChild(docLink);\n",
              "        }\n",
              "      </script>\n",
              "    </div>\n",
              "  </div>\n",
              "  "
            ],
            "text/plain": [
              "         type  release_year\n",
              "0       Movie          2016\n",
              "1       Movie          1988\n",
              "2       Movie          2011\n",
              "3       Movie          2021\n",
              "4     TV Show          2021\n",
              "...       ...           ...\n",
              "1445    Movie          2009\n",
              "1446    Movie          2009\n",
              "1447    Movie          2016\n",
              "1448    Movie          2003\n",
              "1449    Movie          2012\n",
              "\n",
              "[1450 rows x 2 columns]"
            ]
          },
          "metadata": {},
          "execution_count": 19
        }
      ]
    },
    {
      "cell_type": "code",
      "source": [
        "#Now it's analyze the release year\n",
        "disney_2021.sort_values('release_year')"
      ],
      "metadata": {
        "colab": {
          "base_uri": "https://localhost:8080/",
          "height": 419
        },
        "id": "WdGJV6XblbBH",
        "outputId": "6345fb19-0156-4b7f-ffe4-9d20e1f15b7b"
      },
      "execution_count": 20,
      "outputs": [
        {
          "output_type": "execute_result",
          "data": {
            "text/html": [
              "\n",
              "  <div id=\"df-b50522cb-f15e-478b-b9f1-58260e498e30\">\n",
              "    <div class=\"colab-df-container\">\n",
              "      <div>\n",
              "<style scoped>\n",
              "    .dataframe tbody tr th:only-of-type {\n",
              "        vertical-align: middle;\n",
              "    }\n",
              "\n",
              "    .dataframe tbody tr th {\n",
              "        vertical-align: top;\n",
              "    }\n",
              "\n",
              "    .dataframe thead th {\n",
              "        text-align: right;\n",
              "    }\n",
              "</style>\n",
              "<table border=\"1\" class=\"dataframe\">\n",
              "  <thead>\n",
              "    <tr style=\"text-align: right;\">\n",
              "      <th></th>\n",
              "      <th>type</th>\n",
              "      <th>release_year</th>\n",
              "    </tr>\n",
              "  </thead>\n",
              "  <tbody>\n",
              "    <tr>\n",
              "      <th>1220</th>\n",
              "      <td>Movie</td>\n",
              "      <td>1928</td>\n",
              "    </tr>\n",
              "    <tr>\n",
              "      <th>893</th>\n",
              "      <td>Movie</td>\n",
              "      <td>1932</td>\n",
              "    </tr>\n",
              "    <tr>\n",
              "      <th>1178</th>\n",
              "      <td>Movie</td>\n",
              "      <td>1932</td>\n",
              "    </tr>\n",
              "    <tr>\n",
              "      <th>736</th>\n",
              "      <td>Movie</td>\n",
              "      <td>1932</td>\n",
              "    </tr>\n",
              "    <tr>\n",
              "      <th>1317</th>\n",
              "      <td>Movie</td>\n",
              "      <td>1933</td>\n",
              "    </tr>\n",
              "    <tr>\n",
              "      <th>...</th>\n",
              "      <td>...</td>\n",
              "      <td>...</td>\n",
              "    </tr>\n",
              "    <tr>\n",
              "      <th>148</th>\n",
              "      <td>TV Show</td>\n",
              "      <td>2021</td>\n",
              "    </tr>\n",
              "    <tr>\n",
              "      <th>145</th>\n",
              "      <td>TV Show</td>\n",
              "      <td>2021</td>\n",
              "    </tr>\n",
              "    <tr>\n",
              "      <th>143</th>\n",
              "      <td>Movie</td>\n",
              "      <td>2021</td>\n",
              "    </tr>\n",
              "    <tr>\n",
              "      <th>139</th>\n",
              "      <td>Movie</td>\n",
              "      <td>2021</td>\n",
              "    </tr>\n",
              "    <tr>\n",
              "      <th>158</th>\n",
              "      <td>TV Show</td>\n",
              "      <td>2021</td>\n",
              "    </tr>\n",
              "  </tbody>\n",
              "</table>\n",
              "<p>1450 rows × 2 columns</p>\n",
              "</div>\n",
              "      <button class=\"colab-df-convert\" onclick=\"convertToInteractive('df-b50522cb-f15e-478b-b9f1-58260e498e30')\"\n",
              "              title=\"Convert this dataframe to an interactive table.\"\n",
              "              style=\"display:none;\">\n",
              "        \n",
              "  <svg xmlns=\"http://www.w3.org/2000/svg\" height=\"24px\"viewBox=\"0 0 24 24\"\n",
              "       width=\"24px\">\n",
              "    <path d=\"M0 0h24v24H0V0z\" fill=\"none\"/>\n",
              "    <path d=\"M18.56 5.44l.94 2.06.94-2.06 2.06-.94-2.06-.94-.94-2.06-.94 2.06-2.06.94zm-11 1L8.5 8.5l.94-2.06 2.06-.94-2.06-.94L8.5 2.5l-.94 2.06-2.06.94zm10 10l.94 2.06.94-2.06 2.06-.94-2.06-.94-.94-2.06-.94 2.06-2.06.94z\"/><path d=\"M17.41 7.96l-1.37-1.37c-.4-.4-.92-.59-1.43-.59-.52 0-1.04.2-1.43.59L10.3 9.45l-7.72 7.72c-.78.78-.78 2.05 0 2.83L4 21.41c.39.39.9.59 1.41.59.51 0 1.02-.2 1.41-.59l7.78-7.78 2.81-2.81c.8-.78.8-2.07 0-2.86zM5.41 20L4 18.59l7.72-7.72 1.47 1.35L5.41 20z\"/>\n",
              "  </svg>\n",
              "      </button>\n",
              "      \n",
              "  <style>\n",
              "    .colab-df-container {\n",
              "      display:flex;\n",
              "      flex-wrap:wrap;\n",
              "      gap: 12px;\n",
              "    }\n",
              "\n",
              "    .colab-df-convert {\n",
              "      background-color: #E8F0FE;\n",
              "      border: none;\n",
              "      border-radius: 50%;\n",
              "      cursor: pointer;\n",
              "      display: none;\n",
              "      fill: #1967D2;\n",
              "      height: 32px;\n",
              "      padding: 0 0 0 0;\n",
              "      width: 32px;\n",
              "    }\n",
              "\n",
              "    .colab-df-convert:hover {\n",
              "      background-color: #E2EBFA;\n",
              "      box-shadow: 0px 1px 2px rgba(60, 64, 67, 0.3), 0px 1px 3px 1px rgba(60, 64, 67, 0.15);\n",
              "      fill: #174EA6;\n",
              "    }\n",
              "\n",
              "    [theme=dark] .colab-df-convert {\n",
              "      background-color: #3B4455;\n",
              "      fill: #D2E3FC;\n",
              "    }\n",
              "\n",
              "    [theme=dark] .colab-df-convert:hover {\n",
              "      background-color: #434B5C;\n",
              "      box-shadow: 0px 1px 3px 1px rgba(0, 0, 0, 0.15);\n",
              "      filter: drop-shadow(0px 1px 2px rgba(0, 0, 0, 0.3));\n",
              "      fill: #FFFFFF;\n",
              "    }\n",
              "  </style>\n",
              "\n",
              "      <script>\n",
              "        const buttonEl =\n",
              "          document.querySelector('#df-b50522cb-f15e-478b-b9f1-58260e498e30 button.colab-df-convert');\n",
              "        buttonEl.style.display =\n",
              "          google.colab.kernel.accessAllowed ? 'block' : 'none';\n",
              "\n",
              "        async function convertToInteractive(key) {\n",
              "          const element = document.querySelector('#df-b50522cb-f15e-478b-b9f1-58260e498e30');\n",
              "          const dataTable =\n",
              "            await google.colab.kernel.invokeFunction('convertToInteractive',\n",
              "                                                     [key], {});\n",
              "          if (!dataTable) return;\n",
              "\n",
              "          const docLinkHtml = 'Like what you see? Visit the ' +\n",
              "            '<a target=\"_blank\" href=https://colab.research.google.com/notebooks/data_table.ipynb>data table notebook</a>'\n",
              "            + ' to learn more about interactive tables.';\n",
              "          element.innerHTML = '';\n",
              "          dataTable['output_type'] = 'display_data';\n",
              "          await google.colab.output.renderOutput(dataTable, element);\n",
              "          const docLink = document.createElement('div');\n",
              "          docLink.innerHTML = docLinkHtml;\n",
              "          element.appendChild(docLink);\n",
              "        }\n",
              "      </script>\n",
              "    </div>\n",
              "  </div>\n",
              "  "
            ],
            "text/plain": [
              "         type  release_year\n",
              "1220    Movie          1928\n",
              "893     Movie          1932\n",
              "1178    Movie          1932\n",
              "736     Movie          1932\n",
              "1317    Movie          1933\n",
              "...       ...           ...\n",
              "148   TV Show          2021\n",
              "145   TV Show          2021\n",
              "143     Movie          2021\n",
              "139     Movie          2021\n",
              "158   TV Show          2021\n",
              "\n",
              "[1450 rows x 2 columns]"
            ]
          },
          "metadata": {},
          "execution_count": 20
        }
      ]
    },
    {
      "cell_type": "code",
      "source": [
        "disney_2021['release_year'].value_counts()"
      ],
      "metadata": {
        "colab": {
          "base_uri": "https://localhost:8080/"
        },
        "id": "9ncTQ-c9l7Qw",
        "outputId": "82943849-2ff6-4cfe-ce77-0571e1687196"
      },
      "execution_count": 21,
      "outputs": [
        {
          "output_type": "execute_result",
          "data": {
            "text/plain": [
              "2021    125\n",
              "2020    114\n",
              "2019     99\n",
              "2017     69\n",
              "2018     65\n",
              "       ... \n",
              "1928      1\n",
              "1944      1\n",
              "1970      1\n",
              "1945      1\n",
              "1968      1\n",
              "Name: release_year, Length: 90, dtype: int64"
            ]
          },
          "metadata": {},
          "execution_count": 21
        }
      ]
    },
    {
      "cell_type": "code",
      "source": [
        "disney_2021['release_year'].describe()"
      ],
      "metadata": {
        "colab": {
          "base_uri": "https://localhost:8080/"
        },
        "id": "mTVEpzDO7Dnh",
        "outputId": "e420f057-648a-46c5-83c9-d43fba04418e"
      },
      "execution_count": 22,
      "outputs": [
        {
          "output_type": "execute_result",
          "data": {
            "text/plain": [
              "count    1450.000000\n",
              "mean     2003.091724\n",
              "std        21.860162\n",
              "min      1928.000000\n",
              "25%      1999.000000\n",
              "50%      2011.000000\n",
              "75%      2018.000000\n",
              "max      2021.000000\n",
              "Name: release_year, dtype: float64"
            ]
          },
          "metadata": {},
          "execution_count": 22
        }
      ]
    },
    {
      "cell_type": "code",
      "source": [
        "mask_relaese_year = disney_2021['release_year'] == 2021"
      ],
      "metadata": {
        "id": "QEoBBtC586dA"
      },
      "execution_count": 23,
      "outputs": []
    },
    {
      "cell_type": "code",
      "source": [
        "disney_count = disney_2021[mask_relaese_year].groupby(['type']).count()\n",
        "print('In the last year were released')\n",
        "print(disney_count)"
      ],
      "metadata": {
        "colab": {
          "base_uri": "https://localhost:8080/"
        },
        "id": "zYgXcN_O2xdh",
        "outputId": "ec7877bc-73af-468e-aeb9-d64972d49f49"
      },
      "execution_count": 24,
      "outputs": [
        {
          "output_type": "stream",
          "name": "stdout",
          "text": [
            "In the last year were released\n",
            "         release_year\n",
            "type                 \n",
            "Movie              70\n",
            "TV Show            55\n"
          ]
        }
      ]
    },
    {
      "cell_type": "code",
      "source": [
        "#In which month were added more products?\n",
        "disney_date = disney_plus_titles_df['date_added']\n",
        "disney_date.to_frame()"
      ],
      "metadata": {
        "colab": {
          "base_uri": "https://localhost:8080/",
          "height": 419
        },
        "id": "GqRVCqbqyBjk",
        "outputId": "3a5452e2-0388-4e27-eda9-3bda57d1f8e0"
      },
      "execution_count": 25,
      "outputs": [
        {
          "output_type": "execute_result",
          "data": {
            "text/html": [
              "\n",
              "  <div id=\"df-146c53ad-1895-4757-8a56-e904ab32782e\">\n",
              "    <div class=\"colab-df-container\">\n",
              "      <div>\n",
              "<style scoped>\n",
              "    .dataframe tbody tr th:only-of-type {\n",
              "        vertical-align: middle;\n",
              "    }\n",
              "\n",
              "    .dataframe tbody tr th {\n",
              "        vertical-align: top;\n",
              "    }\n",
              "\n",
              "    .dataframe thead th {\n",
              "        text-align: right;\n",
              "    }\n",
              "</style>\n",
              "<table border=\"1\" class=\"dataframe\">\n",
              "  <thead>\n",
              "    <tr style=\"text-align: right;\">\n",
              "      <th></th>\n",
              "      <th>date_added</th>\n",
              "    </tr>\n",
              "  </thead>\n",
              "  <tbody>\n",
              "    <tr>\n",
              "      <th>0</th>\n",
              "      <td>November 26, 2021</td>\n",
              "    </tr>\n",
              "    <tr>\n",
              "      <th>1</th>\n",
              "      <td>November 26, 2021</td>\n",
              "    </tr>\n",
              "    <tr>\n",
              "      <th>2</th>\n",
              "      <td>November 26, 2021</td>\n",
              "    </tr>\n",
              "    <tr>\n",
              "      <th>3</th>\n",
              "      <td>November 26, 2021</td>\n",
              "    </tr>\n",
              "    <tr>\n",
              "      <th>4</th>\n",
              "      <td>November 25, 2021</td>\n",
              "    </tr>\n",
              "    <tr>\n",
              "      <th>...</th>\n",
              "      <td>...</td>\n",
              "    </tr>\n",
              "    <tr>\n",
              "      <th>1445</th>\n",
              "      <td>June 4, 2021</td>\n",
              "    </tr>\n",
              "    <tr>\n",
              "      <th>1446</th>\n",
              "      <td>April 2, 2021</td>\n",
              "    </tr>\n",
              "    <tr>\n",
              "      <th>1447</th>\n",
              "      <td>December 18, 2020</td>\n",
              "    </tr>\n",
              "    <tr>\n",
              "      <th>1448</th>\n",
              "      <td>September 18, 2020</td>\n",
              "    </tr>\n",
              "    <tr>\n",
              "      <th>1449</th>\n",
              "      <td>April 1, 2020</td>\n",
              "    </tr>\n",
              "  </tbody>\n",
              "</table>\n",
              "<p>1450 rows × 1 columns</p>\n",
              "</div>\n",
              "      <button class=\"colab-df-convert\" onclick=\"convertToInteractive('df-146c53ad-1895-4757-8a56-e904ab32782e')\"\n",
              "              title=\"Convert this dataframe to an interactive table.\"\n",
              "              style=\"display:none;\">\n",
              "        \n",
              "  <svg xmlns=\"http://www.w3.org/2000/svg\" height=\"24px\"viewBox=\"0 0 24 24\"\n",
              "       width=\"24px\">\n",
              "    <path d=\"M0 0h24v24H0V0z\" fill=\"none\"/>\n",
              "    <path d=\"M18.56 5.44l.94 2.06.94-2.06 2.06-.94-2.06-.94-.94-2.06-.94 2.06-2.06.94zm-11 1L8.5 8.5l.94-2.06 2.06-.94-2.06-.94L8.5 2.5l-.94 2.06-2.06.94zm10 10l.94 2.06.94-2.06 2.06-.94-2.06-.94-.94-2.06-.94 2.06-2.06.94z\"/><path d=\"M17.41 7.96l-1.37-1.37c-.4-.4-.92-.59-1.43-.59-.52 0-1.04.2-1.43.59L10.3 9.45l-7.72 7.72c-.78.78-.78 2.05 0 2.83L4 21.41c.39.39.9.59 1.41.59.51 0 1.02-.2 1.41-.59l7.78-7.78 2.81-2.81c.8-.78.8-2.07 0-2.86zM5.41 20L4 18.59l7.72-7.72 1.47 1.35L5.41 20z\"/>\n",
              "  </svg>\n",
              "      </button>\n",
              "      \n",
              "  <style>\n",
              "    .colab-df-container {\n",
              "      display:flex;\n",
              "      flex-wrap:wrap;\n",
              "      gap: 12px;\n",
              "    }\n",
              "\n",
              "    .colab-df-convert {\n",
              "      background-color: #E8F0FE;\n",
              "      border: none;\n",
              "      border-radius: 50%;\n",
              "      cursor: pointer;\n",
              "      display: none;\n",
              "      fill: #1967D2;\n",
              "      height: 32px;\n",
              "      padding: 0 0 0 0;\n",
              "      width: 32px;\n",
              "    }\n",
              "\n",
              "    .colab-df-convert:hover {\n",
              "      background-color: #E2EBFA;\n",
              "      box-shadow: 0px 1px 2px rgba(60, 64, 67, 0.3), 0px 1px 3px 1px rgba(60, 64, 67, 0.15);\n",
              "      fill: #174EA6;\n",
              "    }\n",
              "\n",
              "    [theme=dark] .colab-df-convert {\n",
              "      background-color: #3B4455;\n",
              "      fill: #D2E3FC;\n",
              "    }\n",
              "\n",
              "    [theme=dark] .colab-df-convert:hover {\n",
              "      background-color: #434B5C;\n",
              "      box-shadow: 0px 1px 3px 1px rgba(0, 0, 0, 0.15);\n",
              "      filter: drop-shadow(0px 1px 2px rgba(0, 0, 0, 0.3));\n",
              "      fill: #FFFFFF;\n",
              "    }\n",
              "  </style>\n",
              "\n",
              "      <script>\n",
              "        const buttonEl =\n",
              "          document.querySelector('#df-146c53ad-1895-4757-8a56-e904ab32782e button.colab-df-convert');\n",
              "        buttonEl.style.display =\n",
              "          google.colab.kernel.accessAllowed ? 'block' : 'none';\n",
              "\n",
              "        async function convertToInteractive(key) {\n",
              "          const element = document.querySelector('#df-146c53ad-1895-4757-8a56-e904ab32782e');\n",
              "          const dataTable =\n",
              "            await google.colab.kernel.invokeFunction('convertToInteractive',\n",
              "                                                     [key], {});\n",
              "          if (!dataTable) return;\n",
              "\n",
              "          const docLinkHtml = 'Like what you see? Visit the ' +\n",
              "            '<a target=\"_blank\" href=https://colab.research.google.com/notebooks/data_table.ipynb>data table notebook</a>'\n",
              "            + ' to learn more about interactive tables.';\n",
              "          element.innerHTML = '';\n",
              "          dataTable['output_type'] = 'display_data';\n",
              "          await google.colab.output.renderOutput(dataTable, element);\n",
              "          const docLink = document.createElement('div');\n",
              "          docLink.innerHTML = docLinkHtml;\n",
              "          element.appendChild(docLink);\n",
              "        }\n",
              "      </script>\n",
              "    </div>\n",
              "  </div>\n",
              "  "
            ],
            "text/plain": [
              "              date_added\n",
              "0      November 26, 2021\n",
              "1      November 26, 2021\n",
              "2      November 26, 2021\n",
              "3      November 26, 2021\n",
              "4      November 25, 2021\n",
              "...                  ...\n",
              "1445        June 4, 2021\n",
              "1446       April 2, 2021\n",
              "1447   December 18, 2020\n",
              "1448  September 18, 2020\n",
              "1449       April 1, 2020\n",
              "\n",
              "[1450 rows x 1 columns]"
            ]
          },
          "metadata": {},
          "execution_count": 25
        }
      ]
    },
    {
      "cell_type": "code",
      "source": [
        "#To better analyze the dates, the the strings are changed into numbers\n",
        "disney_nr = disney_plus_titles_df['date_added'] = pd.to_datetime(disney_plus_titles_df['date_added'], format = \"%B %d, %Y\")\n",
        "disney_nr.dropna(inplace = True)\n",
        "disney_nr.to_frame()"
      ],
      "metadata": {
        "colab": {
          "base_uri": "https://localhost:8080/",
          "height": 419
        },
        "id": "QXn5dGN06fnN",
        "outputId": "0a5c5682-dbab-4296-d4eb-d5c9c31e025f"
      },
      "execution_count": 26,
      "outputs": [
        {
          "output_type": "execute_result",
          "data": {
            "text/html": [
              "\n",
              "  <div id=\"df-70178d1a-73f4-4de0-b4a4-7a2102dc5262\">\n",
              "    <div class=\"colab-df-container\">\n",
              "      <div>\n",
              "<style scoped>\n",
              "    .dataframe tbody tr th:only-of-type {\n",
              "        vertical-align: middle;\n",
              "    }\n",
              "\n",
              "    .dataframe tbody tr th {\n",
              "        vertical-align: top;\n",
              "    }\n",
              "\n",
              "    .dataframe thead th {\n",
              "        text-align: right;\n",
              "    }\n",
              "</style>\n",
              "<table border=\"1\" class=\"dataframe\">\n",
              "  <thead>\n",
              "    <tr style=\"text-align: right;\">\n",
              "      <th></th>\n",
              "      <th>date_added</th>\n",
              "    </tr>\n",
              "  </thead>\n",
              "  <tbody>\n",
              "    <tr>\n",
              "      <th>0</th>\n",
              "      <td>2021-11-26</td>\n",
              "    </tr>\n",
              "    <tr>\n",
              "      <th>1</th>\n",
              "      <td>2021-11-26</td>\n",
              "    </tr>\n",
              "    <tr>\n",
              "      <th>2</th>\n",
              "      <td>2021-11-26</td>\n",
              "    </tr>\n",
              "    <tr>\n",
              "      <th>3</th>\n",
              "      <td>2021-11-26</td>\n",
              "    </tr>\n",
              "    <tr>\n",
              "      <th>4</th>\n",
              "      <td>2021-11-25</td>\n",
              "    </tr>\n",
              "    <tr>\n",
              "      <th>...</th>\n",
              "      <td>...</td>\n",
              "    </tr>\n",
              "    <tr>\n",
              "      <th>1445</th>\n",
              "      <td>2021-06-04</td>\n",
              "    </tr>\n",
              "    <tr>\n",
              "      <th>1446</th>\n",
              "      <td>2021-04-02</td>\n",
              "    </tr>\n",
              "    <tr>\n",
              "      <th>1447</th>\n",
              "      <td>2020-12-18</td>\n",
              "    </tr>\n",
              "    <tr>\n",
              "      <th>1448</th>\n",
              "      <td>2020-09-18</td>\n",
              "    </tr>\n",
              "    <tr>\n",
              "      <th>1449</th>\n",
              "      <td>2020-04-01</td>\n",
              "    </tr>\n",
              "  </tbody>\n",
              "</table>\n",
              "<p>1447 rows × 1 columns</p>\n",
              "</div>\n",
              "      <button class=\"colab-df-convert\" onclick=\"convertToInteractive('df-70178d1a-73f4-4de0-b4a4-7a2102dc5262')\"\n",
              "              title=\"Convert this dataframe to an interactive table.\"\n",
              "              style=\"display:none;\">\n",
              "        \n",
              "  <svg xmlns=\"http://www.w3.org/2000/svg\" height=\"24px\"viewBox=\"0 0 24 24\"\n",
              "       width=\"24px\">\n",
              "    <path d=\"M0 0h24v24H0V0z\" fill=\"none\"/>\n",
              "    <path d=\"M18.56 5.44l.94 2.06.94-2.06 2.06-.94-2.06-.94-.94-2.06-.94 2.06-2.06.94zm-11 1L8.5 8.5l.94-2.06 2.06-.94-2.06-.94L8.5 2.5l-.94 2.06-2.06.94zm10 10l.94 2.06.94-2.06 2.06-.94-2.06-.94-.94-2.06-.94 2.06-2.06.94z\"/><path d=\"M17.41 7.96l-1.37-1.37c-.4-.4-.92-.59-1.43-.59-.52 0-1.04.2-1.43.59L10.3 9.45l-7.72 7.72c-.78.78-.78 2.05 0 2.83L4 21.41c.39.39.9.59 1.41.59.51 0 1.02-.2 1.41-.59l7.78-7.78 2.81-2.81c.8-.78.8-2.07 0-2.86zM5.41 20L4 18.59l7.72-7.72 1.47 1.35L5.41 20z\"/>\n",
              "  </svg>\n",
              "      </button>\n",
              "      \n",
              "  <style>\n",
              "    .colab-df-container {\n",
              "      display:flex;\n",
              "      flex-wrap:wrap;\n",
              "      gap: 12px;\n",
              "    }\n",
              "\n",
              "    .colab-df-convert {\n",
              "      background-color: #E8F0FE;\n",
              "      border: none;\n",
              "      border-radius: 50%;\n",
              "      cursor: pointer;\n",
              "      display: none;\n",
              "      fill: #1967D2;\n",
              "      height: 32px;\n",
              "      padding: 0 0 0 0;\n",
              "      width: 32px;\n",
              "    }\n",
              "\n",
              "    .colab-df-convert:hover {\n",
              "      background-color: #E2EBFA;\n",
              "      box-shadow: 0px 1px 2px rgba(60, 64, 67, 0.3), 0px 1px 3px 1px rgba(60, 64, 67, 0.15);\n",
              "      fill: #174EA6;\n",
              "    }\n",
              "\n",
              "    [theme=dark] .colab-df-convert {\n",
              "      background-color: #3B4455;\n",
              "      fill: #D2E3FC;\n",
              "    }\n",
              "\n",
              "    [theme=dark] .colab-df-convert:hover {\n",
              "      background-color: #434B5C;\n",
              "      box-shadow: 0px 1px 3px 1px rgba(0, 0, 0, 0.15);\n",
              "      filter: drop-shadow(0px 1px 2px rgba(0, 0, 0, 0.3));\n",
              "      fill: #FFFFFF;\n",
              "    }\n",
              "  </style>\n",
              "\n",
              "      <script>\n",
              "        const buttonEl =\n",
              "          document.querySelector('#df-70178d1a-73f4-4de0-b4a4-7a2102dc5262 button.colab-df-convert');\n",
              "        buttonEl.style.display =\n",
              "          google.colab.kernel.accessAllowed ? 'block' : 'none';\n",
              "\n",
              "        async function convertToInteractive(key) {\n",
              "          const element = document.querySelector('#df-70178d1a-73f4-4de0-b4a4-7a2102dc5262');\n",
              "          const dataTable =\n",
              "            await google.colab.kernel.invokeFunction('convertToInteractive',\n",
              "                                                     [key], {});\n",
              "          if (!dataTable) return;\n",
              "\n",
              "          const docLinkHtml = 'Like what you see? Visit the ' +\n",
              "            '<a target=\"_blank\" href=https://colab.research.google.com/notebooks/data_table.ipynb>data table notebook</a>'\n",
              "            + ' to learn more about interactive tables.';\n",
              "          element.innerHTML = '';\n",
              "          dataTable['output_type'] = 'display_data';\n",
              "          await google.colab.output.renderOutput(dataTable, element);\n",
              "          const docLink = document.createElement('div');\n",
              "          docLink.innerHTML = docLinkHtml;\n",
              "          element.appendChild(docLink);\n",
              "        }\n",
              "      </script>\n",
              "    </div>\n",
              "  </div>\n",
              "  "
            ],
            "text/plain": [
              "     date_added\n",
              "0    2021-11-26\n",
              "1    2021-11-26\n",
              "2    2021-11-26\n",
              "3    2021-11-26\n",
              "4    2021-11-25\n",
              "...         ...\n",
              "1445 2021-06-04\n",
              "1446 2021-04-02\n",
              "1447 2020-12-18\n",
              "1448 2020-09-18\n",
              "1449 2020-04-01\n",
              "\n",
              "[1447 rows x 1 columns]"
            ]
          },
          "metadata": {},
          "execution_count": 26
        }
      ]
    },
    {
      "cell_type": "code",
      "source": [
        "#Graphical visualization of the months of publication\n",
        "disney_plus_titles_df['month'] = disney_plus_titles_df['date_added'].dt.month.fillna(0)\n",
        "fig = px.histogram(disney_plus_titles_df['release_year'], color = disney_plus_titles_df['month'], nbins = 100, title = 'Months of publication')\n",
        "fig.show()"
      ],
      "metadata": {
        "colab": {
          "base_uri": "https://localhost:8080/",
          "height": 562
        },
        "id": "9317g_EQ9qan",
        "outputId": "a2dfca8b-d1cb-4649-88ab-b71b143c9ae3"
      },
      "execution_count": 27,
      "outputs": [
        {
          "output_type": "display_data",
          "data": {
            "text/html": [
              "<html>\n",
              "<head><meta charset=\"utf-8\" /></head>\n",
              "<body>\n",
              "    <div>            <script src=\"https://cdnjs.cloudflare.com/ajax/libs/mathjax/2.7.5/MathJax.js?config=TeX-AMS-MML_SVG\"></script><script type=\"text/javascript\">if (window.MathJax) {MathJax.Hub.Config({SVG: {font: \"STIX-Web\"}});}</script>                <script type=\"text/javascript\">window.PlotlyConfig = {MathJaxConfig: 'local'};</script>\n",
              "        <script src=\"https://cdn.plot.ly/plotly-2.8.3.min.js\"></script>                <div id=\"8fee3c6b-7828-4e84-831a-5de7e950bfe8\" class=\"plotly-graph-div\" style=\"height:525px; width:100%;\"></div>            <script type=\"text/javascript\">                                    window.PLOTLYENV=window.PLOTLYENV || {};                                    if (document.getElementById(\"8fee3c6b-7828-4e84-831a-5de7e950bfe8\")) {                    Plotly.newPlot(                        \"8fee3c6b-7828-4e84-831a-5de7e950bfe8\",                        [{\"alignmentgroup\":\"True\",\"bingroup\":\"x\",\"hovertemplate\":\"color=11.0<br>value=%{x}<br>count=%{y}<extra></extra>\",\"legendgroup\":\"11.0\",\"marker\":{\"color\":\"#636efa\",\"pattern\":{\"shape\":\"\"}},\"name\":\"11.0\",\"nbinsx\":100,\"offsetgroup\":\"11.0\",\"orientation\":\"v\",\"showlegend\":true,\"x\":[2016,1988,2011,2021,2021,2021,2021,2015,2019,2008,2020,2020,2007,2013,2021,2021,2021,2018,2021,2007,2014,2015,2013,2021,2021,2021,2021,2021,2021,2012,2021,2021,2021,2012,2011,2006,2021,2021,2021,2010,2021,2021,2011,1996,2014,2010,2009,2008,2009,2010,2011,2018,2017,2021,2014,2020,2020,2013,2016,2020,2019,2020,2013,2014,2020,2020,2020,1990,1992,1997,2020,2019,2019,2009,2019,2015,1997,2009,2011,2017,2017,2019,2019,2019,2017,2019,2019,1999,1961,2003,2000,2011,1954,1998,1995,1995,1946,2002,1992,1996,1994,1951,2005,2000,1962,2004,1981,2000,2016,1999,2019,2017,2003,2001,2018,2009,1932,1961,1942,2006,2018,1939,1955,1998,1997,1955,2016,1987,2015,2017,2014,2017,2009,1994,1938,2008,1948,1993,2004,1993,2012,1999,2017,1998,2003,2006,2005,2017,2008,2002,1994,2008,2010,1999,1978,1941,2006,2011,2017,2011,2010,2013,2010,2008,2010,2014,1986,1989,1941,2005,1989,1947,1950,2002,2007,1937,2014,2008,2004,2018,1951,2006,2012,2009,1959,1991,1956,1955,2010,2017,2005,2017,2010,2000,2016,2010,2015,2015,2010,2015,2015,2016,2017,2019,2018,2012,2011,2012,2010,2008,2017,2014,2015,2017,2005,2016,2011,2015,2010,2016,2018,1985,1996,2017,2017,1998,2001,2005,1996,1997,2005,2000,1992,1966,2011,2014,2017,2012,2008,2015,2011,2004,1999,1938,1943,2002,1999,2019,1990,2009,2019,1941,2017,2018,2003,2006,2017,1964,2004,2019,1975,2000,2019,1940,2000,1994,2007,1938,2016,2003,1996,1986,2019,1932,1997,1950,2001,2019,1995,1984,2003,2018,2012,2013,2003,1947,1986,1994,2011,1999,2009,1997,2002,2018,2013,2005,2004,2009,2011,1992,2002,1954,1934,2010,1961,1976,1998,2004,2001,2006,2005,2008,2009,2009,1937,1995,1980,1977,1974,1997,2006,2007,2008,2019,1993,2004,1992,1989,1997,1999,2019,2001,2016,2014,1942,1942,2012,1998,2016,2005,2016,2015,1999,2003,2019,2018,2006,2015,1994,2008,1994,1996,2005,1996,2017,2011,2013,2007,1999,2009,2010,1959,2007,2001,1997,1960,1996,2010,2019,2005,2017,2009,2019,2019,2003,2005,2012,2011,2019,2015,2016,2018,2018,2014,2015,2015,2016,2014,2014,2014,2014,2014,2011,1941,2006,2012,2005,1993,2018,2006,2002,2005,2000,1937,2018,2017,2001,1986,1937,1947,2017,2018,1992,2017,2018,2014,2019,2015,2015,2019,2016,2011,2014,2019,2016,2014,2017,2008,2010,2013,2012,2011,2013,2011,2014,2016,2012,2016,2015,2014,2019,2017,2016,2016,1964,2006,1998,2007,1948,1948,2012,1955,2004,1942,1983,1947,1999,1936,1938,2004,1998,2002,2008,2004,1998,2000,2014,2018,2016,2000,2013,2001,2001,1986,1940,1940,2005,2014,1996,2014,1999,2006,2007,1992,2017,2019,2005,2017,1957,1988,2005,1985,2006,1995,2016,1998,2018,2009,2014,1957,2016,1953,2002,2000,2003,2007,2011,2013,2003,1940,2016,2007,2006,2003,2019,2004,2018,1950,1952,1949,1949,1995,1998,1960,1997,2005,2008,2009,2019,1996,2016,2000,2007,2006,2000,2003,2001,2003,1987,2000,1947,1978,2006,1985,1998,2003,2015,2000,1973,2018,2016,2006,1998,2004,1943,1962,2015,2012,1932,2013,2018,2017,2012,2010,2017,1956,2012,2010,2013,2011,1991,1997,2007,1992,1993,2009,1959,1999,2019,1937,1972,2007,1999,1939,2016,1982,1999,1979,2016,2014,2014,1977,2002,2019,1983,2005,1980,2015,1999,2010,1928,2000,2003,2008,2004,1980,2013,1940,1990,1995,2010,2017,2002,2004,2015,2013,2011,1997,1965,1961,1984,1967,1993,1949,1955,1955,1975,1979,1970,1941,2010,1999,1935,1974,1934,1972,1985,1979,2013,2014,2000,1998,1974,2003,2006,2008,1986,2008,2005,2000,1969,2002,2000,2003,2018,1981,2006,2007,1980,1934,1935,2015,1981,2005,2003,1939,1996,2002,2019,1963,2004,1985,2003,1998,2012,2004,1998,1989,2000,2008,1941,1953,2003,2019,1969,1977,1971,2012,1992,1979,2011,2015,1988,1937,1942,1998,1961,1933,1956,2001,1962,2009,2001,2004,2005,1941,2006,1977,1990,2002,1994,2002,2006,2002,2009,1976,1959,1960,1953,1965,1952,1975,2011,2004,2008,2016,1999,1945,1993,2000,1935,1966,1939,2000,1954,2006,1934,2013,2019,2003,1936,2001,1933,1936,1987,1990,1936,2004,1993,1995,1988,2008,2010,2009,2017,1936,1995,1995,1999,2010,2011,2012,2011,2009,1950,1950,1976,2002,2018,1982,2002,2002,1940,2001,2005,2007,1979,2009,2000,2005,2010,2008,2006,2000,1991,1988,2015,2012,2011,2002,2004,1949,2007,2009,2008,2015,2012,2000,1933,1963,1998,2003,2007,2018,2014,1999,2001,2004,2016],\"xaxis\":\"x\",\"yaxis\":\"y\",\"type\":\"histogram\"},{\"alignmentgroup\":\"True\",\"bingroup\":\"x\",\"hovertemplate\":\"color=10.0<br>value=%{x}<br>count=%{y}<extra></extra>\",\"legendgroup\":\"10.0\",\"marker\":{\"color\":\"#EF553B\",\"pattern\":{\"shape\":\"\"}},\"name\":\"10.0\",\"nbinsx\":100,\"offsetgroup\":\"10.0\",\"orientation\":\"v\",\"showlegend\":true,\"x\":[2021,2015,1993,1994,2015,2021,2021,2021,2019,2021,2020,2020,2021,2020,2019,2021,2021,2021,2021,2021,2021,2017,2021,2021,2021,2021,2007,2015,2021,2014,2017,2020,2019,2010,2020,2020,2019,2017,2020,2019,2013,2008,2020,2020,2014,2020,2019,2019,2010,2020,2020,2003,1996,1971,1968,1938,1972,2001,1996,1978,1986,1963,1965],\"xaxis\":\"x\",\"yaxis\":\"y\",\"type\":\"histogram\"},{\"alignmentgroup\":\"True\",\"bingroup\":\"x\",\"hovertemplate\":\"color=9.0<br>value=%{x}<br>count=%{y}<extra></extra>\",\"legendgroup\":\"9.0\",\"marker\":{\"color\":\"#00cc96\",\"pattern\":{\"shape\":\"\"}},\"name\":\"9.0\",\"nbinsx\":100,\"offsetgroup\":\"9.0\",\"orientation\":\"v\",\"showlegend\":true,\"x\":[2017,2021,2020,2019,1998,2021,2021,1989,2021,2011,2014,2019,2021,2021,2009,2021,2016,2021,2020,2021,2021,2012,2015,2021,2021,2011,2021,2021,2020,1997,2011,2021,2019,2019,2021,2010,2016,2020,2020,2019,2020,2020,2020,2018,2019,1998,2020,2008,2019,2011,2015,2011,2018,1994,1996,2020,1952,2015,2003],\"xaxis\":\"x\",\"yaxis\":\"y\",\"type\":\"histogram\"},{\"alignmentgroup\":\"True\",\"bingroup\":\"x\",\"hovertemplate\":\"color=8.0<br>value=%{x}<br>count=%{y}<extra></extra>\",\"legendgroup\":\"8.0\",\"marker\":{\"color\":\"#ab63fa\",\"pattern\":{\"shape\":\"\"}},\"name\":\"8.0\",\"nbinsx\":100,\"offsetgroup\":\"8.0\",\"orientation\":\"v\",\"showlegend\":true,\"x\":[2021,2007,2021,2014,2007,2014,2018,2020,2006,2021,2005,2000,2021,2021,2021,2018,2021,2011,2012,2021,1993,2021,2020,2016,2020,2020,2017,2020,2020,2018,2020,2020,2020,2019,2020,2018,2016,2018,2018,2018,2017,2017,2020,2020,2010,2019,2020,2015,2012,2006],\"xaxis\":\"x\",\"yaxis\":\"y\",\"type\":\"histogram\"},{\"alignmentgroup\":\"True\",\"bingroup\":\"x\",\"hovertemplate\":\"color=7.0<br>value=%{x}<br>count=%{y}<extra></extra>\",\"legendgroup\":\"7.0\",\"marker\":{\"color\":\"#FFA15A\",\"pattern\":{\"shape\":\"\"}},\"name\":\"7.0\",\"nbinsx\":100,\"offsetgroup\":\"7.0\",\"orientation\":\"v\",\"showlegend\":true,\"x\":[2021,2004,2021,2020,2018,2021,2021,2021,2006,2021,2020,2020,2021,2013,2020,2021,2020,2021,2017,2021,2020,2020,2021,2021,2020,2011,2021,2021,2011,2006,2021,2021,2021,2021,2021,2021,2013,2021,2019,2021,2021,2016,1993,2005,2018,2018,2015,2020,2012,2018,2018,2011,2018,2013,2020,2016,2020,2020,2018,2017,2017,2020,2014,2016,1955,2017,2018,2019,2004,1977,2017,2016,2013,2020,2018,2014,2020,2016,2011,2020,2016,2009,1995,1992,1995],\"xaxis\":\"x\",\"yaxis\":\"y\",\"type\":\"histogram\"},{\"alignmentgroup\":\"True\",\"bingroup\":\"x\",\"hovertemplate\":\"color=6.0<br>value=%{x}<br>count=%{y}<extra></extra>\",\"legendgroup\":\"6.0\",\"marker\":{\"color\":\"#19d3f3\",\"pattern\":{\"shape\":\"\"}},\"name\":\"6.0\",\"nbinsx\":100,\"offsetgroup\":\"6.0\",\"orientation\":\"v\",\"showlegend\":true,\"x\":[1987,2019,2021,2021,2021,2018,2019,2021,1985,2016,2015,1967,2005,2020,2021,2018,2017,2021,2012,2021,2011,2020,1955,1957,2018,1999,2005,1997,2010,2018,2016,2016,2014,1993,1989,2020,2013,1957,1955,2009,2018,2012,2019,2017,2017,2010,2012,2016,2014,2019,2009,2009],\"xaxis\":\"x\",\"yaxis\":\"y\",\"type\":\"histogram\"},{\"alignmentgroup\":\"True\",\"bingroup\":\"x\",\"hovertemplate\":\"color=5.0<br>value=%{x}<br>count=%{y}<extra></extra>\",\"legendgroup\":\"5.0\",\"marker\":{\"color\":\"#FF6692\",\"pattern\":{\"shape\":\"\"}},\"name\":\"5.0\",\"nbinsx\":100,\"offsetgroup\":\"5.0\",\"orientation\":\"v\",\"showlegend\":true,\"x\":[2021,2019,2021,2018,2021,2021,2021,2021,2021,2016,2017,2013,2015,2014,1973,2011,2021,2009,2006,1996,2007,2013,1991,2021,2021,2021,2021,1994,2012,1948,2015,1964,2011,2009,1969,2017,2020,2019,2009,2020,2019,2019,2012,2017,2014,1987,2019,2020,1997,1996,1993,1942,1950,2018,2017,1951,2019,1953,1987,2015,2012,1952],\"xaxis\":\"x\",\"yaxis\":\"y\",\"type\":\"histogram\"},{\"alignmentgroup\":\"True\",\"bingroup\":\"x\",\"hovertemplate\":\"color=4.0<br>value=%{x}<br>count=%{y}<extra></extra>\",\"legendgroup\":\"4.0\",\"marker\":{\"color\":\"#B6E880\",\"pattern\":{\"shape\":\"\"}},\"name\":\"4.0\",\"nbinsx\":100,\"offsetgroup\":\"4.0\",\"orientation\":\"v\",\"showlegend\":true,\"x\":[2021,1996,2020,2017,1956,1994,2020,2013,2021,2021,2021,2014,2011,2019,2012,1994,2012,2016,2010,1995,1991,1994,1984,1985,2004,1974,2020,2006,2017,2020,2021,2021,1985,2011,2020,1959,2016,2004,2020,1989,1952,2016,2020,2011,2017,1952,1948,2011,2020,2017,2020,2017,2018,1977,1949,2019,2020,2018,1953,1940,1946,1954,2020,1936,2010,1944,2020,1952,1935,2020,1951,2020,1952,1939,2008,1975,1953,1978,1999,2012,2011,2011,2010,2012,2009,2012],\"xaxis\":\"x\",\"yaxis\":\"y\",\"type\":\"histogram\"},{\"alignmentgroup\":\"True\",\"bingroup\":\"x\",\"hovertemplate\":\"color=3.0<br>value=%{x}<br>count=%{y}<extra></extra>\",\"legendgroup\":\"3.0\",\"marker\":{\"color\":\"#FF97FF\",\"pattern\":{\"shape\":\"\"}},\"name\":\"3.0\",\"nbinsx\":100,\"offsetgroup\":\"3.0\",\"orientation\":\"v\",\"showlegend\":true,\"x\":[2011,2015,2021,2017,2019,2018,2021,2020,2021,2016,2021,2006,2020,2018,2013,2020,2017,2009,2019,2020,2016,2007,2008,2018],\"xaxis\":\"x\",\"yaxis\":\"y\",\"type\":\"histogram\"},{\"alignmentgroup\":\"True\",\"bingroup\":\"x\",\"hovertemplate\":\"color=2.0<br>value=%{x}<br>count=%{y}<extra></extra>\",\"legendgroup\":\"2.0\",\"marker\":{\"color\":\"#FECB52\",\"pattern\":{\"shape\":\"\"}},\"name\":\"2.0\",\"nbinsx\":100,\"offsetgroup\":\"2.0\",\"orientation\":\"v\",\"showlegend\":true,\"x\":[2004,2012,2008,2019,2012,2019,2021,2020,2010,2021,2016,2003,2005,2021,2014,1976,2020,2021,1997,2010,2019,2020,2020,2013,2018,2014,2020,2019,2018,2019,2019,2019,2008,2013,2005,2017,1969,1984,2002,2020,2019,2019,2004,1988],\"xaxis\":\"x\",\"yaxis\":\"y\",\"type\":\"histogram\"},{\"alignmentgroup\":\"True\",\"bingroup\":\"x\",\"hovertemplate\":\"color=1.0<br>value=%{x}<br>count=%{y}<extra></extra>\",\"legendgroup\":\"1.0\",\"marker\":{\"color\":\"#636efa\",\"pattern\":{\"shape\":\"\"}},\"name\":\"1.0\",\"nbinsx\":100,\"offsetgroup\":\"1.0\",\"orientation\":\"v\",\"showlegend\":true,\"x\":[1991,2020,2021,2018,2015,2018,2018,2021,2020,2017,2021,2014,2018,2018,2008,2019,2016,2020,2019,2020,2019,2015,2016,2011,2017,2016,2018,2003,2020,2020,2017,2019,2020,2011,2016,2008,2010,2010,2013,2012,2008,2010,2013,1993,2017,2014,2011,2016,2017,2015,2015,1971,2003,2014,2019,2017,2019,2009,2001,2009,2016],\"xaxis\":\"x\",\"yaxis\":\"y\",\"type\":\"histogram\"},{\"alignmentgroup\":\"True\",\"bingroup\":\"x\",\"hovertemplate\":\"color=12.0<br>value=%{x}<br>count=%{y}<extra></extra>\",\"legendgroup\":\"12.0\",\"marker\":{\"color\":\"#EF553B\",\"pattern\":{\"shape\":\"\"}},\"name\":\"12.0\",\"nbinsx\":100,\"offsetgroup\":\"12.0\",\"orientation\":\"v\",\"showlegend\":true,\"x\":[2020,2020,2020,2001,2020,2020,2020,2021,2020,2014,2020,2020,2019,2020,2020,2017,2020,2018,2020,1997,2020,2019,2020,2005,2020,2018,2019,2017,2019,2003,2019,2019,2019,2019,2019,2019,2019,2017,2015,2019,2014,2019,2006,2012,2015,2019,2019,2014,2011,2016,2016,2016],\"xaxis\":\"x\",\"yaxis\":\"y\",\"type\":\"histogram\"},{\"alignmentgroup\":\"True\",\"bingroup\":\"x\",\"hovertemplate\":\"color=0.0<br>value=%{x}<br>count=%{y}<extra></extra>\",\"legendgroup\":\"0.0\",\"marker\":{\"color\":\"#00cc96\",\"pattern\":{\"shape\":\"\"}},\"name\":\"0.0\",\"nbinsx\":100,\"offsetgroup\":\"0.0\",\"orientation\":\"v\",\"showlegend\":true,\"x\":[2014,2016,2008],\"xaxis\":\"x\",\"yaxis\":\"y\",\"type\":\"histogram\"}],                        {\"template\":{\"data\":{\"bar\":[{\"error_x\":{\"color\":\"#2a3f5f\"},\"error_y\":{\"color\":\"#2a3f5f\"},\"marker\":{\"line\":{\"color\":\"#E5ECF6\",\"width\":0.5},\"pattern\":{\"fillmode\":\"overlay\",\"size\":10,\"solidity\":0.2}},\"type\":\"bar\"}],\"barpolar\":[{\"marker\":{\"line\":{\"color\":\"#E5ECF6\",\"width\":0.5},\"pattern\":{\"fillmode\":\"overlay\",\"size\":10,\"solidity\":0.2}},\"type\":\"barpolar\"}],\"carpet\":[{\"aaxis\":{\"endlinecolor\":\"#2a3f5f\",\"gridcolor\":\"white\",\"linecolor\":\"white\",\"minorgridcolor\":\"white\",\"startlinecolor\":\"#2a3f5f\"},\"baxis\":{\"endlinecolor\":\"#2a3f5f\",\"gridcolor\":\"white\",\"linecolor\":\"white\",\"minorgridcolor\":\"white\",\"startlinecolor\":\"#2a3f5f\"},\"type\":\"carpet\"}],\"choropleth\":[{\"colorbar\":{\"outlinewidth\":0,\"ticks\":\"\"},\"type\":\"choropleth\"}],\"contour\":[{\"colorbar\":{\"outlinewidth\":0,\"ticks\":\"\"},\"colorscale\":[[0.0,\"#0d0887\"],[0.1111111111111111,\"#46039f\"],[0.2222222222222222,\"#7201a8\"],[0.3333333333333333,\"#9c179e\"],[0.4444444444444444,\"#bd3786\"],[0.5555555555555556,\"#d8576b\"],[0.6666666666666666,\"#ed7953\"],[0.7777777777777778,\"#fb9f3a\"],[0.8888888888888888,\"#fdca26\"],[1.0,\"#f0f921\"]],\"type\":\"contour\"}],\"contourcarpet\":[{\"colorbar\":{\"outlinewidth\":0,\"ticks\":\"\"},\"type\":\"contourcarpet\"}],\"heatmap\":[{\"colorbar\":{\"outlinewidth\":0,\"ticks\":\"\"},\"colorscale\":[[0.0,\"#0d0887\"],[0.1111111111111111,\"#46039f\"],[0.2222222222222222,\"#7201a8\"],[0.3333333333333333,\"#9c179e\"],[0.4444444444444444,\"#bd3786\"],[0.5555555555555556,\"#d8576b\"],[0.6666666666666666,\"#ed7953\"],[0.7777777777777778,\"#fb9f3a\"],[0.8888888888888888,\"#fdca26\"],[1.0,\"#f0f921\"]],\"type\":\"heatmap\"}],\"heatmapgl\":[{\"colorbar\":{\"outlinewidth\":0,\"ticks\":\"\"},\"colorscale\":[[0.0,\"#0d0887\"],[0.1111111111111111,\"#46039f\"],[0.2222222222222222,\"#7201a8\"],[0.3333333333333333,\"#9c179e\"],[0.4444444444444444,\"#bd3786\"],[0.5555555555555556,\"#d8576b\"],[0.6666666666666666,\"#ed7953\"],[0.7777777777777778,\"#fb9f3a\"],[0.8888888888888888,\"#fdca26\"],[1.0,\"#f0f921\"]],\"type\":\"heatmapgl\"}],\"histogram\":[{\"marker\":{\"pattern\":{\"fillmode\":\"overlay\",\"size\":10,\"solidity\":0.2}},\"type\":\"histogram\"}],\"histogram2d\":[{\"colorbar\":{\"outlinewidth\":0,\"ticks\":\"\"},\"colorscale\":[[0.0,\"#0d0887\"],[0.1111111111111111,\"#46039f\"],[0.2222222222222222,\"#7201a8\"],[0.3333333333333333,\"#9c179e\"],[0.4444444444444444,\"#bd3786\"],[0.5555555555555556,\"#d8576b\"],[0.6666666666666666,\"#ed7953\"],[0.7777777777777778,\"#fb9f3a\"],[0.8888888888888888,\"#fdca26\"],[1.0,\"#f0f921\"]],\"type\":\"histogram2d\"}],\"histogram2dcontour\":[{\"colorbar\":{\"outlinewidth\":0,\"ticks\":\"\"},\"colorscale\":[[0.0,\"#0d0887\"],[0.1111111111111111,\"#46039f\"],[0.2222222222222222,\"#7201a8\"],[0.3333333333333333,\"#9c179e\"],[0.4444444444444444,\"#bd3786\"],[0.5555555555555556,\"#d8576b\"],[0.6666666666666666,\"#ed7953\"],[0.7777777777777778,\"#fb9f3a\"],[0.8888888888888888,\"#fdca26\"],[1.0,\"#f0f921\"]],\"type\":\"histogram2dcontour\"}],\"mesh3d\":[{\"colorbar\":{\"outlinewidth\":0,\"ticks\":\"\"},\"type\":\"mesh3d\"}],\"parcoords\":[{\"line\":{\"colorbar\":{\"outlinewidth\":0,\"ticks\":\"\"}},\"type\":\"parcoords\"}],\"pie\":[{\"automargin\":true,\"type\":\"pie\"}],\"scatter\":[{\"marker\":{\"colorbar\":{\"outlinewidth\":0,\"ticks\":\"\"}},\"type\":\"scatter\"}],\"scatter3d\":[{\"line\":{\"colorbar\":{\"outlinewidth\":0,\"ticks\":\"\"}},\"marker\":{\"colorbar\":{\"outlinewidth\":0,\"ticks\":\"\"}},\"type\":\"scatter3d\"}],\"scattercarpet\":[{\"marker\":{\"colorbar\":{\"outlinewidth\":0,\"ticks\":\"\"}},\"type\":\"scattercarpet\"}],\"scattergeo\":[{\"marker\":{\"colorbar\":{\"outlinewidth\":0,\"ticks\":\"\"}},\"type\":\"scattergeo\"}],\"scattergl\":[{\"marker\":{\"colorbar\":{\"outlinewidth\":0,\"ticks\":\"\"}},\"type\":\"scattergl\"}],\"scattermapbox\":[{\"marker\":{\"colorbar\":{\"outlinewidth\":0,\"ticks\":\"\"}},\"type\":\"scattermapbox\"}],\"scatterpolar\":[{\"marker\":{\"colorbar\":{\"outlinewidth\":0,\"ticks\":\"\"}},\"type\":\"scatterpolar\"}],\"scatterpolargl\":[{\"marker\":{\"colorbar\":{\"outlinewidth\":0,\"ticks\":\"\"}},\"type\":\"scatterpolargl\"}],\"scatterternary\":[{\"marker\":{\"colorbar\":{\"outlinewidth\":0,\"ticks\":\"\"}},\"type\":\"scatterternary\"}],\"surface\":[{\"colorbar\":{\"outlinewidth\":0,\"ticks\":\"\"},\"colorscale\":[[0.0,\"#0d0887\"],[0.1111111111111111,\"#46039f\"],[0.2222222222222222,\"#7201a8\"],[0.3333333333333333,\"#9c179e\"],[0.4444444444444444,\"#bd3786\"],[0.5555555555555556,\"#d8576b\"],[0.6666666666666666,\"#ed7953\"],[0.7777777777777778,\"#fb9f3a\"],[0.8888888888888888,\"#fdca26\"],[1.0,\"#f0f921\"]],\"type\":\"surface\"}],\"table\":[{\"cells\":{\"fill\":{\"color\":\"#EBF0F8\"},\"line\":{\"color\":\"white\"}},\"header\":{\"fill\":{\"color\":\"#C8D4E3\"},\"line\":{\"color\":\"white\"}},\"type\":\"table\"}]},\"layout\":{\"annotationdefaults\":{\"arrowcolor\":\"#2a3f5f\",\"arrowhead\":0,\"arrowwidth\":1},\"autotypenumbers\":\"strict\",\"coloraxis\":{\"colorbar\":{\"outlinewidth\":0,\"ticks\":\"\"}},\"colorscale\":{\"diverging\":[[0,\"#8e0152\"],[0.1,\"#c51b7d\"],[0.2,\"#de77ae\"],[0.3,\"#f1b6da\"],[0.4,\"#fde0ef\"],[0.5,\"#f7f7f7\"],[0.6,\"#e6f5d0\"],[0.7,\"#b8e186\"],[0.8,\"#7fbc41\"],[0.9,\"#4d9221\"],[1,\"#276419\"]],\"sequential\":[[0.0,\"#0d0887\"],[0.1111111111111111,\"#46039f\"],[0.2222222222222222,\"#7201a8\"],[0.3333333333333333,\"#9c179e\"],[0.4444444444444444,\"#bd3786\"],[0.5555555555555556,\"#d8576b\"],[0.6666666666666666,\"#ed7953\"],[0.7777777777777778,\"#fb9f3a\"],[0.8888888888888888,\"#fdca26\"],[1.0,\"#f0f921\"]],\"sequentialminus\":[[0.0,\"#0d0887\"],[0.1111111111111111,\"#46039f\"],[0.2222222222222222,\"#7201a8\"],[0.3333333333333333,\"#9c179e\"],[0.4444444444444444,\"#bd3786\"],[0.5555555555555556,\"#d8576b\"],[0.6666666666666666,\"#ed7953\"],[0.7777777777777778,\"#fb9f3a\"],[0.8888888888888888,\"#fdca26\"],[1.0,\"#f0f921\"]]},\"colorway\":[\"#636efa\",\"#EF553B\",\"#00cc96\",\"#ab63fa\",\"#FFA15A\",\"#19d3f3\",\"#FF6692\",\"#B6E880\",\"#FF97FF\",\"#FECB52\"],\"font\":{\"color\":\"#2a3f5f\"},\"geo\":{\"bgcolor\":\"white\",\"lakecolor\":\"white\",\"landcolor\":\"#E5ECF6\",\"showlakes\":true,\"showland\":true,\"subunitcolor\":\"white\"},\"hoverlabel\":{\"align\":\"left\"},\"hovermode\":\"closest\",\"mapbox\":{\"style\":\"light\"},\"paper_bgcolor\":\"white\",\"plot_bgcolor\":\"#E5ECF6\",\"polar\":{\"angularaxis\":{\"gridcolor\":\"white\",\"linecolor\":\"white\",\"ticks\":\"\"},\"bgcolor\":\"#E5ECF6\",\"radialaxis\":{\"gridcolor\":\"white\",\"linecolor\":\"white\",\"ticks\":\"\"}},\"scene\":{\"xaxis\":{\"backgroundcolor\":\"#E5ECF6\",\"gridcolor\":\"white\",\"gridwidth\":2,\"linecolor\":\"white\",\"showbackground\":true,\"ticks\":\"\",\"zerolinecolor\":\"white\"},\"yaxis\":{\"backgroundcolor\":\"#E5ECF6\",\"gridcolor\":\"white\",\"gridwidth\":2,\"linecolor\":\"white\",\"showbackground\":true,\"ticks\":\"\",\"zerolinecolor\":\"white\"},\"zaxis\":{\"backgroundcolor\":\"#E5ECF6\",\"gridcolor\":\"white\",\"gridwidth\":2,\"linecolor\":\"white\",\"showbackground\":true,\"ticks\":\"\",\"zerolinecolor\":\"white\"}},\"shapedefaults\":{\"line\":{\"color\":\"#2a3f5f\"}},\"ternary\":{\"aaxis\":{\"gridcolor\":\"white\",\"linecolor\":\"white\",\"ticks\":\"\"},\"baxis\":{\"gridcolor\":\"white\",\"linecolor\":\"white\",\"ticks\":\"\"},\"bgcolor\":\"#E5ECF6\",\"caxis\":{\"gridcolor\":\"white\",\"linecolor\":\"white\",\"ticks\":\"\"}},\"title\":{\"x\":0.05},\"xaxis\":{\"automargin\":true,\"gridcolor\":\"white\",\"linecolor\":\"white\",\"ticks\":\"\",\"title\":{\"standoff\":15},\"zerolinecolor\":\"white\",\"zerolinewidth\":2},\"yaxis\":{\"automargin\":true,\"gridcolor\":\"white\",\"linecolor\":\"white\",\"ticks\":\"\",\"title\":{\"standoff\":15},\"zerolinecolor\":\"white\",\"zerolinewidth\":2}}},\"xaxis\":{\"anchor\":\"y\",\"domain\":[0.0,1.0],\"title\":{\"text\":\"value\"}},\"yaxis\":{\"anchor\":\"x\",\"domain\":[0.0,1.0],\"title\":{\"text\":\"count\"}},\"legend\":{\"title\":{\"text\":\"color\"},\"tracegroupgap\":0},\"title\":{\"text\":\"Months of publication\"},\"barmode\":\"relative\"},                        {\"responsive\": true}                    ).then(function(){\n",
              "                            \n",
              "var gd = document.getElementById('8fee3c6b-7828-4e84-831a-5de7e950bfe8');\n",
              "var x = new MutationObserver(function (mutations, observer) {{\n",
              "        var display = window.getComputedStyle(gd).display;\n",
              "        if (!display || display === 'none') {{\n",
              "            console.log([gd, 'removed!']);\n",
              "            Plotly.purge(gd);\n",
              "            observer.disconnect();\n",
              "        }}\n",
              "}});\n",
              "\n",
              "// Listen for the removal of the full notebook cells\n",
              "var notebookContainer = gd.closest('#notebook-container');\n",
              "if (notebookContainer) {{\n",
              "    x.observe(notebookContainer, {childList: true});\n",
              "}}\n",
              "\n",
              "// Listen for the clearing of the current output cell\n",
              "var outputEl = gd.closest('.output');\n",
              "if (outputEl) {{\n",
              "    x.observe(outputEl, {childList: true});\n",
              "}}\n",
              "\n",
              "                        })                };                            </script>        </div>\n",
              "</body>\n",
              "</html>"
            ]
          },
          "metadata": {}
        }
      ]
    },
    {
      "cell_type": "code",
      "source": [
        "disney_month = disney_plus_titles_df['month'].value_counts()\n",
        "print('The most productive month is', disney_month.index[0], 'since were released', max(disney_month), 'programs.') "
      ],
      "metadata": {
        "colab": {
          "base_uri": "https://localhost:8080/"
        },
        "id": "ByoLDVjy1ryT",
        "outputId": "7e0722e2-16ec-4594-f1bc-e3df484fdb96"
      },
      "execution_count": 28,
      "outputs": [
        {
          "output_type": "stream",
          "name": "stdout",
          "text": [
            "The most productive month is 11.0 since were released 809 programs.\n"
          ]
        }
      ]
    },
    {
      "cell_type": "code",
      "source": [
        "#Which is the most popular kind of products?\n",
        "disney_kind = disney_plus_titles_df['listed_in'].value_counts()"
      ],
      "metadata": {
        "id": "1IPqIPR7yCe_"
      },
      "execution_count": 29,
      "outputs": []
    },
    {
      "cell_type": "code",
      "source": [
        "print('The most popular kind of programs is', disney_kind.index[0]) "
      ],
      "metadata": {
        "colab": {
          "base_uri": "https://localhost:8080/"
        },
        "id": "BHTGDDTu4zgP",
        "outputId": "3015a61d-e1ef-4683-b5e2-37721345aa42"
      },
      "execution_count": 30,
      "outputs": [
        {
          "output_type": "stream",
          "name": "stdout",
          "text": [
            "The most popular kind of programs is Animation, Comedy, Family\n"
          ]
        }
      ]
    },
    {
      "cell_type": "code",
      "source": [
        "#Which is the most popular genre of Movies and of Tv Shows?\n",
        "disney_kind_movies = disney_plus_titles_df['listed_in'].value_counts('Movie')\n",
        "disney_kind_Tvshows = disney_plus_titles_df['listed_in'].value_counts('TV shows')\n",
        "print('The most popular kind of Movies is ', disney_kind_movies.index[0], 'and for TV shows is', disney_kind_Tvshows.index[0])"
      ],
      "metadata": {
        "colab": {
          "base_uri": "https://localhost:8080/"
        },
        "id": "bL2cZS5F6byT",
        "outputId": "a35025f5-3dcc-48d2-9371-af6702b04105"
      },
      "execution_count": 31,
      "outputs": [
        {
          "output_type": "stream",
          "name": "stdout",
          "text": [
            "The most popular kind of Movies is  Animation, Comedy, Family and for TV shows is Animation, Comedy, Family\n"
          ]
        }
      ]
    },
    {
      "cell_type": "code",
      "source": [
        "#Graphical visualization of the genre of Movies and TV Shows\n",
        "genre_count = disney_plus_titles_df.copy()\n",
        "genre_count = pd.concat([genre_count, disney_plus_titles_df['listed_in'].str.split(',', expand=True)])\n",
        "genre_count = genre_count.melt(id_vars = ['type', 'title'], value_vars = range(3), value_name = 'genre')\n",
        "genre_count = genre_count[genre_count['genre'].notna()]"
      ],
      "metadata": {
        "id": "DqLv_-Ds8QSh"
      },
      "execution_count": 32,
      "outputs": []
    },
    {
      "cell_type": "code",
      "source": [
        "fig = px.histogram(data_frame = genre_count, x = ['genre'], title = \"Genre of Movies and TV Shows\")\n",
        "fig.show()"
      ],
      "metadata": {
        "colab": {
          "base_uri": "https://localhost:8080/",
          "height": 562
        },
        "id": "zLc00tJu8mvN",
        "outputId": "34c2497d-feee-445b-e2f9-2359798b0f29"
      },
      "execution_count": 33,
      "outputs": [
        {
          "output_type": "display_data",
          "data": {
            "text/html": [
              "<html>\n",
              "<head><meta charset=\"utf-8\" /></head>\n",
              "<body>\n",
              "    <div>            <script src=\"https://cdnjs.cloudflare.com/ajax/libs/mathjax/2.7.5/MathJax.js?config=TeX-AMS-MML_SVG\"></script><script type=\"text/javascript\">if (window.MathJax) {MathJax.Hub.Config({SVG: {font: \"STIX-Web\"}});}</script>                <script type=\"text/javascript\">window.PlotlyConfig = {MathJaxConfig: 'local'};</script>\n",
              "        <script src=\"https://cdn.plot.ly/plotly-2.8.3.min.js\"></script>                <div id=\"01b18a4a-9106-40bc-b859-126cffdb2ba8\" class=\"plotly-graph-div\" style=\"height:525px; width:100%;\"></div>            <script type=\"text/javascript\">                                    window.PLOTLYENV=window.PLOTLYENV || {};                                    if (document.getElementById(\"01b18a4a-9106-40bc-b859-126cffdb2ba8\")) {                    Plotly.newPlot(                        \"01b18a4a-9106-40bc-b859-126cffdb2ba8\",                        [{\"alignmentgroup\":\"True\",\"bingroup\":\"x\",\"hovertemplate\":\"_variable=genre<br>value=%{x}<br>count=%{y}<extra></extra>\",\"legendgroup\":\"genre\",\"marker\":{\"color\":\"#636efa\",\"pattern\":{\"shape\":\"\"}},\"name\":\"genre\",\"offsetgroup\":\"genre\",\"orientation\":\"v\",\"showlegend\":true,\"x\":[\"Animation\",\"Comedy\",\"Animation\",\"Musical\",\"Docuseries\",\"Biographical\",\"Action-Adventure\",\"Docuseries\",\"Animals & Nature\",\"Comedy\",\"Documentary\",\"Comedy\",\"Documentary\",\"Action-Adventure\",\"Animals & Nature\",\"Animation\",\"Animation\",\"Animation\",\"Comedy\",\"Comedy\",\"Animation\",\"Animation\",\"Action-Adventure\",\"Comedy\",\"Action-Adventure\",\"Lifestyle\",\"Movies\",\"Action-Adventure\",\"Animation\",\"Animation\",\"Movies\",\"Action-Adventure\",\"Coming of Age\",\"Animation\",\"Animation\",\"Animation\",\"Concert Film\",\"Animation\",\"Animation\",\"Animation\",\"Science Fiction\",\"Action-Adventure\",\"Comedy\",\"Comedy\",\"Comedy\",\"Animation\",\"Comedy\",\"Action-Adventure\",\"Action-Adventure\",\"Drama\",\"Action-Adventure\",\"Animation\",\"Animals & Nature\",\"Action-Adventure\",\"Biographical\",\"Drama\",\"Comedy\",\"Animation\",\"Action-Adventure\",\"Animals & Nature\",\"Documentary\",\"Documentary\",\"Docuseries\",\"Anthology\",\"Animals & Nature\",\"Reality\",\"Animals & Nature\",\"Animation\",\"Comedy\",\"Animation\",\"Comedy\",\"Family\",\"Action-Adventure\",\"Docuseries\",\"Action-Adventure\",\"Docuseries\",\"Docuseries\",\"Biographical\",\"Docuseries\",\"Animation\",\"Animation\",\"Comedy\",\"Action-Adventure\",\"Action-Adventure\",\"Animation\",\"Animation\",\"Family\",\"Animals & Nature\",\"Kids\",\"Animation\",\"Animation\",\"Animals & Nature\",\"Animation\",\"Documentary\",\"Comedy\",\"Coming of Age\",\"Animals & Nature\",\"Action-Adventure\",\"Action-Adventure\",\"Comedy\",\"Animation\",\"Concert Film\",\"Documentary\",\"Animals & Nature\",\"Animation\",\"Animals & Nature\",\"Action-Adventure\",\"Action-Adventure\",\"Animals & Nature\",\"Comedy\",\"Action-Adventure\",\"Animation\",\"Comedy\",\"Animation\",\"Animation\",\"Animals & Nature\",\"Concert Film\",\"Action-Adventure\",\"Animals & Nature\",\"Animation\",\"Crime\",\"Comedy\",\"Family\",\"Comedy\",\"Action-Adventure\",\"Animals & Nature\",\"Action-Adventure\",\"Action-Adventure\",\"Action-Adventure\",\"Animals & Nature\",\"Action-Adventure\",\"Action-Adventure\",\"Reality\",\"Animation\",\"Animation\",\"Comedy\",\"Action-Adventure\",\"Action-Adventure\",\"Comedy\",\"Animals & Nature\",\"Comedy\",\"Animals & Nature\",\"Animation\",\"Documentary\",\"Comedy\",\"Animation\",\"Animals & Nature\",\"Animation\",\"Animation\",\"Animation\",\"Talk Show\",\"Animation\",\"Animals & Nature\",\"Animals & Nature\",\"Animals & Nature\",\"Documentary\",\"Action-Adventure\",\"Animals & Nature\",\"Docuseries\",\"Action-Adventure\",\"Action-Adventure\",\"Action-Adventure\",\"Action-Adventure\",\"Animals & Nature\",\"Animals & Nature\",\"Animals & Nature\",\"Animals & Nature\",\"Animals & Nature\",\"Animals & Nature\",\"Animals & Nature\",\"Animals & Nature\",\"Comedy\",\"Animals & Nature\",\"Animation\",\"Animals & Nature\",\"Animals & Nature\",\"Animals & Nature\",\"Animals & Nature\",\"Animals & Nature\",\"Reality\",\"Action-Adventure\",\"Animation\",\"Animation\",\"Animation\",\"Comedy\",\"Comedy\",\"Comedy\",\"Action-Adventure\",\"Action-Adventure\",\"Action-Adventure\",\"Biographical\",\"Animation\",\"Comedy\",\"Animals & Nature\",\"Animation\",\"Action-Adventure\",\"Animation\",\"Action-Adventure\",\"Biographical\",\"Action-Adventure\",\"Animation\",\"Action-Adventure\",\"Action-Adventure\",\"Animation\",\"Action-Adventure\",\"Action-Adventure\",\"Animation\",\"Drama\",\"Animation\",\"Coming of Age\",\"Comedy\",\"Coming of Age\",\"Animals & Nature\",\"Drama\",\"Fantasy\",\"Drama\",\"Action-Adventure\",\"Action-Adventure\",\"Animation\",\"Docuseries\",\"Action-Adventure\",\"Animals & Nature\",\"Action-Adventure\",\"Action-Adventure\",\"Action-Adventure\",\"Action-Adventure\",\"Action-Adventure\",\"Action-Adventure\",\"Comedy\",\"Biographical\",\"Animation\",\"Science Fiction\",\"Anthology\",\"Action-Adventure\",\"Action-Adventure\",\"Animation\",\"Fantasy\",\"Biographical\",\"Action-Adventure\",\"Musical\",\"Action-Adventure\",\"Biographical\",\"Comedy\",\"Animals & Nature\",\"Comedy\",\"Animals & Nature\",\"Docuseries\",\"Action-Adventure\",\"Action-Adventure\",\"Action-Adventure\",\"Action-Adventure\",\"Biographical\",\"Family\",\"Action-Adventure\",\"Comedy\",\"Biographical\",\"Action-Adventure\",\"Action-Adventure\",\"Action-Adventure\",\"Animation\",\"Action-Adventure\",\"Reality\",\"Action-Adventure\",\"Animals & Nature\",\"Animals & Nature\",\"Series\",\"Animation\",\"Action-Adventure\",\"Animals & Nature\",\"Animals & Nature\",\"Action-Adventure\",\"Comedy\",\"Action-Adventure\",\"Comedy\",\"Comedy\",\"Action-Adventure\",\"Biographical\",\"Animals & Nature\",\"Action-Adventure\",\"Animation\",\"Anthology\",\"Coming of Age\",\"Documentary\",\"Comedy\",\"Action-Adventure\",\"Buddy\",\"Game Show / Competition\",\"Comedy\",\"Comedy\",\"Animation\",\"Animation\",\"Animals & Nature\",\"Action-Adventure\",\"Family\",\"Variety\",\"Comedy\",\"Comedy\",\"Comedy\",\"Action-Adventure\",\"Comedy\",\"Action-Adventure\",\"Anthology\",\"Comedy\",\"Comedy\",\"Biographical\",\"Animals & Nature\",\"Coming of Age\",\"Animals & Nature\",\"Comedy\",\"Documentary\",\"Animation\",\"Animals & Nature\",\"Action-Adventure\",\"Action-Adventure\",\"Family\",\"Drama\",\"Family\",\"Action-Adventure\",\"Action-Adventure\",\"Action-Adventure\",\"Animals & Nature\",\"Animals & Nature\",\"Animation\",\"Animals & Nature\",\"Animals & Nature\",\"Animation\",\"Action-Adventure\",\"Action-Adventure\",\"Comedy\",\"Animation\",\"Animation\",\"Documentary\",\"Animals & Nature\",\"Animation\",\"Action-Adventure\",\"Action-Adventure\",\"Docuseries\",\"Animals & Nature\",\"Fantasy\",\"Movies\",\"Documentary\",\"Drama\",\"Action-Adventure\",\"Biographical\",\"Animation\",\"Comedy\",\"Animals & Nature\",\"Action-Adventure\",\"Action-Adventure\",\"Family\",\"Action-Adventure\",\"Comedy\",\"Animals & Nature\",\"Animation\",\"Action-Adventure\",\"Animals & Nature\",\"Documentary\",\"Coming of Age\",\"Anthology\",\"Action-Adventure\",\"Action-Adventure\",\"Documentary\",\"Action-Adventure\",\"Action-Adventure\",\"Comedy\",\"Comedy\",\"Comedy\",\"Docuseries\",\"Documentary\",\"Documentary\",\"Animation\",\"Animation\",\"Action-Adventure\",\"Action-Adventure\",\"Animation\",\"Animation\",\"Comedy\",\"Action-Adventure\",\"Action-Adventure\",\"Animals & Nature\",\"Animals & Nature\",\"Docuseries\",\"Action-Adventure\",\"Animation\",\"Documentary\",\"Animation\",\"Action-Adventure\",\"Biographical\",\"Animals & Nature\",\"Action-Adventure\",\"Animals & Nature\",\"Action-Adventure\",\"Documentary\",\"Action-Adventure\",\"Drama\",\"Animals & Nature\",\"Action-Adventure\",\"Drama\",\"Animals & Nature\",\"Biographical\",\"Animals & Nature\",\"Action-Adventure\",\"Animals & Nature\",\"Action-Adventure\",\"Docuseries\",\"Anthology\",\"Comedy\",\"Docuseries\",\"Drama\",\"Docuseries\",\"Documentary\",\"Documentary\",\"Action-Adventure\",\"Comedy\",\"Coming of Age\",\"Drama\",\"Comedy\",\"Comedy\",\"Comedy\",\"Animation\",\"Action-Adventure\",\"Action-Adventure\",\"Documentary\",\"Family\",\"Documentary\",\"Drama\",\"Animals & Nature\",\"Animation\",\"Coming of Age\",\"Animals & Nature\",\"Animals & Nature\",\"Comedy\",\"Action-Adventure\",\"Animals & Nature\",\"Animals & Nature\",\"Animals & Nature\",\"Docuseries\",\"Biographical\",\"Animals & Nature\",\"Animals & Nature\",\"Biographical\",\"Action-Adventure\",\"Documentary\",\"Animals & Nature\",\"Animation\",\"Docuseries\",\"Animals & Nature\",\"Animals & Nature\",\"Animals & Nature\",\"Dance\",\"Documentary\",\"Animals & Nature\",\"Animals & Nature\",\"Documentary\",\"Action-Adventure\",\"Action-Adventure\",\"Documentary\",\"Action-Adventure\",\"Comedy\",\"Animals & Nature\",\"Animals & Nature\",\"Action-Adventure\",\"Action-Adventure\",\"Buddy\",\"Animals & Nature\",\"Animals & Nature\",\"Documentary\",\"Comedy\",\"Animation\",\"Documentary\",\"Action-Adventure\",\"Coming of Age\",\"Animals & Nature\",\"Action-Adventure\",\"Action-Adventure\",\"Historical\",\"Action-Adventure\",\"Action-Adventure\",\"Historical\",\"Animals & Nature\",\"Comedy\",\"Biographical\",\"Action-Adventure\",\"Action-Adventure\",\"Comedy\",\"Comedy\",\"Comedy\",\"Comedy\",\"Docuseries\",\"Documentary\",\"Animation\",\"Action-Adventure\",\"Action-Adventure\",\"Action-Adventure\",\"Action-Adventure\",\"Animals & Nature\",\"Comedy\",\"Documentary\",\"Action-Adventure\",\"Action-Adventure\",\"Action-Adventure\",\"Action-Adventure\",\"Action-Adventure\",\"Comedy\",\"Drama\",\"Documentary\",\"Documentary\",\"Animals & Nature\",\"Animals & Nature\",\"Documentary\",\"Animals & Nature\",\"Animals & Nature\",\"Action-Adventure\",\"Animals & Nature\",\"Docuseries\",\"Animals & Nature\",\"Documentary\",\"Animation\",\"Animation\",\"Coming of Age\",\"Crime\",\"Animation\",\"Animation\",\"Comedy\",\"Action-Adventure\",\"Animation\",\"Family\",\"Biographical\",\"Animals & Nature\",\"Action-Adventure\",\"Action-Adventure\",\"Action-Adventure\",\"Animals & Nature\",\"Docuseries\",\"Action-Adventure\",\"Action-Adventure\",\"Docuseries\",\"Action-Adventure\",\"Action-Adventure\",\"Action-Adventure\",\"Animation\",\"Animals & Nature\",\"Docuseries\",\"Animals & Nature\",\"Animals & Nature\",\"Animals & Nature\",\"Animals & Nature\",\"Action-Adventure\",\"Animals & Nature\",\"Animals & Nature\",\"Animals & Nature\",\"Action-Adventure\",\"Animals & Nature\",\"Comedy\",\"Animals & Nature\",\"Action-Adventure\",\"Biographical\",\"Docuseries\",\"Action-Adventure\",\"Animation\",\"Animation\",\"Action-Adventure\",\"Concert Film\",\"Animation\",\"Animation\",\"Animals & Nature\",\"Docuseries\",\"Animals & Nature\",\"Animation\",\"Animals & Nature\",\"Animals & Nature\",\"Animals & Nature\",\"Animation\",\"Animation\",\"Animation\",\"Animation\",\"Animals & Nature\",\"Animation\",\"Animation\",\"Animation\",\"Animals & Nature\",\"Animation\",\"Animation\",\"Action-Adventure\",\"Animation\",\"Animals & Nature\",\"Animation\",\"Animation\",\"Comedy\",\"Action-Adventure\",\"Animation\",\"Animation\",\"Biographical\",\"Animation\",\"Action-Adventure\",\"Comedy\",\"Coming of Age\",\"Drama\",\"Family\",\"Action-Adventure\",\"Comedy\",\"Anthology\",\"Animation\",\"Action-Adventure\",\"Action-Adventure\",\"Coming of Age\",\"Action-Adventure\",\"Comedy\",\"Comedy\",\"Action-Adventure\",\"Action-Adventure\",\"Action-Adventure\",\"Family\",\"Documentary\",\"Action-Adventure\",\"Action-Adventure\",\"Action-Adventure\",\"Action-Adventure\",\"Action-Adventure\",\"Action-Adventure\",\"Comedy\",\"Docuseries\",\"Action-Adventure\",\"Comedy\",\"Comedy\",\"Buddy\",\"Action-Adventure\",\"Coming of Age\",\"Action-Adventure\",\"Comedy\",\"Animation\",\"Action-Adventure\",\"Comedy\",\"Comedy\",\"Animals & Nature\",\"Action-Adventure\",\"Action-Adventure\",\"Animation\",\"Coming of Age\",\"Animals & Nature\",\"Animation\",\"Animation\",\"Animation\",\"Coming of Age\",\"Action-Adventure\",\"Animation\",\"Comedy\",\"Animation\",\"Animation\",\"Animation\",\"Animation\",\"Animation\",\"Animation\",\"Animation\",\"Animation\",\"Animation\",\"Biographical\",\"Documentary\",\"Documentary\",\"Documentary\",\"Documentary\",\"Documentary\",\"Documentary\",\"Family\",\"Animals & Nature\",\"Coming of Age\",\"Documentary\",\"Action-Adventure\",\"Animals & Nature\",\"Action-Adventure\",\"Action-Adventure\",\"Animation\",\"Action-Adventure\",\"Docuseries\",\"Animation\",\"Action-Adventure\",\"Animation\",\"Action-Adventure\",\"Coming of Age\",\"Animals & Nature\",\"Action-Adventure\",\"Animation\",\"Animation\",\"Animation\",\"Anthology\",\"Action-Adventure\",\"Action-Adventure\",\"Documentary\",\"Action-Adventure\",\"Action-Adventure\",\"Biographical\",\"Animation\",\"Animals & Nature\",\"Action-Adventure\",\"Action-Adventure\",\"Action-Adventure\",\"Animation\",\"Buddy\",\"Animals & Nature\",\"Animation\",\"Animation\",\"Animation\",\"Concert Film\",\"Animation\",\"Animation\",\"Animation\",\"Animation\",\"Comedy\",\"Action-Adventure\",\"Action-Adventure\",\"Action-Adventure\",\"Comedy\",\"Action-Adventure\",\"Animation\",\"Action-Adventure\",\"Action-Adventure\",\"Animation\",\"Coming of Age\",\"Action-Adventure\",\"Action-Adventure\",\"Action-Adventure\",\"Action-Adventure\",\"Action-Adventure\",\"Coming of Age\",\"Coming of Age\",\"Documentary\",\"Drama\",\"Animation\",\"Comedy\",\"Drama\",\"Documentary\",\"Documentary\",\"Action-Adventure\",\"Action-Adventure\",\"Animation\",\"Action-Adventure\",\"Animation\",\"Family\",\"Animation\",\"Animation\",\"Animation\",\"Animation\",\"Animation\",\"Animation\",\"Animation\",\"Animation\",\"Documentary\",\"Action-Adventure\",\"Buddy\",\"Action-Adventure\",\"Action-Adventure\",\"Action-Adventure\",\"Animals & Nature\",\"Comedy\",\"Animation\",\"Action-Adventure\",\"Animation\",\"Animation\",\"Animation\",\"Comedy\",\"Animation\",\"Action-Adventure\",\"Documentary\",\"Coming of Age\",\"Action-Adventure\",\"Action-Adventure\",\"Buddy\",\"Coming of Age\",\"Animation\",\"Comedy\",\"Comedy\",\"Coming of Age\",\"Coming of Age\",\"Comedy\",\"Comedy\",\"Animation\",\"Animation\",\"Animation\",\"Animation\",\"Animation\",\"Animation\",\"Animation\",\"Animation\",\"Animation\",\"Animation\",\"Animation\",\"Drama\",\"Action-Adventure\",\"Animation\",\"Animation\",\"Action-Adventure\",\"Animation\",\"Animation\",\"Animation\",\"Animation\",\"Animation\",\"Sports\",\"Comedy\",\"Comedy\",\"Comedy\",\"Animation\",\"Comedy\",\"Comedy\",\"Comedy\",\"Family\",\"Action-Adventure\",\"Action-Adventure\",\"Action-Adventure\",\"Animation\",\"Documentary\",\"Animals & Nature\",\"Coming of Age\",\"Comedy\",\"Action-Adventure\",\"Action-Adventure\",\"Coming of Age\",\"Buddy\",\"Buddy\",\"Comedy\",\"Coming of Age\",\"Animation\",\"Action-Adventure\",\"Series\",\"Anthology\",\"Action-Adventure\",\"Action-Adventure\",\"Action-Adventure\",\"Animation\",\"Action-Adventure\",\"Comedy\",\"Animation\",\"Action-Adventure\",\"Action-Adventure\",\"Action-Adventure\",\"Animation\",\"Action-Adventure\",\"Animation\",\"Comedy\",\"Animation\",\"Action-Adventure\",\"Fantasy\",\"Action-Adventure\",\"Animation\",\"Family\",\"Family\",\"Action-Adventure\",\"Action-Adventure\",\"Action-Adventure\",\"Action-Adventure\",\"Animation\",\"Animation\",\"Comedy\",\"Action-Adventure\",\"Documentary\",\"Animals & Nature\",\"Animals & Nature\",\"Animals & Nature\",\"Animals & Nature\",\"Animals & Nature\",\"Animals & Nature\",\"Animals & Nature\",\"Animals & Nature\",\"Coming of Age\",\"Animation\",\"Animation\",\"Biographical\",\"Animation\",\"Docuseries\",\"Action-Adventure\",\"Animation\",\"Action-Adventure\",\"Animation\",\"Animals & Nature\",\"Documentary\",\"Comedy\",\"Action-Adventure\",\"Action-Adventure\",\"Action-Adventure\",\"Documentary\",\"Music\",\"Action-Adventure\",\"Comedy\",\"Documentary\",\"Animation\",\"Animation\",\"Action-Adventure\",\"Action-Adventure\",\"Animation\",\"Action-Adventure\",\"Action-Adventure\",\"Buddy\",\"Action-Adventure\",\"Animation\",\"Animation\",\"Comedy\",\"Animation\",\"Animation\",\"Animation\",\"Biographical\",\"Drama\",\"Comedy\",\"Action-Adventure\",\"Anthology\",\"Animation\",\"Coming of Age\",\"Action-Adventure\",\"Buddy\",\"Action-Adventure\",\"Comedy\",\"Comedy\",\"Animation\",\"Animation\",\"Drama\",\"Animals & Nature\",\"Comedy\",\"Coming of Age\",\"Coming of Age\",\"Comedy\",\"Comedy\",\"Animation\",\"Coming of Age\",\"Animation\",\"Animation\",\"Animals & Nature\",\"Animals & Nature\",\"Animals & Nature\",\"Action-Adventure\",\"Action-Adventure\",\"Action-Adventure\",\"Animation\",\"Comedy\",\"Concert Film\",\"Comedy\",\"Comedy\",\"Animation\",\"Comedy\",\"Action-Adventure\",\"Action-Adventure\",\"Comedy\",\"Action-Adventure\",\"Coming of Age\",\"Coming of Age\",\"Coming of Age\",\"Comedy\",\"Comedy\",\"Animation\",\"Comedy\",\"Action-Adventure\",\"Action-Adventure\",\"Coming of Age\",\"Animals & Nature\",\"Animals & Nature\",\"Animals & Nature\",\"Action-Adventure\",\"Animation\",\"Animation\",\"Action-Adventure\",\"Action-Adventure\",\"Animation\",\"Coming of Age\",\"Animation\",\"Animation\",\"Action-Adventure\",\"Action-Adventure\",\"Action-Adventure\",\"Action-Adventure\",\"Biographical\",\"Comedy\",\"Action-Adventure\",\"Action-Adventure\",\"Action-Adventure\",\"Comedy\",\"Animation\",\"Action-Adventure\",\"Animals & Nature\",\"Comedy\",\"Animals & Nature\",\"Coming of Age\",\"Coming of Age\",\"Concert Film\",\"Action-Adventure\",\"Action-Adventure\",\"Coming of Age\",\"Action-Adventure\",\"Comedy\",\"Animals & Nature\",\"Action-Adventure\",\"Action-Adventure\",\"Action-Adventure\",\"Action-Adventure\",\"Animals & Nature\",\"Animals & Nature\",\"Action-Adventure\",\"Animation\",\"Animation\",\"Animation\",\"Animation\",\"Action-Adventure\",\"Action-Adventure\",\"Animation\",\"Action-Adventure\",\"Action-Adventure\",\"Action-Adventure\",\"Action-Adventure\",\"Action-Adventure\",\"Action-Adventure\",\"Action-Adventure\",\"Action-Adventure\",\"Action-Adventure\",\"Action-Adventure\",\"Action-Adventure\",\"Action-Adventure\",\"Coming of Age\",\"Animation\",\"Action-Adventure\",\"Coming of Age\",\"Animals & Nature\",\"Buddy\",\"Comedy\",\"Animation\",\"Action-Adventure\",\"Animation\",\"Comedy\",\"Animation\",\"Docuseries\",\"Action-Adventure\",\"Comedy\",\"Animation\",\"Animation\",\"Animation\",\"Animals & Nature\",\"Documentary\",\"Action-Adventure\",\"Action-Adventure\",\"Action-Adventure\",\"Action-Adventure\",\"Documentary\",\"Action-Adventure\",\"Action-Adventure\",\"Action-Adventure\",\"Action-Adventure\",\"Action-Adventure\",\"Action-Adventure\",\"Action-Adventure\",\"Action-Adventure\",\"Action-Adventure\",\"Action-Adventure\",\"Action-Adventure\",\"Action-Adventure\",\"Action-Adventure\",\"Action-Adventure\",\"Action-Adventure\",\"Action-Adventure\",\"Action-Adventure\",\"Action-Adventure\",\"Action-Adventure\",\"Action-Adventure\",\"Action-Adventure\",\"Action-Adventure\",\"Action-Adventure\",\"Docuseries\",\"Action-Adventure\",\"Action-Adventure\",\"Action-Adventure\",\"Family\",\"Animation\",\"Buddy\",\"Action-Adventure\",\"Animation\",\"Animation\",\"Animation\",\"Family\",\"Action-Adventure\",\"Animation\",\"Animation\",\"Animation\",\"Animation\",\"Animation\",\"Animation\",\"Animation\",\"Action-Adventure\",\"Animation\",\"Action-Adventure\",\"Drama\",\"Drama\",\"Biographical\",\"Action-Adventure\",\"Documentary\",\"Action-Adventure\",\"Comedy\",\"Animation\",\"Animation\",\"Drama\",\"Comedy\",\"Animation\",\"Animation\",\"Action-Adventure\",\"Anthology\",\"Action-Adventure\",\"Action-Adventure\",\"Comedy\",\"Animation\",\"Action-Adventure\",\"Coming of Age\",\"Coming of Age\",\"Comedy\",\"Coming of Age\",\"Animation\",\"Animals & Nature\",\"Action-Adventure\",\"Comedy\",\"Drama\",\"Animation\",\"Action-Adventure\",\"Docuseries\",\"Kids\",\"Documentary\",\"Animation\",\"Animation\",\"Animals & Nature\",\"Action-Adventure\",\"Action-Adventure\",\"Action-Adventure\",\"Comedy\",\"Comedy\",\"Action-Adventure\",\"Action-Adventure\",\"Action-Adventure\",\"Action-Adventure\",\"Animation\",\"Animals & Nature\",\"Action-Adventure\",\"Action-Adventure\",\"Action-Adventure\",\"Anthology\",\"Comedy\",\"Animals & Nature\",\"Animation\",\"Animation\",\"Animation\",\"Animation\",\"Action-Adventure\",\"Action-Adventure\",\"Coming of Age\",\"Action-Adventure\",\"Action-Adventure\",\"Animation\",\"Buddy\",\"Animation\",\"Action-Adventure\",\"Biographical\",\"Comedy\",\"Animation\",\"Comedy\",\"Animals & Nature\",\"Animation\",\"Animation\",\"Animation\",\"Animation\",\"Drama\",\"Animation\",\"Action-Adventure\",\"Family\",\"Action-Adventure\",\"Action-Adventure\",\"Buddy\",\"Animation\",\"Coming of Age\",\"Action-Adventure\",\"Animals & Nature\",\"Action-Adventure\",\"Documentary\",\"Biographical\",\"Animals & Nature\",\"Animation\",\"Animals & Nature\",\"Action-Adventure\",\"Fantasy\",\"Animation\",\"Biographical\",\"Documentary\",\"Action-Adventure\",\"Animation\",\"Animals & Nature\",\"Documentary\",\"Animals & Nature\",\"Animals & Nature\",\"Buddy\",\"Action-Adventure\",\"Comedy\",\"Action-Adventure\",\"Action-Adventure\",\"Action-Adventure\",\"Comedy\",\"Comedy\",\"Action-Adventure\",\"Animation\",\"Comedy\",\"Animation\",\"Animation\",\"Comedy\",\"Comedy\",\"Fantasy\",\"Animation\",\"Action-Adventure\",\"Action-Adventure\",\"Action-Adventure\",\"Action-Adventure\",\"Action-Adventure\",\"Action-Adventure\",\"Action-Adventure\",\"Action-Adventure\",\"Action-Adventure\",\"Series\",\"Action-Adventure\",\"Action-Adventure\",\"Action-Adventure\",\"Action-Adventure\",\"Action-Adventure\",\"Comedy\",\"Animation\",\"Comedy\",\"Animation\",\"Documentary\",\"Comedy\",\"Action-Adventure\",\"Action-Adventure\",\"Action-Adventure\",\"Action-Adventure\",\"Action-Adventure\",\"Action-Adventure\",\"Animation\",\"Action-Adventure\",\"Animation\",\"Fantasy\",\"Coming of Age\",\"Buddy\",\"Animals & Nature\",\"Animals & Nature\",\"Comedy\",\"Animation\",\"Action-Adventure\",\"Action-Adventure\",\"Action-Adventure\",\"Buddy\",\"Animals & Nature\",\"Comedy\",\"Comedy\",\"Action-Adventure\",\"Animation\",\"Action-Adventure\",\"Action-Adventure\",\"Animation\",\"Animals & Nature\",\"Animation\",\"Animals & Nature\",\"Action-Adventure\",\"Action-Adventure\",\"Animation\",\"Animation\",\"Comedy\",\"Action-Adventure\",\"Action-Adventure\",\"Coming of Age\",\"Coming of Age\",\"Comedy\",\"Crime\",\"Action-Adventure\",\"Action-Adventure\",\"Biographical\",\"Comedy\",\"Comedy\",\"Action-Adventure\",\"Action-Adventure\",\"Animals & Nature\",\"Action-Adventure\",\"Action-Adventure\",\"Comedy\",\"Comedy\",\"Animation\",\"Animation\",\"Action-Adventure\",\"Comedy\",\"Biographical\",\"Comedy\",\"Animation\",\"Action-Adventure\",\"Action-Adventure\",\"Docuseries\",\"Action-Adventure\",\"Action-Adventure\",\"Action-Adventure\",\"Action-Adventure\",\"Action-Adventure\",\"Animation\",\"Action-Adventure\",\"Action-Adventure\",\"Animation\",\"Animation\",\"Animation\",\"Animation\",\"Animals & Nature\",\"Comedy\",\"Documentary\",\"Action-Adventure\",\"Animation\",\"Comedy\",\"Drama\",\"Comedy\",\"Action-Adventure\",\"Comedy\",\"Comedy\",\"Animation\",\"Action-Adventure\",\"Animation\",\"Comedy\",\"Comedy\",\"Animation\",\"Documentary\",\"Comedy\",\"Action-Adventure\",\"Animation\",\"Comedy\",\"Comedy\",\"Animation\",\"Animation\",\"Animation\",\"Action-Adventure\",\"Action-Adventure\",\"Biographical\",\"Comedy\",\"Comedy\",\"Comedy\",\"Comedy\",\"Fantasy\",\"Comedy\",\"Comedy\",\"Action-Adventure\",\"Animation\",\"Biographical\",\"Action-Adventure\",\"Comedy\",\"Comedy\",\"Action-Adventure\",\"Action-Adventure\",\"Comedy\",\"Coming of Age\",\"Animation\",\"Action-Adventure\",\"Action-Adventure\",\"Animation\",\"Animals & Nature\",\"Animation\",\"Comedy\",\"Animals & Nature\",\"Action-Adventure\",\"Animation\",\"Comedy\",\"Docuseries\",\"Action-Adventure\",\"Animation\",\"Drama\",\"Animation\",\"Animation\",\"Buddy\",\"Buddy\",\"Animation\",\"Drama\",\"Animation\",\"Animation\",\"Animation\",\"Action-Adventure\",\"Action-Adventure\",\"Action-Adventure\",\"Documentary\",\"Animation\",\"Action-Adventure\",\"Action-Adventure\",\"Action-Adventure\",\"Animation\",\"Animation\",\"Animation\",\"Animation\",\"Action-Adventure\",\"Animation\",\"Action-Adventure\",\"Action-Adventure\",\"Action-Adventure\",\"Animals & Nature\",\"Action-Adventure\",\"Coming of Age\",\"Coming of Age\",\"Animation\",\"Comedy\",\"Comedy\",\"Comedy\",\"Action-Adventure\",\"Action-Adventure\",\"Comedy\",\"Action-Adventure\",\"Documentary\",\"Action-Adventure\",\"Action-Adventure\",\"Action-Adventure\",\"Action-Adventure\",\"Action-Adventure\",\"Animals & Nature\",\"Action-Adventure\",\"Animation\",\"Animation\",\"Animation\",\"Animation\",\"Comedy\",\"Action-Adventure\",\"Action-Adventure\",\"Animals & Nature\",\"Action-Adventure\",\"Action-Adventure\",\"Animation\",\"Animals & Nature\",\"Comedy\",\"Coming of Age\",\"Animation\",\"Coming of Age\",\"Comedy\",\"Comedy\",\"Comedy\",\"Comedy\",\"Animation\",\"Comedy\",\"Comedy\",\"Action-Adventure\",\"Animals & Nature\",\"Action-Adventure\",\"Comedy\",\"Comedy\",\"Animation\",\"Action-Adventure\",\"Animals & Nature\",\"Action-Adventure\",\"Action-Adventure\",\"Kids\",\"Action-Adventure\",\"Comedy\",\"Animation\",\"Action-Adventure\",\"Action-Adventure\",\"Biographical\",\"Buddy\",\"Action-Adventure\",\" Family\",\" Comedy\",\" Historical\",\" Documentary\",\" Superhero\",\" Reality\",\" Docuseries\",\" Family\",\" Family\",\" Family\",\" Animals & Nature\",\" Comedy\",\" Kids\",\" Coming of Age\",\" Family\",\" Comedy\",\" Family\",\" Animation\",\" Family\",\" Comedy\",\" Science Fiction\",\" Family\",\" Comedy\",\" Fantasy\",\" Music\",\" Family\",\" Family\",\" Drama\",\" Music\",\" Comedy\",\" Comedy\",\" Crime\",\" Fantasy\",\" Family\",\" Family\",\" Family\",\" Family\",\" Fantasy\",\" Comedy\",\" Comedy\",\" Family\",\" Science Fiction\",\" Comedy\",\" Docuseries\",\" Animals & Nature\",\" Documentary\",\" Sports\",\" Family\",\" Family\",\" Animation\",\" Reality\",\" Historical\",\" Historical\",\" Comedy\",\" Docuseries\",\" Docuseries\",\" Coming of Age\",\" Family\",\" Family\",\" Variety\",\" Comedy\",\" Science Fiction\",\" Historical\",\" Historical\",\" Documentary\",\" Buddy\",\" Comedy\",\" Family\",\" Animation\",\" Family\",\" Family\",\" Fantasy\",\" Game Show / Competition\",\" Docuseries\",\" Music\",\" Science Fiction\",\" Anthology\",\" Docuseries\",\" Comedy\",\" Fantasy\",\" Drama\",\" Docuseries\",\" Animation\",\" Animation\",\" Romance\",\" Fantasy\",\" Music\",\" Documentary\",\" Comedy\",\" Documentary\",\" Animals & Nature\",\" Animation\",\" Docuseries\",\" Fantasy\",\" Family\",\" Coming of Age\",\" Fantasy\",\" Comedy\",\" Docuseries\",\" Music\",\" Family\",\" Docuseries\",\" Comedy\",\" Drama\",\" Drama\",\" Music\",\" Drama\",\" Family\",\" Docuseries\",\" Animation\",\" Animals & Nature\",\" Family\",\" Docuseries\",\" Family\",\" Family\",\" Kids\",\" Comedy\",\" Family\",\" Animation\",\" Comedy\",\" Coming of Age\",\" Documentary\",\" Drama\",\" Docuseries\",\" Anthology\",\" Family\",\" Buddy\",\" Docuseries\",\" Buddy\",\" Kids\",\" Kids\",\" Comedy\",\" Biographical\",\" Documentary\",\" Documentary\",\" Family\",\" Documentary\",\" Family\",\" Animation\",\" Animation\",\" Animation\",\" Buddy\",\" Documentary\",\" Documentary\",\" Docuseries\",\" Documentary\",\" Documentary\",\" Drama\",\" Documentary\",\" Documentary\",\" Coming of Age\",\" Coming of Age\",\" Fantasy\",\" Documentary\",\" Documentary\",\" Documentary\",\" Documentary\",\" Documentary\",\" Docuseries\",\" Kids\",\" Comedy\",\" Comedy\",\" Family\",\" Coming of Age\",\" Sports\",\" Comedy\",\" Reality\",\" Family\",\" Documentary\",\" Kids\",\" Family\",\" Docuseries\",\" Buddy\",\" Animation\",\" Kids\",\" Animation\",\" Coming of Age\",\" Comedy\",\" Anthology\",\" Fantasy\",\" Docuseries\",\" Kids\",\" Animation\",\" Drama\",\" Dance\",\" Kids\",\" Drama\",\" Coming of Age\",\" Fantasy\",\" Docuseries\",\" Animals & Nature\",\" Animation\",\" Superhero\",\" Reality\",\" Animation\",\" Animation\",\" Animation\",\" Family\",\" Animation\",\" Family\",\" Animation\",\" Family\",\" Drama\",\" Comedy\",\" Science Fiction\",\" Animation\",\" Animation\",\" Comedy\",\" Musical\",\" Documentary\",\" Animation\",\" Romance\",\" Comedy\",\" Documentary\",\" Coming of Age\",\" Docuseries\",\" Drama\",\" Anthology\",\" Reality\",\" Animation\",\" Coming of Age\",\" Comedy\",\" Animals & Nature\",\" Documentary\",\" Kids\",\" Animation\",\" Coming of Age\",\" Coming of Age\",\" Biographical\",\" Fantasy\",\" Fantasy\",\" Kids\",\" Fantasy\",\" Comedy\",\" Docuseries\",\" Documentary\",\" Animation\",\" Comedy\",\" Documentary\",\" Coming of Age\",\" Reality\",\" Animation\",\" Drama\",\" Animation\",\" Documentary\",\" Docuseries\",\" Buddy\",\" Kids\",\" Docuseries\",\" Fantasy\",\" Family\",\" Animation\",\" Comedy\",\" Sports\",\" Docuseries\",\" Fantasy\",\" Comedy\",\" Family\",\" Documentary\",\" Comedy\",\" Fantasy\",\" Family\",\" Family\",\" Coming of Age\",\" Animation\",\" Family\",\" Animation\",\" Documentary\",\" Family\",\" Documentary\",\" Documentary\",\" Fantasy\",\" Docuseries\",\" Family\",\" Anthology\",\" Documentary\",\" Animation\",\" Animation\",\" Fantasy\",\" Fantasy\",\" Game Show / Competition\",\" Animation\",\" Docuseries\",\" Animation\",\" Documentary\",\" Documentary\",\" Comedy\",\" Documentary\",\" Documentary\",\" Family\",\" Docuseries\",\" Docuseries\",\" Family\",\" Comedy\",\" Family\",\" Historical\",\" Docuseries\",\" Family\",\" Fantasy\",\" Animation\",\" Family\",\" Docuseries\",\" Variety\",\" Music\",\" Animation\",\" Drama\",\" Family\",\" Family\",\" Documentary\",\" Coming of Age\",\" Comedy\",\" Music\",\" Family\",\" Coming of Age\",\" Coming of Age\",\" Family\",\" Fantasy\",\" Kids\",\" Music\",\" Drama\",\" Docuseries\",\" Animation\",\" Animation\",\" Historical\",\" Animation\",\" Animation\",\" Family\",\" Family\",\" Family\",\" Family\",\" Historical\",\" Historical\",\" Fantasy\",\" Kids\",\" Animation\",\" Comedy\",\" Family\",\" Family\",\" Variety\",\" Family\",\" Fantasy\",\" Docuseries\",\" Docuseries\",\" Reality\",\" Animation\",\" Comedy\",\" Historical\",\" Comedy\",\" Comedy\",\" Drama\",\" Documentary\",\" Animation\",\" Docuseries\",\" Animation\",\" Historical\",\" Family\",\" Historical\",\" Documentary\",\" Family\",\" Music\",\" Documentary\",\" Drama\",\" Docuseries\",\" Coming of Age\",\" Documentary\",\" Animals & Nature\",\" Historical\",\" Docuseries\",\" Family\",\" Reality\",\" Romance\",\" Historical\",\" Sports\",\" Fantasy\",\" Coming of Age\",\" Drama\",\" Family\",\" Drama\",\" Coming of Age\",\" Parody\",\" Family\",\" Fantasy\",\" Animation\",\" Historical\",\" Fantasy\",\" Family\",\" Kids\",\" Kids\",\" Fantasy\",\" Documentary\",\" Docuseries\",\" Family\",\" Comedy\",\" Docuseries\",\" Docuseries\",\" Docuseries\",\" Kids\",\" Drama\",\" Kids\",\" Docuseries\",\" Documentary\",\" Fantasy\",\" Family\",\" Documentary\",\" Comedy\",\" Reality\",\" Docuseries\",\" Docuseries\",\" Family\",\" Music\",\" Historical\",\" Docuseries\",\" Docuseries\",\" Animation\",\" Animals & Nature\",\" Animation\",\" Family\",\" Documentary\",\" Docuseries\",\" Fantasy\",\" Animation\",\" Docuseries\",\" Docuseries\",\" Docuseries\",\" Family\",\" Family\",\" Kids\",\" Family\",\" Animation\",\" Drama\",\" Docuseries\",\" Family\",\" Docuseries\",\" Musical\",\" Crime\",\" Family\",\" Musical\",\" Docuseries\",\" Family\",\" Historical\",\" Animation\",\" Family\",\" Family\",\" Drama\",\" Drama\",\" Coming of Age\",\" Family\",\" Family\",\" Documentary\",\" Fantasy\",\" Animation\",\" Animation\",\" Animation\",\" Documentary\",\" Kids\",\" Historical\",\" Coming of Age\",\" Animation\",\" Animation\",\" Animation\",\" Crime\",\" Coming of Age\",\" Family\",\" Family\",\" Historical\",\" Docuseries\",\" Documentary\",\" Comedy\",\" Docuseries\",\" Family\",\" Docuseries\",\" Historical\",\" Docuseries\",\" Historical\",\" Comedy\",\" Family\",\" Fantasy\",\" Drama\",\" Kids\",\" Comedy\",\" Musical\",\" Animation\",\" Family\",\" Game Show / Competition\",\" Documentary\",\" Docuseries\",\" Family\",\" Family\",\" Family\",\" Docuseries\",\" Family\",\" Docuseries\",\" Comedy\",\" Animals & Nature\",\" Animals & Nature\",\" Family\",\" Documentary\",\" Historical\",\" Docuseries\",\" Documentary\",\" Docuseries\",\" Documentary\",\" Comedy\",\" Docuseries\",\" Docuseries\",\" Documentary\",\" Mystery\",\" Documentary\",\" Family\",\" Documentary\",\" Animation\",\" Documentary\",\" Family\",\" Animation\",\" Family\",\" Family\",\" Animation\",\" Music\",\" Kids\",\" Comedy\",\" Docuseries\",\" Historical\",\" Family\",\" Family\",\" Documentary\",\" Documentary\",\" Documentary\",\" Family\",\" Family\",\" Family\",\" Family\",\" Documentary\",\" Family\",\" Comedy\",\" Family\",\" Documentary\",\" Family\",\" Comedy\",\" Animation\",\" Family\",\" Documentary\",\" Family\",\" Family\",\" Coming of Age\",\" Animals & Nature\",\" Family\",\" Family\",\" Drama\",\" Comedy\",\" Animation\",\" Coming of Age\",\" Drama\",\" Family\",\" Game Show / Competition\",\" Coming of Age\",\" Family\",\" Docuseries\",\" Fantasy\",\" Comedy\",\" Animation\",\" Drama\",\" Disaster\",\" Family\",\" Family\",\" Science Fiction\",\" Animation\",\" Animation\",\" Game Show / Competition\",\" Historical\",\" Animation\",\" Docuseries\",\" Animation\",\" Animation\",\" Animation\",\" Animation\",\" Drama\",\" Family\",\" Comedy\",\" Fantasy\",\" Coming of Age\",\" Comedy\",\" Animation\",\" Fantasy\",\" Comedy\",\" Comedy\",\" Coming of Age\",\" Coming of Age\",\" Coming of Age\",\" Docuseries\",\" Animals & Nature\",\" Animation\",\" Kids\",\" Drama\",\" Docuseries\",\" Family\",\" Comedy\",\" Family\",\" Drama\",\" Family\",\" Comedy\",\" Coming of Age\",\" Comedy\",\" Comedy\",\" Comedy\",\" Comedy\",\" Family\",\" Comedy\",\" Comedy\",\" Comedy\",\" Family\",\" Comedy\",\" Historical\",\" Historical\",\" Historical\",\" Game Show / Competition\",\" Family\",\" Drama\",\" Family\",\" Animation\",\" Docuseries\",\" Animals & Nature\",\" Animation\",\" Comedy\",\" Animation\",\" Science Fiction\",\" Comedy\",\" Science Fiction\",\" Comedy\",\" Comedy\",\" Documentary\",\" Docuseries\",\" Animals & Nature\",\" Comedy\",\" Family\",\" Comedy\",\" Docuseries\",\" Comedy\",\" Animation\",\" Family\",\" Animation\",\" Documentary\",\" Drama\",\" Fantasy\",\" Biographical\",\" Animation\",\" Animation\",\" Animation\",\" Kids\",\" Docuseries\",\" Documentary\",\" Family\",\" Family\",\" Comedy\",\" Family\",\" Comedy\",\" Kids\",\" Comedy\",\" Comedy\",\" Coming of Age\",\" Animation\",\" Animation\",\" Animals & Nature\",\" Family\",\" Family\",\" Comedy\",\" Animation\",\" Comedy\",\" Comedy\",\" Drama\",\" Animation\",\" Animation\",\" Animation\",\" Animation\",\" Animals & Nature\",\" Drama\",\" Drama\",\" Family\",\" Family\",\" Comedy\",\" Coming of Age\",\" Family\",\" Family\",\" Historical\",\" Animation\",\" Animation\",\" Comedy\",\" Science Fiction\",\" Family\",\" Fantasy\",\" Drama\",\" Drama\",\" Family\",\" Comedy\",\" Comedy\",\" Anthology\",\" Family\",\" Comedy\",\" Animals & Nature\",\" Comedy\",\" Animation\",\" Animation\",\" Animation\",\" Documentary\",\" Family\",\" Comedy\",\" Animation\",\" Comedy\",\" Comedy\",\" Family\",\" Coming of Age\",\" Coming of Age\",\" Animation\",\" Sports\",\" Drama\",\" Animation\",\" Animation\",\" Coming of Age\",\" Docuseries\",\" Comedy\",\" Coming of Age\",\" Coming of Age\",\" Music\",\" Music\",\" Coming of Age\",\" Coming of Age\",\" Comedy\",\" Comedy\",\" Comedy\",\" Comedy\",\" Comedy\",\" Comedy\",\" Comedy\",\" Comedy\",\" Comedy\",\" Comedy\",\" Comedy\",\" Family\",\" Animals & Nature\",\" Comedy\",\" Comedy\",\" Animation\",\" Comedy\",\" Family\",\" Fantasy\",\" Fantasy\",\" Comedy\",\" Coming of Age\",\" Coming of Age\",\" Family\",\" Comedy\",\" Coming of Age\",\" Fantasy\",\" Mystery\",\" Fantasy\",\" Animation\",\" Family\",\" Family\",\" Comedy\",\" Family\",\" Documentary\",\" Fantasy\",\" Family\",\" Animation\",\" Comedy\",\" Fantasy\",\" Comedy\",\" Comedy\",\" Coming of Age\",\" Fantasy\",\" Coming of Age\",\" Animation\",\" Family\",\" Animation\",\" Comedy\",\" Animation\",\" Anthology\",\" Animation\",\" Family\",\" Kids\",\" Comedy\",\" Comedy\",\" Animation\",\" Kids\",\" Animation\",\" Kids\",\" Coming of Age\",\" Kids\",\" Animation\",\" Musical\",\" Animation\",\" Comedy\",\" Lifestyle\",\" Lifestyle\",\" Animation\",\" Animation\",\" Animation\",\" Animation\",\" Comedy\",\" Comedy\",\" Drama\",\" Animation\",\" Family\",\" Documentary\",\" Documentary\",\" Documentary\",\" Documentary\",\" Documentary\",\" Documentary\",\" Documentary\",\" Docuseries\",\" Fantasy\",\" Comedy\",\" Comedy\",\" Sports\",\" Comedy\",\" Family\",\" Animation\",\" Comedy\",\" Family\",\" Comedy\",\" Documentary\",\" Historical\",\" Coming of Age\",\" Animals & Nature\",\" Animation\",\" Crime\",\" Reality\",\" Family\",\" Coming of Age\",\" Family\",\" Family\",\" Animation\",\" Animation\",\" Comedy\",\" Animation\",\" Animation\",\" Comedy\",\" Science Fiction\",\" Family\",\" Family\",\" Family\",\" Comedy\",\" Comedy\",\" Comedy\",\" Documentary\",\" Parody\",\" Family\",\" Documentary\",\" Comedy\",\" Family\",\" Drama\",\" Animation\",\" Comedy\",\" Animation\",\" Coming of Age\",\" Coming of Age\",\" Comedy\",\" Family\",\" Mystery\",\" Documentary\",\" Coming of Age\",\" Sports\",\" Sports\",\" Coming of Age\",\" Coming of Age\",\" Comedy\",\" Dance\",\" Comedy\",\" Family\",\" Docuseries\",\" Drama\",\" Comedy\",\" Comedy\",\" Comedy\",\" Fantasy\",\" Kids\",\" Coming of Age\",\" Documentary\",\" Coming of Age\",\" Coming of Age\",\" Comedy\",\" Family\",\" Comedy\",\" Comedy\",\" Family\",\" Animation\",\" Musical\",\" Musical\",\" Family\",\" Coming of Age\",\" Family\",\" Comedy\",\" Family\",\" Comedy\",\" Comedy\",\" Drama\",\" Docuseries\",\" Comedy\",\" Documentary\",\" Comedy\",\" Comedy\",\" Family\",\" Animation\",\" Comedy\",\" Comedy\",\" Drama\",\" Comedy\",\" Coming of Age\",\" Comedy\",\" Comedy\",\" Animals & Nature\",\" Animals & Nature\",\" Family\",\" Science Fiction\",\" Animation\",\" Animation\",\" Coming of Age\",\" Coming of Age\",\" Comedy\",\" Animation\",\" Biographical\",\" Coming of Age\",\" Documentary\",\" Drama\",\" Drama\",\" Documentary\",\" Animals & Nature\",\" Family\",\" Dance\",\" Coming of Age\",\" Family\",\" Documentary\",\" Comedy\",\" Comedy\",\" Comedy\",\" Animation\",\" Documentary\",\" Documentary\",\" Animals & Nature\",\" Buddy\",\" Family\",\" Comedy\",\" Coming of Age\",\" Comedy\",\" Comedy\",\" Family\",\" Animation\",\" Animation\",\" Animation\",\" Animation\",\" Animation\",\" Animation\",\" Animation\",\" Animation\",\" Animation\",\" Animation\",\" Animation\",\" Animation\",\" Drama\",\" Family\",\" Animation\",\" Drama\",\" Comedy\",\" Comedy\",\" Coming of Age\",\" Comedy\",\" Animation\",\" Comedy\",\" Coming of Age\",\" Family\",\" Historical\",\" Animation\",\" Coming of Age\",\" Comedy\",\" Comedy\",\" Comedy\",\" Documentary\",\" Animation\",\" Animation\",\" Animation\",\" Documentary\",\" Family\",\" Comedy\",\" Science Fiction\",\" Fantasy\",\" Science Fiction\",\" Science Fiction\",\" Science Fiction\",\" Science Fiction\",\" Fantasy\",\" Comedy\",\" Comedy\",\" Science Fiction\",\" Science Fiction\",\" Science Fiction\",\" Fantasy\",\" Fantasy\",\" Fantasy\",\" Animation\",\" Science Fiction\",\" Animation\",\" Animation\",\" Animation\",\" Animation\",\" Animation\",\" Family\",\" Science Fiction\",\" Animation\",\" Animation\",\" Fantasy\",\" Comedy\",\" Comedy\",\" Animation\",\" Anthology\",\" Comedy\",\" Kids\",\" Variety\",\" Animation\",\" Comedy\",\" Comedy\",\" Comedy\",\" Anthology\",\" Comedy\",\" Comedy\",\" Anthology\",\" Animals & Nature\",\" Buddy\",\" Comedy\",\" Historical\",\" Historical\",\" Drama\",\" Documentary\",\" Animation\",\" Fantasy\",\" Buddy\",\" Buddy\",\" Sports\",\" Fantasy\",\" Comedy\",\" Comedy\",\" Animation\",\" Comedy\",\" Comedy\",\" Comedy\",\" Science Fiction\",\" Kids\",\" Mystery\",\" Drama\",\" Drama\",\" Family\",\" Fantasy\",\" Comedy\",\" Drama\",\" Animation\",\" Family\",\" Fantasy\",\" Comedy\",\" Animals & Nature\",\" Historical\",\" Comedy\",\" Comedy\",\" Documentary\",\" Family\",\" Animation\",\" Animation\",\" Coming of Age\",\" Coming of Age\",\" Animation\",\" Animation\",\" Animation\",\" Animation\",\" Family\",\" Animation\",\" Fantasy\",\" Fantasy\",\" Fantasy\",\" Comedy\",\" Coming of Age\",\" Documentary\",\" Comedy\",\" Family\",\" Comedy\",\" Comedy\",\" Animation\",\" Animation\",\" Drama\",\" Animation\",\" Animation\",\" Family\",\" Comedy\",\" Comedy\",\" Animation\",\" Drama\",\" Coming of Age\",\" Comedy\",\" Coming of Age\",\" Coming of Age\",\" Comedy\",\" Comedy\",\" Comedy\",\" Drama\",\" Historical\",\" Comedy\",\" Family\",\" Fantasy\",\" Family\",\" Comedy\",\" Family\",\" Comedy\",\" Drama\",\" Animation\",\" Docuseries\",\" Science Fiction\",\" Family\",\" Drama\",\" Documentary\",\" Comedy\",\" Comedy\",\" Animation\",\" Musical\",\" Family\",\" Drama\",\" Family\",\" Animals & Nature\",\" Fantasy\",\" Biographical\",\" Historical\",\" Documentary\",\" Documentary\",\" Comedy\",\" Animals & Nature\",\" Coming of Age\",\" Coming of Age\",\" Animation\",\" Animation\",\" Crime\",\" Family\",\" Science Fiction\",\" Family\",\" Coming of Age\",\" Buddy\",\" Family\",\" Family\",\" Family\",\" Kids\",\" Comedy\",\" Animation\",\" Animation\",\" Animation\",\" Animation\",\" Animation\",\" Animation\",\" Animation\",\" Science Fiction\",\" Science Fiction\",\" Science Fiction\",\" Science Fiction\",\" Science Fiction\",\" Science Fiction\",\" Science Fiction\",\" Coming of Age\",\" Family\",\" Family\",\" Comedy\",\" Coming of Age\",\" Animals & Nature\",\" Comedy\",\" Family\",\" Animation\",\" Western\",\" Animation\",\" Coming of Age\",\" Animation\",\" Comedy\",\" Musical\",\" Fantasy\",\" Comedy\",\" Comedy\",\" Comedy\",\" Family\",\" Kids\",\" Comedy\",\" Coming of Age\",\" Animation\",\" Coming of Age\",\" Documentary\",\" Family\",\" Family\",\" Animation\",\" Comedy\",\" Animation\",\" Animation\",\" Family\",\" Drama\",\" Family\",\" Drama\",\" Animation\",\" Science Fiction\",\" Family\",\" Anthology\",\" Kids\",\" Animation\",\" Family\",\" Drama\",\" Drama\",\" Coming of Age\",\" Drama\",\" Family\",\" Family\",\" Drama\",\" Crime\",\" Music\",\" Animation\",\" Comedy\",\" Documentary\",\" Animation\",\" Animation\",\" Family\",\" Family\",\" Family\",\" Family\",\" Animation\",\" Crime\",\" Sports\",\" Family\",\" Comedy\",\" Animation\",\" Animation\",\" Historical\",\" Animals & Nature\",\" Animation\",\" Coming of Age\",\" Animation\",\" Coming of Age\",\" Family\",\" Animation\",\" Animation\",\" Family\",\" Drama\",\" Drama\",\" Family\",\" Documentary\",\" Coming of Age\",\" Historical\",\" Comedy\",\" Kids\",\" Family\",\" Music\",\" Drama\",\" Comedy\",\" Family\",\" Kids\",\" Animation\",\" Comedy\",\" Family\",\" Family\",\" Family\",\" Family\",\" Coming of Age\",\" Coming of Age\",\" Comedy\",\" Coming of Age\",\" Family\",\" Comedy\",\" Comedy\",\" Comedy\",\" Animation\",\" Animation\",\" Family\",\" Family\",\" Family\",\" Family\",\" Fantasy\",\" Family\",\" Family\",\" Drama\",\" Comedy\",\" Family\",\" Family\",\" Family\",\" Coming of Age\",\" Comedy\",\" Comedy\",\" Coming of Age\",\" Fantasy\",\" Family\",\" Comedy\",\" Animation\",\" Family\",\" Comedy\",\" Family\",\" Coming of Age\",\" Documentary\",\" Animation\",\" Family\",\" Coming of Age\",\" Animals & Nature\",\" Family\",\" Fantasy\",\" Family\",\" Family\",\" Comedy\",\" Comedy\",\" Comedy\",\" Family\",\" Family\",\" Buddy\",\" Family\",\" Animation\",\" Animation\",\" Animation\",\" Historical\",\" Family\",\" Comedy\",\" Animation\",\" Animation\",\" Comedy\",\" Comedy\",\" Comedy\",\" Family\",\" Animals & Nature\",\" Comedy\",\" Family\",\" Family\",\" Animation\",\" Documentary\",\" Family\",\" Drama\",\" Drama\",\" Comedy\",\" Crime\",\" Fantasy\",\" Fantasy\",\" Comedy\",\" Animation\",\" Coming of Age\",\" Animation\",\" Animation\",\" Coming of Age\",\" Animals & Nature\",\" Animals & Nature\",\" Animation\",\" Docuseries\",\" Animals & Nature\",\" Comedy\",\" Kids\",\" Kids\",\" Comedy\",\" Coming of Age\",\" Comedy\",\" Animation\",\" Documentary\",\" Animation\",\" Animation\",\" Comedy\",\" Comedy\",\" Fantasy\",\" Drama\",\" Comedy\",\" Musical\",\" Coming of Age\",\" Coming of Age\",\" Science Fiction\",\" Coming of Age\",\" Comedy\",\" Family\",\" Family\",\" Animation\",\" Biographical\",\" Animation\",\" Coming of Age\",\" Family\",\" Family\",\" Animation\",\" Drama\",\" Comedy\",\" Comedy\",\" Music\",\" Science Fiction\",\" Coming of Age\",\" Comedy\",\" Family\",\" Comedy\",\" Comedy\",\" Comedy\",\" Animals & Nature\",\" Family\",\" Music\",\" Survival\",\" Family\",\" Musical\",\" Music\",\" Docuseries\",\" Family\",\" Drama\",\" Fantasy\",\" Drama\",\" Fantasy\",\" Comedy\",\" Family\",\" Family\",\" Superhero\",\" Fantasy\",\" Coming of Age\",\" Family\",\" Music\",\" Fantasy\",\" Kids\",\" Kids\",\" Kids\",\" Fantasy\",\" Superhero\",\" Family\",\" Family\",\" Docuseries\",\" Sports\",\" Fantasy\",\" Kids\",\" Coming of Age\",\" Family\",\" Medical\",\" Fantasy\",\" Fantasy\",\" Musical\",\" Kids\",\" Spy/Espionage\",\" Coming of Age\",\" Family\",\" Music\",\" Science Fiction\",\" Fantasy\",\" Parody\",\" Kids\",\" Science Fiction\",\" Reality\",\" Kids\",\" Romance\",\" Family\",\" Kids\",\" Anime\",\" Romantic Comedy\",\" Musical\",\" Family\",\" Docuseries\",\" Fantasy\",\" Family\",\" Kids\",\" Coming of Age\",\" Family\",\" Science Fiction\",\" Family\",\" Family\",\" Romance\",\" Variety\",\" Thriller\",\" Parody\",\" Family\",\" Kids\",\" Docuseries\",\" Fantasy\",\" Family\",\" Science Fiction\",\" Science Fiction\",\" Police/Cop\",\" Family\",\" Science Fiction\",\" Anthology\",\" Family\",\" Family\",\" Family\",\" Family\",\" Comedy\",\" Family\",\" Kids\",\" Family\",\" Documentary\",\" Fantasy\",\" Anime\",\" Kids\",\" Kids\",\" Comedy\",\" Reality\",\" Family\",\" Drama\",\" Reality\",\" Sports\",\" Family\",\" Fantasy\",\" Fantasy\",\" Family\",\" Coming of Age\",\" Survival\",\" Western\",\" Family\",\" Coming of Age\",\" Fantasy\",\" Family\",\" Family\",\" Spy/Espionage\",\" Family\",\" Science Fiction\",\" Lifestyle\",\" Family\",\" Historical\",\" Family\",\" Family\",\" Docuseries\",\" Comedy\",\" Survival\",\" Fantasy\",\" Kids\",\" Kids\",\" Game Show / Competition\",\" Kids\",\" Science Fiction\",\" Kids\",\" Science Fiction\",\" Parody\",\" Science Fiction\",\" Kids\",\" Family\",\" Music\",\" Comedy\",\" Western\",\" Crime\",\" Kids\",\" Sports\",\" Survival\",\" Comedy\",\" Family\",\" Kids\",\" Drama\",\" Crime\",\" Drama\",\" Drama\",\" Science Fiction\",\" Science Fiction\",\" Musical\",\" Survival\",\" Family\",\" Family\",\" Fantasy\",\" Family\",\" Family\",\" Sports\",\" Kids\",\" Music\",\" Science Fiction\",\" Medical\",\" Kids\",\" Comedy\",\" Docuseries\",\" Variety\",\" Family\",\" Kids\",\" Fantasy\",\" Coming of Age\",\" Mystery\",\" Drama\",\" Comedy\",\" Variety\",\" Fantasy\",\" Fantasy\",\" Music\",\" Family\",\" Family\",\" Fantasy\",\" Comedy\",\" Musical\",\" Mystery\",\" Reality\",\" Comedy\",\" Fantasy\",\" Comedy\",\" Family\",\" Family\",\" Family\",\" Family\",\" Family\",\" Musical\",\" Fantasy\",\" Reality\",\" Romance\",\" Comedy\",\" Sports\",\" Fantasy\",\" Fantasy\",\" Drama\",\" Family\",\" Variety\",\" Fantasy\",\" Family\",\" Drama\",\" Soap Opera / Melodrama\",\" Music\",\" Music\",\" Comedy\",\" Comedy\",\" Anthology\",\" Comedy\",\" Buddy\",\" Crime\",\" Fantasy\",\" Fantasy\",\" Science Fiction\",\" Reality\",\" Kids\",\" Coming of Age\",\" Family\",\" Family\",\" Music\",\" Survival\",\" Science Fiction\",\" Family\",\" Kids\",\" Fantasy\",\" Family\",\" Science Fiction\",\" Family\",\" Family\",\" Family\",\" Family\",\" Docuseries\",\" Family\",\" Kids\",\" Reality\",\" Soap Opera / Melodrama\",\" Drama\",\" Music\",\" Fantasy\",\" Family\",\" Drama\",\" Science Fiction\",\" Fantasy\",\" Comedy\",\" Musical\",\" Fantasy\",\" Variety\",\" Music\",\" Musical\",\" Family\",\" Science Fiction\",\" Kids\",\" Family\",\" Kids\",\" Family\",\" Variety\",\" Family\",\" Music\",\" Family\",\" Family\",\" Family\",\" Family\",\" Reality\",\" Musical\",\" Kids\",\" Family\",\" Family\",\" Docuseries\",\" Anthology\",\" Lifestyle\",\" Family\",\" Kids\",\" Family\",\" Historical\",\" Music\",\" Anime\",\" Family\",\" Family\",\" Science Fiction\",\" Family\",\" Science Fiction\",\" Science Fiction\",\" Family\",\" Musical\",\" Comedy\",\" Science Fiction\",\" Sports\",\" Sports\",\" Romance\",\" Music\",\" Family\",\" Science Fiction\",\" Coming of Age\",\" Coming of Age\",\" Kids\",\" Family\",\" Family\",\" Family\",\" Comedy\",\" Comedy\",\" Fantasy\",\" Medical\",\" Historical\",\" Family\",\" Family\",\" Family\",\" Fantasy\",\" Family\",\" Family\",\" Mystery\",\" Mystery\",\" Medical\",\" Crime\",\" Romance\",\" Anime\",\" Fantasy\",\" Music\",\" Family\",\" Fantasy\",\" Science Fiction\",\" Fantasy\",\" Family\",\" Fantasy\",\" Historical\",\" Family\",\" Family\",\" Family\",\" Sports\",\" Family\",\" Family\",\" Family\",\" Reality\",\" Family\",\" Family\",\" Family\",\" Family\",\" Thriller\",\" Fantasy\",\" Family\",\" Comedy\",\" Game Show / Competition\",\" Buddy\",\" Kids\",\" Musical\",\" Family\",\" Family\",\" Family\",\" Family\",\" Sports\",\" Family\",\" Coming of Age\",\" Parody\",\" Family\",\" Family\",\" Comedy\",\" Family\",\" Romance\",\" Drama\",\" Historical\",\" Drama\",\" Family\",\" Drama\",\" Music\",\" Fantasy\",\" Family\",\" Kids\",\" Family\",\" Family\",\" Musical\",\" Drama\",\" Sports\",\" Fantasy\",\" Superhero\",\" Comedy\",\" Musical\",\" Kids\",\" Historical\",\" Coming of Age\",\" Coming of Age\",\" Science Fiction\",\" Science Fiction\",\" Family\",\" Lifestyle\",\" Family\",\" Romance\",\" Fantasy\",\" Drama\",\" Comedy\",\" Musical\",\" Family\",\" Family\",\" Drama\",\" Family\",\" Drama\",\" Docuseries\",\" Comedy\",\" Musical\",\" Romance\",\" Family\",\" Science Fiction\",\" Fantasy\",\" Family\",\" Kids\",\" Fantasy\",\" Family\",\" Family\",\" Family\",\" Family\",\" Family\",\" Family\",\" Family\",\" Sports\",\" Family\",\" Superhero\",\" Family\",\" Docuseries\",\" Comedy\",\" Coming of Age\",\" Comedy\",\" Family\",\" Family\",\" Family\",\" Drama\",\" Family\",\" Family\",\" Family\",\" Fantasy\",\" Family\",\" Family\",\" Fantasy\",\" Comedy\",\" Comedy\",\" Historical\",\" Sports\",\" Kids\",\" Documentary\",\" Superhero\",\" Coming of Age\",\" Kids\",\" Western\",\" Lifestyle\",\" Family\",\" Fantasy\",\" Fantasy\",\" Family\",\" Fantasy\",\" Family\",\" Sports\",\" Dance\",\" Family\",\" Romance\",\" Family\",\" Family\",\" Fantasy\",\" Science Fiction\",\" Family\",\" Comedy\",\" Coming of Age\",\" Family\",\" Romance\",\" Family\",\" Family\",\" Family\",\" Family\",\" Documentary\",\" Sports\",\" Family\",\" Family\",\" Drama\",\" Musical\",\" Historical\",\" Family\",\" Family\",\" Family\",\" Fantasy\",\" Musical\",\" Family\",\" Kids\",\" Fantasy\",\" Family\",\" Family\",\" Fantasy\",\" Fantasy\",\" Family\",\" Family\",\" Coming of Age\",\" Comedy\",\" Family\",\" Comedy\",\" Family\",\" Family\",\" Comedy\",\" Family\",\" Kids\",\" Kids\",\" Family\",\" Family\",\" Sports\",\" Family\",\" Family\",\" Drama\",\" Family\",\" Family\",\" Family\",\" Musical\",\" Musical\",\" Science Fiction\",\" Crime\",\" Family\",\" Family\",\" Family\",\" Family\",\" Family\",\" Family\",\" Family\",\" Family\",\" Family\",\" Family\",\" Family\",\" Mystery\",\" Family\",\" Family\",\" Disaster\",\" Comedy\",\" Family\",\" Fantasy\",\" Kids\",\" Kids\",\" Family\",\" Family\",\" Game Show / Competition\",\" Family\",\" Kids\",\" Romance\",\" Kids\",\" Historical\",\" Historical\",\" Family\",\" Reality\",\" Family\",\" Musical\",\" Family\",\" Coming of Age\",\" Coming of Age\",\" Family\",\" Musical\",\" Fantasy\",\" Comedy\",\" Lifestyle\",\" Comedy\",\" Fantasy\",\" Comedy\",\" Comedy\",\" Fantasy\",\" Kids\",\" Musical\",\" Kids\",\" Coming of Age\",\" Comedy\",\" Comedy\",\" Family\",\" Parody\",\" Comedy\",\" Thriller\",\" Fantasy\",\" Coming of Age\",\" Reality\",\" Reality\",\" Comedy\",\" Comedy\",\" Kids\",\" Comedy\",\" Kids\",\" Coming of Age\",\" Family\",\" Fantasy\",\" Variety\",\" Family\",\" Family\",\" Family\",\" Family\",\" Family\",\" Family\",\" Family\",\" Family\",\" Family\",\" Family\",\" Family\",\" Medical\",\" Comedy\",\" Family\",\" Fantasy\",\" Family\",\" Family\",\" Sports\",\" Drama\",\" Fantasy\",\" Family\",\" Fantasy\",\" Kids\",\" Fantasy\",\" Fantasy\",\" Kids\",\" Kids\",\" Family\",\" Comedy\",\" Comedy\",\" Coming of Age\",\" Fantasy\",\" Kids\",\" Science Fiction\",\" Family\",\" Family\",\" Family\",\" Science Fiction\",\" Fantasy\",\" Sports\",\" Coming of Age\",\" Fantasy\",\" Sports\",\" Comedy\",\" Coming of Age\",\" Fantasy\",\" Drama\",\" Family\",\" Kids\",\" Family\",\" Family\",\" Family\",\" Family\",\" Kids\",\" Drama\",\" Family\",\" Music\",\" Survival\",\" Family\",\" Family\",\" Coming of Age\",\" Fantasy\",\" Kids\",\" Music\",\" Drama\",\" Family\",\" Family\",\" Family\",\" Romantic Comedy\",\" Comedy\",\" Romance\",\" Musical\",\" Drama\",\" Fantasy\",\" Family\",\" Science Fiction\",\" Family\",\" Fantasy\",\" Survival\",\" Coming of Age\",\" Family\",\" Science Fiction\",\" Family\",\" Parody\",\" Comedy\",\" Coming of Age\",\" Family\",\" Romance\",\" Family\",\" Family\",\" Family\",\" Family\",\" Documentary\",\" Documentary\",\" Sports\",\" Kids\",\" Coming of Age\",\" Family\",\" Drama\",\" Family\",\" Family\",\" Documentary\",\" Family\",\" Medical\",\" Sports\",\" Sports\",\" Music\",\" Documentary\",\" Science Fiction\",\" Sports\",\" Family\",\" Family\",\" Coming of Age\",\" Coming of Age\",\" Coming of Age\",\" Family\",\" Docuseries\",\" Comedy\",\" Kids\",\" Coming of Age\",\" Family\",\" Coming of Age\",\" Family\",\" Musical\",\" Comedy\",\" Comedy\",\" Comedy\",\" Comedy\",\" Comedy\",\" Comedy\",\" Comedy\",\" Comedy\",\" Comedy\",\" Comedy\",\" Comedy\",\" Comedy\",\" Music\",\" Kids\",\" Comedy\",\" Music\",\" Coming of Age\",\" Coming of Age\",\" Fantasy\",\" Family\",\" Family\",\" Dance\",\" Kids\",\" Kids\",\" Comedy\",\" Fantasy\",\" Family\",\" Family\",\" Family\",\" Family\",\" Fantasy\",\" Kids\",\" Coming of Age\",\" Superhero\",\" Science Fiction\",\" Superhero\",\" Science Fiction\",\" Superhero\",\" Superhero\",\" Superhero\",\" Superhero\",\" Superhero\",\" Science Fiction\",\" Science Fiction\",\" Superhero\",\" Superhero\",\" Superhero\",\" Science Fiction\",\" Superhero\",\" Science Fiction\",\" Fantasy\",\" Spy/Espionage\",\" Comedy\",\" Kids\",\" Kids\",\" Kids\",\" Kids\",\" Superhero\",\" Buddy\",\" Comedy\",\" Musical\",\" Family\",\" Family\",\" Family\",\" Family\",\" Family\",\" Family\",\" Family\",\" Family\",\" Comedy\",\" Family\",\" Family\",\" Comedy\",\" Family\",\" Comedy\",\" Science Fiction\",\" Sports\",\" Sports\",\" Family\",\" Comedy\",\" Comedy\",\" Family\",\" Family\",\" Family\",\" Kids\",\" Family\",\" Family\",\" Thriller\",\" Family\",\" Family\",\" Fantasy\",\" Family\",\" Family\",\" Musical\",\" Fantasy\",\" Family\",\" Comedy\",\" Family\",\" Family\",\" Family\",\" Fantasy\",\" Family\",\" Family\",\" Kids\",\" Comedy\",\" Comedy\",\" Comedy\",\" Kids\",\" Fantasy\",\" Family\",\" Family\",\" Music\",\" Family\",\" Family\",\" Kids\",\" Family\",\" Family\",\" Family\",\" Family\",\" Family\",\" Kids\",\" Kids\",\" Kids\",\" Coming of Age\",\" Family\",\" Comedy\",\" Sports\",\" Family\",\" Drama\",\" Family\",\" Family\",\" Family\",\" Family\",\" Family\",\" Sports\",\" Family\",\" Science Fiction\",\" Fantasy\",\" Family\",\" Sports\",\" Coming of Age\",\" Family\",\" Family\",\" Historical\",\" Family\",\" Family\",\" Family\",\" Family\",\" Fantasy\",\" Historical\",\" Documentary\",\" Kids\",\" Drama\",\" Family\",\" Coming of Age\",\" Documentary\",\" Music\",\" Family\",\" Kids\",\" Comedy\",\" Family\",\" Music\",\" Fantasy\",\" Drama\",\" Family\",\" Fantasy\",\" Sports\",\" Fantasy\",\" Mystery\",\" Family\",\" Kids\",\" Kids\",\" Kids\",\" Kids\",\" Anthology\",\" Kids\",\" Kids\",\" Music\",\" Kids\",\" Science Fiction\",\" Family\",\" Music\",\" Family\",\" Family\",\" Survival\",\" Kids\",\" Family\",\" Fantasy\",\" Family\",\" Musical\",\" Coming of Age\",\" Family\",\" Family\",\" Science Fiction\",\" Family\",\" Drama\",\" Anthology\",\" Family\",\" Family\",\" Western\",\" Western\",\" Comedy\",\" Family\",\" Kids\",\" Kids\",\" Kids\",\" Family\",\" Musical\",\" Family\",\" Coming of Age\",\" Thriller\",\" Kids\",\" Kids\",\" Kids\",\" Western\",\" Music\",\" Music\",\" Music\",\" Family\",\" Fantasy\",\" Fantasy\",\" Science Fiction\",\" Family\",\" Buddy\",\" Buddy\",\" Sports\",\" Fantasy\",\" Fantasy\",\" Fantasy\",\" Buddy\",\" Family\",\" Fantasy\",\" Family\",\" Family\",\" Family\",\" Family\",\" Family\",\" Drama\",\" Kids\",\" Family\",\" Fantasy\",\" Comedy\",\" Family\",\" Fantasy\",\" Fantasy\",\" Family\",\" Kids\",\" Family\",\" Family\",\" Family\",\" Musical\",\" Family\",\" Family\",\" Kids\",\" Family\",\" Family\",\" Romance\",\" Romance\",\" Musical\",\" Science Fiction\",\" Family\",\" Family\",\" Family\",\" Romance\",\" Family\",\" Family\",\" Family\",\" Comedy\",\" Family\",\" Sports\",\" Fantasy\",\" Fantasy\",\" Fantasy\",\" Fantasy\",\" Fantasy\",\" Family\",\" Family\",\" Historical\",\" Science Fiction\",\" Coming of Age\",\" Coming of Age\",\" Fantasy\",\" Musical\",\" Family\",\" Kids\",\" Sports\",\" Family\",\" Fantasy\",\" Family\",\" Comedy\",\" Kids\",\" Fantasy\",\" Drama\",\" Parody\",\" Kids\",\" Romance\",\" Family\",\" Fantasy\",\" Comedy\",\" Kids\",\" Fantasy\",\" Fantasy\",\" Fantasy\",\" Sports\",\" Coming of Age\",\" Buddy\",\" Comedy\",\" Drama\",\" Family\",\" Family\",\" Kids\",\" Family\",\" Family\",\" Mystery\",\" Family\",\" Family\",\" Science Fiction\",\" Fantasy\",\" Family\",\" Fantasy\",\" Family\",\" Buddy\",\" Fantasy\",\" Comedy\",\" Family\",\" Fantasy\",\" Family\",\" Drama\",\" Comedy\",\" Travel\",\" Documentary\",\" Family\",\" Musical\",\" Family\",\" Fantasy\",\" Coming of Age\",\" Kids\",\" Family\",\" Comedy\",\" Kids\",\" Family\",\" Family\",\" Fantasy\",\" Family\",\" Science Fiction\",\" Science Fiction\",\" Science Fiction\",\" Science Fiction\",\" Family\",\" Fantasy\",\" Fantasy\",\" Comedy\",\" Drama\",\" Coming of Age\",\" Kids\",\" Science Fiction\",\" Mystery\",\" Comedy\",\" Family\",\" Coming of Age\",\" Science Fiction\",\" Fantasy\",\" Family\",\" Science Fiction\",\" Family\",\" Drama\",\" Coming of Age\",\" Animation\"],\"xaxis\":\"x\",\"yaxis\":\"y\",\"type\":\"histogram\"}],                        {\"template\":{\"data\":{\"bar\":[{\"error_x\":{\"color\":\"#2a3f5f\"},\"error_y\":{\"color\":\"#2a3f5f\"},\"marker\":{\"line\":{\"color\":\"#E5ECF6\",\"width\":0.5},\"pattern\":{\"fillmode\":\"overlay\",\"size\":10,\"solidity\":0.2}},\"type\":\"bar\"}],\"barpolar\":[{\"marker\":{\"line\":{\"color\":\"#E5ECF6\",\"width\":0.5},\"pattern\":{\"fillmode\":\"overlay\",\"size\":10,\"solidity\":0.2}},\"type\":\"barpolar\"}],\"carpet\":[{\"aaxis\":{\"endlinecolor\":\"#2a3f5f\",\"gridcolor\":\"white\",\"linecolor\":\"white\",\"minorgridcolor\":\"white\",\"startlinecolor\":\"#2a3f5f\"},\"baxis\":{\"endlinecolor\":\"#2a3f5f\",\"gridcolor\":\"white\",\"linecolor\":\"white\",\"minorgridcolor\":\"white\",\"startlinecolor\":\"#2a3f5f\"},\"type\":\"carpet\"}],\"choropleth\":[{\"colorbar\":{\"outlinewidth\":0,\"ticks\":\"\"},\"type\":\"choropleth\"}],\"contour\":[{\"colorbar\":{\"outlinewidth\":0,\"ticks\":\"\"},\"colorscale\":[[0.0,\"#0d0887\"],[0.1111111111111111,\"#46039f\"],[0.2222222222222222,\"#7201a8\"],[0.3333333333333333,\"#9c179e\"],[0.4444444444444444,\"#bd3786\"],[0.5555555555555556,\"#d8576b\"],[0.6666666666666666,\"#ed7953\"],[0.7777777777777778,\"#fb9f3a\"],[0.8888888888888888,\"#fdca26\"],[1.0,\"#f0f921\"]],\"type\":\"contour\"}],\"contourcarpet\":[{\"colorbar\":{\"outlinewidth\":0,\"ticks\":\"\"},\"type\":\"contourcarpet\"}],\"heatmap\":[{\"colorbar\":{\"outlinewidth\":0,\"ticks\":\"\"},\"colorscale\":[[0.0,\"#0d0887\"],[0.1111111111111111,\"#46039f\"],[0.2222222222222222,\"#7201a8\"],[0.3333333333333333,\"#9c179e\"],[0.4444444444444444,\"#bd3786\"],[0.5555555555555556,\"#d8576b\"],[0.6666666666666666,\"#ed7953\"],[0.7777777777777778,\"#fb9f3a\"],[0.8888888888888888,\"#fdca26\"],[1.0,\"#f0f921\"]],\"type\":\"heatmap\"}],\"heatmapgl\":[{\"colorbar\":{\"outlinewidth\":0,\"ticks\":\"\"},\"colorscale\":[[0.0,\"#0d0887\"],[0.1111111111111111,\"#46039f\"],[0.2222222222222222,\"#7201a8\"],[0.3333333333333333,\"#9c179e\"],[0.4444444444444444,\"#bd3786\"],[0.5555555555555556,\"#d8576b\"],[0.6666666666666666,\"#ed7953\"],[0.7777777777777778,\"#fb9f3a\"],[0.8888888888888888,\"#fdca26\"],[1.0,\"#f0f921\"]],\"type\":\"heatmapgl\"}],\"histogram\":[{\"marker\":{\"pattern\":{\"fillmode\":\"overlay\",\"size\":10,\"solidity\":0.2}},\"type\":\"histogram\"}],\"histogram2d\":[{\"colorbar\":{\"outlinewidth\":0,\"ticks\":\"\"},\"colorscale\":[[0.0,\"#0d0887\"],[0.1111111111111111,\"#46039f\"],[0.2222222222222222,\"#7201a8\"],[0.3333333333333333,\"#9c179e\"],[0.4444444444444444,\"#bd3786\"],[0.5555555555555556,\"#d8576b\"],[0.6666666666666666,\"#ed7953\"],[0.7777777777777778,\"#fb9f3a\"],[0.8888888888888888,\"#fdca26\"],[1.0,\"#f0f921\"]],\"type\":\"histogram2d\"}],\"histogram2dcontour\":[{\"colorbar\":{\"outlinewidth\":0,\"ticks\":\"\"},\"colorscale\":[[0.0,\"#0d0887\"],[0.1111111111111111,\"#46039f\"],[0.2222222222222222,\"#7201a8\"],[0.3333333333333333,\"#9c179e\"],[0.4444444444444444,\"#bd3786\"],[0.5555555555555556,\"#d8576b\"],[0.6666666666666666,\"#ed7953\"],[0.7777777777777778,\"#fb9f3a\"],[0.8888888888888888,\"#fdca26\"],[1.0,\"#f0f921\"]],\"type\":\"histogram2dcontour\"}],\"mesh3d\":[{\"colorbar\":{\"outlinewidth\":0,\"ticks\":\"\"},\"type\":\"mesh3d\"}],\"parcoords\":[{\"line\":{\"colorbar\":{\"outlinewidth\":0,\"ticks\":\"\"}},\"type\":\"parcoords\"}],\"pie\":[{\"automargin\":true,\"type\":\"pie\"}],\"scatter\":[{\"marker\":{\"colorbar\":{\"outlinewidth\":0,\"ticks\":\"\"}},\"type\":\"scatter\"}],\"scatter3d\":[{\"line\":{\"colorbar\":{\"outlinewidth\":0,\"ticks\":\"\"}},\"marker\":{\"colorbar\":{\"outlinewidth\":0,\"ticks\":\"\"}},\"type\":\"scatter3d\"}],\"scattercarpet\":[{\"marker\":{\"colorbar\":{\"outlinewidth\":0,\"ticks\":\"\"}},\"type\":\"scattercarpet\"}],\"scattergeo\":[{\"marker\":{\"colorbar\":{\"outlinewidth\":0,\"ticks\":\"\"}},\"type\":\"scattergeo\"}],\"scattergl\":[{\"marker\":{\"colorbar\":{\"outlinewidth\":0,\"ticks\":\"\"}},\"type\":\"scattergl\"}],\"scattermapbox\":[{\"marker\":{\"colorbar\":{\"outlinewidth\":0,\"ticks\":\"\"}},\"type\":\"scattermapbox\"}],\"scatterpolar\":[{\"marker\":{\"colorbar\":{\"outlinewidth\":0,\"ticks\":\"\"}},\"type\":\"scatterpolar\"}],\"scatterpolargl\":[{\"marker\":{\"colorbar\":{\"outlinewidth\":0,\"ticks\":\"\"}},\"type\":\"scatterpolargl\"}],\"scatterternary\":[{\"marker\":{\"colorbar\":{\"outlinewidth\":0,\"ticks\":\"\"}},\"type\":\"scatterternary\"}],\"surface\":[{\"colorbar\":{\"outlinewidth\":0,\"ticks\":\"\"},\"colorscale\":[[0.0,\"#0d0887\"],[0.1111111111111111,\"#46039f\"],[0.2222222222222222,\"#7201a8\"],[0.3333333333333333,\"#9c179e\"],[0.4444444444444444,\"#bd3786\"],[0.5555555555555556,\"#d8576b\"],[0.6666666666666666,\"#ed7953\"],[0.7777777777777778,\"#fb9f3a\"],[0.8888888888888888,\"#fdca26\"],[1.0,\"#f0f921\"]],\"type\":\"surface\"}],\"table\":[{\"cells\":{\"fill\":{\"color\":\"#EBF0F8\"},\"line\":{\"color\":\"white\"}},\"header\":{\"fill\":{\"color\":\"#C8D4E3\"},\"line\":{\"color\":\"white\"}},\"type\":\"table\"}]},\"layout\":{\"annotationdefaults\":{\"arrowcolor\":\"#2a3f5f\",\"arrowhead\":0,\"arrowwidth\":1},\"autotypenumbers\":\"strict\",\"coloraxis\":{\"colorbar\":{\"outlinewidth\":0,\"ticks\":\"\"}},\"colorscale\":{\"diverging\":[[0,\"#8e0152\"],[0.1,\"#c51b7d\"],[0.2,\"#de77ae\"],[0.3,\"#f1b6da\"],[0.4,\"#fde0ef\"],[0.5,\"#f7f7f7\"],[0.6,\"#e6f5d0\"],[0.7,\"#b8e186\"],[0.8,\"#7fbc41\"],[0.9,\"#4d9221\"],[1,\"#276419\"]],\"sequential\":[[0.0,\"#0d0887\"],[0.1111111111111111,\"#46039f\"],[0.2222222222222222,\"#7201a8\"],[0.3333333333333333,\"#9c179e\"],[0.4444444444444444,\"#bd3786\"],[0.5555555555555556,\"#d8576b\"],[0.6666666666666666,\"#ed7953\"],[0.7777777777777778,\"#fb9f3a\"],[0.8888888888888888,\"#fdca26\"],[1.0,\"#f0f921\"]],\"sequentialminus\":[[0.0,\"#0d0887\"],[0.1111111111111111,\"#46039f\"],[0.2222222222222222,\"#7201a8\"],[0.3333333333333333,\"#9c179e\"],[0.4444444444444444,\"#bd3786\"],[0.5555555555555556,\"#d8576b\"],[0.6666666666666666,\"#ed7953\"],[0.7777777777777778,\"#fb9f3a\"],[0.8888888888888888,\"#fdca26\"],[1.0,\"#f0f921\"]]},\"colorway\":[\"#636efa\",\"#EF553B\",\"#00cc96\",\"#ab63fa\",\"#FFA15A\",\"#19d3f3\",\"#FF6692\",\"#B6E880\",\"#FF97FF\",\"#FECB52\"],\"font\":{\"color\":\"#2a3f5f\"},\"geo\":{\"bgcolor\":\"white\",\"lakecolor\":\"white\",\"landcolor\":\"#E5ECF6\",\"showlakes\":true,\"showland\":true,\"subunitcolor\":\"white\"},\"hoverlabel\":{\"align\":\"left\"},\"hovermode\":\"closest\",\"mapbox\":{\"style\":\"light\"},\"paper_bgcolor\":\"white\",\"plot_bgcolor\":\"#E5ECF6\",\"polar\":{\"angularaxis\":{\"gridcolor\":\"white\",\"linecolor\":\"white\",\"ticks\":\"\"},\"bgcolor\":\"#E5ECF6\",\"radialaxis\":{\"gridcolor\":\"white\",\"linecolor\":\"white\",\"ticks\":\"\"}},\"scene\":{\"xaxis\":{\"backgroundcolor\":\"#E5ECF6\",\"gridcolor\":\"white\",\"gridwidth\":2,\"linecolor\":\"white\",\"showbackground\":true,\"ticks\":\"\",\"zerolinecolor\":\"white\"},\"yaxis\":{\"backgroundcolor\":\"#E5ECF6\",\"gridcolor\":\"white\",\"gridwidth\":2,\"linecolor\":\"white\",\"showbackground\":true,\"ticks\":\"\",\"zerolinecolor\":\"white\"},\"zaxis\":{\"backgroundcolor\":\"#E5ECF6\",\"gridcolor\":\"white\",\"gridwidth\":2,\"linecolor\":\"white\",\"showbackground\":true,\"ticks\":\"\",\"zerolinecolor\":\"white\"}},\"shapedefaults\":{\"line\":{\"color\":\"#2a3f5f\"}},\"ternary\":{\"aaxis\":{\"gridcolor\":\"white\",\"linecolor\":\"white\",\"ticks\":\"\"},\"baxis\":{\"gridcolor\":\"white\",\"linecolor\":\"white\",\"ticks\":\"\"},\"bgcolor\":\"#E5ECF6\",\"caxis\":{\"gridcolor\":\"white\",\"linecolor\":\"white\",\"ticks\":\"\"}},\"title\":{\"x\":0.05},\"xaxis\":{\"automargin\":true,\"gridcolor\":\"white\",\"linecolor\":\"white\",\"ticks\":\"\",\"title\":{\"standoff\":15},\"zerolinecolor\":\"white\",\"zerolinewidth\":2},\"yaxis\":{\"automargin\":true,\"gridcolor\":\"white\",\"linecolor\":\"white\",\"ticks\":\"\",\"title\":{\"standoff\":15},\"zerolinecolor\":\"white\",\"zerolinewidth\":2}}},\"xaxis\":{\"anchor\":\"y\",\"domain\":[0.0,1.0],\"title\":{\"text\":\"value\"}},\"yaxis\":{\"anchor\":\"x\",\"domain\":[0.0,1.0],\"title\":{\"text\":\"count\"}},\"legend\":{\"title\":{\"text\":\"_variable\"},\"tracegroupgap\":0},\"title\":{\"text\":\"Genre of Movies and TV Shows\"},\"barmode\":\"relative\"},                        {\"responsive\": true}                    ).then(function(){\n",
              "                            \n",
              "var gd = document.getElementById('01b18a4a-9106-40bc-b859-126cffdb2ba8');\n",
              "var x = new MutationObserver(function (mutations, observer) {{\n",
              "        var display = window.getComputedStyle(gd).display;\n",
              "        if (!display || display === 'none') {{\n",
              "            console.log([gd, 'removed!']);\n",
              "            Plotly.purge(gd);\n",
              "            observer.disconnect();\n",
              "        }}\n",
              "}});\n",
              "\n",
              "// Listen for the removal of the full notebook cells\n",
              "var notebookContainer = gd.closest('#notebook-container');\n",
              "if (notebookContainer) {{\n",
              "    x.observe(notebookContainer, {childList: true});\n",
              "}}\n",
              "\n",
              "// Listen for the clearing of the current output cell\n",
              "var outputEl = gd.closest('.output');\n",
              "if (outputEl) {{\n",
              "    x.observe(outputEl, {childList: true});\n",
              "}}\n",
              "\n",
              "                        })                };                            </script>        </div>\n",
              "</body>\n",
              "</html>"
            ]
          },
          "metadata": {}
        }
      ]
    },
    {
      "cell_type": "code",
      "source": [
        "#Which is the most popular rating?\n",
        "disney_rating = disney_plus_titles_df['rating'].value_counts()\n",
        "disney_rating.dropna(inplace = True)\n",
        "print('The most rated program is', disney_rating.index[0])"
      ],
      "metadata": {
        "colab": {
          "base_uri": "https://localhost:8080/"
        },
        "id": "2WrtUcFv5ZMF",
        "outputId": "3979d17d-a61a-4d7e-f892-0d591572ea61"
      },
      "execution_count": 34,
      "outputs": [
        {
          "output_type": "stream",
          "name": "stdout",
          "text": [
            "The most rated program is TV-G\n"
          ]
        }
      ]
    },
    {
      "cell_type": "code",
      "source": [
        "#Graphical visualization of the most popular rating\n",
        "fig = px.bar(data_frame= disney_rating, x = 'rating', title = \"Ratings of the Movies and TV-shows\")\n",
        "fig.show()"
      ],
      "metadata": {
        "colab": {
          "base_uri": "https://localhost:8080/",
          "height": 562
        },
        "id": "C7-yPP1X9Eo5",
        "outputId": "617ca058-86c8-4b96-dc79-b91e18fcd285"
      },
      "execution_count": 35,
      "outputs": [
        {
          "output_type": "display_data",
          "data": {
            "text/html": [
              "<html>\n",
              "<head><meta charset=\"utf-8\" /></head>\n",
              "<body>\n",
              "    <div>            <script src=\"https://cdnjs.cloudflare.com/ajax/libs/mathjax/2.7.5/MathJax.js?config=TeX-AMS-MML_SVG\"></script><script type=\"text/javascript\">if (window.MathJax) {MathJax.Hub.Config({SVG: {font: \"STIX-Web\"}});}</script>                <script type=\"text/javascript\">window.PlotlyConfig = {MathJaxConfig: 'local'};</script>\n",
              "        <script src=\"https://cdn.plot.ly/plotly-2.8.3.min.js\"></script>                <div id=\"a91b6791-b6b6-40e2-92fe-cd69aa0f1956\" class=\"plotly-graph-div\" style=\"height:525px; width:100%;\"></div>            <script type=\"text/javascript\">                                    window.PLOTLYENV=window.PLOTLYENV || {};                                    if (document.getElementById(\"a91b6791-b6b6-40e2-92fe-cd69aa0f1956\")) {                    Plotly.newPlot(                        \"a91b6791-b6b6-40e2-92fe-cd69aa0f1956\",                        [{\"alignmentgroup\":\"True\",\"hovertemplate\":\"rating=%{x}<br>index=%{y}<extra></extra>\",\"legendgroup\":\"\",\"marker\":{\"color\":\"#636efa\",\"pattern\":{\"shape\":\"\"}},\"name\":\"\",\"offsetgroup\":\"\",\"orientation\":\"h\",\"showlegend\":false,\"textposition\":\"auto\",\"x\":[318,301,253,236,131,79,66,50,13],\"xaxis\":\"x\",\"y\":[\"TV-G\",\"TV-PG\",\"G\",\"PG\",\"TV-Y7\",\"TV-14\",\"PG-13\",\"TV-Y\",\"TV-Y7-FV\"],\"yaxis\":\"y\",\"type\":\"bar\"}],                        {\"template\":{\"data\":{\"bar\":[{\"error_x\":{\"color\":\"#2a3f5f\"},\"error_y\":{\"color\":\"#2a3f5f\"},\"marker\":{\"line\":{\"color\":\"#E5ECF6\",\"width\":0.5},\"pattern\":{\"fillmode\":\"overlay\",\"size\":10,\"solidity\":0.2}},\"type\":\"bar\"}],\"barpolar\":[{\"marker\":{\"line\":{\"color\":\"#E5ECF6\",\"width\":0.5},\"pattern\":{\"fillmode\":\"overlay\",\"size\":10,\"solidity\":0.2}},\"type\":\"barpolar\"}],\"carpet\":[{\"aaxis\":{\"endlinecolor\":\"#2a3f5f\",\"gridcolor\":\"white\",\"linecolor\":\"white\",\"minorgridcolor\":\"white\",\"startlinecolor\":\"#2a3f5f\"},\"baxis\":{\"endlinecolor\":\"#2a3f5f\",\"gridcolor\":\"white\",\"linecolor\":\"white\",\"minorgridcolor\":\"white\",\"startlinecolor\":\"#2a3f5f\"},\"type\":\"carpet\"}],\"choropleth\":[{\"colorbar\":{\"outlinewidth\":0,\"ticks\":\"\"},\"type\":\"choropleth\"}],\"contour\":[{\"colorbar\":{\"outlinewidth\":0,\"ticks\":\"\"},\"colorscale\":[[0.0,\"#0d0887\"],[0.1111111111111111,\"#46039f\"],[0.2222222222222222,\"#7201a8\"],[0.3333333333333333,\"#9c179e\"],[0.4444444444444444,\"#bd3786\"],[0.5555555555555556,\"#d8576b\"],[0.6666666666666666,\"#ed7953\"],[0.7777777777777778,\"#fb9f3a\"],[0.8888888888888888,\"#fdca26\"],[1.0,\"#f0f921\"]],\"type\":\"contour\"}],\"contourcarpet\":[{\"colorbar\":{\"outlinewidth\":0,\"ticks\":\"\"},\"type\":\"contourcarpet\"}],\"heatmap\":[{\"colorbar\":{\"outlinewidth\":0,\"ticks\":\"\"},\"colorscale\":[[0.0,\"#0d0887\"],[0.1111111111111111,\"#46039f\"],[0.2222222222222222,\"#7201a8\"],[0.3333333333333333,\"#9c179e\"],[0.4444444444444444,\"#bd3786\"],[0.5555555555555556,\"#d8576b\"],[0.6666666666666666,\"#ed7953\"],[0.7777777777777778,\"#fb9f3a\"],[0.8888888888888888,\"#fdca26\"],[1.0,\"#f0f921\"]],\"type\":\"heatmap\"}],\"heatmapgl\":[{\"colorbar\":{\"outlinewidth\":0,\"ticks\":\"\"},\"colorscale\":[[0.0,\"#0d0887\"],[0.1111111111111111,\"#46039f\"],[0.2222222222222222,\"#7201a8\"],[0.3333333333333333,\"#9c179e\"],[0.4444444444444444,\"#bd3786\"],[0.5555555555555556,\"#d8576b\"],[0.6666666666666666,\"#ed7953\"],[0.7777777777777778,\"#fb9f3a\"],[0.8888888888888888,\"#fdca26\"],[1.0,\"#f0f921\"]],\"type\":\"heatmapgl\"}],\"histogram\":[{\"marker\":{\"pattern\":{\"fillmode\":\"overlay\",\"size\":10,\"solidity\":0.2}},\"type\":\"histogram\"}],\"histogram2d\":[{\"colorbar\":{\"outlinewidth\":0,\"ticks\":\"\"},\"colorscale\":[[0.0,\"#0d0887\"],[0.1111111111111111,\"#46039f\"],[0.2222222222222222,\"#7201a8\"],[0.3333333333333333,\"#9c179e\"],[0.4444444444444444,\"#bd3786\"],[0.5555555555555556,\"#d8576b\"],[0.6666666666666666,\"#ed7953\"],[0.7777777777777778,\"#fb9f3a\"],[0.8888888888888888,\"#fdca26\"],[1.0,\"#f0f921\"]],\"type\":\"histogram2d\"}],\"histogram2dcontour\":[{\"colorbar\":{\"outlinewidth\":0,\"ticks\":\"\"},\"colorscale\":[[0.0,\"#0d0887\"],[0.1111111111111111,\"#46039f\"],[0.2222222222222222,\"#7201a8\"],[0.3333333333333333,\"#9c179e\"],[0.4444444444444444,\"#bd3786\"],[0.5555555555555556,\"#d8576b\"],[0.6666666666666666,\"#ed7953\"],[0.7777777777777778,\"#fb9f3a\"],[0.8888888888888888,\"#fdca26\"],[1.0,\"#f0f921\"]],\"type\":\"histogram2dcontour\"}],\"mesh3d\":[{\"colorbar\":{\"outlinewidth\":0,\"ticks\":\"\"},\"type\":\"mesh3d\"}],\"parcoords\":[{\"line\":{\"colorbar\":{\"outlinewidth\":0,\"ticks\":\"\"}},\"type\":\"parcoords\"}],\"pie\":[{\"automargin\":true,\"type\":\"pie\"}],\"scatter\":[{\"marker\":{\"colorbar\":{\"outlinewidth\":0,\"ticks\":\"\"}},\"type\":\"scatter\"}],\"scatter3d\":[{\"line\":{\"colorbar\":{\"outlinewidth\":0,\"ticks\":\"\"}},\"marker\":{\"colorbar\":{\"outlinewidth\":0,\"ticks\":\"\"}},\"type\":\"scatter3d\"}],\"scattercarpet\":[{\"marker\":{\"colorbar\":{\"outlinewidth\":0,\"ticks\":\"\"}},\"type\":\"scattercarpet\"}],\"scattergeo\":[{\"marker\":{\"colorbar\":{\"outlinewidth\":0,\"ticks\":\"\"}},\"type\":\"scattergeo\"}],\"scattergl\":[{\"marker\":{\"colorbar\":{\"outlinewidth\":0,\"ticks\":\"\"}},\"type\":\"scattergl\"}],\"scattermapbox\":[{\"marker\":{\"colorbar\":{\"outlinewidth\":0,\"ticks\":\"\"}},\"type\":\"scattermapbox\"}],\"scatterpolar\":[{\"marker\":{\"colorbar\":{\"outlinewidth\":0,\"ticks\":\"\"}},\"type\":\"scatterpolar\"}],\"scatterpolargl\":[{\"marker\":{\"colorbar\":{\"outlinewidth\":0,\"ticks\":\"\"}},\"type\":\"scatterpolargl\"}],\"scatterternary\":[{\"marker\":{\"colorbar\":{\"outlinewidth\":0,\"ticks\":\"\"}},\"type\":\"scatterternary\"}],\"surface\":[{\"colorbar\":{\"outlinewidth\":0,\"ticks\":\"\"},\"colorscale\":[[0.0,\"#0d0887\"],[0.1111111111111111,\"#46039f\"],[0.2222222222222222,\"#7201a8\"],[0.3333333333333333,\"#9c179e\"],[0.4444444444444444,\"#bd3786\"],[0.5555555555555556,\"#d8576b\"],[0.6666666666666666,\"#ed7953\"],[0.7777777777777778,\"#fb9f3a\"],[0.8888888888888888,\"#fdca26\"],[1.0,\"#f0f921\"]],\"type\":\"surface\"}],\"table\":[{\"cells\":{\"fill\":{\"color\":\"#EBF0F8\"},\"line\":{\"color\":\"white\"}},\"header\":{\"fill\":{\"color\":\"#C8D4E3\"},\"line\":{\"color\":\"white\"}},\"type\":\"table\"}]},\"layout\":{\"annotationdefaults\":{\"arrowcolor\":\"#2a3f5f\",\"arrowhead\":0,\"arrowwidth\":1},\"autotypenumbers\":\"strict\",\"coloraxis\":{\"colorbar\":{\"outlinewidth\":0,\"ticks\":\"\"}},\"colorscale\":{\"diverging\":[[0,\"#8e0152\"],[0.1,\"#c51b7d\"],[0.2,\"#de77ae\"],[0.3,\"#f1b6da\"],[0.4,\"#fde0ef\"],[0.5,\"#f7f7f7\"],[0.6,\"#e6f5d0\"],[0.7,\"#b8e186\"],[0.8,\"#7fbc41\"],[0.9,\"#4d9221\"],[1,\"#276419\"]],\"sequential\":[[0.0,\"#0d0887\"],[0.1111111111111111,\"#46039f\"],[0.2222222222222222,\"#7201a8\"],[0.3333333333333333,\"#9c179e\"],[0.4444444444444444,\"#bd3786\"],[0.5555555555555556,\"#d8576b\"],[0.6666666666666666,\"#ed7953\"],[0.7777777777777778,\"#fb9f3a\"],[0.8888888888888888,\"#fdca26\"],[1.0,\"#f0f921\"]],\"sequentialminus\":[[0.0,\"#0d0887\"],[0.1111111111111111,\"#46039f\"],[0.2222222222222222,\"#7201a8\"],[0.3333333333333333,\"#9c179e\"],[0.4444444444444444,\"#bd3786\"],[0.5555555555555556,\"#d8576b\"],[0.6666666666666666,\"#ed7953\"],[0.7777777777777778,\"#fb9f3a\"],[0.8888888888888888,\"#fdca26\"],[1.0,\"#f0f921\"]]},\"colorway\":[\"#636efa\",\"#EF553B\",\"#00cc96\",\"#ab63fa\",\"#FFA15A\",\"#19d3f3\",\"#FF6692\",\"#B6E880\",\"#FF97FF\",\"#FECB52\"],\"font\":{\"color\":\"#2a3f5f\"},\"geo\":{\"bgcolor\":\"white\",\"lakecolor\":\"white\",\"landcolor\":\"#E5ECF6\",\"showlakes\":true,\"showland\":true,\"subunitcolor\":\"white\"},\"hoverlabel\":{\"align\":\"left\"},\"hovermode\":\"closest\",\"mapbox\":{\"style\":\"light\"},\"paper_bgcolor\":\"white\",\"plot_bgcolor\":\"#E5ECF6\",\"polar\":{\"angularaxis\":{\"gridcolor\":\"white\",\"linecolor\":\"white\",\"ticks\":\"\"},\"bgcolor\":\"#E5ECF6\",\"radialaxis\":{\"gridcolor\":\"white\",\"linecolor\":\"white\",\"ticks\":\"\"}},\"scene\":{\"xaxis\":{\"backgroundcolor\":\"#E5ECF6\",\"gridcolor\":\"white\",\"gridwidth\":2,\"linecolor\":\"white\",\"showbackground\":true,\"ticks\":\"\",\"zerolinecolor\":\"white\"},\"yaxis\":{\"backgroundcolor\":\"#E5ECF6\",\"gridcolor\":\"white\",\"gridwidth\":2,\"linecolor\":\"white\",\"showbackground\":true,\"ticks\":\"\",\"zerolinecolor\":\"white\"},\"zaxis\":{\"backgroundcolor\":\"#E5ECF6\",\"gridcolor\":\"white\",\"gridwidth\":2,\"linecolor\":\"white\",\"showbackground\":true,\"ticks\":\"\",\"zerolinecolor\":\"white\"}},\"shapedefaults\":{\"line\":{\"color\":\"#2a3f5f\"}},\"ternary\":{\"aaxis\":{\"gridcolor\":\"white\",\"linecolor\":\"white\",\"ticks\":\"\"},\"baxis\":{\"gridcolor\":\"white\",\"linecolor\":\"white\",\"ticks\":\"\"},\"bgcolor\":\"#E5ECF6\",\"caxis\":{\"gridcolor\":\"white\",\"linecolor\":\"white\",\"ticks\":\"\"}},\"title\":{\"x\":0.05},\"xaxis\":{\"automargin\":true,\"gridcolor\":\"white\",\"linecolor\":\"white\",\"ticks\":\"\",\"title\":{\"standoff\":15},\"zerolinecolor\":\"white\",\"zerolinewidth\":2},\"yaxis\":{\"automargin\":true,\"gridcolor\":\"white\",\"linecolor\":\"white\",\"ticks\":\"\",\"title\":{\"standoff\":15},\"zerolinecolor\":\"white\",\"zerolinewidth\":2}}},\"xaxis\":{\"anchor\":\"y\",\"domain\":[0.0,1.0],\"title\":{\"text\":\"rating\"}},\"yaxis\":{\"anchor\":\"x\",\"domain\":[0.0,1.0],\"title\":{\"text\":\"index\"}},\"legend\":{\"tracegroupgap\":0},\"title\":{\"text\":\"Ratings of the Movies and TV-shows\"},\"barmode\":\"relative\"},                        {\"responsive\": true}                    ).then(function(){\n",
              "                            \n",
              "var gd = document.getElementById('a91b6791-b6b6-40e2-92fe-cd69aa0f1956');\n",
              "var x = new MutationObserver(function (mutations, observer) {{\n",
              "        var display = window.getComputedStyle(gd).display;\n",
              "        if (!display || display === 'none') {{\n",
              "            console.log([gd, 'removed!']);\n",
              "            Plotly.purge(gd);\n",
              "            observer.disconnect();\n",
              "        }}\n",
              "}});\n",
              "\n",
              "// Listen for the removal of the full notebook cells\n",
              "var notebookContainer = gd.closest('#notebook-container');\n",
              "if (notebookContainer) {{\n",
              "    x.observe(notebookContainer, {childList: true});\n",
              "}}\n",
              "\n",
              "// Listen for the clearing of the current output cell\n",
              "var outputEl = gd.closest('.output');\n",
              "if (outputEl) {{\n",
              "    x.observe(outputEl, {childList: true});\n",
              "}}\n",
              "\n",
              "                        })                };                            </script>        </div>\n",
              "</body>\n",
              "</html>"
            ]
          },
          "metadata": {}
        }
      ]
    },
    {
      "cell_type": "code",
      "source": [
        "#Graphical visualization of the most rating divided into Movies and TV Shows\n",
        "fig = px.histogram(data_frame = disney_plus_titles_df, x = ['rating'], color = 'type', title = \"Ratings of Movies and TV Shows\")\n",
        "fig.show()"
      ],
      "metadata": {
        "colab": {
          "base_uri": "https://localhost:8080/",
          "height": 562
        },
        "id": "6QQ4NsqTwoy7",
        "outputId": "545e3e41-410c-4f57-d178-c4d4af330eff"
      },
      "execution_count": 36,
      "outputs": [
        {
          "output_type": "display_data",
          "data": {
            "text/html": [
              "<html>\n",
              "<head><meta charset=\"utf-8\" /></head>\n",
              "<body>\n",
              "    <div>            <script src=\"https://cdnjs.cloudflare.com/ajax/libs/mathjax/2.7.5/MathJax.js?config=TeX-AMS-MML_SVG\"></script><script type=\"text/javascript\">if (window.MathJax) {MathJax.Hub.Config({SVG: {font: \"STIX-Web\"}});}</script>                <script type=\"text/javascript\">window.PlotlyConfig = {MathJaxConfig: 'local'};</script>\n",
              "        <script src=\"https://cdn.plot.ly/plotly-2.8.3.min.js\"></script>                <div id=\"025e422f-9bfe-4a89-af43-ee6b98060691\" class=\"plotly-graph-div\" style=\"height:525px; width:100%;\"></div>            <script type=\"text/javascript\">                                    window.PLOTLYENV=window.PLOTLYENV || {};                                    if (document.getElementById(\"025e422f-9bfe-4a89-af43-ee6b98060691\")) {                    Plotly.newPlot(                        \"025e422f-9bfe-4a89-af43-ee6b98060691\",                        [{\"alignmentgroup\":\"True\",\"bingroup\":\"x\",\"hovertemplate\":\"type=Movie<br>value=%{x}<br>count=%{y}<extra></extra>\",\"legendgroup\":\"Movie\",\"marker\":{\"color\":\"#636efa\",\"pattern\":{\"shape\":\"\"}},\"name\":\"Movie\",\"offsetgroup\":\"Movie\",\"orientation\":\"v\",\"showlegend\":true,\"x\":[\"TV-G\",\"PG\",\"TV-G\",\"TV-PG\",\"PG-13\",\"G\",\"TV-PG\",\"TV-G\",\"G\",\"TV-PG\",\"TV-G\",\"TV-PG\",\"PG\",\"G\",\"G\",\"G\",\"PG\",\"PG-13\",\"TV-14\",\"TV-PG\",\"TV-PG\",\"G\",\"G\",\"PG-13\",\"TV-G\",\"G\",\"G\",\"G\",\"TV-PG\",\"TV-G\",\"TV-PG\",\"G\",\"TV-PG\",\"TV-PG\",\"G\",\"PG\",\"PG\",\"TV-G\",\"G\",\"G\",\"G\",\"G\",\"PG-13\",\"TV-PG\",\"PG\",\"PG\",\"G\",\"TV-PG\",\"TV-PG\",\"G\",\"TV-Y\",\"TV-PG\",\"TV-PG\",\"TV-G\",\"PG-13\",\"PG-13\",\"PG\",\"PG\",\"TV-Y7-FV\",\"PG\",\"TV-G\",\"TV-PG\",\"G\",\"PG-13\",\"PG\",\"TV-G\",\"TV-G\",\"TV-PG\",\"TV-PG\",\"G\",\"TV-PG\",\"TV-G\",\"PG-13\",\"PG\",\"TV-14\",\"PG-13\",\"PG-13\",\"PG-13\",\"TV-G\",\"TV-14\",\"PG\",\"PG\",\"PG-13\",\"PG-13\",\"G\",\"G\",\"TV-14\",\"PG-13\",\"TV-PG\",\"PG\",\"PG\",\"TV-14\",\"TV-14\",\"TV-PG\",\"TV-14\",\"PG\",\"TV-PG\",\"TV-PG\",\"TV-14\",\"TV-14\",\"TV-PG\",\"PG\",\"TV-PG\",\"TV-14\",\"PG\",\"TV-Y7-FV\",\"TV-14\",\"TV-14\",\"TV-PG\",\"TV-14\",\"TV-14\",\"TV-PG\",\"PG\",\"PG\",\"TV-PG\",\"TV-PG\",\"PG\",\"PG\",\"G\",\"PG\",\"PG\",\"PG-13\",\"G\",\"G\",\"TV-PG\",\"TV-PG\",\"PG\",\"TV-PG\",\"PG\",\"G\",\"PG-13\",\"PG\",\"G\",\"TV-PG\",\"TV-G\",\"TV-PG\",\"TV-PG\",\"TV-PG\",\"PG\",\"TV-14\",\"G\",\"PG\",\"G\",\"PG\",\"TV-PG\",\"PG\",\"TV-PG\",\"PG\",\"TV-PG\",\"TV-PG\",\"G\",\"PG\",\"TV-PG\",\"TV-Y7-FV\",\"PG\",\"TV-14\",\"G\",\"G\",null,\"TV-Y\",\"PG-13\",\"TV-14\",\"PG\",\"TV-G\",\"TV-PG\",\"TV-G\",\"PG\",\"PG\",\"PG\",\"PG\",\"TV-14\",\"G\",\"PG\",\"TV-PG\",\"TV-PG\",\"TV-PG\",\"TV-14\",\"TV-PG\",\"PG-13\",\"PG\",\"PG\",\"TV-G\",\"TV-PG\",\"TV-14\",\"G\",\"TV-PG\",\"TV-PG\",\"G\",\"PG\",\"PG\",\"TV-G\",\"TV-PG\",\"TV-G\",\"PG\",\"TV-Y7-FV\",\"TV-G\",\"TV-G\",\"TV-14\",\"TV-G\",\"PG\",\"PG\",\"G\",\"PG\",\"TV-PG\",\"PG-13\",\"PG\",\"TV-G\",\"PG\",\"PG\",\"TV-PG\",\"TV-G\",\"TV-14\",\"PG\",\"PG\",\"TV-PG\",\"TV-Y7-FV\",\"PG\",\"PG\",\"PG\",\"TV-G\",\"TV-PG\",\"PG\",\"PG\",\"TV-G\",\"TV-G\",\"TV-G\",\"PG\",\"TV-PG\",\"TV-PG\",\"TV-G\",\"PG\",\"PG-13\",\"TV-14\",\"PG\",\"TV-PG\",\"PG\",\"TV-14\",\"PG-13\",\"PG\",\"G\",\"PG\",\"TV-PG\",\"TV-PG\",\"PG-13\",\"PG\",\"TV-PG\",\"PG\",\"PG\",\"PG\",\"TV-G\",\"PG\",\"TV-G\",\"TV-PG\",\"PG\",\"TV-PG\",\"PG\",\"TV-G\",\"TV-14\",\"PG\",\"PG-13\",\"PG\",\"TV-PG\",\"PG-13\",\"TV-PG\",\"TV-PG\",\"G\",\"TV-PG\",\"TV-14\",\"TV-PG\",\"TV-PG\",\"PG\",\"TV-PG\",\"TV-PG\",\"PG-13\",\"TV-PG\",\"PG\",\"TV-14\",\"TV-PG\",\"PG-13\",\"TV-PG\",\"PG-13\",\"PG-13\",\"TV-PG\",\"PG\",\"PG-13\",\"PG\",\"PG\",\"PG\",\"PG\",\"PG\",\"TV-PG\",\"TV-G\",\"PG-13\",\"G\",\"G\",\"TV-PG\",\"TV-PG\",\"PG\",\"G\",\"TV-G\",\"TV-G\",\"PG\",\"TV-PG\",\"TV-PG\",\"PG\",\"TV-PG\",\"TV-PG\",\"PG\",\"TV-PG\",\"PG\",\"TV-G\",\"PG\",\"PG\",\"G\",\"PG\",\"PG\",\"PG\",\"PG-13\",\"PG-13\",\"TV-PG\",\"PG\",\"G\",\"G\",\"TV-G\",\"TV-PG\",\"TV-PG\",\"TV-Y7\",\"PG\",\"TV-G\",\"PG\",\"TV-PG\",\"TV-G\",\"TV-14\",\"TV-G\",\"TV-G\",\"TV-PG\",\"G\",\"G\",\"TV-G\",\"G\",\"G\",\"G\",\"TV-G\",\"TV-G\",\"TV-G\",\"TV-G\",\"G\",\"TV-G\",\"TV-G\",\"G\",\"TV-G\",\"TV-G\",\"PG\",\"TV-G\",\"G\",\"TV-G\",\"TV-PG\",\"TV-PG\",\"TV-G\",\"TV-PG\",\"G\",\"PG\",\"PG\",\"PG\",\"PG\",\"PG\",\"PG\",\"PG\",\"PG\",\"PG\",\"PG-13\",\"PG\",\"PG\",\"PG-13\",\"TV-G\",\"TV-PG\",\"TV-Y7\",\"TV-Y7\",\"PG\",\"PG\",\"TV-PG\",\"TV-PG\",\"PG\",\"G\",\"TV-G\",\"PG\",\"PG\",\"TV-G\",\"PG\",\"PG\",\"TV-G\",\"PG\",\"PG\",\"TV-G\",\"TV-G\",\"TV-G\",\"TV-Y7\",\"TV-G\",\"TV-G\",\"G\",\"TV-Y7\",\"TV-G\",\"PG\",\"TV-PG\",\"TV-PG\",\"TV-PG\",\"TV-PG\",\"TV-14\",\"TV-PG\",\"TV-PG\",\"PG\",\"TV-PG\",\"TV-Y7\",\"G\",\"TV-G\",\"PG-13\",\"TV-G\",\"PG\",\"TV-G\",\"PG\",\"TV-G\",\"G\",\"TV-G\",\"PG-13\",\"TV-PG\",\"TV-PG\",\"PG\",\"TV-14\",\"TV-Y7-FV\",\"TV-Y7\",\"TV-PG\",\"PG\",\"PG\",\"TV-G\",\"TV-PG\",\"TV-G\",\"TV-G\",\"TV-G\",\"PG-13\",\"G\",\"G\",\"G\",\"TV-PG\",\"G\",\"G\",\"G\",\"PG\",\"TV-G\",\"TV-G\",\"G\",\"G\",\"G\",\"G\",\"G\",\"TV-G\",\"TV-PG\",\"PG\",\"G\",\"G\",\"TV-PG\",\"TV-PG\",\"TV-PG\",\"G\",\"PG\",\"TV-G\",\"PG-13\",\"TV-Y7\",\"TV-PG\",\"G\",\"G\",\"G\",\"TV-G\",\"TV-PG\",\"G\",\"G\",\"TV-G\",\"TV-14\",\"G\",\"PG\",\"TV-PG\",\"PG\",\"TV-G\",\"PG\",\"TV-G\",\"G\",\"PG\",\"TV-G\",\"TV-PG\",\"TV-G\",\"G\",\"G\",\"TV-G\",\"TV-G\",\"TV-G\",\"PG\",\"TV-G\",\"TV-G\",\"TV-PG\",\"G\",\"TV-G\",\"G\",\"G\",\"G\",\"TV-G\",\"TV-G\",\"TV-G\",\"TV-Y7\",\"TV-Y7\",\"TV-Y7\",\"TV-Y7\",\"TV-PG\",\"G\",\"TV-G\",\"G\",\"TV-G\",\"G\",\"G\",\"G\",\"TV-G\",\"TV-G\",\"G\",\"PG\",\"TV-G\",\"TV-G\",\"TV-G\",\"G\",\"G\",\"PG\",\"G\",\"TV-PG\",\"G\",\"TV-G\",\"PG\",\"PG\",\"TV-G\",\"TV-G\",\"TV-G\",\"TV-G\",\"TV-G\",\"TV-PG\",\"TV-G\",\"TV-PG\",\"TV-PG\",\"PG\",\"TV-PG\",\"G\",\"G\",\"G\",\"G\",\"G\",\"G\",\"G\",\"TV-PG\",\"TV-G\",\"TV-G\",\"TV-G\",\"G\",\"G\",\"TV-PG\",\"PG\",\"TV-G\",\"TV-PG\",\"TV-14\",\"TV-G\",\"PG\",\"TV-PG\",\"TV-14\",\"G\",\"TV-PG\",\"G\",\"G\",\"TV-G\",\"PG\",\"G\",\"PG\",\"PG\",\"PG\",\"TV-Y7\",\"PG\",\"TV-G\",\"G\",\"TV-G\",\"PG\",\"PG\",\"PG\",\"TV-PG\",\"TV-G\",\"PG\",\"TV-G\",\"G\",\"TV-G\",\"TV-G\",\"TV-G\",\"TV-G\",\"G\",\"TV-G\",\"TV-PG\",\"TV-G\",\"TV-G\",\"TV-G\",\"TV-G\",\"TV-G\",\"TV-G\",\"TV-G\",\"G\",\"TV-PG\",\"TV-G\",\"TV-PG\",\"G\",\"G\",\"TV-G\",\"TV-G\",\"PG\",\"G\",\"G\",\"G\",\"G\",\"TV-G\",\"TV-G\",\"G\",\"PG\",\"PG\",\"PG\",\"PG\",\"PG\",\"TV-G\",\"TV-G\",\"TV-PG\",\"TV-G\",\"TV-G\",\"TV-G\",\"PG\",\"TV-G\",\"G\",\"G\",\"PG\",\"PG\",\"G\",\"TV-PG\",\"TV-PG\",\"PG\",\"TV-G\",\"PG\",\"PG-13\",\"G\",\"PG\",\"PG\",\"TV-14\",\"TV-G\",\"TV-G\",\"G\",\"TV-G\",\"G\",\"TV-G\",\"TV-G\",\"PG\",\"TV-PG\",\"PG\",\"TV-G\",\"TV-G\",\"TV-PG\",\"TV-PG\",\"PG\",\"G\",\"G\",\"G\",\"PG\",\"G\",\"TV-Y7\",\"TV-Y7\",\"TV-Y7\",\"TV-Y7\",\"TV-Y7\",\"TV-G\",\"TV-Y7\",\"G\",\"TV-G\",\"TV-G\",\"PG\",\"TV-14\",\"G\",\"TV-PG\",\"PG\",\"TV-Y7\",\"G\",\"TV-G\",\"G\",\"TV-PG\",\"TV-G\",\"TV-PG\",\"TV-PG\",\"TV-Y7-FV\",\"TV-PG\",\"TV-PG\",\"PG-13\",\"PG-13\",\"PG-13\",\"PG-13\",\"PG-13\",\"PG-13\",\"PG-13\",\"PG-13\",\"PG-13\",\"PG-13\",\"PG-13\",\"PG-13\",\"PG-13\",\"PG-13\",\"PG-13\",\"PG-13\",\"G\",\"TV-Y7\",\"PG\",\"G\",\"TV-PG\",\"TV-G\",\"G\",\"TV-G\",\"G\",\"TV-G\",\"TV-G\",\"TV-G\",\"TV-PG\",\"G\",\"PG\",\"TV-G\",\"TV-G\",\"PG\",\"TV-14\",\"TV-G\",\"TV-G\",\"TV-PG\",\"PG\",\"TV-PG\",\"G\",\"G\",\"TV-G\",\"TV-PG\",\"TV-G\",\"TV-G\",\"G\",\"G\",\"PG\",\"PG\",\"PG\",\"PG\",\"PG\",\"G\",\"TV-G\",\"G\",\"G\",\"G\",\"TV-PG\",\"G\",\"G\",\"PG\",\"TV-PG\",\"G\",\"PG\",\"G\",\"PG\",\"G\",\"G\",\"TV-G\",\"TV-G\",\"TV-G\",\"G\",\"G\",\"G\",\"PG-13\",\"PG-13\",\"PG-13\",\"TV-G\",\"TV-PG\",\"TV-PG\",\"TV-Y7\",\"TV-G\",\"TV-G\",\"G\",\"G\",\"G\",\"TV-G\",\"G\",\"G\",\"TV-G\",\"PG\",\"PG\",\"TV-G\",\"G\",\"TV-G\",\"TV-G\",\"G\",\"G\",\"G\",\"TV-G\",\"PG\",\"TV-G\",\"G\",\"TV-PG\",\"PG\",\"G\",\"TV-G\",\"G\",\"TV-G\",\"G\",\"PG-13\",\"G\",\"TV-PG\",\"G\",\"TV-PG\",\"TV-G\",\"PG\",\"G\",\"TV-G\",\"PG-13\",\"PG\",\"TV-PG\",\"G\",\"PG\",\"TV-PG\",\"TV-PG\",\"TV-PG\",\"TV-PG\",\"TV-G\",\"PG\",\"PG-13\",\"PG\",\"PG\",\"TV-PG\",\"G\",\"TV-G\",\"PG\",\"G\",\"G\",\"TV-PG\",\"TV-G\",\"PG\",\"PG\",\"PG\",\"PG-13\",\"PG\",\"PG-13\",\"PG\",\"TV-G\",\"TV-Y7\",\"TV-G\",\"G\",\"TV-PG\",\"TV-G\",\"TV-PG\",\"G\",\"PG\",\"PG\",\"PG\",\"TV-Y7\",\"TV-PG\",\"PG\",\"TV-G\",\"TV-G\",\"TV-14\",\"PG\",\"G\",\"G\",\"TV-G\",\"TV-PG\",\"PG\",\"G\",\"G\",\"G\",\"G\",\"G\",\"TV-G\",\"TV-Y7\",\"TV-PG\",\"TV-Y7\",\"G\",\"PG\",\"PG\",\"G\",\"TV-G\",\"G\",\"TV-G\",\"TV-G\",\"TV-G\",\"TV-G\",\"PG\",\"PG\",\"TV-G\",\"G\",\"G\",\"G\",\"TV-G\",\"TV-PG\",\"G\",\"G\",\"PG\",\"TV-PG\",\"TV-Y7\",\"TV-Y7\",\"PG\",\"G\",\"PG\",\"PG\",\"TV-G\",\"G\",\"G\",\"G\",\"PG\",\"PG\",\"G\",\"G\",\"TV-G\",\"G\",\"G\",\"G\",\"G\",\"G\",\"TV-Y7\",\"G\",\"PG\",\"TV-PG\",\"G\",\"TV-Y\",\"G\",\"TV-PG\",\"G\",\"G\",\"PG\",\"TV-Y7\",\"TV-G\",\"PG\",\"G\",\"TV-G\",\"TV-PG\",\"TV-G\",\"G\",\"G\",\"G\",\"G\",\"TV-G\",\"G\",\"G\",\"G\",\"G\",\"PG\",\"G\",\"G\",\"TV-PG\",\"G\",\"G\",\"G\",\"G\",\"TV-G\",\"G\",\"PG\",\"G\",\"TV-G\",\"TV-G\",\"TV-G\",\"G\",\"PG\",\"G\",\"TV-G\",\"TV-G\",\"TV-Y7\",\"TV-G\",\"G\",\"G\",\"TV-G\",\"TV-G\",\"G\",\"TV-Y7\",\"TV-G\",\"TV-Y7\",\"TV-Y7\",\"PG\",\"PG\",\"TV-G\",\"TV-PG\",\"PG\",\"TV-G\",\"G\",\"G\",\"G\",\"TV-PG\",\"TV-Y7\",\"PG\",\"G\",\"G\",\"G\",\"G\",\"G\",\"G\",\"G\",\"TV-G\",\"PG\",\"G\",\"PG\",\"TV-PG\",\"PG\",\"TV-G\",\"PG\",\"TV-G\",\"TV-G\",\"TV-PG\",\"TV-PG\",\"G\",\"PG\",\"TV-G\",\"G\",\"PG\",\"G\",\"TV-PG\",\"G\",\"PG\",\"PG\",\"TV-PG\",\"G\",\"G\",\"G\",\"TV-G\",\"TV-G\",\"TV-PG\",\"PG\",\"TV-Y7\",\"TV-PG\",\"TV-G\",\"TV-G\",\"TV-G\",\"TV-G\",\"TV-G\",\"TV-G\",\"TV-G\",\"TV-G\",\"PG\",\"G\",\"G\",\"TV-PG\",\"TV-G\",\"G\",\"G\",\"G\",\"G\",\"PG\",\"PG\",\"PG\",\"PG\",\"PG-13\",\"PG\",\"PG-13\",\"PG-13\",\"TV-G\"],\"xaxis\":\"x\",\"yaxis\":\"y\",\"type\":\"histogram\"},{\"alignmentgroup\":\"True\",\"bingroup\":\"x\",\"hovertemplate\":\"type=TV Show<br>value=%{x}<br>count=%{y}<extra></extra>\",\"legendgroup\":\"TV Show\",\"marker\":{\"color\":\"#EF553B\",\"pattern\":{\"shape\":\"\"}},\"name\":\"TV Show\",\"offsetgroup\":\"TV Show\",\"orientation\":\"v\",\"showlegend\":true,\"x\":[null,\"TV-14\",\"TV-14\",\"TV-PG\",\"TV-PG\",\"TV-PG\",\"TV-PG\",\"TV-PG\",\"TV-Y7\",\"TV-PG\",\"TV-14\",\"TV-Y7\",\"TV-PG\",\"TV-PG\",\"TV-PG\",\"TV-14\",\"TV-14\",\"TV-PG\",\"TV-G\",\"TV-PG\",\"TV-PG\",\"TV-14\",\"TV-14\",\"TV-Y7\",\"TV-Y7\",\"TV-G\",\"TV-PG\",\"TV-Y\",\"TV-Y\",\"TV-PG\",\"TV-14\",\"TV-PG\",\"TV-PG\",\"TV-Y\",\"TV-PG\",\"TV-14\",\"TV-Y7\",\"TV-14\",\"TV-PG\",\"TV-Y\",\"TV-Y\",\"TV-14\",\"TV-PG\",\"TV-PG\",\"TV-14\",\"TV-Y\",\"TV-14\",\"TV-PG\",\"TV-PG\",\"TV-Y\",\"TV-G\",\"TV-G\",\"TV-14\",\"TV-14\",\"PG\",\"TV-Y7\",\"TV-14\",\"TV-Y\",\"TV-Y\",\"TV-Y7\",\"TV-PG\",\"TV-PG\",\"TV-Y7\",\"TV-Y\",\"TV-Y\",\"TV-PG\",\"TV-14\",\"TV-G\",\"TV-14\",\"TV-14\",\"TV-Y\",\"TV-G\",\"TV-G\",\"TV-PG\",\"TV-PG\",\"TV-Y\",\"TV-Y7\",\"TV-14\",\"TV-Y7-FV\",\"TV-G\",\"TV-G\",\"TV-14\",\"TV-14\",\"TV-Y\",\"TV-Y\",\"TV-G\",\"TV-PG\",\"TV-14\",\"TV-Y7\",\"TV-Y7\",\"TV-14\",\"TV-G\",\"TV-Y\",\"TV-14\",\"TV-Y\",\"TV-Y7\",\"TV-Y7\",\"TV-G\",\"TV-PG\",\"TV-Y7\",\"TV-G\",\"TV-Y7\",\"TV-G\",\"TV-PG\",\"TV-PG\",\"TV-G\",\"TV-PG\",\"TV-Y7\",\"TV-Y7\",\"TV-Y\",\"TV-PG\",\"TV-PG\",\"TV-Y7-FV\",\"TV-Y7-FV\",\"TV-Y7\",\"TV-Y7\",\"TV-PG\",\"TV-G\",\"TV-PG\",\"TV-14\",null,\"TV-Y7\",\"TV-PG\",\"TV-G\",\"TV-Y7\",\"TV-G\",\"TV-G\",\"TV-Y7\",\"TV-PG\",\"TV-PG\",\"TV-Y7-FV\",\"TV-14\",\"TV-PG\",\"TV-PG\",\"TV-Y7\",\"TV-14\",\"TV-G\",\"TV-14\",\"TV-14\",\"TV-PG\",\"TV-G\",\"TV-PG\",\"TV-PG\",\"TV-PG\",\"TV-G\",\"TV-G\",\"TV-14\",\"TV-G\",\"TV-PG\",\"TV-Y\",\"TV-Y\",\"TV-14\",\"TV-PG\",\"TV-PG\",\"TV-PG\",\"TV-Y\",\"TV-PG\",\"TV-Y\",\"TV-14\",\"TV-PG\",\"TV-PG\",\"TV-14\",\"TV-PG\",\"TV-G\",\"TV-G\",\"TV-14\",\"TV-PG\",\"TV-G\",\"TV-G\",\"TV-PG\",\"TV-G\",\"TV-Y\",\"TV-PG\",\"TV-G\",\"TV-G\",\"TV-G\",\"TV-G\",\"TV-G\",\"TV-PG\",\"TV-PG\",\"TV-G\",\"TV-G\",\"TV-G\",\"TV-PG\",\"TV-PG\",\"TV-Y7\",\"TV-PG\",\"TV-G\",\"TV-Y\",\"TV-PG\",\"TV-PG\",\"TV-PG\",\"TV-Y\",\"TV-Y7\",\"TV-PG\",\"TV-PG\",\"TV-PG\",\"TV-G\",\"TV-PG\",\"TV-Y7\",\"TV-Y\",\"TV-Y7\",\"TV-PG\",\"TV-PG\",\"TV-PG\",\"TV-PG\",\"TV-PG\",\"TV-PG\",\"TV-PG\",\"TV-Y7\",\"TV-Y7\",\"TV-PG\",\"TV-PG\",\"TV-PG\",\"TV-G\",\"TV-PG\",\"TV-PG\",\"TV-PG\",\"TV-PG\",\"TV-PG\",\"TV-PG\",\"TV-G\",\"TV-PG\",\"TV-Y7\",\"TV-G\",\"TV-Y\",\"TV-Y7\",\"TV-Y\",\"TV-PG\",\"TV-PG\",\"TV-G\",\"TV-G\",\"TV-G\",\"TV-G\",\"TV-PG\",\"TV-Y7\",\"TV-Y7\",\"TV-G\",\"TV-Y7\",\"TV-PG\",\"TV-PG\",\"TV-PG\",\"TV-G\",\"TV-PG\",\"TV-PG\",\"TV-14\",\"TV-PG\",\"TV-Y7\",\"TV-Y7\",\"TV-G\",\"TV-PG\",\"TV-14\",\"TV-G\",\"TV-Y7\",\"TV-Y7\",\"TV-PG\",\"TV-14\",\"TV-G\",\"TV-Y7\",\"TV-PG\",\"TV-PG\",\"TV-PG\",\"TV-Y\",\"TV-Y7\",\"TV-Y\",\"TV-Y\",\"TV-Y\",\"TV-PG\",\"TV-Y\",\"TV-G\",\"TV-G\",\"TV-Y7\",\"TV-Y7\",\"TV-G\",\"TV-PG\",\"TV-G\",\"TV-G\",\"TV-G\",\"TV-Y7\",\"TV-Y7\",\"TV-PG\",\"TV-G\",\"TV-Y7\",\"TV-PG\",\"TV-G\",\"TV-G\",\"TV-Y7\",\"TV-G\",\"TV-Y\",\"TV-G\",\"TV-Y\",\"TV-Y7\",\"TV-Y7\",\"TV-G\",\"TV-Y\",\"TV-Y7\",\"TV-Y\",\"TV-PG\",\"TV-G\",\"TV-Y7\",\"TV-Y7\",\"TV-Y7\",\"TV-Y7\",\"TV-G\",\"TV-Y\",\"TV-Y7\",\"TV-Y7\",\"TV-G\",\"TV-Y7\",\"TV-G\",\"TV-PG\",\"TV-Y\",\"TV-14\",\"TV-PG\",\"TV-Y7\",\"TV-Y7\",\"TV-Y7\",\"TV-G\",\"TV-G\",\"TV-Y7\",\"TV-PG\",\"TV-Y\",\"TV-G\",\"TV-PG\",\"TV-PG\",\"TV-Y7\",\"TV-Y7\",\"TV-G\",\"TV-PG\",\"TV-PG\",\"TV-PG\",\"TV-Y7\",\"TV-Y7\",\"TV-Y7\",\"TV-Y7\",\"TV-Y7\",\"TV-Y7-FV\",\"TV-Y7\",\"TV-Y7\",\"TV-G\",\"TV-PG\",\"TV-Y7\",\"TV-Y7\",\"TV-Y7\",\"TV-14\",\"TV-Y7\",\"TV-Y7\",\"TV-Y7\",\"TV-Y7\",\"TV-Y7\",\"TV-PG\",\"TV-14\",\"TV-Y7\",\"TV-Y7\",\"TV-G\",\"TV-PG\",\"TV-Y7\",\"TV-Y\",\"TV-14\",\"TV-G\",\"TV-G\",\"TV-G\",\"TV-G\",\"TV-Y\",\"TV-PG\",\"TV-G\",\"TV-Y7\",\"TV-Y7\",\"TV-Y7\",\"TV-Y7\",\"TV-Y7\",\"TV-Y7\",\"TV-Y7\",\"TV-Y7\",\"TV-Y7\",\"TV-Y7-FV\",\"TV-G\",\"TV-G\",\"TV-Y7\",\"TV-Y7\",\"TV-Y\",\"TV-Y\",\"TV-PG\",\"TV-PG\",\"TV-Y\",\"TV-G\",\"TV-G\",\"TV-G\",\"TV-PG\",\"TV-Y\",\"TV-PG\",\"TV-G\",\"TV-Y7\",\"TV-Y7\",\"TV-G\",\"TV-Y7\",\"TV-Y7\",\"TV-Y\"],\"xaxis\":\"x\",\"yaxis\":\"y\",\"type\":\"histogram\"}],                        {\"template\":{\"data\":{\"bar\":[{\"error_x\":{\"color\":\"#2a3f5f\"},\"error_y\":{\"color\":\"#2a3f5f\"},\"marker\":{\"line\":{\"color\":\"#E5ECF6\",\"width\":0.5},\"pattern\":{\"fillmode\":\"overlay\",\"size\":10,\"solidity\":0.2}},\"type\":\"bar\"}],\"barpolar\":[{\"marker\":{\"line\":{\"color\":\"#E5ECF6\",\"width\":0.5},\"pattern\":{\"fillmode\":\"overlay\",\"size\":10,\"solidity\":0.2}},\"type\":\"barpolar\"}],\"carpet\":[{\"aaxis\":{\"endlinecolor\":\"#2a3f5f\",\"gridcolor\":\"white\",\"linecolor\":\"white\",\"minorgridcolor\":\"white\",\"startlinecolor\":\"#2a3f5f\"},\"baxis\":{\"endlinecolor\":\"#2a3f5f\",\"gridcolor\":\"white\",\"linecolor\":\"white\",\"minorgridcolor\":\"white\",\"startlinecolor\":\"#2a3f5f\"},\"type\":\"carpet\"}],\"choropleth\":[{\"colorbar\":{\"outlinewidth\":0,\"ticks\":\"\"},\"type\":\"choropleth\"}],\"contour\":[{\"colorbar\":{\"outlinewidth\":0,\"ticks\":\"\"},\"colorscale\":[[0.0,\"#0d0887\"],[0.1111111111111111,\"#46039f\"],[0.2222222222222222,\"#7201a8\"],[0.3333333333333333,\"#9c179e\"],[0.4444444444444444,\"#bd3786\"],[0.5555555555555556,\"#d8576b\"],[0.6666666666666666,\"#ed7953\"],[0.7777777777777778,\"#fb9f3a\"],[0.8888888888888888,\"#fdca26\"],[1.0,\"#f0f921\"]],\"type\":\"contour\"}],\"contourcarpet\":[{\"colorbar\":{\"outlinewidth\":0,\"ticks\":\"\"},\"type\":\"contourcarpet\"}],\"heatmap\":[{\"colorbar\":{\"outlinewidth\":0,\"ticks\":\"\"},\"colorscale\":[[0.0,\"#0d0887\"],[0.1111111111111111,\"#46039f\"],[0.2222222222222222,\"#7201a8\"],[0.3333333333333333,\"#9c179e\"],[0.4444444444444444,\"#bd3786\"],[0.5555555555555556,\"#d8576b\"],[0.6666666666666666,\"#ed7953\"],[0.7777777777777778,\"#fb9f3a\"],[0.8888888888888888,\"#fdca26\"],[1.0,\"#f0f921\"]],\"type\":\"heatmap\"}],\"heatmapgl\":[{\"colorbar\":{\"outlinewidth\":0,\"ticks\":\"\"},\"colorscale\":[[0.0,\"#0d0887\"],[0.1111111111111111,\"#46039f\"],[0.2222222222222222,\"#7201a8\"],[0.3333333333333333,\"#9c179e\"],[0.4444444444444444,\"#bd3786\"],[0.5555555555555556,\"#d8576b\"],[0.6666666666666666,\"#ed7953\"],[0.7777777777777778,\"#fb9f3a\"],[0.8888888888888888,\"#fdca26\"],[1.0,\"#f0f921\"]],\"type\":\"heatmapgl\"}],\"histogram\":[{\"marker\":{\"pattern\":{\"fillmode\":\"overlay\",\"size\":10,\"solidity\":0.2}},\"type\":\"histogram\"}],\"histogram2d\":[{\"colorbar\":{\"outlinewidth\":0,\"ticks\":\"\"},\"colorscale\":[[0.0,\"#0d0887\"],[0.1111111111111111,\"#46039f\"],[0.2222222222222222,\"#7201a8\"],[0.3333333333333333,\"#9c179e\"],[0.4444444444444444,\"#bd3786\"],[0.5555555555555556,\"#d8576b\"],[0.6666666666666666,\"#ed7953\"],[0.7777777777777778,\"#fb9f3a\"],[0.8888888888888888,\"#fdca26\"],[1.0,\"#f0f921\"]],\"type\":\"histogram2d\"}],\"histogram2dcontour\":[{\"colorbar\":{\"outlinewidth\":0,\"ticks\":\"\"},\"colorscale\":[[0.0,\"#0d0887\"],[0.1111111111111111,\"#46039f\"],[0.2222222222222222,\"#7201a8\"],[0.3333333333333333,\"#9c179e\"],[0.4444444444444444,\"#bd3786\"],[0.5555555555555556,\"#d8576b\"],[0.6666666666666666,\"#ed7953\"],[0.7777777777777778,\"#fb9f3a\"],[0.8888888888888888,\"#fdca26\"],[1.0,\"#f0f921\"]],\"type\":\"histogram2dcontour\"}],\"mesh3d\":[{\"colorbar\":{\"outlinewidth\":0,\"ticks\":\"\"},\"type\":\"mesh3d\"}],\"parcoords\":[{\"line\":{\"colorbar\":{\"outlinewidth\":0,\"ticks\":\"\"}},\"type\":\"parcoords\"}],\"pie\":[{\"automargin\":true,\"type\":\"pie\"}],\"scatter\":[{\"marker\":{\"colorbar\":{\"outlinewidth\":0,\"ticks\":\"\"}},\"type\":\"scatter\"}],\"scatter3d\":[{\"line\":{\"colorbar\":{\"outlinewidth\":0,\"ticks\":\"\"}},\"marker\":{\"colorbar\":{\"outlinewidth\":0,\"ticks\":\"\"}},\"type\":\"scatter3d\"}],\"scattercarpet\":[{\"marker\":{\"colorbar\":{\"outlinewidth\":0,\"ticks\":\"\"}},\"type\":\"scattercarpet\"}],\"scattergeo\":[{\"marker\":{\"colorbar\":{\"outlinewidth\":0,\"ticks\":\"\"}},\"type\":\"scattergeo\"}],\"scattergl\":[{\"marker\":{\"colorbar\":{\"outlinewidth\":0,\"ticks\":\"\"}},\"type\":\"scattergl\"}],\"scattermapbox\":[{\"marker\":{\"colorbar\":{\"outlinewidth\":0,\"ticks\":\"\"}},\"type\":\"scattermapbox\"}],\"scatterpolar\":[{\"marker\":{\"colorbar\":{\"outlinewidth\":0,\"ticks\":\"\"}},\"type\":\"scatterpolar\"}],\"scatterpolargl\":[{\"marker\":{\"colorbar\":{\"outlinewidth\":0,\"ticks\":\"\"}},\"type\":\"scatterpolargl\"}],\"scatterternary\":[{\"marker\":{\"colorbar\":{\"outlinewidth\":0,\"ticks\":\"\"}},\"type\":\"scatterternary\"}],\"surface\":[{\"colorbar\":{\"outlinewidth\":0,\"ticks\":\"\"},\"colorscale\":[[0.0,\"#0d0887\"],[0.1111111111111111,\"#46039f\"],[0.2222222222222222,\"#7201a8\"],[0.3333333333333333,\"#9c179e\"],[0.4444444444444444,\"#bd3786\"],[0.5555555555555556,\"#d8576b\"],[0.6666666666666666,\"#ed7953\"],[0.7777777777777778,\"#fb9f3a\"],[0.8888888888888888,\"#fdca26\"],[1.0,\"#f0f921\"]],\"type\":\"surface\"}],\"table\":[{\"cells\":{\"fill\":{\"color\":\"#EBF0F8\"},\"line\":{\"color\":\"white\"}},\"header\":{\"fill\":{\"color\":\"#C8D4E3\"},\"line\":{\"color\":\"white\"}},\"type\":\"table\"}]},\"layout\":{\"annotationdefaults\":{\"arrowcolor\":\"#2a3f5f\",\"arrowhead\":0,\"arrowwidth\":1},\"autotypenumbers\":\"strict\",\"coloraxis\":{\"colorbar\":{\"outlinewidth\":0,\"ticks\":\"\"}},\"colorscale\":{\"diverging\":[[0,\"#8e0152\"],[0.1,\"#c51b7d\"],[0.2,\"#de77ae\"],[0.3,\"#f1b6da\"],[0.4,\"#fde0ef\"],[0.5,\"#f7f7f7\"],[0.6,\"#e6f5d0\"],[0.7,\"#b8e186\"],[0.8,\"#7fbc41\"],[0.9,\"#4d9221\"],[1,\"#276419\"]],\"sequential\":[[0.0,\"#0d0887\"],[0.1111111111111111,\"#46039f\"],[0.2222222222222222,\"#7201a8\"],[0.3333333333333333,\"#9c179e\"],[0.4444444444444444,\"#bd3786\"],[0.5555555555555556,\"#d8576b\"],[0.6666666666666666,\"#ed7953\"],[0.7777777777777778,\"#fb9f3a\"],[0.8888888888888888,\"#fdca26\"],[1.0,\"#f0f921\"]],\"sequentialminus\":[[0.0,\"#0d0887\"],[0.1111111111111111,\"#46039f\"],[0.2222222222222222,\"#7201a8\"],[0.3333333333333333,\"#9c179e\"],[0.4444444444444444,\"#bd3786\"],[0.5555555555555556,\"#d8576b\"],[0.6666666666666666,\"#ed7953\"],[0.7777777777777778,\"#fb9f3a\"],[0.8888888888888888,\"#fdca26\"],[1.0,\"#f0f921\"]]},\"colorway\":[\"#636efa\",\"#EF553B\",\"#00cc96\",\"#ab63fa\",\"#FFA15A\",\"#19d3f3\",\"#FF6692\",\"#B6E880\",\"#FF97FF\",\"#FECB52\"],\"font\":{\"color\":\"#2a3f5f\"},\"geo\":{\"bgcolor\":\"white\",\"lakecolor\":\"white\",\"landcolor\":\"#E5ECF6\",\"showlakes\":true,\"showland\":true,\"subunitcolor\":\"white\"},\"hoverlabel\":{\"align\":\"left\"},\"hovermode\":\"closest\",\"mapbox\":{\"style\":\"light\"},\"paper_bgcolor\":\"white\",\"plot_bgcolor\":\"#E5ECF6\",\"polar\":{\"angularaxis\":{\"gridcolor\":\"white\",\"linecolor\":\"white\",\"ticks\":\"\"},\"bgcolor\":\"#E5ECF6\",\"radialaxis\":{\"gridcolor\":\"white\",\"linecolor\":\"white\",\"ticks\":\"\"}},\"scene\":{\"xaxis\":{\"backgroundcolor\":\"#E5ECF6\",\"gridcolor\":\"white\",\"gridwidth\":2,\"linecolor\":\"white\",\"showbackground\":true,\"ticks\":\"\",\"zerolinecolor\":\"white\"},\"yaxis\":{\"backgroundcolor\":\"#E5ECF6\",\"gridcolor\":\"white\",\"gridwidth\":2,\"linecolor\":\"white\",\"showbackground\":true,\"ticks\":\"\",\"zerolinecolor\":\"white\"},\"zaxis\":{\"backgroundcolor\":\"#E5ECF6\",\"gridcolor\":\"white\",\"gridwidth\":2,\"linecolor\":\"white\",\"showbackground\":true,\"ticks\":\"\",\"zerolinecolor\":\"white\"}},\"shapedefaults\":{\"line\":{\"color\":\"#2a3f5f\"}},\"ternary\":{\"aaxis\":{\"gridcolor\":\"white\",\"linecolor\":\"white\",\"ticks\":\"\"},\"baxis\":{\"gridcolor\":\"white\",\"linecolor\":\"white\",\"ticks\":\"\"},\"bgcolor\":\"#E5ECF6\",\"caxis\":{\"gridcolor\":\"white\",\"linecolor\":\"white\",\"ticks\":\"\"}},\"title\":{\"x\":0.05},\"xaxis\":{\"automargin\":true,\"gridcolor\":\"white\",\"linecolor\":\"white\",\"ticks\":\"\",\"title\":{\"standoff\":15},\"zerolinecolor\":\"white\",\"zerolinewidth\":2},\"yaxis\":{\"automargin\":true,\"gridcolor\":\"white\",\"linecolor\":\"white\",\"ticks\":\"\",\"title\":{\"standoff\":15},\"zerolinecolor\":\"white\",\"zerolinewidth\":2}}},\"xaxis\":{\"anchor\":\"y\",\"domain\":[0.0,1.0],\"title\":{\"text\":\"value\"}},\"yaxis\":{\"anchor\":\"x\",\"domain\":[0.0,1.0],\"title\":{\"text\":\"count\"}},\"legend\":{\"title\":{\"text\":\"type\"},\"tracegroupgap\":0},\"title\":{\"text\":\"Ratings of Movies and TV Shows\"},\"barmode\":\"relative\"},                        {\"responsive\": true}                    ).then(function(){\n",
              "                            \n",
              "var gd = document.getElementById('025e422f-9bfe-4a89-af43-ee6b98060691');\n",
              "var x = new MutationObserver(function (mutations, observer) {{\n",
              "        var display = window.getComputedStyle(gd).display;\n",
              "        if (!display || display === 'none') {{\n",
              "            console.log([gd, 'removed!']);\n",
              "            Plotly.purge(gd);\n",
              "            observer.disconnect();\n",
              "        }}\n",
              "}});\n",
              "\n",
              "// Listen for the removal of the full notebook cells\n",
              "var notebookContainer = gd.closest('#notebook-container');\n",
              "if (notebookContainer) {{\n",
              "    x.observe(notebookContainer, {childList: true});\n",
              "}}\n",
              "\n",
              "// Listen for the clearing of the current output cell\n",
              "var outputEl = gd.closest('.output');\n",
              "if (outputEl) {{\n",
              "    x.observe(outputEl, {childList: true});\n",
              "}}\n",
              "\n",
              "                        })                };                            </script>        </div>\n",
              "</body>\n",
              "</html>"
            ]
          },
          "metadata": {}
        }
      ]
    },
    {
      "cell_type": "code",
      "source": [
        "#In which country were released more products?\n",
        "disney_country = disney_plus_titles_df['country']\n",
        "disney_country.dropna(inplace = True)\n",
        "country = disney_country.value_counts().to_frame()\n",
        "\n",
        "print('The Country where Disney released more products is', country.index[0], 'since there are published', max(country['country']))"
      ],
      "metadata": {
        "colab": {
          "base_uri": "https://localhost:8080/"
        },
        "id": "Wdtm80KGFaxS",
        "outputId": "c4a03410-702a-4061-f468-3f00b18b6f76"
      },
      "execution_count": 37,
      "outputs": [
        {
          "output_type": "stream",
          "name": "stdout",
          "text": [
            "The Country where Disney released more products is United States since there are published 1005\n"
          ]
        }
      ]
    },
    {
      "cell_type": "code",
      "source": [
        "#Graphical visualization of the countries where were released more products\n",
        "country_count = disney_plus_titles_df.copy()\n",
        "country_count = pd.concat([country_count, disney_plus_titles_df['country'].str.split(',', expand=True)])\n",
        "country_count = country_count.melt(id_vars = ['type', 'title'], value_vars = range(15), value_name = 'country')\n",
        "country_count = country_count[country_count['country'].notna()]\n",
        "fig = px.histogram(data_frame=country_count, x = 'country', title = 'Country release count').update_xaxes(categoryorder = 'total descending')\n",
        "fig.show()"
      ],
      "metadata": {
        "colab": {
          "base_uri": "https://localhost:8080/",
          "height": 630
        },
        "id": "blFAYwSq8OYT",
        "outputId": "f4d5a578-ece8-4b47-8d2b-dea73176a47c"
      },
      "execution_count": 38,
      "outputs": [
        {
          "output_type": "stream",
          "name": "stderr",
          "text": [
            "/usr/local/lib/python3.7/dist-packages/ipykernel_launcher.py:4: FutureWarning:\n",
            "\n",
            "This dataframe has a column name that matches the 'value_name' column name of the resulting Dataframe. In the future this will raise an error, please set the 'value_name' parameter of DataFrame.melt to a unique name.\n",
            "\n"
          ]
        },
        {
          "output_type": "display_data",
          "data": {
            "text/html": [
              "<html>\n",
              "<head><meta charset=\"utf-8\" /></head>\n",
              "<body>\n",
              "    <div>            <script src=\"https://cdnjs.cloudflare.com/ajax/libs/mathjax/2.7.5/MathJax.js?config=TeX-AMS-MML_SVG\"></script><script type=\"text/javascript\">if (window.MathJax) {MathJax.Hub.Config({SVG: {font: \"STIX-Web\"}});}</script>                <script type=\"text/javascript\">window.PlotlyConfig = {MathJaxConfig: 'local'};</script>\n",
              "        <script src=\"https://cdn.plot.ly/plotly-2.8.3.min.js\"></script>                <div id=\"5b31baff-d608-4419-9630-4e9d636489bd\" class=\"plotly-graph-div\" style=\"height:525px; width:100%;\"></div>            <script type=\"text/javascript\">                                    window.PLOTLYENV=window.PLOTLYENV || {};                                    if (document.getElementById(\"5b31baff-d608-4419-9630-4e9d636489bd\")) {                    Plotly.newPlot(                        \"5b31baff-d608-4419-9630-4e9d636489bd\",                        [{\"alignmentgroup\":\"True\",\"bingroup\":\"x\",\"hovertemplate\":\"country=%{x}<br>count=%{y}<extra></extra>\",\"legendgroup\":\"\",\"marker\":{\"color\":\"#636efa\",\"pattern\":{\"shape\":\"\"}},\"name\":\"\",\"offsetgroup\":\"\",\"orientation\":\"v\",\"showlegend\":false,\"x\":[\"United States\",\"United States\",\"United States\",\"United States\",\"United States\",\"United States\",\"United States\",\"United States\",\"United States\",\"United States\",\"United States\",\"United States\",\"United States\",\"United States\",\"United States\",\"United States\",\"United States\",\"United States\",\"United States\",\"United States\",\"United States\",\"United States\",\"United States\",\"United States\",\"United States\",\"Canada\",\"United States\",\"United States\",\"United States\",\"United States\",\"United States\",\"Ireland\",\"France\",\"United States\",\"United Kingdom\",\"United States\",\"United States\",\"United States\",\"United States\",\"United States\",\"United States\",\"Ireland\",\"United States\",\"Canada\",\"United States\",\"United States\",\"United States\",\"United States\",\"United States\",\"United States\",\"United States\",\"France\",\"United States\",\"United States\",\"United States\",\"United States\",\"United States\",\"United States\",\"United States\",\"United States\",\"United States\",\"United States\",\"United States\",\"United States\",\"United States\",\"United States\",\"France\",\"United States\",\"United States\",\"United States\",\"United States\",\"United States\",\"United States\",\"United States\",\"United States\",\"United States\",\"United States\",\"United States\",\"United States\",\"United States\",\"United States\",\"United States\",\"United States\",\"United States\",\"United States\",\"United States\",\"United States\",\"United States\",\"United States\",\"United States\",\"United States\",\"United States\",\"United States\",\"United States\",\"United States\",\"United States\",\"Canada\",\"United States\",\"United States\",\"United States\",\"United States\",\"United States\",\"United States\",\"Canada\",\"United States\",\"United States\",\"South Korea\",\"United States\",\"United States\",\"Australia\",\"United States\",\"United States\",\"United States\",\"United Kingdom\",\"United States\",\"United States\",\"United States\",\"United States\",\"United States\",\"United States\",\"United States\",\"United States\",\"United States\",\"United States\",\"United States\",\"United States\",\"United States\",\"United States\",\"United States\",\"United States\",\"United States\",\"United Kingdom\",\"United States\",\"United States\",\"United States\",\"United States\",\"United States\",\"United States\",\"Canada\",\"United States\",\"United States\",\"United States\",\"United States\",\"United States\",\"United States\",\"United States\",\"United States\",\"United States\",\"United States\",\"United Kingdom\",\"United States\",\"United States\",\"United States\",\"United Kingdom\",\"United States\",\"United Kingdom\",\"United States\",\"United States\",\"Austria\",\"United States\",\"United States\",\"United States\",\"United States\",\"United States\",\"United States\",\"United States\",\"United States\",\"United States\",\"United States\",\"United States\",\"United States\",\"United States\",\"United States\",\"United States\",\"United States\",\"United States\",\"United States\",\"United States\",\"United States\",\"United States\",\"France\",\"United States\",\"United States\",\"United States\",\"United States\",\"United States\",\"United States\",\"United States\",\"United States\",\"United States\",\"United States\",\"United States\",\"United Kingdom\",\"United States\",\"United States\",\"United States\",\"United States\",\"United States\",\"United States\",\"United States\",\"United States\",\"United States\",\"United States\",\"United States\",\"United States\",\"United States\",\"United States\",\"United States\",\"United States\",\"United Kingdom\",\"Canada\",\"United States\",\"Argentina\",\"United States\",\"United States\",\"United States\",\"United States\",\"United States\",\"United States\",\"United States\",\"United States\",\"United States\",\"United States\",\"United Arab Emirates\",\"United States\",\"United States\",\"United States\",\"United States\",\"United States\",\"United States\",\"United States\",\"United States\",\"United States\",\"United States\",\"United States\",\"United States\",\"United States\",\"United States\",\"United States\",\"United States\",\"United States\",\"United States\",\"United States\",\"United States\",\"United States\",\"United States\",\"Canada\",\"United States\",\"France\",\"United States\",\"United Kingdom\",\"United States\",\"United States\",\"United States\",\"United States\",\"United States\",\"United Kingdom\",\"United States\",\"United States\",\"United States\",\"United Kingdom\",\"United States\",\"Argentina\",\"Argentina\",\"United Kingdom\",\"United States\",\"United States\",\"United States\",\"United States\",\"United States\",\"United States\",\"United Kingdom\",\"United States\",\"United States\",\"United States\",\"United States\",\"India\",\"United States\",\"United States\",\"United States\",\"United States\",\"United States\",\"United States\",\"United States\",\"United States\",\"United States\",\"United States\",\"United States\",\"United States\",\"United States\",\"United States\",\"United States\",\"United Kingdom\",\"United States\",\"United Kingdom\",\"United States\",\"United States\",\"United Kingdom\",\"United States\",\"United Kingdom\",\"United States\",\"United States\",\"United States\",\"United States\",\"United States\",\"United Kingdom\",\"United States\",\"United States\",\"United States\",\"United States\",\"United States\",\"United States\",\"United States\",\"United States\",\"United States\",\"United States\",\"United States\",\"United States\",\"United States\",\"United States\",\"United States\",\"United States\",\"United States\",\"United States\",\"United States\",\"United States\",\"United States\",\"United States\",\"United Kingdom\",\"United Kingdom\",\"United States\",\"United States\",\"United States\",\"United States\",\"United States\",\"United States\",\"United States\",\"United States\",\"United States\",\"United States\",\"United States\",\"France\",\"United Kingdom\",\"United Kingdom\",\"United States\",\"United States\",\"United States\",\"United States\",\"United States\",\"United Kingdom\",\"United States\",\"United States\",\"United States\",\"United States\",\"United States\",\"United States\",\"United States\",\"United States\",\"United States\",\"United States\",\"United States\",\"United Kingdom\",\"United States\",\"United States\",\"United States\",\"United States\",\"United States\",\"United States\",\"United States\",\"United Kingdom\",\"United States\",\"United States\",\"United States\",\"United States\",\"United Kingdom\",\"United States\",\"United States\",\"United States\",\"United States\",\"United States\",\"United States\",\"United States\",\"United States\",\"United States\",\"United States\",\"United States\",\"United States\",\"United States\",\"United States\",\"United States\",\"United Kingdom\",\"United States\",\"United States\",\"United States\",\"United States\",\"United States\",\"United States\",\"United States\",\"United States\",\"United States\",\"United States\",\"United States\",\"United States\",\"United States\",\"United States\",\"United States\",\"United States\",\"United States\",\"United States\",\"United States\",\"United States\",\"United States\",\"United States\",\"United States\",\"United States\",\"United States\",\"France\",\"United States\",\"United States\",\"United States\",\"United States\",\"United States\",\"United States\",\"United States\",\"United States\",\"United States\",\"United States\",\"United States\",\"United States\",\"United States\",\"United States\",\"United States\",\"United Kingdom\",\"United States\",\"United Kingdom\",\"United States\",\"United States\",\"United States\",\"United States\",\"United States\",\"United States\",\"United States\",\"United States\",\"United States\",\"United States\",\"United States\",\"United States\",\"United States\",\"United States\",\"United States\",\"United States\",\"United States\",\"United States\",\"United States\",\"United States\",\"United States\",\"United Kingdom\",\"United Kingdom\",\"France\",\"United States\",\"United States\",\"United States\",\"United States\",\"United States\",\"United States\",\"United States\",\"United States\",\"United States\",\"United States\",\"United States\",\"United States\",\"United States\",\"United States\",\"United States\",\"United States\",\"United States\",\"United States\",\"United Kingdom\",\"United States\",\"United Kingdom\",\"United Kingdom\",\"United States\",\"United States\",\"United States\",\"United States\",\"United States\",\"United States\",\"United States\",\"United States\",\"United States\",\"United States\",\"United States\",\"United States\",\"United States\",\"United States\",\"United States\",\"United States\",\"United States\",\"United States\",\"United States\",\"United States\",\"United States\",\"United States\",\"United States\",\"United States\",\"United States\",\"Ireland\",\"United States\",\"United States\",\"United States\",\"United States\",\"United States\",\"United States\",\"United States\",\"United States\",\"United States\",\"United States\",\"United States\",\"United States\",\"United States\",\"United States\",\"United States\",\"United States\",\"United States\",\"United States\",\"United States\",\"United States\",\"United States\",\"United States\",\"United States\",\"United States\",\"United States\",\"United States\",\"United States\",\"United States\",\"United States\",\"United States\",\"United States\",\"United States\",\"United States\",\"United States\",\"Canada\",\"United States\",\"United States\",\"United States\",\"United States\",\"United States\",\"United States\",\"United States\",\"United States\",\"United States\",\"United States\",\"United States\",\"United States\",\"Canada\",\"United States\",\"United States\",\"United States\",\"United States\",\"United States\",\"United States\",\"United States\",\"United States\",\"United States\",\"United States\",\"United States\",\"United States\",\"United States\",\"United States\",\"United States\",\"United States\",\"United States\",\"United States\",\"United States\",\"United States\",\"United States\",\"United States\",\"United States\",\"United States\",\"United States\",\"United States\",\"United States\",\"United Kingdom\",\"United States\",\"United States\",\"United States\",\"United States\",\"United States\",\"United States\",\"United States\",\"United States\",\"United States\",\"United States\",\"United States\",\"United States\",\"United States\",\"United States\",\"United States\",\"United States\",\"United States\",\"United States\",\"United States\",\"United States\",\"United States\",\"United States\",\"United States\",\"Germany\",\"United States\",\"United States\",\"United States\",\"United States\",\"United States\",\"United States\",\"United States\",\"United States\",\"United States\",\"United States\",\"United Kingdom\",\"United States\",\"United States\",\"United States\",\"United States\",\"United States\",\"Canada\",\"United States\",\"United States\",\"United States\",\"United States\",\"United States\",\"United States\",\"United States\",\"United States\",\"United States\",\"United States\",\"United States\",\"United States\",\"United States\",\"United States\",\"United States\",\"United States\",\"United States\",\"United States\",\"United States\",\"United States\",\"United States\",\"United States\",\"United States\",\"United States\",\"United States\",\"United States\",\"United States\",\"United States\",\"United States\",\"United States\",\"United States\",\"United Kingdom\",\"Tanzania\",\"United States\",\"United States\",\"United States\",\"United States\",\"United States\",\"United States\",\"United States\",\"United States\",\"United States\",\"United States\",\"France\",\"United States\",\"United States\",\"United States\",\"United States\",\"United States\",\"United States\",\"United States\",\"United States\",\"United States\",\"United States\",\"United States\",\"United States\",\"United States\",\"United States\",\"United States\",\"United States\",\"United States\",\"United States\",\"United States\",\"United States\",\"United States\",\"United States\",\"United States\",\"United States\",\"United States\",\"United States\",\"United States\",\"United States\",\"United States\",\"United States\",\"United States\",\"United States\",\"United States\",\"United States\",\"United States\",\"United States\",\"United States\",\"United States\",\"United States\",\"United States\",\"United States\",\"United States\",\"United States\",\"United States\",\"United States\",\"United States\",\"United States\",\"United States\",\"United States\",\"United States\",\"United States\",\"United States\",\"United States\",\"United States\",\"United States\",\"United States\",\"United States\",\"United States\",\"United States\",\"United States\",\"United States\",\"United States\",\"United States\",\"United States\",\"United States\",\"United States\",\"United States\",\"United States\",\"United States\",\"United States\",\"United States\",\"United States\",\"United States\",\"United States\",\"United States\",\"United States\",\"United States\",\"United States\",\"United States\",\"United States\",\"United States\",\"United States\",\"United States\",\"United States\",\"United States\",\"United States\",\"United States\",\"United States\",\"United States\",\"United States\",\"United States\",\"United States\",\"United States\",\"United States\",\"United States\",\"United States\",\"United States\",\"United States\",\"Canada\",\"United States\",\"United States\",\"United States\",\"United Kingdom\",\"United States\",\"United States\",\"United States\",\"United States\",\"United States\",\"United States\",\"United States\",\"United States\",\"Australia\",\"United States\",\"United States\",\"United States\",\"United States\",\"United States\",\"United States\",\"United States\",\"United States\",\"United States\",\"United States\",\"United States\",\"United States\",\"United States\",\"United States\",\"United States\",\"United States\",\"United States\",\"United States\",\"United States\",\"United States\",\"Denmark\",\"United States\",\"United States\",\"United States\",\"United States\",\"United States\",\"United States\",\"United States\",\"United States\",\"United States\",\"United States\",\"United States\",\"United States\",\"United States\",\"United States\",\"United States\",\"United States\",\"United States\",\"United States\",\"United States\",\"United States\",\"United States\",\"United States\",\"United States\",\"United States\",\"United States\",\"United States\",\"United States\",\"United States\",\"United States\",\"United States\",\"United States\",\"United States\",\"United States\",\"United States\",\"United States\",\"United States\",\"United States\",\"United States\",\"United States\",\"United States\",\"United States\",\"United States\",\"United States\",\"United States\",\"United States\",\"United States\",\"United States\",\"United States\",\"United States\",\"United States\",\"United States\",\"United States\",\"United States\",\"United States\",\"United States\",\"United States\",\"United States\",\"United States\",\"United States\",\"United States\",\"United States\",\"United States\",\"United States\",\"United States\",\"United States\",\"United States\",\"United States\",\"United States\",\"United States\",\"Canada\",\"United States\",\"United States\",\"United States\",\"United States\",\"United States\",\"Canada\",\"United States\",\"United States\",\"United States\",\"United States\",\"United States\",\"United States\",\"United States\",\"United States\",\"United States\",\"United States\",\"United States\",\"United States\",\"United States\",\"United States\",\"United States\",\"United States\",\"United States\",\"United States\",\"United States\",\"United States\",\"United States\",\"Canada\",\"United States\",\"United States\",\"United States\",\"United States\",\"United States\",\"United States\",\"United States\",\"United States\",\"United States\",\"United States\",\"United States\",\"United States\",\"United States\",\"United States\",\"United States\",\"United States\",\"United States\",\"United States\",\"United States\",\"United States\",\"United States\",\"United States\",\"United States\",\"United States\",\"United States\",\"United States\",\"United States\",\"United States\",\"United States\",\"United States\",\"United States\",\"United States\",\"United States\",\"United States\",\"United States\",\"United States\",\"United States\",\"Canada\",\"United States\",\"United States\",\"United States\",\"United States\",\"United States\",\"United States\",\"United States\",\"United States\",\"United States\",\"United States\",\"United States\",\"United Kingdom\",\"United States\",\"United States\",\"United States\",\"Australia\",\"United States\",\"United States\",\"United States\",\"United States\",\"United States\",\"Canada\",\"United States\",\"United States\",\"United States\",\"United States\",\"United States\",\"United States\",\"United States\",\"United States\",\"United States\",\"United States\",\"United States\",\"United States\",\"India\",\"United States\",\"United States\",\"United States\",\"Norway\",\"United States\",\"United States\",\"United States\",\"United States\",\"United States\",\"United States\",\"United States\",\"United States\",\"United States\",\"United States\",\"United States\",\"Canada\",\"United States\",\"United States\",\"United States\",\"United States\",\"United States\",\"United States\",\"United States\",\"United States\",\"United States\",\"United States\",\"United States\",\"United States\",\"United States\",\"United States\",\"United States\",\"United States\",\"United States\",\"United States\",\"United Kingdom\",\"United States\",\"United States\",\"United States\",\"United States\",\"United States\",\"United States\",\"United States\",\"United States\",\"United States\",\"United States\",\"United States\",\"United States\",\"United States\",\"United States\",\"United States\",\"United States\",\"United States\",\"United States\",\"United States\",\"United States\",\"United States\",\"United States\",\"United States\",\"United States\",\"United States\",\"United States\",\"United States\",\"France\",\"United States\",\"United States\",\"United States\",\"United States\",\"United States\",\"United States\",\"United States\",\"United States\",\"United States\",\"United States\",\"Canada\",\"United States\",\"United States\",\"Canada\",\"United States\",\"United Kingdom\",\"Canada\",\"United States\",\"United States\",\"United States\",\"United States\",\"United States\",\"United States\",\"United States\",\"United States\",\"United States\",\"United States\",\"United States\",\"United States\",\"United Kingdom\",\"United States\",\"United States\",\"United States\",\"United States\",\"United States\",\"United States\",\"Canada\",\"United States\",\"United States\",\"United States\",\"United States\",\"United States\",\"Australia\",\"United States\",\"United States\",\"United States\",\"United States\",\"United States\",\"United States\",\"United States\",\"United Kingdom\",\"United States\",\"United States\",\"United States\",\"United States\",\"United States\",\"United Kingdom\",\"United States\",\"United States\",\"United States\",\"United States\",\"United States\",\"United States\",\"United States\",\"United States\",\"United States\",\"United States\",\"United Kingdom\",\"United States\",\"United States\",\"United States\",\"United States\",\"United States\",\"United States\",\"United States\",\"United States\",\"United States\",\"United States\",\"United States\",\"United States\",\"United States\",\"China\",\"United States\",\"United States\",\"United States\",\"United States\",\"United States\",\"United Kingdom\",\"United States\",\"United States\",\"United States\",\"United States\",\"United States\",\"United States\",\"United States\",\"Austria\",\"United States\",\"United States\",\"United States\",\"United States\",\"Canada\",\"United States\",\"Canada\",\"United States\",\"United States\",\"United States\",\"United States\",\"United States\",\"United States\",\"United States\",\"United States\",\"United States\",\"United States\",\"United States\",\"United States\",\"United States\",\"United States\",\"United States\",\"United States\",\"United States\",\"United States\",\"United States\",\"United States\",\"United States\",\"United States\",\"United States\",\"United States\",\"United States\",\"United States\",\"United States\",\"China\",\"United States\",\"United Kingdom\",\"United States\",\"United States\",\"United States\",\"United States\",\"United States\",\"United States\",\"United States\",\"United States\",\"United States\",\"United States\",\"United States\",\"Canada\",\"United Kingdom\",\"United States\",\"United States\",\"United States\",\"United States\",\"United States\",\"United States\",\"Germany\",\"United States\",\"United States\",\"United States\",\"United States\",\"United States\",\"United States\",\"United States\",\"United States\",\"United States\",\"United States\",\"United States\",\"United States\",\"United States\",\"United States\",\"New Zealand\",\"United States\",\"United States\",\"Canada\",\"United States\",\"United States\",\"United States\",\"United States\",\"United States\",\"United States\",\"United States\",\"United States\",\"United States\",\"United States\",\"United States\",\"United States\",\"United States\",\"United States\",\"United States\",\"Canada\",\"United States\",\"United States\",\"United States\",\"United States\",\"United States\",\"United States\",\"United Kingdom\",\"United Kingdom\",\"United States\",\" Canada\",\" Australia\",\" Canada\",\" Canada\",\" United Kingdom\",\" South Korea\",\" United States\",\" United Kingdom\",\" Australia\",\" United Kingdom\",\" United States\",\" United States\",\" Canada\",\" South Korea\",\" United Kingdom\",\" Canada\",\" United Kingdom\",\" United Kingdom\",\" Germany\",\" United Kingdom\",\" United Kingdom\",\" United Kingdom\",\" India\",\" Canada\",\" United States\",\" United States\",\" United Kingdom\",\" South Korea\",\" United Kingdom\",\" United Kingdom\",\" Germany\",\" Canada\",\" Brazil\",\" United States\",\" Canada\",\" United States\",\" Canada\",\" South Korea\",\" United Kingdom\",\" Canada\",\" United Kingdom\",\" United States\",\" United Kingdom\",\" United States\",\" South Africa\",\" Canada\",\" United Kingdom\",\" Japan\",\" Canada\",\" Germany\",\" United Kingdom\",\" Spain\",\" United States\",\" Canada\",\" United States\",\" Mexico\",\" United Kingdom\",\" United States\",\" Switzerland\",\" France\",\" Mexico\",\" United States\",\" United Kingdom\",\" Japan\",\" United Kingdom\",\" United Kingdom\",\" United States\",\" Japan\",\" Canada\",\" United States\",\" Ireland\",\" United Kingdom\",\" United Kingdom\",\" United States\",\" United Kingdom\",\" Canada\",\" United States\",\" Germany\",\" United Kingdom\",\" United States\",\" United States\",\" Canada\",\" Canada\",\" Australia\",\" United Kingdom\",\" South Korea\",\" United Kingdom\",\" Australia\",\" Hungary\",\" Canada\",\" Australia\",\" Canada\",\" United States\",\" Hong Kong\",\" United Kingdom\",\" Canada\",\" Canada\",\" United States\",\" Taiwan\",\" United States\",\" Germany\",\" United Kingdom\",\" Canada\",\" Philippines\",\" China\",\" United States\",\" United Kingdom\",\" Panama\",\" United States\",\" United Kingdom\",\" Australia\",\" Canada\",\" France\",\" Mexico\",\" Canada\",\" Canada\",\" Angola\",\" United States\",\" United States\",\" United States\",\" France\",\" Denmark\",\" China\",\" Guatemala\",\" Canada\",\" Australia\",\" Canada\",\" United States\",\" United States\",\" South Korea\",\" United States\",\" Canada\",\" Canada\",\" South Korea\",\" Taiwan\",\" United States\",\" New Zealand\",\" Japan\",\" United States\",\" United States\",\" Malaysia\",\" United Kingdom\",\" India\",\" Sweden\",\" Canada\",\" Canada\",\" Canada\",\" United Kingdom\",\" United States\",\" United States\",\" Poland\",\" United States\",\" United States\",\" United States\",\" Canada\",\" France\",\" United States\",\" Australia\",\" United States\",\" Australia\",\" Canada\",\" United Kingdom\",\" United States\",\" United Kingdom\",\" United Kingdom\",\" Canada\",\" Canada\",\" Canada\",\" Hong Kong\",\" United Kingdom\",\" Japan\",\" United States\",\" United States\",\" France\",\" United States\",\" Canada\",\" United States\",\" United States\",\" United States\",\" United States\",\" New Zealand\",\" Australia\",\" Spain\",\" United Kingdom\",\" United Kingdom\",\" Canada\",\" Germany\",\" Germany\",\" Canada\",\" France\",\" Japan\",\" Hungary\",\" Australia\",\" United Kingdom\",\" China\",\" South Korea\",\" Canada\",\" United Kingdom\",\" Ireland\",\" Canada\",\" Belgium\",\" United Kingdom\",\" France\",\" Hong Kong\",\" Spain\",\" Canada\",\" Australia\",\" United States\",\" Canada\",\" United States\",\" Canada\",\" Ireland\",\" South Africa\",\" Ireland\",\" United States\",\" United States\",\" United States\",\" France\",\" France\",\" United Kingdom\",\" South Korea\",\" South Korea\",\" South Korea\",\" United States\",\" Mexico\",\" Australia\",\" Botswana\",\" United Kingdom\",\" Singapore\",\" Australia\",\" China\",\" China\",\" United States\",\" Australia\",\" United Kingdom\",\" United States\",\" United States\",\" Slovenia\",\" Australia\",\" United States\",\" United States\",\" France\",\" Australia\",\" United States\",\" United States\",\" United Kingdom\",\" United States\",\" Singapore\",\" Japan\",\" Ireland\",\" Canada\",\" United States\",\" United Kingdom\",\" South Korea\",\" Canada\",\" France\",\" China\",\" Canada\",\" Namibia\",\" France\",\" Russia\",\" Taiwan\",\" Czech Republic\",\" Taiwan\",\" Canada\",\" Denmark\",\" Australia\",\" United Arab Emirates\",\" Canada\",\" Canada\",\" Japan\",\" South Africa\",\" Luxembourg\",\" Malaysia\",\" United Kingdom\",\" United Kingdom\",\" Spain\",\" Thailand\",\" China\",\" United Kingdom\",\" Kazakhstan\",\" Poland\",\" United Kingdom\",\" Taiwan\",\" Hungary\",\" Australia\",\" Hong Kong\",\" Japan\",\" Japan\",\" Taiwan\",\" China\",\" Philippines\",\" India\",\" Syria\",\" Iran\",\" Egypt\",\" Pakistan\"],\"xaxis\":\"x\",\"yaxis\":\"y\",\"type\":\"histogram\"}],                        {\"template\":{\"data\":{\"bar\":[{\"error_x\":{\"color\":\"#2a3f5f\"},\"error_y\":{\"color\":\"#2a3f5f\"},\"marker\":{\"line\":{\"color\":\"#E5ECF6\",\"width\":0.5},\"pattern\":{\"fillmode\":\"overlay\",\"size\":10,\"solidity\":0.2}},\"type\":\"bar\"}],\"barpolar\":[{\"marker\":{\"line\":{\"color\":\"#E5ECF6\",\"width\":0.5},\"pattern\":{\"fillmode\":\"overlay\",\"size\":10,\"solidity\":0.2}},\"type\":\"barpolar\"}],\"carpet\":[{\"aaxis\":{\"endlinecolor\":\"#2a3f5f\",\"gridcolor\":\"white\",\"linecolor\":\"white\",\"minorgridcolor\":\"white\",\"startlinecolor\":\"#2a3f5f\"},\"baxis\":{\"endlinecolor\":\"#2a3f5f\",\"gridcolor\":\"white\",\"linecolor\":\"white\",\"minorgridcolor\":\"white\",\"startlinecolor\":\"#2a3f5f\"},\"type\":\"carpet\"}],\"choropleth\":[{\"colorbar\":{\"outlinewidth\":0,\"ticks\":\"\"},\"type\":\"choropleth\"}],\"contour\":[{\"colorbar\":{\"outlinewidth\":0,\"ticks\":\"\"},\"colorscale\":[[0.0,\"#0d0887\"],[0.1111111111111111,\"#46039f\"],[0.2222222222222222,\"#7201a8\"],[0.3333333333333333,\"#9c179e\"],[0.4444444444444444,\"#bd3786\"],[0.5555555555555556,\"#d8576b\"],[0.6666666666666666,\"#ed7953\"],[0.7777777777777778,\"#fb9f3a\"],[0.8888888888888888,\"#fdca26\"],[1.0,\"#f0f921\"]],\"type\":\"contour\"}],\"contourcarpet\":[{\"colorbar\":{\"outlinewidth\":0,\"ticks\":\"\"},\"type\":\"contourcarpet\"}],\"heatmap\":[{\"colorbar\":{\"outlinewidth\":0,\"ticks\":\"\"},\"colorscale\":[[0.0,\"#0d0887\"],[0.1111111111111111,\"#46039f\"],[0.2222222222222222,\"#7201a8\"],[0.3333333333333333,\"#9c179e\"],[0.4444444444444444,\"#bd3786\"],[0.5555555555555556,\"#d8576b\"],[0.6666666666666666,\"#ed7953\"],[0.7777777777777778,\"#fb9f3a\"],[0.8888888888888888,\"#fdca26\"],[1.0,\"#f0f921\"]],\"type\":\"heatmap\"}],\"heatmapgl\":[{\"colorbar\":{\"outlinewidth\":0,\"ticks\":\"\"},\"colorscale\":[[0.0,\"#0d0887\"],[0.1111111111111111,\"#46039f\"],[0.2222222222222222,\"#7201a8\"],[0.3333333333333333,\"#9c179e\"],[0.4444444444444444,\"#bd3786\"],[0.5555555555555556,\"#d8576b\"],[0.6666666666666666,\"#ed7953\"],[0.7777777777777778,\"#fb9f3a\"],[0.8888888888888888,\"#fdca26\"],[1.0,\"#f0f921\"]],\"type\":\"heatmapgl\"}],\"histogram\":[{\"marker\":{\"pattern\":{\"fillmode\":\"overlay\",\"size\":10,\"solidity\":0.2}},\"type\":\"histogram\"}],\"histogram2d\":[{\"colorbar\":{\"outlinewidth\":0,\"ticks\":\"\"},\"colorscale\":[[0.0,\"#0d0887\"],[0.1111111111111111,\"#46039f\"],[0.2222222222222222,\"#7201a8\"],[0.3333333333333333,\"#9c179e\"],[0.4444444444444444,\"#bd3786\"],[0.5555555555555556,\"#d8576b\"],[0.6666666666666666,\"#ed7953\"],[0.7777777777777778,\"#fb9f3a\"],[0.8888888888888888,\"#fdca26\"],[1.0,\"#f0f921\"]],\"type\":\"histogram2d\"}],\"histogram2dcontour\":[{\"colorbar\":{\"outlinewidth\":0,\"ticks\":\"\"},\"colorscale\":[[0.0,\"#0d0887\"],[0.1111111111111111,\"#46039f\"],[0.2222222222222222,\"#7201a8\"],[0.3333333333333333,\"#9c179e\"],[0.4444444444444444,\"#bd3786\"],[0.5555555555555556,\"#d8576b\"],[0.6666666666666666,\"#ed7953\"],[0.7777777777777778,\"#fb9f3a\"],[0.8888888888888888,\"#fdca26\"],[1.0,\"#f0f921\"]],\"type\":\"histogram2dcontour\"}],\"mesh3d\":[{\"colorbar\":{\"outlinewidth\":0,\"ticks\":\"\"},\"type\":\"mesh3d\"}],\"parcoords\":[{\"line\":{\"colorbar\":{\"outlinewidth\":0,\"ticks\":\"\"}},\"type\":\"parcoords\"}],\"pie\":[{\"automargin\":true,\"type\":\"pie\"}],\"scatter\":[{\"marker\":{\"colorbar\":{\"outlinewidth\":0,\"ticks\":\"\"}},\"type\":\"scatter\"}],\"scatter3d\":[{\"line\":{\"colorbar\":{\"outlinewidth\":0,\"ticks\":\"\"}},\"marker\":{\"colorbar\":{\"outlinewidth\":0,\"ticks\":\"\"}},\"type\":\"scatter3d\"}],\"scattercarpet\":[{\"marker\":{\"colorbar\":{\"outlinewidth\":0,\"ticks\":\"\"}},\"type\":\"scattercarpet\"}],\"scattergeo\":[{\"marker\":{\"colorbar\":{\"outlinewidth\":0,\"ticks\":\"\"}},\"type\":\"scattergeo\"}],\"scattergl\":[{\"marker\":{\"colorbar\":{\"outlinewidth\":0,\"ticks\":\"\"}},\"type\":\"scattergl\"}],\"scattermapbox\":[{\"marker\":{\"colorbar\":{\"outlinewidth\":0,\"ticks\":\"\"}},\"type\":\"scattermapbox\"}],\"scatterpolar\":[{\"marker\":{\"colorbar\":{\"outlinewidth\":0,\"ticks\":\"\"}},\"type\":\"scatterpolar\"}],\"scatterpolargl\":[{\"marker\":{\"colorbar\":{\"outlinewidth\":0,\"ticks\":\"\"}},\"type\":\"scatterpolargl\"}],\"scatterternary\":[{\"marker\":{\"colorbar\":{\"outlinewidth\":0,\"ticks\":\"\"}},\"type\":\"scatterternary\"}],\"surface\":[{\"colorbar\":{\"outlinewidth\":0,\"ticks\":\"\"},\"colorscale\":[[0.0,\"#0d0887\"],[0.1111111111111111,\"#46039f\"],[0.2222222222222222,\"#7201a8\"],[0.3333333333333333,\"#9c179e\"],[0.4444444444444444,\"#bd3786\"],[0.5555555555555556,\"#d8576b\"],[0.6666666666666666,\"#ed7953\"],[0.7777777777777778,\"#fb9f3a\"],[0.8888888888888888,\"#fdca26\"],[1.0,\"#f0f921\"]],\"type\":\"surface\"}],\"table\":[{\"cells\":{\"fill\":{\"color\":\"#EBF0F8\"},\"line\":{\"color\":\"white\"}},\"header\":{\"fill\":{\"color\":\"#C8D4E3\"},\"line\":{\"color\":\"white\"}},\"type\":\"table\"}]},\"layout\":{\"annotationdefaults\":{\"arrowcolor\":\"#2a3f5f\",\"arrowhead\":0,\"arrowwidth\":1},\"autotypenumbers\":\"strict\",\"coloraxis\":{\"colorbar\":{\"outlinewidth\":0,\"ticks\":\"\"}},\"colorscale\":{\"diverging\":[[0,\"#8e0152\"],[0.1,\"#c51b7d\"],[0.2,\"#de77ae\"],[0.3,\"#f1b6da\"],[0.4,\"#fde0ef\"],[0.5,\"#f7f7f7\"],[0.6,\"#e6f5d0\"],[0.7,\"#b8e186\"],[0.8,\"#7fbc41\"],[0.9,\"#4d9221\"],[1,\"#276419\"]],\"sequential\":[[0.0,\"#0d0887\"],[0.1111111111111111,\"#46039f\"],[0.2222222222222222,\"#7201a8\"],[0.3333333333333333,\"#9c179e\"],[0.4444444444444444,\"#bd3786\"],[0.5555555555555556,\"#d8576b\"],[0.6666666666666666,\"#ed7953\"],[0.7777777777777778,\"#fb9f3a\"],[0.8888888888888888,\"#fdca26\"],[1.0,\"#f0f921\"]],\"sequentialminus\":[[0.0,\"#0d0887\"],[0.1111111111111111,\"#46039f\"],[0.2222222222222222,\"#7201a8\"],[0.3333333333333333,\"#9c179e\"],[0.4444444444444444,\"#bd3786\"],[0.5555555555555556,\"#d8576b\"],[0.6666666666666666,\"#ed7953\"],[0.7777777777777778,\"#fb9f3a\"],[0.8888888888888888,\"#fdca26\"],[1.0,\"#f0f921\"]]},\"colorway\":[\"#636efa\",\"#EF553B\",\"#00cc96\",\"#ab63fa\",\"#FFA15A\",\"#19d3f3\",\"#FF6692\",\"#B6E880\",\"#FF97FF\",\"#FECB52\"],\"font\":{\"color\":\"#2a3f5f\"},\"geo\":{\"bgcolor\":\"white\",\"lakecolor\":\"white\",\"landcolor\":\"#E5ECF6\",\"showlakes\":true,\"showland\":true,\"subunitcolor\":\"white\"},\"hoverlabel\":{\"align\":\"left\"},\"hovermode\":\"closest\",\"mapbox\":{\"style\":\"light\"},\"paper_bgcolor\":\"white\",\"plot_bgcolor\":\"#E5ECF6\",\"polar\":{\"angularaxis\":{\"gridcolor\":\"white\",\"linecolor\":\"white\",\"ticks\":\"\"},\"bgcolor\":\"#E5ECF6\",\"radialaxis\":{\"gridcolor\":\"white\",\"linecolor\":\"white\",\"ticks\":\"\"}},\"scene\":{\"xaxis\":{\"backgroundcolor\":\"#E5ECF6\",\"gridcolor\":\"white\",\"gridwidth\":2,\"linecolor\":\"white\",\"showbackground\":true,\"ticks\":\"\",\"zerolinecolor\":\"white\"},\"yaxis\":{\"backgroundcolor\":\"#E5ECF6\",\"gridcolor\":\"white\",\"gridwidth\":2,\"linecolor\":\"white\",\"showbackground\":true,\"ticks\":\"\",\"zerolinecolor\":\"white\"},\"zaxis\":{\"backgroundcolor\":\"#E5ECF6\",\"gridcolor\":\"white\",\"gridwidth\":2,\"linecolor\":\"white\",\"showbackground\":true,\"ticks\":\"\",\"zerolinecolor\":\"white\"}},\"shapedefaults\":{\"line\":{\"color\":\"#2a3f5f\"}},\"ternary\":{\"aaxis\":{\"gridcolor\":\"white\",\"linecolor\":\"white\",\"ticks\":\"\"},\"baxis\":{\"gridcolor\":\"white\",\"linecolor\":\"white\",\"ticks\":\"\"},\"bgcolor\":\"#E5ECF6\",\"caxis\":{\"gridcolor\":\"white\",\"linecolor\":\"white\",\"ticks\":\"\"}},\"title\":{\"x\":0.05},\"xaxis\":{\"automargin\":true,\"gridcolor\":\"white\",\"linecolor\":\"white\",\"ticks\":\"\",\"title\":{\"standoff\":15},\"zerolinecolor\":\"white\",\"zerolinewidth\":2},\"yaxis\":{\"automargin\":true,\"gridcolor\":\"white\",\"linecolor\":\"white\",\"ticks\":\"\",\"title\":{\"standoff\":15},\"zerolinecolor\":\"white\",\"zerolinewidth\":2}}},\"xaxis\":{\"anchor\":\"y\",\"domain\":[0.0,1.0],\"title\":{\"text\":\"country\"},\"categoryorder\":\"total descending\"},\"yaxis\":{\"anchor\":\"x\",\"domain\":[0.0,1.0],\"title\":{\"text\":\"count\"}},\"legend\":{\"tracegroupgap\":0},\"title\":{\"text\":\"Country release count\"},\"barmode\":\"relative\"},                        {\"responsive\": true}                    ).then(function(){\n",
              "                            \n",
              "var gd = document.getElementById('5b31baff-d608-4419-9630-4e9d636489bd');\n",
              "var x = new MutationObserver(function (mutations, observer) {{\n",
              "        var display = window.getComputedStyle(gd).display;\n",
              "        if (!display || display === 'none') {{\n",
              "            console.log([gd, 'removed!']);\n",
              "            Plotly.purge(gd);\n",
              "            observer.disconnect();\n",
              "        }}\n",
              "}});\n",
              "\n",
              "// Listen for the removal of the full notebook cells\n",
              "var notebookContainer = gd.closest('#notebook-container');\n",
              "if (notebookContainer) {{\n",
              "    x.observe(notebookContainer, {childList: true});\n",
              "}}\n",
              "\n",
              "// Listen for the clearing of the current output cell\n",
              "var outputEl = gd.closest('.output');\n",
              "if (outputEl) {{\n",
              "    x.observe(outputEl, {childList: true});\n",
              "}}\n",
              "\n",
              "                        })                };                            </script>        </div>\n",
              "</body>\n",
              "</html>"
            ]
          },
          "metadata": {}
        }
      ]
    },
    {
      "cell_type": "code",
      "source": [
        "#Which are the 10 most productive directors?\n",
        "disney_directors = disney_plus_titles_df['director']\n",
        "disney_directors.dropna(inplace = True)\n",
        "disney_10_directors = disney_directors.value_counts()\n",
        "disney_10_directors[0:10]\n",
        "names = [name for name in disney_10_directors.index[0:10]]\n",
        "print('The 10 most productive directors are:', ', '.join(names))"
      ],
      "metadata": {
        "colab": {
          "base_uri": "https://localhost:8080/"
        },
        "id": "MG-5XNU5IV2f",
        "outputId": "d4f3cb0e-75cc-4490-d321-e72445e14fa9"
      },
      "execution_count": 39,
      "outputs": [
        {
          "output_type": "stream",
          "name": "stdout",
          "text": [
            "The 10 most productive directors are: Jack Hannah, John Lasseter, Paul Hoen, Robert Stevenson, Charles Nichols, Vincent McEveety, Bob Peterson, James Algar, Kenny Ortega, Wilfred Jackson\n"
          ]
        }
      ]
    },
    {
      "cell_type": "code",
      "source": [
        "#Graphical visualization of the 10 most productive directors\n",
        "keys = disney_plus_titles_df['director'].value_counts().keys().to_list()\n",
        "values = disney_plus_titles_df['director'].value_counts().to_list()\n",
        "\n",
        "fig = px.bar(x = keys[:10], y = values[:10], data_frame = disney_plus_titles_df, \n",
        "             title=\"Top 10 Directors\", \n",
        "             labels = {'x': 'Directors', 'y': 'no of movies'})\n",
        "fig.show()"
      ],
      "metadata": {
        "colab": {
          "base_uri": "https://localhost:8080/",
          "height": 562
        },
        "id": "M_DFy-ChICz5",
        "outputId": "0de5b46f-c21f-4145-8f6e-5402db62b3b7"
      },
      "execution_count": 40,
      "outputs": [
        {
          "output_type": "display_data",
          "data": {
            "text/html": [
              "<html>\n",
              "<head><meta charset=\"utf-8\" /></head>\n",
              "<body>\n",
              "    <div>            <script src=\"https://cdnjs.cloudflare.com/ajax/libs/mathjax/2.7.5/MathJax.js?config=TeX-AMS-MML_SVG\"></script><script type=\"text/javascript\">if (window.MathJax) {MathJax.Hub.Config({SVG: {font: \"STIX-Web\"}});}</script>                <script type=\"text/javascript\">window.PlotlyConfig = {MathJaxConfig: 'local'};</script>\n",
              "        <script src=\"https://cdn.plot.ly/plotly-2.8.3.min.js\"></script>                <div id=\"baaecc2a-04db-42e2-b09e-6acca3733b0f\" class=\"plotly-graph-div\" style=\"height:525px; width:100%;\"></div>            <script type=\"text/javascript\">                                    window.PLOTLYENV=window.PLOTLYENV || {};                                    if (document.getElementById(\"baaecc2a-04db-42e2-b09e-6acca3733b0f\")) {                    Plotly.newPlot(                        \"baaecc2a-04db-42e2-b09e-6acca3733b0f\",                        [{\"alignmentgroup\":\"True\",\"hovertemplate\":\"Directors=%{x}<br>no of movies=%{y}<extra></extra>\",\"legendgroup\":\"\",\"marker\":{\"color\":\"#636efa\",\"pattern\":{\"shape\":\"\"}},\"name\":\"\",\"offsetgroup\":\"\",\"orientation\":\"v\",\"showlegend\":false,\"textposition\":\"auto\",\"x\":[\"Jack Hannah\",\"John Lasseter\",\"Paul Hoen\",\"Robert Stevenson\",\"Charles Nichols\",\"Vincent McEveety\",\"Bob Peterson\",\"James Algar\",\"Kenny Ortega\",\"Wilfred Jackson\"],\"xaxis\":\"x\",\"y\":[17,16,16,12,12,10,10,9,9,9],\"yaxis\":\"y\",\"type\":\"bar\"}],                        {\"template\":{\"data\":{\"bar\":[{\"error_x\":{\"color\":\"#2a3f5f\"},\"error_y\":{\"color\":\"#2a3f5f\"},\"marker\":{\"line\":{\"color\":\"#E5ECF6\",\"width\":0.5},\"pattern\":{\"fillmode\":\"overlay\",\"size\":10,\"solidity\":0.2}},\"type\":\"bar\"}],\"barpolar\":[{\"marker\":{\"line\":{\"color\":\"#E5ECF6\",\"width\":0.5},\"pattern\":{\"fillmode\":\"overlay\",\"size\":10,\"solidity\":0.2}},\"type\":\"barpolar\"}],\"carpet\":[{\"aaxis\":{\"endlinecolor\":\"#2a3f5f\",\"gridcolor\":\"white\",\"linecolor\":\"white\",\"minorgridcolor\":\"white\",\"startlinecolor\":\"#2a3f5f\"},\"baxis\":{\"endlinecolor\":\"#2a3f5f\",\"gridcolor\":\"white\",\"linecolor\":\"white\",\"minorgridcolor\":\"white\",\"startlinecolor\":\"#2a3f5f\"},\"type\":\"carpet\"}],\"choropleth\":[{\"colorbar\":{\"outlinewidth\":0,\"ticks\":\"\"},\"type\":\"choropleth\"}],\"contour\":[{\"colorbar\":{\"outlinewidth\":0,\"ticks\":\"\"},\"colorscale\":[[0.0,\"#0d0887\"],[0.1111111111111111,\"#46039f\"],[0.2222222222222222,\"#7201a8\"],[0.3333333333333333,\"#9c179e\"],[0.4444444444444444,\"#bd3786\"],[0.5555555555555556,\"#d8576b\"],[0.6666666666666666,\"#ed7953\"],[0.7777777777777778,\"#fb9f3a\"],[0.8888888888888888,\"#fdca26\"],[1.0,\"#f0f921\"]],\"type\":\"contour\"}],\"contourcarpet\":[{\"colorbar\":{\"outlinewidth\":0,\"ticks\":\"\"},\"type\":\"contourcarpet\"}],\"heatmap\":[{\"colorbar\":{\"outlinewidth\":0,\"ticks\":\"\"},\"colorscale\":[[0.0,\"#0d0887\"],[0.1111111111111111,\"#46039f\"],[0.2222222222222222,\"#7201a8\"],[0.3333333333333333,\"#9c179e\"],[0.4444444444444444,\"#bd3786\"],[0.5555555555555556,\"#d8576b\"],[0.6666666666666666,\"#ed7953\"],[0.7777777777777778,\"#fb9f3a\"],[0.8888888888888888,\"#fdca26\"],[1.0,\"#f0f921\"]],\"type\":\"heatmap\"}],\"heatmapgl\":[{\"colorbar\":{\"outlinewidth\":0,\"ticks\":\"\"},\"colorscale\":[[0.0,\"#0d0887\"],[0.1111111111111111,\"#46039f\"],[0.2222222222222222,\"#7201a8\"],[0.3333333333333333,\"#9c179e\"],[0.4444444444444444,\"#bd3786\"],[0.5555555555555556,\"#d8576b\"],[0.6666666666666666,\"#ed7953\"],[0.7777777777777778,\"#fb9f3a\"],[0.8888888888888888,\"#fdca26\"],[1.0,\"#f0f921\"]],\"type\":\"heatmapgl\"}],\"histogram\":[{\"marker\":{\"pattern\":{\"fillmode\":\"overlay\",\"size\":10,\"solidity\":0.2}},\"type\":\"histogram\"}],\"histogram2d\":[{\"colorbar\":{\"outlinewidth\":0,\"ticks\":\"\"},\"colorscale\":[[0.0,\"#0d0887\"],[0.1111111111111111,\"#46039f\"],[0.2222222222222222,\"#7201a8\"],[0.3333333333333333,\"#9c179e\"],[0.4444444444444444,\"#bd3786\"],[0.5555555555555556,\"#d8576b\"],[0.6666666666666666,\"#ed7953\"],[0.7777777777777778,\"#fb9f3a\"],[0.8888888888888888,\"#fdca26\"],[1.0,\"#f0f921\"]],\"type\":\"histogram2d\"}],\"histogram2dcontour\":[{\"colorbar\":{\"outlinewidth\":0,\"ticks\":\"\"},\"colorscale\":[[0.0,\"#0d0887\"],[0.1111111111111111,\"#46039f\"],[0.2222222222222222,\"#7201a8\"],[0.3333333333333333,\"#9c179e\"],[0.4444444444444444,\"#bd3786\"],[0.5555555555555556,\"#d8576b\"],[0.6666666666666666,\"#ed7953\"],[0.7777777777777778,\"#fb9f3a\"],[0.8888888888888888,\"#fdca26\"],[1.0,\"#f0f921\"]],\"type\":\"histogram2dcontour\"}],\"mesh3d\":[{\"colorbar\":{\"outlinewidth\":0,\"ticks\":\"\"},\"type\":\"mesh3d\"}],\"parcoords\":[{\"line\":{\"colorbar\":{\"outlinewidth\":0,\"ticks\":\"\"}},\"type\":\"parcoords\"}],\"pie\":[{\"automargin\":true,\"type\":\"pie\"}],\"scatter\":[{\"marker\":{\"colorbar\":{\"outlinewidth\":0,\"ticks\":\"\"}},\"type\":\"scatter\"}],\"scatter3d\":[{\"line\":{\"colorbar\":{\"outlinewidth\":0,\"ticks\":\"\"}},\"marker\":{\"colorbar\":{\"outlinewidth\":0,\"ticks\":\"\"}},\"type\":\"scatter3d\"}],\"scattercarpet\":[{\"marker\":{\"colorbar\":{\"outlinewidth\":0,\"ticks\":\"\"}},\"type\":\"scattercarpet\"}],\"scattergeo\":[{\"marker\":{\"colorbar\":{\"outlinewidth\":0,\"ticks\":\"\"}},\"type\":\"scattergeo\"}],\"scattergl\":[{\"marker\":{\"colorbar\":{\"outlinewidth\":0,\"ticks\":\"\"}},\"type\":\"scattergl\"}],\"scattermapbox\":[{\"marker\":{\"colorbar\":{\"outlinewidth\":0,\"ticks\":\"\"}},\"type\":\"scattermapbox\"}],\"scatterpolar\":[{\"marker\":{\"colorbar\":{\"outlinewidth\":0,\"ticks\":\"\"}},\"type\":\"scatterpolar\"}],\"scatterpolargl\":[{\"marker\":{\"colorbar\":{\"outlinewidth\":0,\"ticks\":\"\"}},\"type\":\"scatterpolargl\"}],\"scatterternary\":[{\"marker\":{\"colorbar\":{\"outlinewidth\":0,\"ticks\":\"\"}},\"type\":\"scatterternary\"}],\"surface\":[{\"colorbar\":{\"outlinewidth\":0,\"ticks\":\"\"},\"colorscale\":[[0.0,\"#0d0887\"],[0.1111111111111111,\"#46039f\"],[0.2222222222222222,\"#7201a8\"],[0.3333333333333333,\"#9c179e\"],[0.4444444444444444,\"#bd3786\"],[0.5555555555555556,\"#d8576b\"],[0.6666666666666666,\"#ed7953\"],[0.7777777777777778,\"#fb9f3a\"],[0.8888888888888888,\"#fdca26\"],[1.0,\"#f0f921\"]],\"type\":\"surface\"}],\"table\":[{\"cells\":{\"fill\":{\"color\":\"#EBF0F8\"},\"line\":{\"color\":\"white\"}},\"header\":{\"fill\":{\"color\":\"#C8D4E3\"},\"line\":{\"color\":\"white\"}},\"type\":\"table\"}]},\"layout\":{\"annotationdefaults\":{\"arrowcolor\":\"#2a3f5f\",\"arrowhead\":0,\"arrowwidth\":1},\"autotypenumbers\":\"strict\",\"coloraxis\":{\"colorbar\":{\"outlinewidth\":0,\"ticks\":\"\"}},\"colorscale\":{\"diverging\":[[0,\"#8e0152\"],[0.1,\"#c51b7d\"],[0.2,\"#de77ae\"],[0.3,\"#f1b6da\"],[0.4,\"#fde0ef\"],[0.5,\"#f7f7f7\"],[0.6,\"#e6f5d0\"],[0.7,\"#b8e186\"],[0.8,\"#7fbc41\"],[0.9,\"#4d9221\"],[1,\"#276419\"]],\"sequential\":[[0.0,\"#0d0887\"],[0.1111111111111111,\"#46039f\"],[0.2222222222222222,\"#7201a8\"],[0.3333333333333333,\"#9c179e\"],[0.4444444444444444,\"#bd3786\"],[0.5555555555555556,\"#d8576b\"],[0.6666666666666666,\"#ed7953\"],[0.7777777777777778,\"#fb9f3a\"],[0.8888888888888888,\"#fdca26\"],[1.0,\"#f0f921\"]],\"sequentialminus\":[[0.0,\"#0d0887\"],[0.1111111111111111,\"#46039f\"],[0.2222222222222222,\"#7201a8\"],[0.3333333333333333,\"#9c179e\"],[0.4444444444444444,\"#bd3786\"],[0.5555555555555556,\"#d8576b\"],[0.6666666666666666,\"#ed7953\"],[0.7777777777777778,\"#fb9f3a\"],[0.8888888888888888,\"#fdca26\"],[1.0,\"#f0f921\"]]},\"colorway\":[\"#636efa\",\"#EF553B\",\"#00cc96\",\"#ab63fa\",\"#FFA15A\",\"#19d3f3\",\"#FF6692\",\"#B6E880\",\"#FF97FF\",\"#FECB52\"],\"font\":{\"color\":\"#2a3f5f\"},\"geo\":{\"bgcolor\":\"white\",\"lakecolor\":\"white\",\"landcolor\":\"#E5ECF6\",\"showlakes\":true,\"showland\":true,\"subunitcolor\":\"white\"},\"hoverlabel\":{\"align\":\"left\"},\"hovermode\":\"closest\",\"mapbox\":{\"style\":\"light\"},\"paper_bgcolor\":\"white\",\"plot_bgcolor\":\"#E5ECF6\",\"polar\":{\"angularaxis\":{\"gridcolor\":\"white\",\"linecolor\":\"white\",\"ticks\":\"\"},\"bgcolor\":\"#E5ECF6\",\"radialaxis\":{\"gridcolor\":\"white\",\"linecolor\":\"white\",\"ticks\":\"\"}},\"scene\":{\"xaxis\":{\"backgroundcolor\":\"#E5ECF6\",\"gridcolor\":\"white\",\"gridwidth\":2,\"linecolor\":\"white\",\"showbackground\":true,\"ticks\":\"\",\"zerolinecolor\":\"white\"},\"yaxis\":{\"backgroundcolor\":\"#E5ECF6\",\"gridcolor\":\"white\",\"gridwidth\":2,\"linecolor\":\"white\",\"showbackground\":true,\"ticks\":\"\",\"zerolinecolor\":\"white\"},\"zaxis\":{\"backgroundcolor\":\"#E5ECF6\",\"gridcolor\":\"white\",\"gridwidth\":2,\"linecolor\":\"white\",\"showbackground\":true,\"ticks\":\"\",\"zerolinecolor\":\"white\"}},\"shapedefaults\":{\"line\":{\"color\":\"#2a3f5f\"}},\"ternary\":{\"aaxis\":{\"gridcolor\":\"white\",\"linecolor\":\"white\",\"ticks\":\"\"},\"baxis\":{\"gridcolor\":\"white\",\"linecolor\":\"white\",\"ticks\":\"\"},\"bgcolor\":\"#E5ECF6\",\"caxis\":{\"gridcolor\":\"white\",\"linecolor\":\"white\",\"ticks\":\"\"}},\"title\":{\"x\":0.05},\"xaxis\":{\"automargin\":true,\"gridcolor\":\"white\",\"linecolor\":\"white\",\"ticks\":\"\",\"title\":{\"standoff\":15},\"zerolinecolor\":\"white\",\"zerolinewidth\":2},\"yaxis\":{\"automargin\":true,\"gridcolor\":\"white\",\"linecolor\":\"white\",\"ticks\":\"\",\"title\":{\"standoff\":15},\"zerolinecolor\":\"white\",\"zerolinewidth\":2}}},\"xaxis\":{\"anchor\":\"y\",\"domain\":[0.0,1.0],\"title\":{\"text\":\"Directors\"}},\"yaxis\":{\"anchor\":\"x\",\"domain\":[0.0,1.0],\"title\":{\"text\":\"no of movies\"}},\"legend\":{\"tracegroupgap\":0},\"title\":{\"text\":\"Top 10 Directors\"},\"barmode\":\"relative\"},                        {\"responsive\": true}                    ).then(function(){\n",
              "                            \n",
              "var gd = document.getElementById('baaecc2a-04db-42e2-b09e-6acca3733b0f');\n",
              "var x = new MutationObserver(function (mutations, observer) {{\n",
              "        var display = window.getComputedStyle(gd).display;\n",
              "        if (!display || display === 'none') {{\n",
              "            console.log([gd, 'removed!']);\n",
              "            Plotly.purge(gd);\n",
              "            observer.disconnect();\n",
              "        }}\n",
              "}});\n",
              "\n",
              "// Listen for the removal of the full notebook cells\n",
              "var notebookContainer = gd.closest('#notebook-container');\n",
              "if (notebookContainer) {{\n",
              "    x.observe(notebookContainer, {childList: true});\n",
              "}}\n",
              "\n",
              "// Listen for the clearing of the current output cell\n",
              "var outputEl = gd.closest('.output');\n",
              "if (outputEl) {{\n",
              "    x.observe(outputEl, {childList: true});\n",
              "}}\n",
              "\n",
              "                        })                };                            </script>        </div>\n",
              "</body>\n",
              "</html>"
            ]
          },
          "metadata": {}
        }
      ]
    },
    {
      "cell_type": "markdown",
      "source": [
        "#CLUSTERING"
      ],
      "metadata": {
        "id": "yn-f6HCKmzmS"
      }
    },
    {
      "cell_type": "code",
      "source": [
        "pip install kmodes"
      ],
      "metadata": {
        "id": "oXwaOlSIm6KN",
        "colab": {
          "base_uri": "https://localhost:8080/"
        },
        "outputId": "3b980e2f-641b-4761-eb55-a249caafe555"
      },
      "execution_count": 60,
      "outputs": [
        {
          "output_type": "stream",
          "name": "stdout",
          "text": [
            "Requirement already satisfied: kmodes in /usr/local/lib/python3.7/dist-packages (0.11.1)\n",
            "Requirement already satisfied: scipy>=0.13.3 in /usr/local/lib/python3.7/dist-packages (from kmodes) (1.4.1)\n",
            "Requirement already satisfied: scikit-learn>=0.22.0 in /usr/local/lib/python3.7/dist-packages (from kmodes) (1.0.2)\n",
            "Requirement already satisfied: joblib>=0.11 in /usr/local/lib/python3.7/dist-packages (from kmodes) (1.1.0)\n",
            "Requirement already satisfied: numpy>=1.10.4 in /usr/local/lib/python3.7/dist-packages (from kmodes) (1.19.5)\n",
            "Requirement already satisfied: threadpoolctl>=2.0.0 in /usr/local/lib/python3.7/dist-packages (from scikit-learn>=0.22.0->kmodes) (3.1.0)\n"
          ]
        }
      ]
    },
    {
      "cell_type": "code",
      "source": [
        "from kmodes.kmodes import KModes\n",
        "import seaborn as sns"
      ],
      "metadata": {
        "id": "yWYEL-8cY4F5"
      },
      "execution_count": 71,
      "outputs": []
    },
    {
      "cell_type": "code",
      "source": [
        "disney_plus_titles_df['genre_new'] = disney_plus_titles_df['listed_in'].str.split(',').str[0]"
      ],
      "metadata": {
        "id": "_kaiavMHXu9U"
      },
      "execution_count": 42,
      "outputs": []
    },
    {
      "cell_type": "code",
      "source": [
        "disney_plus_titles_df.head"
      ],
      "metadata": {
        "id": "gr8ylHCuX31K",
        "outputId": "c739e4a1-2c27-494c-e9e3-7cf329c9c894",
        "colab": {
          "base_uri": "https://localhost:8080/"
        }
      },
      "execution_count": 43,
      "outputs": [
        {
          "output_type": "execute_result",
          "data": {
            "text/plain": [
              "<bound method NDFrame.head of      show_id     type  ... month         genre_new\n",
              "0         s1    Movie  ...  11.0         Animation\n",
              "1         s2    Movie  ...  11.0            Comedy\n",
              "2         s3    Movie  ...  11.0         Animation\n",
              "3         s4    Movie  ...  11.0           Musical\n",
              "4         s5  TV Show  ...  11.0        Docuseries\n",
              "...      ...      ...  ...   ...               ...\n",
              "1445   s1446    Movie  ...   6.0  Action-Adventure\n",
              "1446   s1447    Movie  ...   4.0  Action-Adventure\n",
              "1447   s1448    Movie  ...  12.0      Biographical\n",
              "1448   s1449    Movie  ...   9.0             Buddy\n",
              "1449   s1450    Movie  ...   4.0  Action-Adventure\n",
              "\n",
              "[1450 rows x 14 columns]>"
            ]
          },
          "metadata": {},
          "execution_count": 43
        }
      ]
    },
    {
      "cell_type": "code",
      "source": [
        "disney_plus_titles_df['genre_new']"
      ],
      "metadata": {
        "id": "E_pGCYABX4bc",
        "outputId": "4dd0858d-a8ed-43a7-fb26-0672471c8dfb",
        "colab": {
          "base_uri": "https://localhost:8080/"
        }
      },
      "execution_count": 44,
      "outputs": [
        {
          "output_type": "execute_result",
          "data": {
            "text/plain": [
              "0              Animation\n",
              "1                 Comedy\n",
              "2              Animation\n",
              "3                Musical\n",
              "4             Docuseries\n",
              "              ...       \n",
              "1445    Action-Adventure\n",
              "1446    Action-Adventure\n",
              "1447        Biographical\n",
              "1448               Buddy\n",
              "1449    Action-Adventure\n",
              "Name: genre_new, Length: 1450, dtype: object"
            ]
          },
          "metadata": {},
          "execution_count": 44
        }
      ]
    },
    {
      "cell_type": "code",
      "source": [
        "# Import label encoder\n",
        "from sklearn import preprocessing\n",
        " \n",
        "# label_encoder object knows how to understand word labels.\n",
        "label_encoder = preprocessing.LabelEncoder()\n",
        " \n",
        "# Encode labels in column 'species'.\n",
        "disney_plus_titles_df['genre_new']= label_encoder.fit_transform(disney_plus_titles_df['genre_new'])\n",
        " \n",
        "disney_plus_titles_df['genre_new'].unique()"
      ],
      "metadata": {
        "id": "qjvfQtstX8CU",
        "outputId": "340c8632-3197-4374-d5d3-6f55b2809b6b",
        "colab": {
          "base_uri": "https://localhost:8080/"
        }
      },
      "execution_count": 45,
      "outputs": [
        {
          "output_type": "execute_result",
          "data": {
            "text/plain": [
              "array([ 2,  6, 22, 12,  4,  0,  1, 11, 19, 20,  7,  8, 24, 13,  3, 23, 14,\n",
              "       18,  9, 27, 15, 25,  5, 16, 28, 10, 17, 26, 21])"
            ]
          },
          "metadata": {},
          "execution_count": 45
        }
      ]
    },
    {
      "cell_type": "code",
      "source": [
        "# Import label encoder\n",
        "from sklearn import preprocessing\n",
        " \n",
        "# label_encoder object knows how to understand word labels.\n",
        "label_encoder = preprocessing.LabelEncoder()\n",
        " \n",
        "# Encode labels in column 'species'.\n",
        "disney_plus_titles_df['rating_new']= label_encoder.fit_transform(disney_plus_titles_df['rating'])\n",
        " \n",
        "disney_plus_titles_df['rating_new'].unique()"
      ],
      "metadata": {
        "id": "Zjl-A0ttYCRY",
        "outputId": "64335cc1-b511-4af6-86eb-a75631717a74",
        "colab": {
          "base_uri": "https://localhost:8080/"
        }
      },
      "execution_count": 47,
      "outputs": [
        {
          "output_type": "execute_result",
          "data": {
            "text/plain": [
              "array([4, 1, 5, 9, 2, 3, 0, 7, 6, 8])"
            ]
          },
          "metadata": {},
          "execution_count": 47
        }
      ]
    },
    {
      "cell_type": "code",
      "source": [
        "directors = disney_plus_titles_df['director_new']\n",
        "rating = disney_plus_titles_df['rating_new']\n",
        "genre = disney_plus_titles_df['genre_new']\n",
        "data = pd.DataFrame({'directors': directors, 'rating': rating, 'genre': genre})\n",
        "data = data.set_index('genre')\n",
        "data"
      ],
      "metadata": {
        "colab": {
          "base_uri": "https://localhost:8080/",
          "height": 450
        },
        "id": "BJRQY98dYdfJ",
        "outputId": "e526ad82-e907-4f80-f75c-baa21d0b8d0e"
      },
      "execution_count": 53,
      "outputs": [
        {
          "output_type": "execute_result",
          "data": {
            "text/html": [
              "\n",
              "  <div id=\"df-19aa043b-85ee-4ec6-adcc-cdd57cb8cf55\">\n",
              "    <div class=\"colab-df-container\">\n",
              "      <div>\n",
              "<style scoped>\n",
              "    .dataframe tbody tr th:only-of-type {\n",
              "        vertical-align: middle;\n",
              "    }\n",
              "\n",
              "    .dataframe tbody tr th {\n",
              "        vertical-align: top;\n",
              "    }\n",
              "\n",
              "    .dataframe thead th {\n",
              "        text-align: right;\n",
              "    }\n",
              "</style>\n",
              "<table border=\"1\" class=\"dataframe\">\n",
              "  <thead>\n",
              "    <tr style=\"text-align: right;\">\n",
              "      <th></th>\n",
              "      <th>directors</th>\n",
              "      <th>rating</th>\n",
              "    </tr>\n",
              "    <tr>\n",
              "      <th>genre</th>\n",
              "      <th></th>\n",
              "      <th></th>\n",
              "    </tr>\n",
              "  </thead>\n",
              "  <tbody>\n",
              "    <tr>\n",
              "      <th>2</th>\n",
              "      <td>14</td>\n",
              "      <td>4</td>\n",
              "    </tr>\n",
              "    <tr>\n",
              "      <th>6</th>\n",
              "      <td>287</td>\n",
              "      <td>1</td>\n",
              "    </tr>\n",
              "    <tr>\n",
              "      <th>2</th>\n",
              "      <td>317</td>\n",
              "      <td>4</td>\n",
              "    </tr>\n",
              "    <tr>\n",
              "      <th>22</th>\n",
              "      <td>216</td>\n",
              "      <td>5</td>\n",
              "    </tr>\n",
              "    <tr>\n",
              "      <th>12</th>\n",
              "      <td>609</td>\n",
              "      <td>9</td>\n",
              "    </tr>\n",
              "    <tr>\n",
              "      <th>...</th>\n",
              "      <td>...</td>\n",
              "      <td>...</td>\n",
              "    </tr>\n",
              "    <tr>\n",
              "      <th>0</th>\n",
              "      <td>200</td>\n",
              "      <td>2</td>\n",
              "    </tr>\n",
              "    <tr>\n",
              "      <th>0</th>\n",
              "      <td>519</td>\n",
              "      <td>1</td>\n",
              "    </tr>\n",
              "    <tr>\n",
              "      <th>4</th>\n",
              "      <td>148</td>\n",
              "      <td>2</td>\n",
              "    </tr>\n",
              "    <tr>\n",
              "      <th>5</th>\n",
              "      <td>211</td>\n",
              "      <td>2</td>\n",
              "    </tr>\n",
              "    <tr>\n",
              "      <th>0</th>\n",
              "      <td>382</td>\n",
              "      <td>4</td>\n",
              "    </tr>\n",
              "  </tbody>\n",
              "</table>\n",
              "<p>1450 rows × 2 columns</p>\n",
              "</div>\n",
              "      <button class=\"colab-df-convert\" onclick=\"convertToInteractive('df-19aa043b-85ee-4ec6-adcc-cdd57cb8cf55')\"\n",
              "              title=\"Convert this dataframe to an interactive table.\"\n",
              "              style=\"display:none;\">\n",
              "        \n",
              "  <svg xmlns=\"http://www.w3.org/2000/svg\" height=\"24px\"viewBox=\"0 0 24 24\"\n",
              "       width=\"24px\">\n",
              "    <path d=\"M0 0h24v24H0V0z\" fill=\"none\"/>\n",
              "    <path d=\"M18.56 5.44l.94 2.06.94-2.06 2.06-.94-2.06-.94-.94-2.06-.94 2.06-2.06.94zm-11 1L8.5 8.5l.94-2.06 2.06-.94-2.06-.94L8.5 2.5l-.94 2.06-2.06.94zm10 10l.94 2.06.94-2.06 2.06-.94-2.06-.94-.94-2.06-.94 2.06-2.06.94z\"/><path d=\"M17.41 7.96l-1.37-1.37c-.4-.4-.92-.59-1.43-.59-.52 0-1.04.2-1.43.59L10.3 9.45l-7.72 7.72c-.78.78-.78 2.05 0 2.83L4 21.41c.39.39.9.59 1.41.59.51 0 1.02-.2 1.41-.59l7.78-7.78 2.81-2.81c.8-.78.8-2.07 0-2.86zM5.41 20L4 18.59l7.72-7.72 1.47 1.35L5.41 20z\"/>\n",
              "  </svg>\n",
              "      </button>\n",
              "      \n",
              "  <style>\n",
              "    .colab-df-container {\n",
              "      display:flex;\n",
              "      flex-wrap:wrap;\n",
              "      gap: 12px;\n",
              "    }\n",
              "\n",
              "    .colab-df-convert {\n",
              "      background-color: #E8F0FE;\n",
              "      border: none;\n",
              "      border-radius: 50%;\n",
              "      cursor: pointer;\n",
              "      display: none;\n",
              "      fill: #1967D2;\n",
              "      height: 32px;\n",
              "      padding: 0 0 0 0;\n",
              "      width: 32px;\n",
              "    }\n",
              "\n",
              "    .colab-df-convert:hover {\n",
              "      background-color: #E2EBFA;\n",
              "      box-shadow: 0px 1px 2px rgba(60, 64, 67, 0.3), 0px 1px 3px 1px rgba(60, 64, 67, 0.15);\n",
              "      fill: #174EA6;\n",
              "    }\n",
              "\n",
              "    [theme=dark] .colab-df-convert {\n",
              "      background-color: #3B4455;\n",
              "      fill: #D2E3FC;\n",
              "    }\n",
              "\n",
              "    [theme=dark] .colab-df-convert:hover {\n",
              "      background-color: #434B5C;\n",
              "      box-shadow: 0px 1px 3px 1px rgba(0, 0, 0, 0.15);\n",
              "      filter: drop-shadow(0px 1px 2px rgba(0, 0, 0, 0.3));\n",
              "      fill: #FFFFFF;\n",
              "    }\n",
              "  </style>\n",
              "\n",
              "      <script>\n",
              "        const buttonEl =\n",
              "          document.querySelector('#df-19aa043b-85ee-4ec6-adcc-cdd57cb8cf55 button.colab-df-convert');\n",
              "        buttonEl.style.display =\n",
              "          google.colab.kernel.accessAllowed ? 'block' : 'none';\n",
              "\n",
              "        async function convertToInteractive(key) {\n",
              "          const element = document.querySelector('#df-19aa043b-85ee-4ec6-adcc-cdd57cb8cf55');\n",
              "          const dataTable =\n",
              "            await google.colab.kernel.invokeFunction('convertToInteractive',\n",
              "                                                     [key], {});\n",
              "          if (!dataTable) return;\n",
              "\n",
              "          const docLinkHtml = 'Like what you see? Visit the ' +\n",
              "            '<a target=\"_blank\" href=https://colab.research.google.com/notebooks/data_table.ipynb>data table notebook</a>'\n",
              "            + ' to learn more about interactive tables.';\n",
              "          element.innerHTML = '';\n",
              "          dataTable['output_type'] = 'display_data';\n",
              "          await google.colab.output.renderOutput(dataTable, element);\n",
              "          const docLink = document.createElement('div');\n",
              "          docLink.innerHTML = docLinkHtml;\n",
              "          element.appendChild(docLink);\n",
              "        }\n",
              "      </script>\n",
              "    </div>\n",
              "  </div>\n",
              "  "
            ],
            "text/plain": [
              "       directors  rating\n",
              "genre                   \n",
              "2             14       4\n",
              "6            287       1\n",
              "2            317       4\n",
              "22           216       5\n",
              "12           609       9\n",
              "...          ...     ...\n",
              "0            200       2\n",
              "0            519       1\n",
              "4            148       2\n",
              "5            211       2\n",
              "0            382       4\n",
              "\n",
              "[1450 rows x 2 columns]"
            ]
          },
          "metadata": {},
          "execution_count": 53
        }
      ]
    },
    {
      "cell_type": "code",
      "source": [
        "#Elbow curve to find optimal K\n",
        "cost = []\n",
        "K = range(1,5)\n",
        "for num_clusters in list(K):\n",
        "    kmode = KModes(n_clusters=num_clusters, init = 'random', n_init = 5, verbose=1)\n",
        "    kmode.fit_predict(data)\n",
        "    cost.append(kmode.cost_)\n",
        "    \n",
        "plt.plot(K, cost, 'bx-')\n",
        "plt.xlabel('No. of clusters')\n",
        "plt.ylabel('Cost')\n",
        "plt.title('Elbow Method For Optimal k')\n",
        "plt.show()"
      ],
      "metadata": {
        "colab": {
          "base_uri": "https://localhost:8080/",
          "height": 1000
        },
        "id": "OwLUGQw2YiFC",
        "outputId": "a9f0a634-16fb-4390-cc68-3481a7cdeffd"
      },
      "execution_count": 63,
      "outputs": [
        {
          "output_type": "stream",
          "name": "stdout",
          "text": [
            "Init: initializing centroids\n",
            "Init: initializing clusters\n",
            "Starting iterations...\n",
            "Run 1, iteration: 1/100, moves: 0, cost: 2109.0\n",
            "Init: initializing centroids\n",
            "Init: initializing clusters\n",
            "Starting iterations...\n",
            "Run 2, iteration: 1/100, moves: 0, cost: 2109.0\n",
            "Init: initializing centroids\n",
            "Init: initializing clusters\n",
            "Starting iterations...\n",
            "Run 3, iteration: 1/100, moves: 0, cost: 2109.0\n",
            "Init: initializing centroids\n",
            "Init: initializing clusters\n",
            "Starting iterations...\n",
            "Run 4, iteration: 1/100, moves: 0, cost: 2109.0\n",
            "Init: initializing centroids\n",
            "Init: initializing clusters\n",
            "Starting iterations...\n",
            "Run 5, iteration: 1/100, moves: 0, cost: 2109.0\n",
            "Best run was number 1\n",
            "Init: initializing centroids\n",
            "Init: initializing clusters\n",
            "Starting iterations...\n",
            "Run 1, iteration: 1/100, moves: 250, cost: 1847.0\n",
            "Run 1, iteration: 2/100, moves: 1, cost: 1847.0\n",
            "Init: initializing centroids\n",
            "Init: initializing clusters\n",
            "Starting iterations...\n",
            "Run 2, iteration: 1/100, moves: 2, cost: 1869.0\n",
            "Init: initializing centroids\n",
            "Init: initializing clusters\n",
            "Starting iterations...\n",
            "Run 3, iteration: 1/100, moves: 2, cost: 1869.0\n",
            "Init: initializing centroids\n",
            "Init: initializing clusters\n",
            "Starting iterations...\n",
            "Run 4, iteration: 1/100, moves: 249, cost: 1847.0\n",
            "Run 4, iteration: 2/100, moves: 1, cost: 1847.0\n",
            "Init: initializing centroids\n",
            "Init: initializing clusters\n",
            "Starting iterations...\n",
            "Run 5, iteration: 1/100, moves: 0, cost: 2039.0\n",
            "Best run was number 1\n",
            "Init: initializing centroids\n",
            "Init: initializing clusters\n",
            "Starting iterations...\n",
            "Run 1, iteration: 1/100, moves: 10, cost: 1820.0\n",
            "Init: initializing centroids\n",
            "Init: initializing clusters\n",
            "Starting iterations...\n",
            "Run 2, iteration: 1/100, moves: 6, cost: 1859.0\n",
            "Init: initializing centroids\n",
            "Init: initializing clusters\n",
            "Starting iterations...\n",
            "Run 3, iteration: 1/100, moves: 442, cost: 1557.0\n",
            "Init: initializing centroids\n",
            "Init: initializing clusters\n",
            "Starting iterations...\n",
            "Run 4, iteration: 1/100, moves: 2, cost: 1568.0\n",
            "Init: initializing centroids\n",
            "Init: initializing clusters\n",
            "Starting iterations...\n",
            "Run 5, iteration: 1/100, moves: 2, cost: 1797.0\n",
            "Best run was number 3\n",
            "Init: initializing centroids\n",
            "Init: initializing clusters\n",
            "Starting iterations...\n",
            "Run 1, iteration: 1/100, moves: 2, cost: 1567.0\n",
            "Init: initializing centroids\n",
            "Init: initializing clusters\n",
            "Starting iterations...\n",
            "Run 2, iteration: 1/100, moves: 0, cost: 1827.0\n",
            "Init: initializing centroids\n",
            "Init: initializing clusters\n",
            "Starting iterations...\n",
            "Run 3, iteration: 1/100, moves: 236, cost: 1606.0\n",
            "Run 3, iteration: 2/100, moves: 0, cost: 1606.0\n",
            "Init: initializing centroids\n",
            "Init: initializing clusters\n",
            "Starting iterations...\n",
            "Run 4, iteration: 1/100, moves: 5, cost: 1416.0\n",
            "Init: initializing centroids\n",
            "Init: initializing clusters\n",
            "Starting iterations...\n",
            "Run 5, iteration: 1/100, moves: 0, cost: 1546.0\n",
            "Best run was number 4\n"
          ]
        },
        {
          "output_type": "display_data",
          "data": {
            "image/png": "[encoded data removed]",
            "text/plain": [
              "<Figure size 432x288 with 1 Axes>"
            ]
          },
          "metadata": {
            "needs_background": "light"
          }
        }
      ]
    },
    {
      "cell_type": "code",
      "source": [
        "# Building the model with 3 clusters\n",
        "kmode = KModes(n_clusters=3, init = \"random\", n_init = 5, verbose=1)\n",
        "clusters = kmode.fit_predict(data)\n",
        "clusters"
      ],
      "metadata": {
        "colab": {
          "base_uri": "https://localhost:8080/"
        },
        "id": "3hEP-k6RZMbL",
        "outputId": "b63cda0b-55e4-4136-e09b-90fb4bed86b6"
      },
      "execution_count": 64,
      "outputs": [
        {
          "output_type": "stream",
          "name": "stdout",
          "text": [
            "Init: initializing centroids\n",
            "Init: initializing clusters\n",
            "Starting iterations...\n",
            "Run 1, iteration: 1/100, moves: 144, cost: 1892.0\n",
            "Run 1, iteration: 2/100, moves: 0, cost: 1892.0\n",
            "Init: initializing centroids\n",
            "Init: initializing clusters\n",
            "Starting iterations...\n",
            "Run 2, iteration: 1/100, moves: 1, cost: 1632.0\n",
            "Init: initializing centroids\n",
            "Init: initializing clusters\n",
            "Starting iterations...\n",
            "Run 3, iteration: 1/100, moves: 181, cost: 1632.0\n",
            "Init: initializing centroids\n",
            "Init: initializing clusters\n",
            "Starting iterations...\n",
            "Run 4, iteration: 1/100, moves: 214, cost: 1793.0\n",
            "Init: initializing centroids\n",
            "Init: initializing clusters\n",
            "Starting iterations...\n",
            "Run 5, iteration: 1/100, moves: 4, cost: 1547.0\n",
            "Best run was number 5\n"
          ]
        },
        {
          "output_type": "execute_result",
          "data": {
            "text/plain": [
              "array([0, 0, 0, ..., 0, 0, 0], dtype=uint16)"
            ]
          },
          "metadata": {},
          "execution_count": 64
        }
      ]
    },
    {
      "cell_type": "code",
      "source": [
        "data.insert(0, 'Cluster', clusters, True)\n",
        "data"
      ],
      "metadata": {
        "colab": {
          "base_uri": "https://localhost:8080/",
          "height": 450
        },
        "id": "_VOWV0cPZR_c",
        "outputId": "0f0a1d71-46af-418c-e1b6-56ec9b3e5063"
      },
      "execution_count": 65,
      "outputs": [
        {
          "output_type": "execute_result",
          "data": {
            "text/html": [
              "\n",
              "  <div id=\"df-63a631d9-e5b2-4200-8a78-49adb29222ee\">\n",
              "    <div class=\"colab-df-container\">\n",
              "      <div>\n",
              "<style scoped>\n",
              "    .dataframe tbody tr th:only-of-type {\n",
              "        vertical-align: middle;\n",
              "    }\n",
              "\n",
              "    .dataframe tbody tr th {\n",
              "        vertical-align: top;\n",
              "    }\n",
              "\n",
              "    .dataframe thead th {\n",
              "        text-align: right;\n",
              "    }\n",
              "</style>\n",
              "<table border=\"1\" class=\"dataframe\">\n",
              "  <thead>\n",
              "    <tr style=\"text-align: right;\">\n",
              "      <th></th>\n",
              "      <th>Cluster</th>\n",
              "      <th>directors</th>\n",
              "      <th>rating</th>\n",
              "    </tr>\n",
              "    <tr>\n",
              "      <th>genre</th>\n",
              "      <th></th>\n",
              "      <th></th>\n",
              "      <th></th>\n",
              "    </tr>\n",
              "  </thead>\n",
              "  <tbody>\n",
              "    <tr>\n",
              "      <th>2</th>\n",
              "      <td>0</td>\n",
              "      <td>14</td>\n",
              "      <td>4</td>\n",
              "    </tr>\n",
              "    <tr>\n",
              "      <th>6</th>\n",
              "      <td>0</td>\n",
              "      <td>287</td>\n",
              "      <td>1</td>\n",
              "    </tr>\n",
              "    <tr>\n",
              "      <th>2</th>\n",
              "      <td>0</td>\n",
              "      <td>317</td>\n",
              "      <td>4</td>\n",
              "    </tr>\n",
              "    <tr>\n",
              "      <th>22</th>\n",
              "      <td>1</td>\n",
              "      <td>216</td>\n",
              "      <td>5</td>\n",
              "    </tr>\n",
              "    <tr>\n",
              "      <th>12</th>\n",
              "      <td>0</td>\n",
              "      <td>609</td>\n",
              "      <td>9</td>\n",
              "    </tr>\n",
              "    <tr>\n",
              "      <th>...</th>\n",
              "      <td>...</td>\n",
              "      <td>...</td>\n",
              "      <td>...</td>\n",
              "    </tr>\n",
              "    <tr>\n",
              "      <th>0</th>\n",
              "      <td>0</td>\n",
              "      <td>200</td>\n",
              "      <td>2</td>\n",
              "    </tr>\n",
              "    <tr>\n",
              "      <th>0</th>\n",
              "      <td>0</td>\n",
              "      <td>519</td>\n",
              "      <td>1</td>\n",
              "    </tr>\n",
              "    <tr>\n",
              "      <th>4</th>\n",
              "      <td>0</td>\n",
              "      <td>148</td>\n",
              "      <td>2</td>\n",
              "    </tr>\n",
              "    <tr>\n",
              "      <th>5</th>\n",
              "      <td>0</td>\n",
              "      <td>211</td>\n",
              "      <td>2</td>\n",
              "    </tr>\n",
              "    <tr>\n",
              "      <th>0</th>\n",
              "      <td>0</td>\n",
              "      <td>382</td>\n",
              "      <td>4</td>\n",
              "    </tr>\n",
              "  </tbody>\n",
              "</table>\n",
              "<p>1450 rows × 3 columns</p>\n",
              "</div>\n",
              "      <button class=\"colab-df-convert\" onclick=\"convertToInteractive('df-63a631d9-e5b2-4200-8a78-49adb29222ee')\"\n",
              "              title=\"Convert this dataframe to an interactive table.\"\n",
              "              style=\"display:none;\">\n",
              "        \n",
              "  <svg xmlns=\"http://www.w3.org/2000/svg\" height=\"24px\"viewBox=\"0 0 24 24\"\n",
              "       width=\"24px\">\n",
              "    <path d=\"M0 0h24v24H0V0z\" fill=\"none\"/>\n",
              "    <path d=\"M18.56 5.44l.94 2.06.94-2.06 2.06-.94-2.06-.94-.94-2.06-.94 2.06-2.06.94zm-11 1L8.5 8.5l.94-2.06 2.06-.94-2.06-.94L8.5 2.5l-.94 2.06-2.06.94zm10 10l.94 2.06.94-2.06 2.06-.94-2.06-.94-.94-2.06-.94 2.06-2.06.94z\"/><path d=\"M17.41 7.96l-1.37-1.37c-.4-.4-.92-.59-1.43-.59-.52 0-1.04.2-1.43.59L10.3 9.45l-7.72 7.72c-.78.78-.78 2.05 0 2.83L4 21.41c.39.39.9.59 1.41.59.51 0 1.02-.2 1.41-.59l7.78-7.78 2.81-2.81c.8-.78.8-2.07 0-2.86zM5.41 20L4 18.59l7.72-7.72 1.47 1.35L5.41 20z\"/>\n",
              "  </svg>\n",
              "      </button>\n",
              "      \n",
              "  <style>\n",
              "    .colab-df-container {\n",
              "      display:flex;\n",
              "      flex-wrap:wrap;\n",
              "      gap: 12px;\n",
              "    }\n",
              "\n",
              "    .colab-df-convert {\n",
              "      background-color: #E8F0FE;\n",
              "      border: none;\n",
              "      border-radius: 50%;\n",
              "      cursor: pointer;\n",
              "      display: none;\n",
              "      fill: #1967D2;\n",
              "      height: 32px;\n",
              "      padding: 0 0 0 0;\n",
              "      width: 32px;\n",
              "    }\n",
              "\n",
              "    .colab-df-convert:hover {\n",
              "      background-color: #E2EBFA;\n",
              "      box-shadow: 0px 1px 2px rgba(60, 64, 67, 0.3), 0px 1px 3px 1px rgba(60, 64, 67, 0.15);\n",
              "      fill: #174EA6;\n",
              "    }\n",
              "\n",
              "    [theme=dark] .colab-df-convert {\n",
              "      background-color: #3B4455;\n",
              "      fill: #D2E3FC;\n",
              "    }\n",
              "\n",
              "    [theme=dark] .colab-df-convert:hover {\n",
              "      background-color: #434B5C;\n",
              "      box-shadow: 0px 1px 3px 1px rgba(0, 0, 0, 0.15);\n",
              "      filter: drop-shadow(0px 1px 2px rgba(0, 0, 0, 0.3));\n",
              "      fill: #FFFFFF;\n",
              "    }\n",
              "  </style>\n",
              "\n",
              "      <script>\n",
              "        const buttonEl =\n",
              "          document.querySelector('#df-63a631d9-e5b2-4200-8a78-49adb29222ee button.colab-df-convert');\n",
              "        buttonEl.style.display =\n",
              "          google.colab.kernel.accessAllowed ? 'block' : 'none';\n",
              "\n",
              "        async function convertToInteractive(key) {\n",
              "          const element = document.querySelector('#df-63a631d9-e5b2-4200-8a78-49adb29222ee');\n",
              "          const dataTable =\n",
              "            await google.colab.kernel.invokeFunction('convertToInteractive',\n",
              "                                                     [key], {});\n",
              "          if (!dataTable) return;\n",
              "\n",
              "          const docLinkHtml = 'Like what you see? Visit the ' +\n",
              "            '<a target=\"_blank\" href=https://colab.research.google.com/notebooks/data_table.ipynb>data table notebook</a>'\n",
              "            + ' to learn more about interactive tables.';\n",
              "          element.innerHTML = '';\n",
              "          dataTable['output_type'] = 'display_data';\n",
              "          await google.colab.output.renderOutput(dataTable, element);\n",
              "          const docLink = document.createElement('div');\n",
              "          docLink.innerHTML = docLinkHtml;\n",
              "          element.appendChild(docLink);\n",
              "        }\n",
              "      </script>\n",
              "    </div>\n",
              "  </div>\n",
              "  "
            ],
            "text/plain": [
              "       Cluster  directors  rating\n",
              "genre                            \n",
              "2            0         14       4\n",
              "6            0        287       1\n",
              "2            0        317       4\n",
              "22           1        216       5\n",
              "12           0        609       9\n",
              "...        ...        ...     ...\n",
              "0            0        200       2\n",
              "0            0        519       1\n",
              "4            0        148       2\n",
              "5            0        211       2\n",
              "0            0        382       4\n",
              "\n",
              "[1450 rows x 3 columns]"
            ]
          },
          "metadata": {},
          "execution_count": 65
        }
      ]
    },
    {
      "cell_type": "code",
      "source": [
        "plt.figure(figsize=(10,6))\n",
        "plt.scatter(disney_plus_titles_df['rating_new'], disney_plus_titles_df['release_year'])\n",
        "plt.xlabel('genre')\n",
        "plt.ylabel('release_year')"
      ],
      "metadata": {
        "id": "2eSRGOH2YFj5",
        "outputId": "2b5be24c-1ef3-487e-f84f-06a859f43e56",
        "colab": {
          "base_uri": "https://localhost:8080/",
          "height": 405
        }
      },
      "execution_count": 110,
      "outputs": [
        {
          "output_type": "execute_result",
          "data": {
            "text/plain": [
              "Text(0, 0.5, 'release_year')"
            ]
          },
          "metadata": {},
          "execution_count": 110
        },
        {
          "output_type": "display_data",
          "data": {
            "image/png": "[encoded data removed]",
            "text/plain": [
              "<Figure size 720x432 with 1 Axes>"
            ]
          },
          "metadata": {
            "needs_background": "light"
          }
        }
      ]
    },
    {
      "cell_type": "code",
      "source": [
        "square_distances = []\n",
        "x = disney_plus_titles_df[['genre_new','release_year']]\n",
        "for i in range(1, 11):\n",
        "    km = KMeans(n_clusters=i, random_state=42)\n",
        "    km.fit(x)\n",
        "    square_distances.append(km.inertia_)"
      ],
      "metadata": {
        "id": "O9fjxTvhYKKv"
      },
      "execution_count": 111,
      "outputs": []
    },
    {
      "cell_type": "code",
      "source": [
        "plt.figure(figsize=(10, 6))\n",
        "plt.plot(range(1,11), square_distances, 'bx-')\n",
        "plt.xlabel('K')\n",
        "plt.ylabel('inertia')\n",
        "plt.title('Elbow Method')\n",
        "plt.xticks(list(range(1,11)))\n",
        "plt.show()"
      ],
      "metadata": {
        "colab": {
          "base_uri": "https://localhost:8080/",
          "height": 404
        },
        "id": "_zc2M5cFh_xW",
        "outputId": "ea5ece6e-23d7-4f71-f0ad-e87622dba81e"
      },
      "execution_count": 112,
      "outputs": [
        {
          "output_type": "display_data",
          "data": {
            "image/png": "[encoded data removed]",
            "text/plain": [
              "<Figure size 720x432 with 1 Axes>"
            ]
          },
          "metadata": {
            "needs_background": "light"
          }
        }
      ]
    },
    {
      "cell_type": "code",
      "source": [
        "km = KMeans(n_clusters=3, random_state=42)\n",
        "y_pred = km.fit_predict(x)"
      ],
      "metadata": {
        "id": "YM1YgUEHYPm7"
      },
      "execution_count": 113,
      "outputs": []
    },
    {
      "cell_type": "code",
      "source": [
        "plt.figure(figsize=(10,6))\n",
        "labels = ['A', 'J', 'P']\n",
        "for i in range(3):\n",
        "    plt.scatter(x.loc[y_pred==i, 'genre_new'], x.loc[y_pred==i, 'release_year'], label=labels[i])\n",
        "\n",
        "plt.xlabel('Genre')\n",
        "plt.ylabel('R')\n",
        "plt.legend()\n",
        "plt.show()"
      ],
      "metadata": {
        "id": "Pyx2nxZYYUxO",
        "outputId": "91d31116-7def-49c3-e1b2-8e1b4912852f",
        "colab": {
          "base_uri": "https://localhost:8080/",
          "height": 388
        }
      },
      "execution_count": 114,
      "outputs": [
        {
          "output_type": "display_data",
          "data": {
            "image/png": "[encoded data removed]",
            "text/plain": [
              "<Figure size 720x432 with 1 Axes>"
            ]
          },
          "metadata": {
            "needs_background": "light"
          }
        }
      ]
    },
    {
      "cell_type": "code",
      "source": [
        ""
      ],
      "metadata": {
        "id": "ZMsBnr1UhSYn"
      },
      "execution_count": null,
      "outputs": []
    }
  ]
}
